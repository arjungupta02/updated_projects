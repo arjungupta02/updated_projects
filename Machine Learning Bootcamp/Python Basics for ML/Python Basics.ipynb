{
 "cells": [
  {
   "cell_type": "markdown",
   "id": "32da634f",
   "metadata": {},
   "source": [
    "Print Function"
   ]
  },
  {
   "cell_type": "code",
   "execution_count": 1,
   "id": "9b6d7aeb",
   "metadata": {},
   "outputs": [
    {
     "name": "stdout",
     "output_type": "stream",
     "text": [
      "Machine learning\n"
     ]
    }
   ],
   "source": [
    "print('Machine learning')"
   ]
  },
  {
   "cell_type": "code",
   "execution_count": 2,
   "id": "80f1bdcc",
   "metadata": {},
   "outputs": [
    {
     "name": "stdout",
     "output_type": "stream",
     "text": [
      "Machine learning course\n"
     ]
    }
   ],
   "source": [
    "print('Machine learning' + ' course')"
   ]
  },
  {
   "cell_type": "code",
   "execution_count": 3,
   "id": "704455d4",
   "metadata": {},
   "outputs": [
    {
     "name": "stdout",
     "output_type": "stream",
     "text": [
      "15\n"
     ]
    }
   ],
   "source": [
    "print(5+10)"
   ]
  },
  {
   "cell_type": "markdown",
   "id": "9f846494",
   "metadata": {},
   "source": [
    "Basic data types :\n",
    "1. Int\n",
    "2. Float\n",
    "3. Str"
   ]
  },
  {
   "cell_type": "code",
   "execution_count": 4,
   "id": "6a7b3768",
   "metadata": {},
   "outputs": [
    {
     "data": {
      "text/plain": [
       "int"
      ]
     },
     "execution_count": 4,
     "metadata": {},
     "output_type": "execute_result"
    }
   ],
   "source": [
    "type(2)"
   ]
  },
  {
   "cell_type": "code",
   "execution_count": 5,
   "id": "e73c0ed1",
   "metadata": {},
   "outputs": [
    {
     "data": {
      "text/plain": [
       "float"
      ]
     },
     "execution_count": 5,
     "metadata": {},
     "output_type": "execute_result"
    }
   ],
   "source": [
    "type(2.0)"
   ]
  },
  {
   "cell_type": "code",
   "execution_count": 6,
   "id": "ccf3e247",
   "metadata": {},
   "outputs": [
    {
     "data": {
      "text/plain": [
       "str"
      ]
     },
     "execution_count": 6,
     "metadata": {},
     "output_type": "execute_result"
    }
   ],
   "source": [
    "type('nidhi')"
   ]
  },
  {
   "cell_type": "markdown",
   "id": "b4477193",
   "metadata": {},
   "source": [
    "Constants and Variables "
   ]
  },
  {
   "cell_type": "code",
   "execution_count": 8,
   "id": "906c9c3e",
   "metadata": {},
   "outputs": [
    {
     "name": "stdout",
     "output_type": "stream",
     "text": [
      "Superman\n"
     ]
    }
   ],
   "source": [
    "superhero = 'Superman'\n",
    "print(superhero)"
   ]
  },
  {
   "cell_type": "code",
   "execution_count": 9,
   "id": "1ddc7d18",
   "metadata": {},
   "outputs": [
    {
     "name": "stdout",
     "output_type": "stream",
     "text": [
      "Iron Man\n"
     ]
    }
   ],
   "source": [
    "superhero = 'Iron Man'\n",
    "print(superhero)"
   ]
  },
  {
   "cell_type": "code",
   "execution_count": 10,
   "id": "da04cd4e",
   "metadata": {},
   "outputs": [
    {
     "name": "stdout",
     "output_type": "stream",
     "text": [
      "Cat woman\n"
     ]
    }
   ],
   "source": [
    "marvel_superhero = 'Cat woman'\n",
    "print(marvel_superhero)"
   ]
  },
  {
   "cell_type": "markdown",
   "id": "380085c0",
   "metadata": {},
   "source": [
    "Input Function"
   ]
  },
  {
   "cell_type": "code",
   "execution_count": 11,
   "id": "b650f160",
   "metadata": {},
   "outputs": [
    {
     "name": "stdout",
     "output_type": "stream",
     "text": [
      "Enter Number 1 : 23\n",
      "Enter Number 2 : 23\n"
     ]
    }
   ],
   "source": [
    "#when we want some inputs from users\n",
    "number1 = input('Enter Number 1 : ')\n",
    "number2 = input('Enter Number 2 : ')\n"
   ]
  },
  {
   "cell_type": "code",
   "execution_count": 12,
   "id": "0e94611a",
   "metadata": {},
   "outputs": [
    {
     "name": "stdout",
     "output_type": "stream",
     "text": [
      "Enter Number 1 : 23\n",
      "Enter Number 2 : 23\n",
      "2323\n"
     ]
    }
   ],
   "source": [
    "number1 = input('Enter Number 1 : ')\n",
    "number2 = input('Enter Number 2 : ')\n",
    "\n",
    "print(number1 + number2)\n",
    "#input func converts everythng in it string"
   ]
  },
  {
   "cell_type": "code",
   "execution_count": 13,
   "id": "26d7d6f1",
   "metadata": {},
   "outputs": [
    {
     "name": "stdout",
     "output_type": "stream",
     "text": [
      "Enter Number 1 : 23\n"
     ]
    },
    {
     "data": {
      "text/plain": [
       "str"
      ]
     },
     "execution_count": 13,
     "metadata": {},
     "output_type": "execute_result"
    }
   ],
   "source": [
    "type(input('Enter Number 1 : '))"
   ]
  },
  {
   "cell_type": "code",
   "execution_count": 14,
   "id": "b1d65f85",
   "metadata": {},
   "outputs": [
    {
     "name": "stdout",
     "output_type": "stream",
     "text": [
      "Enter Number 1 : 23\n",
      "Enter Number 2 : 23\n",
      "46\n"
     ]
    }
   ],
   "source": [
    "number1 = int(input('Enter Number 1 : '))\n",
    "number2 = int(input('Enter Number 2 : '))\n",
    "\n",
    "print(number1 + number2)"
   ]
  },
  {
   "cell_type": "markdown",
   "id": "0234e58e",
   "metadata": {},
   "source": [
    "Chnaging data types"
   ]
  },
  {
   "cell_type": "code",
   "execution_count": 16,
   "id": "abee63f4",
   "metadata": {},
   "outputs": [
    {
     "name": "stdout",
     "output_type": "stream",
     "text": [
      "<class 'str'>\n",
      "<class 'float'>\n"
     ]
    }
   ],
   "source": [
    "number1 = 45\n",
    "print(type(str(number1)))\n",
    "print(type(float(number1)))"
   ]
  },
  {
   "cell_type": "code",
   "execution_count": null,
   "id": "e7837ba3",
   "metadata": {},
   "outputs": [],
   "source": []
  }
 ],
 "metadata": {
  "kernelspec": {
   "display_name": "Python 3 (ipykernel)",
   "language": "python",
   "name": "python3"
  },
  "language_info": {
   "codemirror_mode": {
    "name": "ipython",
    "version": 3
   },
   "file_extension": ".py",
   "mimetype": "text/x-python",
   "name": "python",
   "nbconvert_exporter": "python",
   "pygments_lexer": "ipython3",
   "version": "3.9.7"
  }
 },
 "nbformat": 4,
 "nbformat_minor": 5
}
