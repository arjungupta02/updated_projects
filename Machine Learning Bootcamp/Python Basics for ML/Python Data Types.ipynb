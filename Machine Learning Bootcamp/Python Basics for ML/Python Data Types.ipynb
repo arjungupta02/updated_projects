{
 "cells": [
  {
   "cell_type": "markdown",
   "id": "79f5891d",
   "metadata": {},
   "source": [
    "Basic Data Types:\n",
    "1. Integer\n",
    "2. Float\n",
    "3. Complex\n",
    "4. Boolean\n",
    "5. String"
   ]
  },
  {
   "cell_type": "markdown",
   "id": "b63f3bc9",
   "metadata": {},
   "source": [
    "Integer"
   ]
  },
  {
   "cell_type": "code",
   "execution_count": 4,
   "id": "e6d2b01c",
   "metadata": {},
   "outputs": [
    {
     "name": "stdout",
     "output_type": "stream",
     "text": [
      "10\n"
     ]
    },
    {
     "data": {
      "text/plain": [
       "int"
      ]
     },
     "execution_count": 4,
     "metadata": {},
     "output_type": "execute_result"
    }
   ],
   "source": [
    "a = 10\n",
    "print(a)\n",
    "type(a)"
   ]
  },
  {
   "cell_type": "markdown",
   "id": "df496383",
   "metadata": {},
   "source": [
    "Float"
   ]
  },
  {
   "cell_type": "code",
   "execution_count": 5,
   "id": "00032522",
   "metadata": {},
   "outputs": [
    {
     "name": "stdout",
     "output_type": "stream",
     "text": [
      "10.0\n"
     ]
    },
    {
     "data": {
      "text/plain": [
       "float"
      ]
     },
     "execution_count": 5,
     "metadata": {},
     "output_type": "execute_result"
    }
   ],
   "source": [
    "b = 10.0\n",
    "print(b)\n",
    "type(b)"
   ]
  },
  {
   "cell_type": "code",
   "execution_count": 7,
   "id": "295e3bf9",
   "metadata": {},
   "outputs": [
    {
     "data": {
      "text/plain": [
       "float"
      ]
     },
     "execution_count": 7,
     "metadata": {},
     "output_type": "execute_result"
    }
   ],
   "source": [
    "#converting one data type to another\n",
    "c = float(a)\n",
    "c\n",
    "type(c)"
   ]
  },
  {
   "cell_type": "code",
   "execution_count": 10,
   "id": "457e32a7",
   "metadata": {},
   "outputs": [
    {
     "name": "stdout",
     "output_type": "stream",
     "text": [
      "5\n"
     ]
    },
    {
     "data": {
      "text/plain": [
       "int"
      ]
     },
     "execution_count": 10,
     "metadata": {},
     "output_type": "execute_result"
    }
   ],
   "source": [
    "d = int(5.8493)\n",
    "print(d)\n",
    "type(d)"
   ]
  },
  {
   "cell_type": "markdown",
   "id": "ef4e4154",
   "metadata": {},
   "source": [
    "Complex"
   ]
  },
  {
   "cell_type": "code",
   "execution_count": 12,
   "id": "7013c715",
   "metadata": {},
   "outputs": [
    {
     "data": {
      "text/plain": [
       "complex"
      ]
     },
     "execution_count": 12,
     "metadata": {},
     "output_type": "execute_result"
    }
   ],
   "source": [
    "e = 3 + 4j \n",
    "type(e)"
   ]
  },
  {
   "cell_type": "code",
   "execution_count": 13,
   "id": "7f18fa02",
   "metadata": {},
   "outputs": [
    {
     "ename": "TypeError",
     "evalue": "can't convert complex to float",
     "output_type": "error",
     "traceback": [
      "\u001b[1;31m---------------------------------------------------------------------------\u001b[0m",
      "\u001b[1;31mTypeError\u001b[0m                                 Traceback (most recent call last)",
      "\u001b[1;32m~\\AppData\\Local\\Temp/ipykernel_22704/2993078512.py\u001b[0m in \u001b[0;36m<module>\u001b[1;34m\u001b[0m\n\u001b[1;32m----> 1\u001b[1;33m \u001b[0mf\u001b[0m \u001b[1;33m=\u001b[0m \u001b[0mfloat\u001b[0m\u001b[1;33m(\u001b[0m\u001b[0me\u001b[0m\u001b[1;33m)\u001b[0m\u001b[1;33m\u001b[0m\u001b[1;33m\u001b[0m\u001b[0m\n\u001b[0m\u001b[0;32m      2\u001b[0m \u001b[0mtype\u001b[0m\u001b[1;33m(\u001b[0m\u001b[0mf\u001b[0m\u001b[1;33m)\u001b[0m\u001b[1;33m\u001b[0m\u001b[1;33m\u001b[0m\u001b[0m\n",
      "\u001b[1;31mTypeError\u001b[0m: can't convert complex to float"
     ]
    }
   ],
   "source": [
    "f = float(e)\n",
    "type(f)"
   ]
  },
  {
   "cell_type": "markdown",
   "id": "1fb87f83",
   "metadata": {},
   "source": [
    "Boolean"
   ]
  },
  {
   "cell_type": "code",
   "execution_count": 14,
   "id": "43009873",
   "metadata": {},
   "outputs": [
    {
     "name": "stdout",
     "output_type": "stream",
     "text": [
      "True\n"
     ]
    },
    {
     "data": {
      "text/plain": [
       "bool"
      ]
     },
     "execution_count": 14,
     "metadata": {},
     "output_type": "execute_result"
    }
   ],
   "source": [
    "a = True\n",
    "print(a)\n",
    "type(a)"
   ]
  },
  {
   "cell_type": "code",
   "execution_count": 15,
   "id": "6456921e",
   "metadata": {},
   "outputs": [
    {
     "data": {
      "text/plain": [
       "bool"
      ]
     },
     "execution_count": 15,
     "metadata": {},
     "output_type": "execute_result"
    }
   ],
   "source": [
    "b = False\n",
    "type(b)"
   ]
  },
  {
   "cell_type": "code",
   "execution_count": 17,
   "id": "4f5a1287",
   "metadata": {},
   "outputs": [
    {
     "data": {
      "text/plain": [
       "bool"
      ]
     },
     "execution_count": 17,
     "metadata": {},
     "output_type": "execute_result"
    }
   ],
   "source": [
    "a = 5>3\n",
    "type(a)"
   ]
  },
  {
   "cell_type": "code",
   "execution_count": 18,
   "id": "56ae8be2",
   "metadata": {},
   "outputs": [
    {
     "data": {
      "text/plain": [
       "bool"
      ]
     },
     "execution_count": 18,
     "metadata": {},
     "output_type": "execute_result"
    }
   ],
   "source": [
    "type(5 ==6)"
   ]
  },
  {
   "cell_type": "markdown",
   "id": "d63e76b5",
   "metadata": {},
   "source": [
    "String"
   ]
  },
  {
   "cell_type": "code",
   "execution_count": 19,
   "id": "4add07e9",
   "metadata": {},
   "outputs": [
    {
     "data": {
      "text/plain": [
       "str"
      ]
     },
     "execution_count": 19,
     "metadata": {},
     "output_type": "execute_result"
    }
   ],
   "source": [
    "my_string = 'Machinelearning'\n",
    "type(my_string)"
   ]
  },
  {
   "cell_type": "code",
   "execution_count": 23,
   "id": "9e709b1d",
   "metadata": {},
   "outputs": [
    {
     "data": {
      "text/plain": [
       "'MachinelearningprogrammingMachinelearningprogrammingMachinelearningprogrammingMachinelearningprogramming'"
      ]
     },
     "execution_count": 23,
     "metadata": {},
     "output_type": "execute_result"
    }
   ],
   "source": [
    "my_string*4"
   ]
  },
  {
   "cell_type": "code",
   "execution_count": 24,
   "id": "4eb4920b",
   "metadata": {},
   "outputs": [
    {
     "data": {
      "text/plain": [
       "'Machinelearningprogrammingb'"
      ]
     },
     "execution_count": 24,
     "metadata": {},
     "output_type": "execute_result"
    }
   ],
   "source": [
    "my_string + 'b'"
   ]
  },
  {
   "cell_type": "code",
   "execution_count": 26,
   "id": "2f95fc91",
   "metadata": {},
   "outputs": [
    {
     "data": {
      "text/plain": [
       "'Nidhi Gupta'"
      ]
     },
     "execution_count": 26,
     "metadata": {},
     "output_type": "execute_result"
    }
   ],
   "source": [
    "word1 = 'Nidhi '\n",
    "word2 = 'Gupta'\n",
    "\n",
    "word1 + word2"
   ]
  },
  {
   "cell_type": "markdown",
   "id": "0bae0b4c",
   "metadata": {},
   "source": [
    "Slicing and Indexing"
   ]
  },
  {
   "cell_type": "code",
   "execution_count": 20,
   "id": "16340cf7",
   "metadata": {},
   "outputs": [
    {
     "data": {
      "text/plain": [
       "'achinele'"
      ]
     },
     "execution_count": 20,
     "metadata": {},
     "output_type": "execute_result"
    }
   ],
   "source": [
    "my_string[1:9] #starts with 0 and excludes last index"
   ]
  },
  {
   "cell_type": "code",
   "execution_count": 22,
   "id": "fada39de",
   "metadata": {},
   "outputs": [
    {
     "data": {
      "text/plain": [
       "'ahnl'"
      ]
     },
     "execution_count": 22,
     "metadata": {},
     "output_type": "execute_result"
    }
   ],
   "source": [
    "my_string[1:9:2] #steps of 2 "
   ]
  },
  {
   "cell_type": "markdown",
   "id": "5dc03419",
   "metadata": {},
   "source": [
    "Special Data Types :\n",
    "1. List\n",
    "2. Tuples\n",
    "3. Dictionary\n",
    "4. Sets"
   ]
  },
  {
   "cell_type": "markdown",
   "id": "750553e8",
   "metadata": {},
   "source": [
    "Mutuable data types :\n",
    "1. List\n",
    "2. Dict\n",
    "3. Sets\n",
    "\n",
    "Immutuable data types :\n",
    "1. String\n",
    "2. Int\n",
    "3. Float\n",
    "4. Boolean\n",
    "5. Tuple"
   ]
  },
  {
   "cell_type": "markdown",
   "id": "d5ac7e58",
   "metadata": {},
   "source": [
    "Lists"
   ]
  },
  {
   "cell_type": "code",
   "execution_count": 31,
   "id": "d56a3a1e",
   "metadata": {},
   "outputs": [
    {
     "name": "stdout",
     "output_type": "stream",
     "text": [
      "[3, 4, 5, 1]\n"
     ]
    },
    {
     "data": {
      "text/plain": [
       "list"
      ]
     },
     "execution_count": 31,
     "metadata": {},
     "output_type": "execute_result"
    }
   ],
   "source": [
    "my_list = [3,4,5,1]\n",
    "print(my_list)\n",
    "type(my_list)"
   ]
  },
  {
   "cell_type": "code",
   "execution_count": 32,
   "id": "f4a5f745",
   "metadata": {},
   "outputs": [
    {
     "data": {
      "text/plain": [
       "[1, 2, 6.0, 'Nidhi']"
      ]
     },
     "execution_count": 32,
     "metadata": {},
     "output_type": "execute_result"
    }
   ],
   "source": [
    "#list can have multiple data types\n",
    "my_list = [1,2,6.0,'Nidhi']\n",
    "my_list"
   ]
  },
  {
   "cell_type": "markdown",
   "id": "4ea9faac",
   "metadata": {},
   "source": [
    "Lists are mutable -->changeable "
   ]
  },
  {
   "cell_type": "code",
   "execution_count": 34,
   "id": "699dd2e9",
   "metadata": {},
   "outputs": [
    {
     "data": {
      "text/plain": [
       "[1, 2, 6.0, 'Nidhi', 5, 5]"
      ]
     },
     "execution_count": 34,
     "metadata": {},
     "output_type": "execute_result"
    }
   ],
   "source": [
    "my_list.append(5)\n",
    "my_list"
   ]
  },
  {
   "cell_type": "code",
   "execution_count": 37,
   "id": "a4876b16",
   "metadata": {},
   "outputs": [
    {
     "data": {
      "text/plain": [
       "[1, 2, 6.0, 'Nidhi', 5, 5, 5, 5, 5]"
      ]
     },
     "execution_count": 37,
     "metadata": {},
     "output_type": "execute_result"
    }
   ],
   "source": [
    "#list allow dupliactes \n",
    "my_list.append(5)\n",
    "my_list"
   ]
  },
  {
   "cell_type": "code",
   "execution_count": 39,
   "id": "3068c253",
   "metadata": {},
   "outputs": [
    {
     "data": {
      "text/plain": [
       "[1, 2, 6.0, 'Nidhi', 5, 5, 5]"
      ]
     },
     "execution_count": 39,
     "metadata": {},
     "output_type": "execute_result"
    }
   ],
   "source": [
    "my_list.remove(5) #it will remove 1st occurence of element specified\n",
    "my_list"
   ]
  },
  {
   "cell_type": "code",
   "execution_count": 41,
   "id": "e5b0008c",
   "metadata": {},
   "outputs": [
    {
     "data": {
      "text/plain": [
       "[1, 2, 5, 5, 5]"
      ]
     },
     "execution_count": 41,
     "metadata": {},
     "output_type": "execute_result"
    }
   ],
   "source": [
    "del my_list[2] #specify index of element to be deleted\n",
    "my_list"
   ]
  },
  {
   "cell_type": "code",
   "execution_count": 45,
   "id": "d5645bbe",
   "metadata": {},
   "outputs": [
    {
     "data": {
      "text/plain": [
       "[1]"
      ]
     },
     "execution_count": 45,
     "metadata": {},
     "output_type": "execute_result"
    }
   ],
   "source": [
    "my_list.pop(1) #last element \n",
    "my_list"
   ]
  },
  {
   "cell_type": "code",
   "execution_count": 49,
   "id": "9c7c5013",
   "metadata": {},
   "outputs": [
    {
     "data": {
      "text/plain": [
       "['pop', 'nidhi', '2', 1.0]"
      ]
     },
     "execution_count": 49,
     "metadata": {},
     "output_type": "execute_result"
    }
   ],
   "source": [
    "#can perform item assignement\n",
    "my_list = ['pop', ['mom'], '2',1.0]\n",
    "my_list[1] = 'nidhi'\n",
    "my_list"
   ]
  },
  {
   "cell_type": "code",
   "execution_count": 50,
   "id": "ed00c700",
   "metadata": {},
   "outputs": [
    {
     "data": {
      "text/plain": [
       "[2, 5, 6, 7, 'pop', 'mom', 9.0]"
      ]
     },
     "execution_count": 50,
     "metadata": {},
     "output_type": "execute_result"
    }
   ],
   "source": [
    "#joining two lists to one another\n",
    "list1 = [2,5,6,7]\n",
    "list2 = ['pop','mom',9.0]\n",
    "\n",
    "list1 + list2"
   ]
  },
  {
   "cell_type": "code",
   "execution_count": 82,
   "id": "7cb0187e",
   "metadata": {},
   "outputs": [
    {
     "data": {
      "text/plain": [
       "2"
      ]
     },
     "execution_count": 82,
     "metadata": {},
     "output_type": "execute_result"
    }
   ],
   "source": [
    "#number of elements in a list\n",
    "len(my_list)"
   ]
  },
  {
   "cell_type": "markdown",
   "id": "bd75f539",
   "metadata": {},
   "source": [
    "Indexing and Slicing"
   ]
  },
  {
   "cell_type": "code",
   "execution_count": 52,
   "id": "5d3898ea",
   "metadata": {},
   "outputs": [
    {
     "data": {
      "text/plain": [
       "['pop', '2']"
      ]
     },
     "execution_count": 52,
     "metadata": {},
     "output_type": "execute_result"
    }
   ],
   "source": [
    "my_list[0::2]"
   ]
  },
  {
   "cell_type": "code",
   "execution_count": 58,
   "id": "55dea029",
   "metadata": {},
   "outputs": [
    {
     "data": {
      "text/plain": [
       "'pop'"
      ]
     },
     "execution_count": 58,
     "metadata": {},
     "output_type": "execute_result"
    }
   ],
   "source": [
    "my_list[0]"
   ]
  },
  {
   "cell_type": "code",
   "execution_count": 64,
   "id": "0820c626",
   "metadata": {},
   "outputs": [
    {
     "name": "stdout",
     "output_type": "stream",
     "text": [
      "[]\n"
     ]
    }
   ],
   "source": [
    "#initiating an empty list\n",
    "list2 = []\n",
    "print(list2)"
   ]
  },
  {
   "cell_type": "code",
   "execution_count": 65,
   "id": "f028c62f",
   "metadata": {},
   "outputs": [
    {
     "data": {
      "text/plain": [
       "[8]"
      ]
     },
     "execution_count": 65,
     "metadata": {},
     "output_type": "execute_result"
    }
   ],
   "source": [
    "list2.append(8)\n",
    "list2"
   ]
  },
  {
   "cell_type": "markdown",
   "id": "fd2dc9a1",
   "metadata": {},
   "source": [
    "Tuples"
   ]
  },
  {
   "cell_type": "code",
   "execution_count": 67,
   "id": "e025adbc",
   "metadata": {},
   "outputs": [
    {
     "data": {
      "text/plain": [
       "(4, 5, 6, 7, 8)"
      ]
     },
     "execution_count": 67,
     "metadata": {},
     "output_type": "execute_result"
    }
   ],
   "source": [
    "my_tuple = (4,5,6,7,8)\n",
    "my_tuple"
   ]
  },
  {
   "cell_type": "code",
   "execution_count": 70,
   "id": "f1592a16",
   "metadata": {},
   "outputs": [
    {
     "data": {
      "text/plain": [
       "(5, 6.7, 'pop')"
      ]
     },
     "execution_count": 70,
     "metadata": {},
     "output_type": "execute_result"
    }
   ],
   "source": [
    "#supports diff data types\n",
    "my_tuple = (5,6.7,'pop')\n",
    "my_tuple"
   ]
  },
  {
   "cell_type": "code",
   "execution_count": 73,
   "id": "3be6c796",
   "metadata": {},
   "outputs": [
    {
     "data": {
      "text/plain": [
       "(6, 6, 77, 'nidhi')"
      ]
     },
     "execution_count": 73,
     "metadata": {},
     "output_type": "execute_result"
    }
   ],
   "source": [
    "#allow duplicates\n",
    "my_tuple = (6,6,77,'nidhi')\n",
    "my_tuple"
   ]
  },
  {
   "cell_type": "code",
   "execution_count": 77,
   "id": "8745bf3a",
   "metadata": {},
   "outputs": [
    {
     "data": {
      "text/plain": [
       "tuple"
      ]
     },
     "execution_count": 77,
     "metadata": {},
     "output_type": "execute_result"
    }
   ],
   "source": [
    "#converting a lits to a tuple\n",
    "type(tuple(my_list))"
   ]
  },
  {
   "cell_type": "markdown",
   "id": "9e0d9fa1",
   "metadata": {},
   "source": [
    "Indexing and slicing"
   ]
  },
  {
   "cell_type": "code",
   "execution_count": 80,
   "id": "c3b35469",
   "metadata": {},
   "outputs": [
    {
     "data": {
      "text/plain": [
       "(6, 6)"
      ]
     },
     "execution_count": 80,
     "metadata": {},
     "output_type": "execute_result"
    }
   ],
   "source": [
    "my_tuple[0:2]"
   ]
  },
  {
   "cell_type": "markdown",
   "id": "4396f473",
   "metadata": {},
   "source": [
    "Tuples --> Immutable "
   ]
  },
  {
   "cell_type": "code",
   "execution_count": 84,
   "id": "dfb7a7bc",
   "metadata": {},
   "outputs": [
    {
     "ename": "AttributeError",
     "evalue": "'tuple' object has no attribute 'append'",
     "output_type": "error",
     "traceback": [
      "\u001b[1;31m---------------------------------------------------------------------------\u001b[0m",
      "\u001b[1;31mAttributeError\u001b[0m                            Traceback (most recent call last)",
      "\u001b[1;32m~\\AppData\\Local\\Temp/ipykernel_22704/3420063398.py\u001b[0m in \u001b[0;36m<module>\u001b[1;34m\u001b[0m\n\u001b[1;32m----> 1\u001b[1;33m \u001b[0mmy_tuple\u001b[0m\u001b[1;33m.\u001b[0m\u001b[0mappend\u001b[0m\u001b[1;33m(\u001b[0m\u001b[1;36m4\u001b[0m\u001b[1;33m)\u001b[0m\u001b[1;33m\u001b[0m\u001b[1;33m\u001b[0m\u001b[0m\n\u001b[0m",
      "\u001b[1;31mAttributeError\u001b[0m: 'tuple' object has no attribute 'append'"
     ]
    }
   ],
   "source": [
    "my_tuple.append(4)"
   ]
  },
  {
   "cell_type": "code",
   "execution_count": 85,
   "id": "58a36092",
   "metadata": {},
   "outputs": [
    {
     "ename": "AttributeError",
     "evalue": "'tuple' object has no attribute 'pop'",
     "output_type": "error",
     "traceback": [
      "\u001b[1;31m---------------------------------------------------------------------------\u001b[0m",
      "\u001b[1;31mAttributeError\u001b[0m                            Traceback (most recent call last)",
      "\u001b[1;32m~\\AppData\\Local\\Temp/ipykernel_22704/1060375717.py\u001b[0m in \u001b[0;36m<module>\u001b[1;34m\u001b[0m\n\u001b[1;32m----> 1\u001b[1;33m \u001b[0mmy_tuple\u001b[0m\u001b[1;33m.\u001b[0m\u001b[0mpop\u001b[0m\u001b[1;33m(\u001b[0m\u001b[1;33m)\u001b[0m\u001b[1;33m\u001b[0m\u001b[1;33m\u001b[0m\u001b[0m\n\u001b[0m",
      "\u001b[1;31mAttributeError\u001b[0m: 'tuple' object has no attribute 'pop'"
     ]
    }
   ],
   "source": [
    "my_tuple.pop()"
   ]
  },
  {
   "cell_type": "code",
   "execution_count": 86,
   "id": "2589471e",
   "metadata": {},
   "outputs": [
    {
     "ename": "TypeError",
     "evalue": "'tuple' object does not support item assignment",
     "output_type": "error",
     "traceback": [
      "\u001b[1;31m---------------------------------------------------------------------------\u001b[0m",
      "\u001b[1;31mTypeError\u001b[0m                                 Traceback (most recent call last)",
      "\u001b[1;32m~\\AppData\\Local\\Temp/ipykernel_22704/2631641743.py\u001b[0m in \u001b[0;36m<module>\u001b[1;34m\u001b[0m\n\u001b[1;32m----> 1\u001b[1;33m \u001b[0mmy_tuple\u001b[0m\u001b[1;33m[\u001b[0m\u001b[1;36m0\u001b[0m\u001b[1;33m]\u001b[0m \u001b[1;33m=\u001b[0m \u001b[1;34m'papa'\u001b[0m\u001b[1;33m\u001b[0m\u001b[1;33m\u001b[0m\u001b[0m\n\u001b[0m",
      "\u001b[1;31mTypeError\u001b[0m: 'tuple' object does not support item assignment"
     ]
    }
   ],
   "source": [
    "my_tuple[0] = 'papa'"
   ]
  },
  {
   "cell_type": "code",
   "execution_count": 87,
   "id": "215009f1",
   "metadata": {},
   "outputs": [
    {
     "data": {
      "text/plain": [
       "4"
      ]
     },
     "execution_count": 87,
     "metadata": {},
     "output_type": "execute_result"
    }
   ],
   "source": [
    "len(my_tuple)"
   ]
  },
  {
   "cell_type": "markdown",
   "id": "aa01c08d",
   "metadata": {},
   "source": [
    "Sets"
   ]
  },
  {
   "cell_type": "code",
   "execution_count": 89,
   "id": "56bacc8a",
   "metadata": {},
   "outputs": [
    {
     "data": {
      "text/plain": [
       "{3, 4, 'nidhi'}"
      ]
     },
     "execution_count": 89,
     "metadata": {},
     "output_type": "execute_result"
    }
   ],
   "source": [
    "my_set = {3,4,'nidhi'}\n",
    "my_set #supports diff data types"
   ]
  },
  {
   "cell_type": "markdown",
   "id": "8adef5ff",
   "metadata": {},
   "source": [
    "Sets only allow unique values"
   ]
  },
  {
   "cell_type": "code",
   "execution_count": 91,
   "id": "dac9ea34",
   "metadata": {},
   "outputs": [
    {
     "data": {
      "text/plain": [
       "{3, 4, 9}"
      ]
     },
     "execution_count": 91,
     "metadata": {},
     "output_type": "execute_result"
    }
   ],
   "source": [
    "my_set = {3,4,4,9}\n",
    "my_set"
   ]
  },
  {
   "cell_type": "markdown",
   "id": "5d416dd0",
   "metadata": {},
   "source": [
    "Sets don't supprot indexing"
   ]
  },
  {
   "cell_type": "code",
   "execution_count": 92,
   "id": "850ac5c7",
   "metadata": {},
   "outputs": [
    {
     "ename": "TypeError",
     "evalue": "'set' object is not subscriptable",
     "output_type": "error",
     "traceback": [
      "\u001b[1;31m---------------------------------------------------------------------------\u001b[0m",
      "\u001b[1;31mTypeError\u001b[0m                                 Traceback (most recent call last)",
      "\u001b[1;32m~\\AppData\\Local\\Temp/ipykernel_22704/1465370829.py\u001b[0m in \u001b[0;36m<module>\u001b[1;34m\u001b[0m\n\u001b[0;32m      1\u001b[0m \u001b[0mmy_set\u001b[0m \u001b[1;33m=\u001b[0m \u001b[1;33m{\u001b[0m\u001b[1;36m3\u001b[0m\u001b[1;33m,\u001b[0m\u001b[1;36m5\u001b[0m\u001b[1;33m,\u001b[0m\u001b[1;36m12\u001b[0m\u001b[1;33m,\u001b[0m\u001b[1;34m'nidhi'\u001b[0m\u001b[1;33m}\u001b[0m\u001b[1;33m\u001b[0m\u001b[1;33m\u001b[0m\u001b[0m\n\u001b[1;32m----> 2\u001b[1;33m \u001b[0mmy_set\u001b[0m\u001b[1;33m[\u001b[0m\u001b[1;36m0\u001b[0m\u001b[1;33m]\u001b[0m\u001b[1;33m\u001b[0m\u001b[1;33m\u001b[0m\u001b[0m\n\u001b[0m",
      "\u001b[1;31mTypeError\u001b[0m: 'set' object is not subscriptable"
     ]
    }
   ],
   "source": [
    "my_set = {3,5,12,'nidhi'}\n",
    "my_set[0]"
   ]
  },
  {
   "cell_type": "code",
   "execution_count": 95,
   "id": "d2989e58",
   "metadata": {},
   "outputs": [
    {
     "data": {
      "text/plain": [
       "{'n', 'pop'}"
      ]
     },
     "execution_count": 95,
     "metadata": {},
     "output_type": "execute_result"
    }
   ],
   "source": [
    "#convert a list to set\n",
    "set(my_list)"
   ]
  },
  {
   "cell_type": "markdown",
   "id": "daa4f68e",
   "metadata": {},
   "source": [
    "Sets are Mutable --> changeable"
   ]
  },
  {
   "cell_type": "code",
   "execution_count": 104,
   "id": "f0f4cc83",
   "metadata": {},
   "outputs": [
    {
     "data": {
      "text/plain": [
       "{3, 5, 12}"
      ]
     },
     "execution_count": 104,
     "metadata": {},
     "output_type": "execute_result"
    }
   ],
   "source": [
    "my_set.add(5)\n",
    "my_set"
   ]
  },
  {
   "cell_type": "code",
   "execution_count": 108,
   "id": "4d753859",
   "metadata": {},
   "outputs": [],
   "source": [
    "my_set.remove(12)"
   ]
  },
  {
   "cell_type": "code",
   "execution_count": 109,
   "id": "fc57c307",
   "metadata": {},
   "outputs": [
    {
     "data": {
      "text/plain": [
       "{3, 5}"
      ]
     },
     "execution_count": 109,
     "metadata": {},
     "output_type": "execute_result"
    }
   ],
   "source": [
    "my_set"
   ]
  },
  {
   "cell_type": "code",
   "execution_count": 110,
   "id": "043f4372",
   "metadata": {},
   "outputs": [
    {
     "ename": "TypeError",
     "evalue": "'set' object does not support item assignment",
     "output_type": "error",
     "traceback": [
      "\u001b[1;31m---------------------------------------------------------------------------\u001b[0m",
      "\u001b[1;31mTypeError\u001b[0m                                 Traceback (most recent call last)",
      "\u001b[1;32m~\\AppData\\Local\\Temp/ipykernel_22704/645494613.py\u001b[0m in \u001b[0;36m<module>\u001b[1;34m\u001b[0m\n\u001b[1;32m----> 1\u001b[1;33m \u001b[0mmy_set\u001b[0m\u001b[1;33m[\u001b[0m\u001b[1;36m0\u001b[0m\u001b[1;33m]\u001b[0m \u001b[1;33m=\u001b[0m \u001b[1;36m45\u001b[0m\u001b[1;33m\u001b[0m\u001b[1;33m\u001b[0m\u001b[0m\n\u001b[0m",
      "\u001b[1;31mTypeError\u001b[0m: 'set' object does not support item assignment"
     ]
    }
   ],
   "source": [
    "my_set[0] = 45\n",
    "#since set doesn't support indexing, we can't perform item assignment "
   ]
  },
  {
   "cell_type": "markdown",
   "id": "0e707dfc",
   "metadata": {},
   "source": [
    "Dictionary"
   ]
  },
  {
   "cell_type": "markdown",
   "id": "1031a178",
   "metadata": {},
   "source": [
    "Key-value mapping pairs"
   ]
  },
  {
   "cell_type": "code",
   "execution_count": 112,
   "id": "97b38349",
   "metadata": {},
   "outputs": [
    {
     "data": {
      "text/plain": [
       "{'name': 'Nidhi', 'age': 18, 'class': 5}"
      ]
     },
     "execution_count": 112,
     "metadata": {},
     "output_type": "execute_result"
    }
   ],
   "source": [
    "my_dict = {'name': 'Nidhi', 'age':18, 'class': 5}\n",
    "my_dict"
   ]
  },
  {
   "cell_type": "code",
   "execution_count": 113,
   "id": "bf865023",
   "metadata": {},
   "outputs": [
    {
     "data": {
      "text/plain": [
       "'Nidhi'"
      ]
     },
     "execution_count": 113,
     "metadata": {},
     "output_type": "execute_result"
    }
   ],
   "source": [
    "my_dict['name'] #supports indexing"
   ]
  },
  {
   "cell_type": "code",
   "execution_count": 114,
   "id": "888a85c4",
   "metadata": {},
   "outputs": [
    {
     "data": {
      "text/plain": [
       "dict_items([('name', 'Nidhi'), ('age', 18), ('class', 5)])"
      ]
     },
     "execution_count": 114,
     "metadata": {},
     "output_type": "execute_result"
    }
   ],
   "source": [
    "my_dict.items()"
   ]
  },
  {
   "cell_type": "code",
   "execution_count": 115,
   "id": "df201e77",
   "metadata": {},
   "outputs": [
    {
     "data": {
      "text/plain": [
       "dict_values(['Nidhi', 18, 5])"
      ]
     },
     "execution_count": 115,
     "metadata": {},
     "output_type": "execute_result"
    }
   ],
   "source": [
    "my_dict.values()"
   ]
  },
  {
   "cell_type": "code",
   "execution_count": 116,
   "id": "fb6802b6",
   "metadata": {},
   "outputs": [
    {
     "data": {
      "text/plain": [
       "dict_keys(['name', 'age', 'class'])"
      ]
     },
     "execution_count": 116,
     "metadata": {},
     "output_type": "execute_result"
    }
   ],
   "source": [
    "my_dict.keys()"
   ]
  },
  {
   "cell_type": "code",
   "execution_count": 131,
   "id": "f05b5195",
   "metadata": {},
   "outputs": [],
   "source": [
    "my_dict['sex'] ='female' #supports indexing based on keys "
   ]
  },
  {
   "cell_type": "code",
   "execution_count": 124,
   "id": "9f413346",
   "metadata": {},
   "outputs": [
    {
     "data": {
      "text/plain": [
       "{'name': 'Nidhi', 'age': 18, 'class': 5, 'sex': 'female'}"
      ]
     },
     "execution_count": 124,
     "metadata": {},
     "output_type": "execute_result"
    }
   ],
   "source": [
    "my_dict #appending a key-value mapping pair"
   ]
  },
  {
   "cell_type": "code",
   "execution_count": 125,
   "id": "181c222a",
   "metadata": {},
   "outputs": [],
   "source": [
    "del my_dict['sex'] #removing a key value mapping pair"
   ]
  },
  {
   "cell_type": "markdown",
   "id": "3cfe5641",
   "metadata": {},
   "source": [
    "dictionary ---> Mutable (changeable)"
   ]
  },
  {
   "cell_type": "code",
   "execution_count": 129,
   "id": "ac612276",
   "metadata": {},
   "outputs": [
    {
     "data": {
      "text/plain": [
       "{'name': 'Dhruv', 'age': 18, 'class': 5}"
      ]
     },
     "execution_count": 129,
     "metadata": {},
     "output_type": "execute_result"
    }
   ],
   "source": [
    "my_dict['name'] = 'Dhruv' #updating a key value mapping pair\n",
    "my_dict"
   ]
  },
  {
   "cell_type": "code",
   "execution_count": 130,
   "id": "9926f84f",
   "metadata": {},
   "outputs": [
    {
     "ename": "KeyError",
     "evalue": "0",
     "output_type": "error",
     "traceback": [
      "\u001b[1;31m---------------------------------------------------------------------------\u001b[0m",
      "\u001b[1;31mKeyError\u001b[0m                                  Traceback (most recent call last)",
      "\u001b[1;32m~\\AppData\\Local\\Temp/ipykernel_22704/2056869115.py\u001b[0m in \u001b[0;36m<module>\u001b[1;34m\u001b[0m\n\u001b[1;32m----> 1\u001b[1;33m \u001b[0mmy_dict\u001b[0m\u001b[1;33m[\u001b[0m\u001b[1;36m0\u001b[0m\u001b[1;33m]\u001b[0m\u001b[1;33m\u001b[0m\u001b[1;33m\u001b[0m\u001b[0m\n\u001b[0m",
      "\u001b[1;31mKeyError\u001b[0m: 0"
     ]
    }
   ],
   "source": [
    "my_dict[0]"
   ]
  },
  {
   "cell_type": "code",
   "execution_count": null,
   "id": "5e556b6b",
   "metadata": {},
   "outputs": [],
   "source": []
  }
 ],
 "metadata": {
  "kernelspec": {
   "display_name": "Python 3 (ipykernel)",
   "language": "python",
   "name": "python3"
  },
  "language_info": {
   "codemirror_mode": {
    "name": "ipython",
    "version": 3
   },
   "file_extension": ".py",
   "mimetype": "text/x-python",
   "name": "python",
   "nbconvert_exporter": "python",
   "pygments_lexer": "ipython3",
   "version": "3.9.7"
  }
 },
 "nbformat": 4,
 "nbformat_minor": 5
}
