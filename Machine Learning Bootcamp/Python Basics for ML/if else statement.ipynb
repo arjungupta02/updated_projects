{
 "cells": [
  {
   "cell_type": "code",
   "execution_count": 1,
   "id": "844c657c",
   "metadata": {},
   "outputs": [
    {
     "name": "stdout",
     "output_type": "stream",
     "text": [
      "a is the greatest number\n"
     ]
    }
   ],
   "source": [
    "a = 10\n",
    "b = 5\n",
    "\n",
    "if (a>b):\n",
    "    print('a is the greatest number')\n",
    "else :\n",
    "    print('b is the greatest number')"
   ]
  },
  {
   "cell_type": "code",
   "execution_count": 2,
   "id": "70e27f5b",
   "metadata": {},
   "outputs": [
    {
     "name": "stdout",
     "output_type": "stream",
     "text": [
      "Enter first number:20\n",
      "Enter second number:40\n",
      "Second number is greatest\n"
     ]
    }
   ],
   "source": [
    "a = input('Enter first number:')\n",
    "b = input('Enter second number:')\n",
    "\n",
    "if (a>b):\n",
    "    print('First number is greatest')\n",
    "    \n",
    "else :\n",
    "    print('Second number is greatest')"
   ]
  },
  {
   "cell_type": "markdown",
   "id": "ae7da563",
   "metadata": {},
   "source": [
    "if elif else"
   ]
  },
  {
   "cell_type": "code",
   "execution_count": 4,
   "id": "2f84bdd3",
   "metadata": {},
   "outputs": [
    {
     "name": "stdout",
     "output_type": "stream",
     "text": [
      "b is the greatest number\n"
     ]
    }
   ],
   "source": [
    "a = 10\n",
    "b = 20\n",
    "c = 15\n",
    "\n",
    "if (b<a>c):\n",
    "    print('a is the greatest number')\n",
    "elif (a<b>c):\n",
    "    print('b is the greatest number')\n",
    "else:\n",
    "    print('c is the greatest number')"
   ]
  },
  {
   "cell_type": "markdown",
   "id": "d45e5235",
   "metadata": {},
   "source": [
    "Nested if else"
   ]
  },
  {
   "cell_type": "code",
   "execution_count": 8,
   "id": "b5b8625e",
   "metadata": {},
   "outputs": [
    {
     "name": "stdout",
     "output_type": "stream",
     "text": [
      "b is the greatest number\n"
     ]
    }
   ],
   "source": [
    "a = 10\n",
    "b = 20\n",
    "c = 15\n",
    "\n",
    "if(a>b):\n",
    "    if(a>c):\n",
    "        print('a is the greatest number')\n",
    "    else :\n",
    "        print('c is the greatest number')\n",
    "else :\n",
    "    if(b>c):\n",
    "        print('b is the greatest number')\n",
    "    else :\n",
    "        print('c is the greatest number')"
   ]
  },
  {
   "cell_type": "code",
   "execution_count": 1,
   "id": "2e1a3a5d",
   "metadata": {},
   "outputs": [],
   "source": [
    "def number_strenth(a,b):\n",
    "    if a > b:\n",
    "        print('a is greater than b')\n",
    "    else :\n",
    "        print('b is greater than a')"
   ]
  },
  {
   "cell_type": "code",
   "execution_count": 2,
   "id": "9a55ea87",
   "metadata": {},
   "outputs": [
    {
     "name": "stdout",
     "output_type": "stream",
     "text": [
      "b is greater than a\n"
     ]
    }
   ],
   "source": [
    "number_strenth(5,56)"
   ]
  },
  {
   "cell_type": "code",
   "execution_count": 1,
   "id": "688023b2",
   "metadata": {},
   "outputs": [
    {
     "name": "stdout",
     "output_type": "stream",
     "text": [
      "a is not largest\n"
     ]
    }
   ],
   "source": [
    "a = 5\n",
    "\n",
    "if (a>5):\n",
    "    print('a is largest')\n",
    "else :\n",
    "    print('a is not largest')"
   ]
  },
  {
   "cell_type": "code",
   "execution_count": null,
   "id": "e4834caf",
   "metadata": {},
   "outputs": [],
   "source": []
  }
 ],
 "metadata": {
  "kernelspec": {
   "display_name": "Python 3 (ipykernel)",
   "language": "python",
   "name": "python3"
  },
  "language_info": {
   "codemirror_mode": {
    "name": "ipython",
    "version": 3
   },
   "file_extension": ".py",
   "mimetype": "text/x-python",
   "name": "python",
   "nbconvert_exporter": "python",
   "pygments_lexer": "ipython3",
   "version": "3.9.7"
  }
 },
 "nbformat": 4,
 "nbformat_minor": 5
}
