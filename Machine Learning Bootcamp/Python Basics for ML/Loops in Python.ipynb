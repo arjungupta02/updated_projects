{
 "cells": [
  {
   "cell_type": "code",
   "execution_count": 3,
   "id": "65eb5e0f",
   "metadata": {},
   "outputs": [
    {
     "name": "stdout",
     "output_type": "stream",
     "text": [
      "Enter the price of laptop : 2\n",
      "Enter the price of laptop : 3\n",
      "Enter the price of laptop : 4\n",
      "Enter the price of laptop : 5\n",
      "Enter the price of laptop : 6\n"
     ]
    }
   ],
   "source": [
    "laptop1 = int(input('Enter the price of laptop : '))\n",
    "laptop2 =int(input('Enter the price of laptop : '))\n",
    "laptop3 = int(input('Enter the price of laptop : '))\n",
    "laptop4 =int(input('Enter the price of laptop : '))\n",
    "laptop5 = int(input('Enter the price of laptop : '))"
   ]
  },
  {
   "cell_type": "code",
   "execution_count": 5,
   "id": "ae9d0520",
   "metadata": {},
   "outputs": [
    {
     "name": "stdout",
     "output_type": "stream",
     "text": [
      "Enter the price of laptop: 2\n",
      "Enter the price of laptop: 3\n",
      "Enter the price of laptop: 4\n",
      "Enter the price of laptop: 5\n",
      "Enter the price of laptop: 6\n"
     ]
    }
   ],
   "source": [
    "for i in range(5): #range 5 --> 0,1,2,3,4\n",
    "    int(input('Enter the price of laptop: '))"
   ]
  },
  {
   "cell_type": "code",
   "execution_count": 6,
   "id": "9ed9587a",
   "metadata": {},
   "outputs": [
    {
     "name": "stdout",
     "output_type": "stream",
     "text": [
      "50\n",
      "100\n",
      "20\n",
      "90\n",
      "900\n"
     ]
    }
   ],
   "source": [
    "my_list = [50,100,20,90,900]\n",
    "\n",
    "print(my_list[0])\n",
    "print(my_list[1])\n",
    "print(my_list[2])\n",
    "print(my_list[3])\n",
    "print(my_list[4])"
   ]
  },
  {
   "cell_type": "code",
   "execution_count": 11,
   "id": "8d2a4269",
   "metadata": {},
   "outputs": [
    {
     "name": "stdout",
     "output_type": "stream",
     "text": [
      "100\n",
      "200\n",
      "40\n",
      "180\n",
      "1800\n"
     ]
    }
   ],
   "source": [
    "for i in my_list: #one by one element is picked up\n",
    "    print(i*2)"
   ]
  },
  {
   "cell_type": "code",
   "execution_count": 16,
   "id": "1e2ea5f2",
   "metadata": {},
   "outputs": [
    {
     "name": "stdout",
     "output_type": "stream",
     "text": [
      "0\n",
      "1\n",
      "2\n",
      "3\n",
      "4\n"
     ]
    }
   ],
   "source": [
    "for i in range(len(my_list)): #range of 5\n",
    "    print(i)"
   ]
  },
  {
   "cell_type": "markdown",
   "id": "6498e3ee",
   "metadata": {},
   "source": [
    "While loop"
   ]
  },
  {
   "cell_type": "code",
   "execution_count": 17,
   "id": "0110be74",
   "metadata": {},
   "outputs": [
    {
     "name": "stdout",
     "output_type": "stream",
     "text": [
      "0\n",
      "1\n",
      "2\n",
      "3\n",
      "4\n",
      "5\n",
      "6\n",
      "7\n",
      "8\n",
      "9\n"
     ]
    }
   ],
   "source": [
    "i = 0\n",
    "\n",
    "while i <10: #until condition is satisfied\n",
    "    print(i)\n",
    "    i += 1"
   ]
  },
  {
   "cell_type": "code",
   "execution_count": 18,
   "id": "c11de64c",
   "metadata": {},
   "outputs": [],
   "source": [
    "i = 5\n",
    "\n",
    "while i < 3: #codition not satisified\n",
    "    print(i)\n",
    "    i += 1"
   ]
  },
  {
   "cell_type": "code",
   "execution_count": 22,
   "id": "ffab9435",
   "metadata": {},
   "outputs": [
    {
     "name": "stdout",
     "output_type": "stream",
     "text": [
      "Programming\n",
      "Programming\n",
      "Programming\n",
      "Programming\n",
      "Programming\n",
      "Programming\n",
      "Programming\n",
      "Programming\n",
      "Programming\n",
      "Programming\n"
     ]
    }
   ],
   "source": [
    "for i in range(10):\n",
    "    print('Programming') #print 9 times"
   ]
  },
  {
   "cell_type": "code",
   "execution_count": 2,
   "id": "08378df6",
   "metadata": {},
   "outputs": [
    {
     "name": "stdout",
     "output_type": "stream",
     "text": [
      "Nidhi\n",
      "Nidhi\n",
      "Nidhi\n",
      "Nidhi\n",
      "Nidhi\n",
      "Nidhi\n",
      "Nidhi\n",
      "Nidhi\n",
      "Nidhi\n",
      "Nidhi\n"
     ]
    }
   ],
   "source": [
    "for i in range(10):\n",
    "    print('Nidhi')"
   ]
  },
  {
   "cell_type": "code",
   "execution_count": 1,
   "id": "c7999b19",
   "metadata": {},
   "outputs": [
    {
     "name": "stdout",
     "output_type": "stream",
     "text": [
      "0\n",
      "1\n",
      "2\n",
      "3\n",
      "4\n",
      "5\n",
      "6\n",
      "7\n",
      "8\n",
      "9\n"
     ]
    }
   ],
   "source": [
    "for i in range(10):\n",
    "    print(i)"
   ]
  },
  {
   "cell_type": "code",
   "execution_count": 22,
   "id": "added62a",
   "metadata": {},
   "outputs": [],
   "source": [
    "def factorial(num):\n",
    "\n",
    "    factorial =1\n",
    "    \n",
    "    if num==0:\n",
    "        print(factorial)\n",
    "        \n",
    "    else:\n",
    "        for i in range(1,num+1):\n",
    "            factorial = factorial*i\n",
    "        print(factorial)"
   ]
  },
  {
   "cell_type": "code",
   "execution_count": 23,
   "id": "56da9dd5",
   "metadata": {},
   "outputs": [
    {
     "name": "stdout",
     "output_type": "stream",
     "text": [
      "120\n"
     ]
    }
   ],
   "source": [
    "factorial(5)"
   ]
  },
  {
   "cell_type": "code",
   "execution_count": 25,
   "id": "b04a20b4",
   "metadata": {},
   "outputs": [],
   "source": [
    "import numpy as np"
   ]
  },
  {
   "cell_type": "code",
   "execution_count": 28,
   "id": "e82b8b2e",
   "metadata": {},
   "outputs": [],
   "source": [
    "[3,4,5].append(8)"
   ]
  },
  {
   "cell_type": "code",
   "execution_count": 30,
   "id": "30a96f3f",
   "metadata": {},
   "outputs": [],
   "source": [
    "a = [4,6,7,2,6]\n",
    "a.append(10)"
   ]
  },
  {
   "cell_type": "code",
   "execution_count": 34,
   "id": "42870596",
   "metadata": {},
   "outputs": [
    {
     "data": {
      "text/plain": [
       "[16, 36, 49, 4, 36, 100]"
      ]
     },
     "execution_count": 34,
     "metadata": {},
     "output_type": "execute_result"
    }
   ],
   "source": [
    "list(map(lambda x: x**2, a))"
   ]
  },
  {
   "cell_type": "code",
   "execution_count": null,
   "id": "769cc52f",
   "metadata": {},
   "outputs": [],
   "source": []
  }
 ],
 "metadata": {
  "kernelspec": {
   "display_name": "Python 3 (ipykernel)",
   "language": "python",
   "name": "python3"
  },
  "language_info": {
   "codemirror_mode": {
    "name": "ipython",
    "version": 3
   },
   "file_extension": ".py",
   "mimetype": "text/x-python",
   "name": "python",
   "nbconvert_exporter": "python",
   "pygments_lexer": "ipython3",
   "version": "3.9.7"
  }
 },
 "nbformat": 4,
 "nbformat_minor": 5
}
