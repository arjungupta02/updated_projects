{
 "cells": [
  {
   "cell_type": "markdown",
   "id": "cbfeccd2",
   "metadata": {},
   "source": [
    "Operators:\n",
    "1. Arithemetic operators\n",
    "2. Assignment operators\n",
    "3. Comparison operators\n",
    "4. Logical operators\n",
    "5. Identity operators\n",
    "6. Membership operators"
   ]
  },
  {
   "cell_type": "code",
   "execution_count": 1,
   "id": "dcb0f6a5",
   "metadata": {},
   "outputs": [
    {
     "name": "stdout",
     "output_type": "stream",
     "text": [
      "sum :  30\n",
      "diff : 10\n",
      "multiply : 200\n",
      "divide : 2.0\n",
      "exponent : 10240000000000\n",
      "reminder : 0\n"
     ]
    }
   ],
   "source": [
    "num1 = 20\n",
    "num2 = 10\n",
    "\n",
    "#addition \n",
    "sum1 = num1 + num2 \n",
    "print('sum : ', sum1)\n",
    "\n",
    "#subtraction \n",
    "diff = num1 -num2\n",
    "print('diff :', diff)\n",
    "\n",
    "#multiplication\n",
    "mul = num1*num2\n",
    "print('multiply :', mul)\n",
    "\n",
    "#division\n",
    "div = num1/num2 #quotient\n",
    "print('divide :' ,div)\n",
    "\n",
    "#exponent\n",
    "exp = num1 ** num2\n",
    "print('exponent :', exp) #num1^num2\n",
    "\n",
    "#modulus (reminder)\n",
    "rem = num1 % num2\n",
    "print('reminder :', rem)"
   ]
  },
  {
   "cell_type": "raw",
   "id": "45481f87",
   "metadata": {},
   "source": [
    "Assignment operators\n",
    "+=\n",
    "-=\n",
    "*=\n",
    "/=\n",
    "%="
   ]
  },
  {
   "cell_type": "code",
   "execution_count": 2,
   "id": "a1f64630",
   "metadata": {},
   "outputs": [
    {
     "data": {
      "text/plain": [
       "5"
      ]
     },
     "execution_count": 2,
     "metadata": {},
     "output_type": "execute_result"
    }
   ],
   "source": [
    "a = 5\n",
    "a"
   ]
  },
  {
   "cell_type": "code",
   "execution_count": 3,
   "id": "ee63515a",
   "metadata": {},
   "outputs": [
    {
     "data": {
      "text/plain": [
       "10"
      ]
     },
     "execution_count": 3,
     "metadata": {},
     "output_type": "execute_result"
    }
   ],
   "source": [
    "a +=5 #a = a+5\n",
    "a"
   ]
  },
  {
   "cell_type": "code",
   "execution_count": 4,
   "id": "fcdd83d1",
   "metadata": {},
   "outputs": [
    {
     "data": {
      "text/plain": [
       "7"
      ]
     },
     "execution_count": 4,
     "metadata": {},
     "output_type": "execute_result"
    }
   ],
   "source": [
    "b =10\n",
    "b -= 3 #b = b-3\n",
    "b"
   ]
  },
  {
   "cell_type": "markdown",
   "id": "d91af1a8",
   "metadata": {},
   "source": [
    "Comparison operators"
   ]
  },
  {
   "cell_type": "code",
   "execution_count": 5,
   "id": "8670bb2b",
   "metadata": {},
   "outputs": [
    {
     "name": "stdout",
     "output_type": "stream",
     "text": [
      "True\n",
      "False\n",
      "True\n",
      "False\n",
      "True\n"
     ]
    }
   ],
   "source": [
    "a = 10\n",
    "b = 5\n",
    "\n",
    "print(a >= b)\n",
    "print(a==b)\n",
    "print(a !=b)\n",
    "print(a <= b)\n",
    "print(a*5 > b)"
   ]
  },
  {
   "cell_type": "markdown",
   "id": "813468c1",
   "metadata": {},
   "source": [
    "Logical operators"
   ]
  },
  {
   "cell_type": "markdown",
   "id": "a1e66869",
   "metadata": {},
   "source": [
    "and or not"
   ]
  },
  {
   "cell_type": "code",
   "execution_count": 7,
   "id": "7e176a7a",
   "metadata": {},
   "outputs": [
    {
     "name": "stdout",
     "output_type": "stream",
     "text": [
      "False\n",
      "True\n",
      "False\n",
      "True\n"
     ]
    }
   ],
   "source": [
    "a = 10\n",
    "\n",
    "print(a > 10 and a > 5)\n",
    "print( a==20 or a > 5)\n",
    "print(a != 10 and a >5)\n",
    "print(not((a != 10 and a >5)))"
   ]
  },
  {
   "cell_type": "markdown",
   "id": "bd8bd04f",
   "metadata": {},
   "source": [
    "Identity operators"
   ]
  },
  {
   "cell_type": "markdown",
   "id": "2f67115a",
   "metadata": {},
   "source": [
    "is is not"
   ]
  },
  {
   "cell_type": "code",
   "execution_count": 8,
   "id": "fb80059b",
   "metadata": {},
   "outputs": [
    {
     "name": "stdout",
     "output_type": "stream",
     "text": [
      "True\n"
     ]
    }
   ],
   "source": [
    "x = 5\n",
    "y = 5\n",
    "\n",
    "print(x is y)"
   ]
  },
  {
   "cell_type": "code",
   "execution_count": 9,
   "id": "e2e1cae0",
   "metadata": {},
   "outputs": [
    {
     "name": "stdout",
     "output_type": "stream",
     "text": [
      "False\n"
     ]
    }
   ],
   "source": [
    "x = 15\n",
    "y = 5\n",
    "\n",
    "print(x is y)"
   ]
  },
  {
   "cell_type": "markdown",
   "id": "494fe90a",
   "metadata": {},
   "source": [
    "Membership operator"
   ]
  },
  {
   "cell_type": "markdown",
   "id": "ab67ff08",
   "metadata": {},
   "source": [
    "in not in"
   ]
  },
  {
   "cell_type": "code",
   "execution_count": 10,
   "id": "6e04e203",
   "metadata": {},
   "outputs": [
    {
     "name": "stdout",
     "output_type": "stream",
     "text": [
      "True\n",
      "False\n"
     ]
    }
   ],
   "source": [
    "a = 5\n",
    "b = 10\n",
    "\n",
    "c = [4,5,6,7,90]\n",
    "print(a in c)\n",
    "print(b in c)"
   ]
  },
  {
   "cell_type": "code",
   "execution_count": 1,
   "id": "f6d850e6",
   "metadata": {},
   "outputs": [
    {
     "name": "stdout",
     "output_type": "stream",
     "text": [
      "False\n",
      "True\n"
     ]
    }
   ],
   "source": [
    "a = 5\n",
    "b = 10\n",
    "\n",
    "c = [4,5,6,7,90]\n",
    "print(a not in c)\n",
    "print(b not in c)"
   ]
  },
  {
   "cell_type": "code",
   "execution_count": 2,
   "id": "c31fd646",
   "metadata": {},
   "outputs": [
    {
     "data": {
      "text/plain": [
       "False"
      ]
     },
     "execution_count": 2,
     "metadata": {},
     "output_type": "execute_result"
    }
   ],
   "source": [
    "a not in c"
   ]
  },
  {
   "cell_type": "code",
   "execution_count": null,
   "id": "134f811c",
   "metadata": {},
   "outputs": [],
   "source": []
  }
 ],
 "metadata": {
  "kernelspec": {
   "display_name": "Python 3 (ipykernel)",
   "language": "python",
   "name": "python3"
  },
  "language_info": {
   "codemirror_mode": {
    "name": "ipython",
    "version": 3
   },
   "file_extension": ".py",
   "mimetype": "text/x-python",
   "name": "python",
   "nbconvert_exporter": "python",
   "pygments_lexer": "ipython3",
   "version": "3.9.7"
  }
 },
 "nbformat": 4,
 "nbformat_minor": 5
}
