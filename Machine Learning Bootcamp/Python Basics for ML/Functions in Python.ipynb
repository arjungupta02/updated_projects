{
 "cells": [
  {
   "cell_type": "markdown",
   "id": "4b4a98d3",
   "metadata": {},
   "source": [
    "Function is a block of code that can be reused in Python"
   ]
  },
  {
   "cell_type": "code",
   "execution_count": 8,
   "id": "e5a12d48",
   "metadata": {},
   "outputs": [
    {
     "name": "stdout",
     "output_type": "stream",
     "text": [
      "Please enter the number : 5\n",
      "120\n"
     ]
    }
   ],
   "source": [
    "number = int(input('Please enter the number : '))\n",
    "\n",
    "factorial = 1\n",
    "\n",
    "if number ==0:\n",
    "    print('Factorial of number is :', factorial)\n",
    "else:\n",
    "    for i in range(1, number+1): #range(1,num+1) #(1,5)\n",
    "        factorial = factorial*i\n",
    "    print(factorial)"
   ]
  },
  {
   "cell_type": "code",
   "execution_count": 56,
   "id": "c3fad38b",
   "metadata": {},
   "outputs": [],
   "source": [
    "def factorial(num):\n",
    "    factorial = 1\n",
    "    \n",
    "    if num ==0:\n",
    "        return factorial\n",
    "    else :\n",
    "        for i in range(1, num+1):\n",
    "            factorial = factorial*i\n",
    "        return factorial"
   ]
  },
  {
   "cell_type": "code",
   "execution_count": 57,
   "id": "f1f8a68c",
   "metadata": {},
   "outputs": [
    {
     "data": {
      "text/plain": [
       "120"
      ]
     },
     "execution_count": 57,
     "metadata": {},
     "output_type": "execute_result"
    }
   ],
   "source": [
    "factorial(5)"
   ]
  },
  {
   "cell_type": "code",
   "execution_count": 13,
   "id": "4cf4b06f",
   "metadata": {},
   "outputs": [],
   "source": [
    "def square(num):\n",
    "        num = num*num\n",
    "        print(num)"
   ]
  },
  {
   "cell_type": "code",
   "execution_count": 14,
   "id": "019d9da7",
   "metadata": {},
   "outputs": [
    {
     "name": "stdout",
     "output_type": "stream",
     "text": [
      "25\n"
     ]
    }
   ],
   "source": [
    "square(5)"
   ]
  },
  {
   "cell_type": "code",
   "execution_count": 17,
   "id": "eab7dcb5",
   "metadata": {},
   "outputs": [],
   "source": [
    "my_list = [2,3,4,5,1]"
   ]
  },
  {
   "cell_type": "code",
   "execution_count": 52,
   "id": "9e01479b",
   "metadata": {},
   "outputs": [],
   "source": [
    "def even_number(num):#list so iterate in loops\n",
    "    for i in my_list:\n",
    "        if i%2 ==0:\n",
    "            print('It is an even number : ', i)\n",
    "        else :\n",
    "            print('It is an odd number : ', i)"
   ]
  },
  {
   "cell_type": "code",
   "execution_count": 53,
   "id": "8ad96361",
   "metadata": {},
   "outputs": [
    {
     "data": {
      "text/plain": [
       "('It is an even number : ', 2)"
      ]
     },
     "execution_count": 53,
     "metadata": {},
     "output_type": "execute_result"
    }
   ],
   "source": [
    "even_number(my_list)"
   ]
  },
  {
   "cell_type": "code",
   "execution_count": 22,
   "id": "4fe8a28c",
   "metadata": {},
   "outputs": [],
   "source": [
    "def even_number(n):\n",
    "    even = []\n",
    "    odd = []\n",
    "    for i in my_lst:\n",
    "        if i %2 == 0 :\n",
    "            even.append(i)\n",
    "        else :\n",
    "            odd.append(i)\n",
    "    print(even)\n",
    "    print(odd)"
   ]
  },
  {
   "cell_type": "code",
   "execution_count": 24,
   "id": "e47e415d",
   "metadata": {},
   "outputs": [],
   "source": [
    "my_lst = list(range(10))"
   ]
  },
  {
   "cell_type": "code",
   "execution_count": 25,
   "id": "999499bc",
   "metadata": {},
   "outputs": [
    {
     "name": "stdout",
     "output_type": "stream",
     "text": [
      "[0, 2, 4, 6, 8]\n",
      "[1, 3, 5, 7, 9]\n"
     ]
    }
   ],
   "source": [
    "even_number(2)"
   ]
  },
  {
   "cell_type": "code",
   "execution_count": 36,
   "id": "b5b094e6",
   "metadata": {},
   "outputs": [],
   "source": [
    "def factorial(n):\n",
    "    factorial= 1\n",
    "    if n == 0:\n",
    "        factorial = 1\n",
    "    else :\n",
    "        for i in range(1,n+1):\n",
    "            factorial= factorial * i\n",
    "    print('factorial of number is:', factorial)"
   ]
  },
  {
   "cell_type": "code",
   "execution_count": 37,
   "id": "bd91792f",
   "metadata": {},
   "outputs": [
    {
     "name": "stdout",
     "output_type": "stream",
     "text": [
      "factorial of number is: 120\n"
     ]
    }
   ],
   "source": [
    "factorial(5)"
   ]
  },
  {
   "cell_type": "code",
   "execution_count": null,
   "id": "20706602",
   "metadata": {},
   "outputs": [],
   "source": []
  }
 ],
 "metadata": {
  "kernelspec": {
   "display_name": "Python 3 (ipykernel)",
   "language": "python",
   "name": "python3"
  },
  "language_info": {
   "codemirror_mode": {
    "name": "ipython",
    "version": 3
   },
   "file_extension": ".py",
   "mimetype": "text/x-python",
   "name": "python",
   "nbconvert_exporter": "python",
   "pygments_lexer": "ipython3",
   "version": "3.9.7"
  }
 },
 "nbformat": 4,
 "nbformat_minor": 5
}
