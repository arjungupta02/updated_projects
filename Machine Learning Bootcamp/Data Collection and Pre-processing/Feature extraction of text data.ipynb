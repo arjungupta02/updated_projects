{
 "cells": [
  {
   "cell_type": "markdown",
   "id": "a77a6007",
   "metadata": {},
   "source": [
    "Mapping of textual data into vectors"
   ]
  },
  {
   "cell_type": "markdown",
   "id": "98f7e867",
   "metadata": {},
   "source": [
    "TF-IDF : to count the number of times a word has appeared in doc\n",
    "TF - Number of times t appeared in doc/Number of words in doc\n",
    "IDF - Number of documents/Number of documents t has appeared in \n",
    "\n",
    "tf-idf = tf*idf"
   ]
  },
  {
   "cell_type": "markdown",
   "id": "c572caa6",
   "metadata": {},
   "source": [
    "IDF value of rare word is high whereas fpr a frequent word is low"
   ]
  },
  {
   "cell_type": "code",
   "execution_count": 10,
   "id": "b9fc9650",
   "metadata": {},
   "outputs": [],
   "source": [
    "import pandas as pd\n",
    "import numpy as np\n",
    "from sklearn.feature_extraction.text import TfidfVectorizer"
   ]
  },
  {
   "cell_type": "code",
   "execution_count": 11,
   "id": "f2805e18",
   "metadata": {},
   "outputs": [],
   "source": [
    "news_df = pd.read_csv('fake.csv')"
   ]
  },
  {
   "cell_type": "code",
   "execution_count": 13,
   "id": "5fd176fe",
   "metadata": {},
   "outputs": [
    {
     "data": {
      "text/html": [
       "<div>\n",
       "<style scoped>\n",
       "    .dataframe tbody tr th:only-of-type {\n",
       "        vertical-align: middle;\n",
       "    }\n",
       "\n",
       "    .dataframe tbody tr th {\n",
       "        vertical-align: top;\n",
       "    }\n",
       "\n",
       "    .dataframe thead th {\n",
       "        text-align: right;\n",
       "    }\n",
       "</style>\n",
       "<table border=\"1\" class=\"dataframe\">\n",
       "  <thead>\n",
       "    <tr style=\"text-align: right;\">\n",
       "      <th></th>\n",
       "      <th>title</th>\n",
       "      <th>text</th>\n",
       "      <th>subject</th>\n",
       "      <th>date</th>\n",
       "    </tr>\n",
       "  </thead>\n",
       "  <tbody>\n",
       "    <tr>\n",
       "      <th>0</th>\n",
       "      <td>Donald Trump Sends Out Embarrassing New Year’...</td>\n",
       "      <td>Donald Trump just couldn t wish all Americans ...</td>\n",
       "      <td>News</td>\n",
       "      <td>December 31, 2017</td>\n",
       "    </tr>\n",
       "    <tr>\n",
       "      <th>1</th>\n",
       "      <td>Drunk Bragging Trump Staffer Started Russian ...</td>\n",
       "      <td>House Intelligence Committee Chairman Devin Nu...</td>\n",
       "      <td>News</td>\n",
       "      <td>December 31, 2017</td>\n",
       "    </tr>\n",
       "    <tr>\n",
       "      <th>2</th>\n",
       "      <td>Sheriff David Clarke Becomes An Internet Joke...</td>\n",
       "      <td>On Friday, it was revealed that former Milwauk...</td>\n",
       "      <td>News</td>\n",
       "      <td>December 30, 2017</td>\n",
       "    </tr>\n",
       "    <tr>\n",
       "      <th>3</th>\n",
       "      <td>Trump Is So Obsessed He Even Has Obama’s Name...</td>\n",
       "      <td>On Christmas day, Donald Trump announced that ...</td>\n",
       "      <td>News</td>\n",
       "      <td>December 29, 2017</td>\n",
       "    </tr>\n",
       "    <tr>\n",
       "      <th>4</th>\n",
       "      <td>Pope Francis Just Called Out Donald Trump Dur...</td>\n",
       "      <td>Pope Francis used his annual Christmas Day mes...</td>\n",
       "      <td>News</td>\n",
       "      <td>December 25, 2017</td>\n",
       "    </tr>\n",
       "  </tbody>\n",
       "</table>\n",
       "</div>"
      ],
      "text/plain": [
       "                                               title  \\\n",
       "0   Donald Trump Sends Out Embarrassing New Year’...   \n",
       "1   Drunk Bragging Trump Staffer Started Russian ...   \n",
       "2   Sheriff David Clarke Becomes An Internet Joke...   \n",
       "3   Trump Is So Obsessed He Even Has Obama’s Name...   \n",
       "4   Pope Francis Just Called Out Donald Trump Dur...   \n",
       "\n",
       "                                                text subject  \\\n",
       "0  Donald Trump just couldn t wish all Americans ...    News   \n",
       "1  House Intelligence Committee Chairman Devin Nu...    News   \n",
       "2  On Friday, it was revealed that former Milwauk...    News   \n",
       "3  On Christmas day, Donald Trump announced that ...    News   \n",
       "4  Pope Francis used his annual Christmas Day mes...    News   \n",
       "\n",
       "                date  \n",
       "0  December 31, 2017  \n",
       "1  December 31, 2017  \n",
       "2  December 30, 2017  \n",
       "3  December 29, 2017  \n",
       "4  December 25, 2017  "
      ]
     },
     "execution_count": 13,
     "metadata": {},
     "output_type": "execute_result"
    }
   ],
   "source": [
    "news_df.head()"
   ]
  },
  {
   "cell_type": "markdown",
   "id": "1adb8e04",
   "metadata": {},
   "source": [
    "Convert text data into vectors"
   ]
  },
  {
   "cell_type": "code",
   "execution_count": 16,
   "id": "02ba16b8",
   "metadata": {},
   "outputs": [],
   "source": [
    "X = news_df['text']"
   ]
  },
  {
   "cell_type": "code",
   "execution_count": 17,
   "id": "2b40e8da",
   "metadata": {},
   "outputs": [],
   "source": [
    "vec = TfidfVectorizer()"
   ]
  },
  {
   "cell_type": "code",
   "execution_count": 18,
   "id": "2baf3f08",
   "metadata": {},
   "outputs": [
    {
     "data": {
      "text/plain": [
       "TfidfVectorizer()"
      ]
     },
     "execution_count": 18,
     "metadata": {},
     "output_type": "execute_result"
    }
   ],
   "source": [
    "vec.fit(X)"
   ]
  },
  {
   "cell_type": "code",
   "execution_count": 20,
   "id": "a7a6aea1",
   "metadata": {},
   "outputs": [],
   "source": [
    "X = vec.transform(X)"
   ]
  },
  {
   "cell_type": "code",
   "execution_count": 24,
   "id": "1a0bbd19",
   "metadata": {},
   "outputs": [
    {
     "name": "stdout",
     "output_type": "stream",
     "text": [
      "  (0, 93594)\t0.03219739371641339\n",
      "  (0, 93553)\t0.07673082672640771\n",
      "  (0, 93274)\t0.0493114607764495\n",
      "  (0, 93262)\t0.24158266678095772\n",
      "  (0, 93214)\t0.0668374288703445\n",
      "  (0, 92506)\t0.02392228106225694\n",
      "  (0, 92339)\t0.023786489881411695\n",
      "  (0, 92235)\t0.019217800121417446\n",
      "  (0, 92217)\t0.026492732600076136\n",
      "  (0, 92143)\t0.028817453512346998\n",
      "  (0, 92142)\t0.020839626807991698\n",
      "  (0, 91875)\t0.15967170896700125\n",
      "  (0, 91589)\t0.024237103320311214\n",
      "  (0, 91444)\t0.016923515769559448\n",
      "  (0, 91396)\t0.02822615733303844\n",
      "  (0, 91222)\t0.011323395628722263\n",
      "  (0, 91177)\t0.022144672593956985\n",
      "  (0, 90996)\t0.012646334153411534\n",
      "  (0, 90988)\t0.01921595577538578\n",
      "  (0, 90982)\t0.06955686887608194\n",
      "  (0, 90976)\t0.04897954736387714\n",
      "  (0, 90946)\t0.06955686887608194\n",
      "  (0, 90307)\t0.03458495673012653\n",
      "  (0, 89807)\t0.02794989958890395\n",
      "  (0, 89119)\t0.04726586072959629\n",
      "  :\t:\n",
      "  (23480, 9544)\t0.021406056131071088\n",
      "  (23480, 9364)\t0.0340398099199048\n",
      "  (23480, 9091)\t0.009522936591454052\n",
      "  (23480, 8880)\t0.015999471668631336\n",
      "  (23480, 8839)\t0.06314418743644636\n",
      "  (23480, 8421)\t0.01967328811154413\n",
      "  (23480, 8375)\t0.024531774441633892\n",
      "  (23480, 8327)\t0.021509277155243516\n",
      "  (23480, 8227)\t0.025472345549170532\n",
      "  (23480, 8225)\t0.05874394447292671\n",
      "  (23480, 8171)\t0.022142632867496934\n",
      "  (23480, 8136)\t0.017860735736459913\n",
      "  (23480, 8085)\t0.02557430609304532\n",
      "  (23480, 7649)\t0.017038026464848414\n",
      "  (23480, 7557)\t0.02354622898190007\n",
      "  (23480, 7524)\t0.016181260405232552\n",
      "  (23480, 7370)\t0.060225842304413635\n",
      "  (23480, 7151)\t0.007355155925147339\n",
      "  (23480, 4993)\t0.028767776666386836\n",
      "  (23480, 4644)\t0.04255863800304685\n",
      "  (23480, 3831)\t0.02001247984371197\n",
      "  (23480, 3727)\t0.01986030988908162\n",
      "  (23480, 3723)\t0.037326624496240135\n",
      "  (23480, 1021)\t0.06649432191905483\n",
      "  (23480, 302)\t0.016479738115809415\n"
     ]
    }
   ],
   "source": [
    "print(X) #all text features converted into vectors"
   ]
  },
  {
   "cell_type": "code",
   "execution_count": null,
   "id": "f055c410",
   "metadata": {},
   "outputs": [],
   "source": []
  }
 ],
 "metadata": {
  "kernelspec": {
   "display_name": "Python 3 (ipykernel)",
   "language": "python",
   "name": "python3"
  },
  "language_info": {
   "codemirror_mode": {
    "name": "ipython",
    "version": 3
   },
   "file_extension": ".py",
   "mimetype": "text/x-python",
   "name": "python",
   "nbconvert_exporter": "python",
   "pygments_lexer": "ipython3",
   "version": "3.9.7"
  }
 },
 "nbformat": 4,
 "nbformat_minor": 5
}
