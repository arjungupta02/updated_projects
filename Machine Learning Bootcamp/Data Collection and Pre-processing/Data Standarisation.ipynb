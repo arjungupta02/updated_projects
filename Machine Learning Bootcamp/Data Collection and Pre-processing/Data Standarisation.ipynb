{
 "cells": [
  {
   "cell_type": "markdown",
   "id": "21484c71",
   "metadata": {},
   "source": [
    "The process of standarising the data with common format and range"
   ]
  },
  {
   "cell_type": "code",
   "execution_count": 22,
   "id": "3229926e",
   "metadata": {},
   "outputs": [],
   "source": [
    "import pandas as pd\n",
    "import numpy as np\n",
    "import matplotlib.pyplot as plt\n",
    "from sklearn.datasets import load_breast_cancer\n",
    "from sklearn.preprocessing import StandardScaler\n",
    "from sklearn.model_selection import train_test_split\n",
    "from sklearn.linear_model import LogisticRegression"
   ]
  },
  {
   "cell_type": "code",
   "execution_count": 12,
   "id": "d109e017",
   "metadata": {},
   "outputs": [],
   "source": [
    "dataset = load_breast_cancer()"
   ]
  },
  {
   "cell_type": "code",
   "execution_count": 14,
   "id": "65978663",
   "metadata": {},
   "outputs": [],
   "source": [
    "breast_df = pd.DataFrame(data = dataset.data, columns = dataset.feature_names)"
   ]
  },
  {
   "cell_type": "code",
   "execution_count": 15,
   "id": "dfd7997a",
   "metadata": {},
   "outputs": [
    {
     "data": {
      "text/html": [
       "<div>\n",
       "<style scoped>\n",
       "    .dataframe tbody tr th:only-of-type {\n",
       "        vertical-align: middle;\n",
       "    }\n",
       "\n",
       "    .dataframe tbody tr th {\n",
       "        vertical-align: top;\n",
       "    }\n",
       "\n",
       "    .dataframe thead th {\n",
       "        text-align: right;\n",
       "    }\n",
       "</style>\n",
       "<table border=\"1\" class=\"dataframe\">\n",
       "  <thead>\n",
       "    <tr style=\"text-align: right;\">\n",
       "      <th></th>\n",
       "      <th>mean radius</th>\n",
       "      <th>mean texture</th>\n",
       "      <th>mean perimeter</th>\n",
       "      <th>mean area</th>\n",
       "      <th>mean smoothness</th>\n",
       "      <th>mean compactness</th>\n",
       "      <th>mean concavity</th>\n",
       "      <th>mean concave points</th>\n",
       "      <th>mean symmetry</th>\n",
       "      <th>mean fractal dimension</th>\n",
       "      <th>...</th>\n",
       "      <th>worst radius</th>\n",
       "      <th>worst texture</th>\n",
       "      <th>worst perimeter</th>\n",
       "      <th>worst area</th>\n",
       "      <th>worst smoothness</th>\n",
       "      <th>worst compactness</th>\n",
       "      <th>worst concavity</th>\n",
       "      <th>worst concave points</th>\n",
       "      <th>worst symmetry</th>\n",
       "      <th>worst fractal dimension</th>\n",
       "    </tr>\n",
       "  </thead>\n",
       "  <tbody>\n",
       "    <tr>\n",
       "      <th>0</th>\n",
       "      <td>17.99</td>\n",
       "      <td>10.38</td>\n",
       "      <td>122.80</td>\n",
       "      <td>1001.0</td>\n",
       "      <td>0.11840</td>\n",
       "      <td>0.27760</td>\n",
       "      <td>0.3001</td>\n",
       "      <td>0.14710</td>\n",
       "      <td>0.2419</td>\n",
       "      <td>0.07871</td>\n",
       "      <td>...</td>\n",
       "      <td>25.38</td>\n",
       "      <td>17.33</td>\n",
       "      <td>184.60</td>\n",
       "      <td>2019.0</td>\n",
       "      <td>0.1622</td>\n",
       "      <td>0.6656</td>\n",
       "      <td>0.7119</td>\n",
       "      <td>0.2654</td>\n",
       "      <td>0.4601</td>\n",
       "      <td>0.11890</td>\n",
       "    </tr>\n",
       "    <tr>\n",
       "      <th>1</th>\n",
       "      <td>20.57</td>\n",
       "      <td>17.77</td>\n",
       "      <td>132.90</td>\n",
       "      <td>1326.0</td>\n",
       "      <td>0.08474</td>\n",
       "      <td>0.07864</td>\n",
       "      <td>0.0869</td>\n",
       "      <td>0.07017</td>\n",
       "      <td>0.1812</td>\n",
       "      <td>0.05667</td>\n",
       "      <td>...</td>\n",
       "      <td>24.99</td>\n",
       "      <td>23.41</td>\n",
       "      <td>158.80</td>\n",
       "      <td>1956.0</td>\n",
       "      <td>0.1238</td>\n",
       "      <td>0.1866</td>\n",
       "      <td>0.2416</td>\n",
       "      <td>0.1860</td>\n",
       "      <td>0.2750</td>\n",
       "      <td>0.08902</td>\n",
       "    </tr>\n",
       "    <tr>\n",
       "      <th>2</th>\n",
       "      <td>19.69</td>\n",
       "      <td>21.25</td>\n",
       "      <td>130.00</td>\n",
       "      <td>1203.0</td>\n",
       "      <td>0.10960</td>\n",
       "      <td>0.15990</td>\n",
       "      <td>0.1974</td>\n",
       "      <td>0.12790</td>\n",
       "      <td>0.2069</td>\n",
       "      <td>0.05999</td>\n",
       "      <td>...</td>\n",
       "      <td>23.57</td>\n",
       "      <td>25.53</td>\n",
       "      <td>152.50</td>\n",
       "      <td>1709.0</td>\n",
       "      <td>0.1444</td>\n",
       "      <td>0.4245</td>\n",
       "      <td>0.4504</td>\n",
       "      <td>0.2430</td>\n",
       "      <td>0.3613</td>\n",
       "      <td>0.08758</td>\n",
       "    </tr>\n",
       "    <tr>\n",
       "      <th>3</th>\n",
       "      <td>11.42</td>\n",
       "      <td>20.38</td>\n",
       "      <td>77.58</td>\n",
       "      <td>386.1</td>\n",
       "      <td>0.14250</td>\n",
       "      <td>0.28390</td>\n",
       "      <td>0.2414</td>\n",
       "      <td>0.10520</td>\n",
       "      <td>0.2597</td>\n",
       "      <td>0.09744</td>\n",
       "      <td>...</td>\n",
       "      <td>14.91</td>\n",
       "      <td>26.50</td>\n",
       "      <td>98.87</td>\n",
       "      <td>567.7</td>\n",
       "      <td>0.2098</td>\n",
       "      <td>0.8663</td>\n",
       "      <td>0.6869</td>\n",
       "      <td>0.2575</td>\n",
       "      <td>0.6638</td>\n",
       "      <td>0.17300</td>\n",
       "    </tr>\n",
       "    <tr>\n",
       "      <th>4</th>\n",
       "      <td>20.29</td>\n",
       "      <td>14.34</td>\n",
       "      <td>135.10</td>\n",
       "      <td>1297.0</td>\n",
       "      <td>0.10030</td>\n",
       "      <td>0.13280</td>\n",
       "      <td>0.1980</td>\n",
       "      <td>0.10430</td>\n",
       "      <td>0.1809</td>\n",
       "      <td>0.05883</td>\n",
       "      <td>...</td>\n",
       "      <td>22.54</td>\n",
       "      <td>16.67</td>\n",
       "      <td>152.20</td>\n",
       "      <td>1575.0</td>\n",
       "      <td>0.1374</td>\n",
       "      <td>0.2050</td>\n",
       "      <td>0.4000</td>\n",
       "      <td>0.1625</td>\n",
       "      <td>0.2364</td>\n",
       "      <td>0.07678</td>\n",
       "    </tr>\n",
       "  </tbody>\n",
       "</table>\n",
       "<p>5 rows × 30 columns</p>\n",
       "</div>"
      ],
      "text/plain": [
       "   mean radius  mean texture  mean perimeter  mean area  mean smoothness  \\\n",
       "0        17.99         10.38          122.80     1001.0          0.11840   \n",
       "1        20.57         17.77          132.90     1326.0          0.08474   \n",
       "2        19.69         21.25          130.00     1203.0          0.10960   \n",
       "3        11.42         20.38           77.58      386.1          0.14250   \n",
       "4        20.29         14.34          135.10     1297.0          0.10030   \n",
       "\n",
       "   mean compactness  mean concavity  mean concave points  mean symmetry  \\\n",
       "0           0.27760          0.3001              0.14710         0.2419   \n",
       "1           0.07864          0.0869              0.07017         0.1812   \n",
       "2           0.15990          0.1974              0.12790         0.2069   \n",
       "3           0.28390          0.2414              0.10520         0.2597   \n",
       "4           0.13280          0.1980              0.10430         0.1809   \n",
       "\n",
       "   mean fractal dimension  ...  worst radius  worst texture  worst perimeter  \\\n",
       "0                 0.07871  ...         25.38          17.33           184.60   \n",
       "1                 0.05667  ...         24.99          23.41           158.80   \n",
       "2                 0.05999  ...         23.57          25.53           152.50   \n",
       "3                 0.09744  ...         14.91          26.50            98.87   \n",
       "4                 0.05883  ...         22.54          16.67           152.20   \n",
       "\n",
       "   worst area  worst smoothness  worst compactness  worst concavity  \\\n",
       "0      2019.0            0.1622             0.6656           0.7119   \n",
       "1      1956.0            0.1238             0.1866           0.2416   \n",
       "2      1709.0            0.1444             0.4245           0.4504   \n",
       "3       567.7            0.2098             0.8663           0.6869   \n",
       "4      1575.0            0.1374             0.2050           0.4000   \n",
       "\n",
       "   worst concave points  worst symmetry  worst fractal dimension  \n",
       "0                0.2654          0.4601                  0.11890  \n",
       "1                0.1860          0.2750                  0.08902  \n",
       "2                0.2430          0.3613                  0.08758  \n",
       "3                0.2575          0.6638                  0.17300  \n",
       "4                0.1625          0.2364                  0.07678  \n",
       "\n",
       "[5 rows x 30 columns]"
      ]
     },
     "execution_count": 15,
     "metadata": {},
     "output_type": "execute_result"
    }
   ],
   "source": [
    "breast_df.head()"
   ]
  },
  {
   "cell_type": "code",
   "execution_count": 16,
   "id": "415cd838",
   "metadata": {},
   "outputs": [
    {
     "data": {
      "text/plain": [
       "(569, 30)"
      ]
     },
     "execution_count": 16,
     "metadata": {},
     "output_type": "execute_result"
    }
   ],
   "source": [
    "breast_df.shape"
   ]
  },
  {
   "cell_type": "markdown",
   "id": "431cc494",
   "metadata": {},
   "source": [
    "We can see all columns are unstanard (some are outliners)"
   ]
  },
  {
   "cell_type": "markdown",
   "id": "cff39620",
   "metadata": {},
   "source": [
    "Usually stadarisation should be done after training and test split"
   ]
  },
  {
   "cell_type": "code",
   "execution_count": 29,
   "id": "d6ed6b16",
   "metadata": {},
   "outputs": [],
   "source": [
    "X = breast_df #features\n",
    "Y = dataset.target #targets"
   ]
  },
  {
   "cell_type": "code",
   "execution_count": 30,
   "id": "54ebe929",
   "metadata": {},
   "outputs": [],
   "source": [
    "X_train, X_test, Y_train, Y_test = train_test_split(X, Y, test_size = 0.2,random_state = 3)"
   ]
  },
  {
   "cell_type": "code",
   "execution_count": 33,
   "id": "8689e4f1",
   "metadata": {},
   "outputs": [
    {
     "name": "stdout",
     "output_type": "stream",
     "text": [
      "(455, 30) (114, 30) (455,) (114,)\n"
     ]
    }
   ],
   "source": [
    "print(X_train.shape, X_test.shape, Y_train.shape, Y_test.shape) #20% train and test split"
   ]
  },
  {
   "cell_type": "markdown",
   "id": "15ab6270",
   "metadata": {},
   "source": [
    "Standarize the data"
   ]
  },
  {
   "cell_type": "code",
   "execution_count": 37,
   "id": "284ff65d",
   "metadata": {},
   "outputs": [
    {
     "data": {
      "text/plain": [
       "228.29740508276657"
      ]
     },
     "execution_count": 37,
     "metadata": {},
     "output_type": "execute_result"
    }
   ],
   "source": [
    "dataset.data.std() "
   ]
  },
  {
   "cell_type": "code",
   "execution_count": 49,
   "id": "891bc698",
   "metadata": {
    "scrolled": true
   },
   "outputs": [
    {
     "name": "stdout",
     "output_type": "stream",
     "text": [
      "     mean radius  mean texture  mean perimeter  mean area  mean smoothness  \\\n",
      "280        19.16         26.60          126.20     1138.0          0.10200   \n",
      "186        18.31         18.58          118.60     1041.0          0.08588   \n",
      "437        14.04         15.98           89.78      611.2          0.08458   \n",
      "329        16.26         21.88          107.50      826.8          0.11650   \n",
      "201        17.54         19.32          115.10      951.6          0.08968   \n",
      "..           ...           ...             ...        ...              ...   \n",
      "480        12.16         18.03           78.29      455.3          0.09087   \n",
      "422        11.61         16.02           75.46      408.2          0.10880   \n",
      "119        17.95         20.01          114.20      982.0          0.08402   \n",
      "256        19.55         28.77          133.60     1207.0          0.09260   \n",
      "249        11.52         14.93           73.87      406.3          0.10130   \n",
      "\n",
      "     mean compactness  mean concavity  mean concave points  mean symmetry  \\\n",
      "280           0.14530         0.19210              0.09664         0.1902   \n",
      "186           0.08468         0.08169              0.05814         0.1621   \n",
      "437           0.05895         0.03534              0.02944         0.1714   \n",
      "329           0.12830         0.17990              0.07981         0.1869   \n",
      "201           0.11980         0.10360              0.07488         0.1506   \n",
      "..                ...             ...                  ...            ...   \n",
      "480           0.07838         0.02916              0.01527         0.1464   \n",
      "422           0.11680         0.07097              0.04497         0.1886   \n",
      "119           0.06722         0.07293              0.05596         0.2129   \n",
      "256           0.20630         0.17840              0.11440         0.1893   \n",
      "249           0.07808         0.04328              0.02929         0.1883   \n",
      "\n",
      "     mean fractal dimension  ...  worst radius  worst texture  \\\n",
      "280                 0.06220  ...         23.72          35.90   \n",
      "186                 0.05425  ...         21.31          26.36   \n",
      "437                 0.05898  ...         15.66          21.58   \n",
      "329                 0.06532  ...         17.73          25.21   \n",
      "201                 0.05491  ...         20.42          25.84   \n",
      "..                      ...  ...           ...            ...   \n",
      "480                 0.06284  ...         13.34          27.87   \n",
      "422                 0.06320  ...         12.64          19.67   \n",
      "119                 0.05025  ...         20.58          27.83   \n",
      "256                 0.06232  ...         25.05          36.27   \n",
      "249                 0.06168  ...         12.65          21.19   \n",
      "\n",
      "     worst perimeter  worst area  worst smoothness  worst compactness  \\\n",
      "280           159.80      1724.0            0.1782             0.3841   \n",
      "186           139.20      1410.0            0.1234             0.2445   \n",
      "437           101.20       750.0            0.1195             0.1252   \n",
      "329           113.70       975.2            0.1426             0.2116   \n",
      "201           139.50      1239.0            0.1381             0.3420   \n",
      "..               ...         ...               ...                ...   \n",
      "480            88.83       547.4            0.1208             0.2279   \n",
      "422            81.93       475.7            0.1415             0.2170   \n",
      "119           129.20      1261.0            0.1072             0.1202   \n",
      "256           178.60      1926.0            0.1281             0.5329   \n",
      "249            80.88       491.8            0.1389             0.1582   \n",
      "\n",
      "     worst concavity  worst concave points  worst symmetry  \\\n",
      "280           0.5754               0.18720          0.3258   \n",
      "186           0.3538               0.15710          0.3206   \n",
      "437           0.1117               0.07453          0.2725   \n",
      "329           0.3344               0.10470          0.2736   \n",
      "201           0.3508               0.19390          0.2928   \n",
      "..               ...                   ...             ...   \n",
      "480           0.1620               0.05690          0.2406   \n",
      "422           0.2302               0.11050          0.2787   \n",
      "119           0.2249               0.11850          0.4882   \n",
      "256           0.4251               0.19410          0.2818   \n",
      "249           0.1804               0.09608          0.2664   \n",
      "\n",
      "     worst fractal dimension  \n",
      "280                  0.09720  \n",
      "186                  0.06938  \n",
      "437                  0.07234  \n",
      "329                  0.07953  \n",
      "201                  0.07867  \n",
      "..                       ...  \n",
      "480                  0.07729  \n",
      "422                  0.07427  \n",
      "119                  0.06111  \n",
      "256                  0.10050  \n",
      "249                  0.07809  \n",
      "\n",
      "[455 rows x 30 columns]\n"
     ]
    }
   ],
   "source": [
    "print(X_train) #value range is v far from each other"
   ]
  },
  {
   "cell_type": "code",
   "execution_count": 50,
   "id": "71df4082",
   "metadata": {},
   "outputs": [],
   "source": [
    "scalar = StandardScaler()"
   ]
  },
  {
   "cell_type": "code",
   "execution_count": 51,
   "id": "3b50393d",
   "metadata": {},
   "outputs": [
    {
     "data": {
      "text/plain": [
       "StandardScaler()"
      ]
     },
     "execution_count": 51,
     "metadata": {},
     "output_type": "execute_result"
    }
   ],
   "source": [
    "scalar.fit(X_train)"
   ]
  },
  {
   "cell_type": "code",
   "execution_count": 52,
   "id": "2ee970ef",
   "metadata": {},
   "outputs": [],
   "source": [
    "X_train_standarised = scalar.transform(X_train)"
   ]
  },
  {
   "cell_type": "code",
   "execution_count": 53,
   "id": "09c77770",
   "metadata": {},
   "outputs": [
    {
     "data": {
      "text/plain": [
       "1.0"
      ]
     },
     "execution_count": 53,
     "metadata": {},
     "output_type": "execute_result"
    }
   ],
   "source": [
    "X_train_standarised.std()"
   ]
  },
  {
   "cell_type": "code",
   "execution_count": 54,
   "id": "8eca643a",
   "metadata": {},
   "outputs": [
    {
     "data": {
      "text/plain": [
       "array([[ 1.40381088,  1.79283426,  1.37960065, ...,  1.044121  ,\n",
       "         0.52295995,  0.64990763],\n",
       "       [ 1.16565505, -0.14461158,  1.07121375, ...,  0.5940779 ,\n",
       "         0.44153782, -0.85281516],\n",
       "       [-0.0307278 , -0.77271123, -0.09822185, ..., -0.64047556,\n",
       "        -0.31161687, -0.69292805],\n",
       "       ...,\n",
       "       [ 1.06478904,  0.20084323,  0.89267396, ...,  0.01694621,\n",
       "         3.06583565, -1.29952679],\n",
       "       [ 1.51308238,  2.3170559 ,  1.67987211, ...,  1.14728703,\n",
       "        -0.16599653,  0.82816016],\n",
       "       [-0.73678981, -1.02636686, -0.74380549, ..., -0.31826862,\n",
       "        -0.40713129, -0.38233653]])"
      ]
     },
     "execution_count": 54,
     "metadata": {},
     "output_type": "execute_result"
    }
   ],
   "source": [
    "X_train_standarised #values are close to each other #80% data is covered"
   ]
  },
  {
   "cell_type": "code",
   "execution_count": 56,
   "id": "b53434e6",
   "metadata": {},
   "outputs": [],
   "source": [
    "X_test_standarised = scalar.transform(X_test) #no need to fit it again\n",
    "#transforming 20% rest on fitting of X_train"
   ]
  },
  {
   "cell_type": "code",
   "execution_count": 59,
   "id": "9dff3f32",
   "metadata": {},
   "outputs": [
    {
     "data": {
      "text/plain": [
       "0.8654541077212674"
      ]
     },
     "execution_count": 59,
     "metadata": {},
     "output_type": "execute_result"
    }
   ],
   "source": [
    "X_test_standarised.std() #value ranges are close"
   ]
  },
  {
   "cell_type": "code",
   "execution_count": null,
   "id": "d22e574e",
   "metadata": {},
   "outputs": [],
   "source": []
  },
  {
   "cell_type": "code",
   "execution_count": 67,
   "id": "2bcddc16",
   "metadata": {},
   "outputs": [
    {
     "data": {
      "text/plain": [
       "1    357\n",
       "0    212\n",
       "dtype: int64"
      ]
     },
     "execution_count": 67,
     "metadata": {},
     "output_type": "execute_result"
    }
   ],
   "source": [
    "pd.Series(dataset.target).value_counts() #targets are balanced"
   ]
  },
  {
   "cell_type": "code",
   "execution_count": 70,
   "id": "b29399b0",
   "metadata": {},
   "outputs": [
    {
     "data": {
      "text/plain": [
       "mean radius                0\n",
       "mean texture               0\n",
       "mean perimeter             0\n",
       "mean area                  0\n",
       "mean smoothness            0\n",
       "mean compactness           0\n",
       "mean concavity             0\n",
       "mean concave points        0\n",
       "mean symmetry              0\n",
       "mean fractal dimension     0\n",
       "radius error               0\n",
       "texture error              0\n",
       "perimeter error            0\n",
       "area error                 0\n",
       "smoothness error           0\n",
       "compactness error          0\n",
       "concavity error            0\n",
       "concave points error       0\n",
       "symmetry error             0\n",
       "fractal dimension error    0\n",
       "worst radius               0\n",
       "worst texture              0\n",
       "worst perimeter            0\n",
       "worst area                 0\n",
       "worst smoothness           0\n",
       "worst compactness          0\n",
       "worst concavity            0\n",
       "worst concave points       0\n",
       "worst symmetry             0\n",
       "worst fractal dimension    0\n",
       "dtype: int64"
      ]
     },
     "execution_count": 70,
     "metadata": {},
     "output_type": "execute_result"
    }
   ],
   "source": [
    "X.isnull().sum() # no null values in features/inputs"
   ]
  },
  {
   "cell_type": "code",
   "execution_count": null,
   "id": "279a1cbd",
   "metadata": {},
   "outputs": [],
   "source": []
  }
 ],
 "metadata": {
  "kernelspec": {
   "display_name": "Python 3 (ipykernel)",
   "language": "python",
   "name": "python3"
  },
  "language_info": {
   "codemirror_mode": {
    "name": "ipython",
    "version": 3
   },
   "file_extension": ".py",
   "mimetype": "text/x-python",
   "name": "python",
   "nbconvert_exporter": "python",
   "pygments_lexer": "ipython3",
   "version": "3.9.7"
  }
 },
 "nbformat": 4,
 "nbformat_minor": 5
}
