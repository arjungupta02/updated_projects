{
 "cells": [
  {
   "cell_type": "code",
   "execution_count": 4,
   "id": "1dd98ece",
   "metadata": {},
   "outputs": [],
   "source": [
    "import pandas as pd\n",
    "import numpy as np\n",
    "import re #regular expression to search a pattern in text values \n",
    "import nltk\n",
    "from nltk.corpus import stopwords #we, only, you, us \n",
    "from nltk.stem.porter import PorterStemmer #stemming is process of reducing a word to root word for eg. enjoyable > enjoy\n",
    "from sklearn.feature_extraction.text import TfidfVectorizer #words to vectors\n",
    "from sklearn.model_selection import train_test_split"
   ]
  },
  {
   "cell_type": "code",
   "execution_count": 10,
   "id": "15581904",
   "metadata": {},
   "outputs": [
    {
     "name": "stderr",
     "output_type": "stream",
     "text": [
      "[nltk_data] Error loading stopwords: <urlopen error Tunnel connection\n",
      "[nltk_data]     failed: 407 AuthorizedOnly>\n"
     ]
    },
    {
     "data": {
      "text/plain": [
       "False"
      ]
     },
     "execution_count": 10,
     "metadata": {},
     "output_type": "execute_result"
    }
   ],
   "source": [
    "nltk.download('stopwords') #stopwords are like we, you,the, us, our, etc."
   ]
  },
  {
   "cell_type": "code",
   "execution_count": 11,
   "id": "d97a1b7f",
   "metadata": {},
   "outputs": [
    {
     "name": "stderr",
     "output_type": "stream",
     "text": [
      "[nltk_data] Error loading stopwords: <urlopen error Tunnel connection\n",
      "[nltk_data]     failed: 407 AuthorizedOnly>\n"
     ]
    }
   ],
   "source": [
    "stopwords = nltk.download('stopwords')"
   ]
  },
  {
   "cell_type": "code",
   "execution_count": 12,
   "id": "501da019",
   "metadata": {},
   "outputs": [
    {
     "ename": "AttributeError",
     "evalue": "'bool' object has no attribute 'words'",
     "output_type": "error",
     "traceback": [
      "\u001b[1;31m---------------------------------------------------------------------------\u001b[0m",
      "\u001b[1;31mAttributeError\u001b[0m                            Traceback (most recent call last)",
      "\u001b[1;32m~\\AppData\\Local\\Temp/ipykernel_13984/2398772829.py\u001b[0m in \u001b[0;36m<module>\u001b[1;34m\u001b[0m\n\u001b[1;32m----> 1\u001b[1;33m \u001b[0mprint\u001b[0m\u001b[1;33m(\u001b[0m\u001b[0mstopwords\u001b[0m\u001b[1;33m.\u001b[0m\u001b[0mwords\u001b[0m\u001b[1;33m(\u001b[0m\u001b[1;34m'English'\u001b[0m\u001b[1;33m)\u001b[0m\u001b[1;33m)\u001b[0m\u001b[1;33m\u001b[0m\u001b[1;33m\u001b[0m\u001b[0m\n\u001b[0m",
      "\u001b[1;31mAttributeError\u001b[0m: 'bool' object has no attribute 'words'"
     ]
    }
   ],
   "source": [
    "print(stopwords.words('English'))"
   ]
  },
  {
   "cell_type": "code",
   "execution_count": 88,
   "id": "4fec2e7f",
   "metadata": {},
   "outputs": [],
   "source": [
    "fake_news_df = pd.read_csv('Fake_news.csv', encoding= 'unicode_escape')"
   ]
  },
  {
   "cell_type": "code",
   "execution_count": 89,
   "id": "9c016a29",
   "metadata": {},
   "outputs": [
    {
     "data": {
      "text/html": [
       "<div>\n",
       "<style scoped>\n",
       "    .dataframe tbody tr th:only-of-type {\n",
       "        vertical-align: middle;\n",
       "    }\n",
       "\n",
       "    .dataframe tbody tr th {\n",
       "        vertical-align: top;\n",
       "    }\n",
       "\n",
       "    .dataframe thead th {\n",
       "        text-align: right;\n",
       "    }\n",
       "</style>\n",
       "<table border=\"1\" class=\"dataframe\">\n",
       "  <thead>\n",
       "    <tr style=\"text-align: right;\">\n",
       "      <th></th>\n",
       "      <th>article_title</th>\n",
       "      <th>article_content</th>\n",
       "      <th>labels</th>\n",
       "    </tr>\n",
       "  </thead>\n",
       "  <tbody>\n",
       "    <tr>\n",
       "      <th>0</th>\n",
       "      <td>Syria attack symptoms consistent with nerve ag...</td>\n",
       "      <td>Wed 05 Apr 2017 Syria attack symptoms consiste...</td>\n",
       "      <td>0</td>\n",
       "    </tr>\n",
       "    <tr>\n",
       "      <th>1</th>\n",
       "      <td>Homs governor says U.S. attack caused deaths b...</td>\n",
       "      <td>Fri 07 Apr 2017 at 0914 Homs governor says U.S...</td>\n",
       "      <td>0</td>\n",
       "    </tr>\n",
       "    <tr>\n",
       "      <th>2</th>\n",
       "      <td>Death toll from Aleppo bomb attack at least 112</td>\n",
       "      <td>Sun 16 Apr 2017 Death toll from Aleppo bomb at...</td>\n",
       "      <td>0</td>\n",
       "    </tr>\n",
       "    <tr>\n",
       "      <th>3</th>\n",
       "      <td>Aleppo bomb blast kills six Syrian state TV</td>\n",
       "      <td>Wed 19 Apr 2017 Aleppo bomb blast kills six Sy...</td>\n",
       "      <td>0</td>\n",
       "    </tr>\n",
       "    <tr>\n",
       "      <th>4</th>\n",
       "      <td>29 Syria Rebels Dead in Fighting for Key Alepp...</td>\n",
       "      <td>Sun 10 Jul 2016 29 Syria Rebels Dead in Fighti...</td>\n",
       "      <td>0</td>\n",
       "    </tr>\n",
       "  </tbody>\n",
       "</table>\n",
       "</div>"
      ],
      "text/plain": [
       "                                       article_title  \\\n",
       "0  Syria attack symptoms consistent with nerve ag...   \n",
       "1  Homs governor says U.S. attack caused deaths b...   \n",
       "2    Death toll from Aleppo bomb attack at least 112   \n",
       "3        Aleppo bomb blast kills six Syrian state TV   \n",
       "4  29 Syria Rebels Dead in Fighting for Key Alepp...   \n",
       "\n",
       "                                     article_content  labels  \n",
       "0  Wed 05 Apr 2017 Syria attack symptoms consiste...       0  \n",
       "1  Fri 07 Apr 2017 at 0914 Homs governor says U.S...       0  \n",
       "2  Sun 16 Apr 2017 Death toll from Aleppo bomb at...       0  \n",
       "3  Wed 19 Apr 2017 Aleppo bomb blast kills six Sy...       0  \n",
       "4  Sun 10 Jul 2016 29 Syria Rebels Dead in Fighti...       0  "
      ]
     },
     "execution_count": 89,
     "metadata": {},
     "output_type": "execute_result"
    }
   ],
   "source": [
    "fake_news_df.head()"
   ]
  },
  {
   "cell_type": "code",
   "execution_count": 90,
   "id": "df131670",
   "metadata": {},
   "outputs": [
    {
     "data": {
      "text/plain": [
       "article_title      0\n",
       "article_content    0\n",
       "labels             0\n",
       "dtype: int64"
      ]
     },
     "execution_count": 90,
     "metadata": {},
     "output_type": "execute_result"
    }
   ],
   "source": [
    "fake_news_df.isnull().sum() #if missing values replace with Nulls \n",
    "#fake_news_df.fillna('')"
   ]
  },
  {
   "cell_type": "code",
   "execution_count": 91,
   "id": "c59c553d",
   "metadata": {},
   "outputs": [],
   "source": [
    "X = fake_news_df.drop('labels', axis = 1)\n",
    "Y = fake_news_df['labels']"
   ]
  },
  {
   "cell_type": "code",
   "execution_count": 92,
   "id": "deccd151",
   "metadata": {},
   "outputs": [],
   "source": [
    "content = X['article_content']"
   ]
  },
  {
   "cell_type": "markdown",
   "id": "2a4e6a8f",
   "metadata": {},
   "source": [
    "Data Preprocessing"
   ]
  },
  {
   "cell_type": "markdown",
   "id": "86d16cd1",
   "metadata": {},
   "source": [
    "Stemming is the process of reducing the word to it's root word"
   ]
  },
  {
   "cell_type": "code",
   "execution_count": 93,
   "id": "eadbbb14",
   "metadata": {},
   "outputs": [],
   "source": [
    "stem = PorterStemmer()"
   ]
  },
  {
   "cell_type": "code",
   "execution_count": 109,
   "id": "58c8e577",
   "metadata": {},
   "outputs": [],
   "source": [
    "def stemming(content):\n",
    "    stemmed_content = re.sub('[^a-zA-Z)]',' ', content)\n",
    "    stemmed_content = stemmed_content.lower()\n",
    "    stemmed_content = stemmed_content.split()\n",
    "    stemmed_content = [stem_content.stem(words) for words in stemmed_content] #if words not in stopwords.words('English')\n",
    "    stemmed_content = ' '.join(stemmed_content)\n",
    "    return stemmed_content"
   ]
  },
  {
   "cell_type": "code",
   "execution_count": 110,
   "id": "ebb25faf",
   "metadata": {},
   "outputs": [],
   "source": [
    "fake_news_df['article_content'] = fake_news_df['article_content'].apply(stemming)"
   ]
  },
  {
   "cell_type": "code",
   "execution_count": 111,
   "id": "7cf9d564",
   "metadata": {},
   "outputs": [],
   "source": [
    "X = fake_news_df['article_content']\n",
    "Y = fake_news_df['labels']"
   ]
  },
  {
   "cell_type": "markdown",
   "id": "f072faf0",
   "metadata": {},
   "source": [
    "Tf-IDF vectorise"
   ]
  },
  {
   "cell_type": "code",
   "execution_count": 101,
   "id": "e240d038",
   "metadata": {},
   "outputs": [],
   "source": [
    "vectorise = TfidfVectorizer()"
   ]
  },
  {
   "cell_type": "code",
   "execution_count": 102,
   "id": "51b6b032",
   "metadata": {},
   "outputs": [
    {
     "data": {
      "text/plain": [
       "TfidfVectorizer()"
      ]
     },
     "execution_count": 102,
     "metadata": {},
     "output_type": "execute_result"
    }
   ],
   "source": [
    "vectorise.fit(X)"
   ]
  },
  {
   "cell_type": "code",
   "execution_count": 103,
   "id": "30db6264",
   "metadata": {},
   "outputs": [],
   "source": [
    "X = vectorise.transform(X)"
   ]
  },
  {
   "cell_type": "code",
   "execution_count": 104,
   "id": "b30fae7e",
   "metadata": {},
   "outputs": [
    {
     "name": "stdout",
     "output_type": "stream",
     "text": [
      "  (0, 6939)\t0.025738538879124653\n",
      "  (0, 6889)\t0.03506389619968655\n",
      "  (0, 6887)\t0.03827646999514353\n",
      "  (0, 6869)\t0.04690533627501232\n",
      "  (0, 6839)\t0.12278001119084513\n",
      "  (0, 6834)\t0.017940650713894012\n",
      "  (0, 6822)\t0.03634748821502441\n",
      "  (0, 6815)\t0.025677218992108335\n",
      "  (0, 6803)\t0.028238096152682825\n",
      "  (0, 6802)\t0.048877414653963246\n",
      "  (0, 6794)\t0.11648272976742648\n",
      "  (0, 6777)\t0.04358942980689488\n",
      "  (0, 6746)\t0.05025218375504085\n",
      "  (0, 6707)\t0.035308938332801486\n",
      "  (0, 6698)\t0.05740294826117158\n",
      "  (0, 6654)\t0.15730121520737067\n",
      "  (0, 6589)\t0.0522175319217959\n",
      "  (0, 6548)\t0.026381037626232274\n",
      "  (0, 6507)\t0.09612053476586485\n",
      "  (0, 6486)\t0.030235412930526492\n",
      "  (0, 6438)\t0.09249717857130567\n",
      "  (0, 6366)\t0.026946620171710987\n",
      "  (0, 6358)\t0.12180586762562838\n",
      "  (0, 6298)\t0.023702205631652103\n",
      "  (0, 6297)\t0.0373441028440184\n",
      "  :\t:\n",
      "  (803, 984)\t0.056422552169008204\n",
      "  (803, 960)\t0.023848662544109202\n",
      "  (803, 850)\t0.02526005998752104\n",
      "  (803, 843)\t0.02761138076882665\n",
      "  (803, 738)\t0.06236188357343288\n",
      "  (803, 685)\t0.06693037367048392\n",
      "  (803, 644)\t0.10508885579606285\n",
      "  (803, 610)\t0.021714652091852877\n",
      "  (803, 583)\t0.11633278128178089\n",
      "  (803, 577)\t0.07804594470091852\n",
      "  (803, 544)\t0.03265533620653464\n",
      "  (803, 541)\t0.02712463007251139\n",
      "  (803, 452)\t0.19837726159617916\n",
      "  (803, 438)\t0.09554930697282597\n",
      "  (803, 437)\t0.01812291542266254\n",
      "  (803, 408)\t0.030521050407440093\n",
      "  (803, 366)\t0.030735994988305933\n",
      "  (803, 347)\t0.11795595896810422\n",
      "  (803, 334)\t0.058440948438243566\n",
      "  (803, 252)\t0.02347543411345752\n",
      "  (803, 203)\t0.19000692416438825\n",
      "  (803, 142)\t0.03846262815721509\n",
      "  (803, 137)\t0.07319582620536413\n",
      "  (803, 113)\t0.029323911090603547\n",
      "  (803, 89)\t0.0627108134452131\n"
     ]
    }
   ],
   "source": [
    "print(X)"
   ]
  },
  {
   "cell_type": "code",
   "execution_count": null,
   "id": "ee91bec5",
   "metadata": {},
   "outputs": [],
   "source": []
  }
 ],
 "metadata": {
  "kernelspec": {
   "display_name": "Python 3 (ipykernel)",
   "language": "python",
   "name": "python3"
  },
  "language_info": {
   "codemirror_mode": {
    "name": "ipython",
    "version": 3
   },
   "file_extension": ".py",
   "mimetype": "text/x-python",
   "name": "python",
   "nbconvert_exporter": "python",
   "pygments_lexer": "ipython3",
   "version": "3.9.7"
  }
 },
 "nbformat": 4,
 "nbformat_minor": 5
}
