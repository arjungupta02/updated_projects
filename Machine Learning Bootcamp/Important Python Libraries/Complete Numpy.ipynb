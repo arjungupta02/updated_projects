{
 "cells": [
  {
   "cell_type": "markdown",
   "id": "01bdb85d",
   "metadata": {},
   "source": [
    "Advanatges of Numpy :\n",
    "    1. Allows several Mathematical operations\n",
    "    2. Faster operations"
   ]
  },
  {
   "cell_type": "code",
   "execution_count": null,
   "id": "11e02495",
   "metadata": {},
   "outputs": [],
   "source": [
    "import numpy as np"
   ]
  },
  {
   "cell_type": "code",
   "execution_count": null,
   "id": "fc4aa9dd",
   "metadata": {},
   "outputs": [],
   "source": [
    "arr = np.array([1,2,3,4])\n",
    "type(arr)"
   ]
  },
  {
   "cell_type": "code",
   "execution_count": null,
   "id": "0b5e3a7b",
   "metadata": {},
   "outputs": [],
   "source": [
    "np.arange(10).reshape(2,5)"
   ]
  },
  {
   "cell_type": "code",
   "execution_count": null,
   "id": "cc0c7b3c",
   "metadata": {},
   "outputs": [],
   "source": [
    "my_list = [i for i in range(10) if i%2 ==0] #list comprehensions\n",
    "my_list"
   ]
  },
  {
   "cell_type": "code",
   "execution_count": 11,
   "id": "4d565fe4",
   "metadata": {},
   "outputs": [
    {
     "data": {
      "text/plain": [
       "(4,)"
      ]
     },
     "execution_count": 11,
     "metadata": {},
     "output_type": "execute_result"
    }
   ],
   "source": [
    "#checking shape\n",
    "arr.shape"
   ]
  },
  {
   "cell_type": "code",
   "execution_count": 13,
   "id": "4ca4527f",
   "metadata": {},
   "outputs": [
    {
     "data": {
      "text/plain": [
       "array([[1, 2],\n",
       "       [3, 4]])"
      ]
     },
     "execution_count": 13,
     "metadata": {},
     "output_type": "execute_result"
    }
   ],
   "source": [
    "arr.reshape(2,2) #changing the shape"
   ]
  },
  {
   "cell_type": "code",
   "execution_count": 20,
   "id": "477db2c5",
   "metadata": {},
   "outputs": [
    {
     "data": {
      "text/plain": [
       "array([[0., 1., 2., 3., 4.],\n",
       "       [5., 6., 7., 8., 9.]])"
      ]
     },
     "execution_count": 20,
     "metadata": {},
     "output_type": "execute_result"
    }
   ],
   "source": [
    "np.array(list(range(10)), dtype = float).reshape(2,5)"
   ]
  },
  {
   "cell_type": "markdown",
   "id": "33098c41",
   "metadata": {},
   "source": [
    "Initial Placeholder in arrays"
   ]
  },
  {
   "cell_type": "code",
   "execution_count": 26,
   "id": "835072ac",
   "metadata": {},
   "outputs": [
    {
     "data": {
      "text/plain": [
       "array([[0., 0., 0., 0., 0.],\n",
       "       [0., 0., 0., 0., 0.],\n",
       "       [0., 0., 0., 0., 0.],\n",
       "       [0., 0., 0., 0., 0.],\n",
       "       [0., 0., 0., 0., 0.]])"
      ]
     },
     "execution_count": 26,
     "metadata": {},
     "output_type": "execute_result"
    }
   ],
   "source": [
    "np.zeros((5,5))"
   ]
  },
  {
   "cell_type": "code",
   "execution_count": 27,
   "id": "204d5593",
   "metadata": {},
   "outputs": [
    {
     "data": {
      "text/plain": [
       "array([[1., 1., 1.],\n",
       "       [1., 1., 1.]])"
      ]
     },
     "execution_count": 27,
     "metadata": {},
     "output_type": "execute_result"
    }
   ],
   "source": [
    "np.ones((2,3))"
   ]
  },
  {
   "cell_type": "code",
   "execution_count": 34,
   "id": "e06127f8",
   "metadata": {},
   "outputs": [
    {
     "data": {
      "text/plain": [
       "array([['Nidhi', 'Nidhi', 'Nidhi', 'Nidhi'],\n",
       "       ['Nidhi', 'Nidhi', 'Nidhi', 'Nidhi']], dtype='<U5')"
      ]
     },
     "execution_count": 34,
     "metadata": {},
     "output_type": "execute_result"
    }
   ],
   "source": [
    "np.full((2,4),'Nidhi') #fillvalue #value"
   ]
  },
  {
   "cell_type": "code",
   "execution_count": 38,
   "id": "75ef7aec",
   "metadata": {},
   "outputs": [
    {
     "data": {
      "text/plain": [
       "array([[1., 0., 0.],\n",
       "       [0., 1., 0.],\n",
       "       [0., 0., 1.]])"
      ]
     },
     "execution_count": 38,
     "metadata": {},
     "output_type": "execute_result"
    }
   ],
   "source": [
    "np.identity(3) #identity matrix #rows = #columns"
   ]
  },
  {
   "cell_type": "code",
   "execution_count": 40,
   "id": "83534b03",
   "metadata": {},
   "outputs": [
    {
     "data": {
      "text/plain": [
       "array([[1., 0.],\n",
       "       [0., 1.]])"
      ]
     },
     "execution_count": 40,
     "metadata": {},
     "output_type": "execute_result"
    }
   ],
   "source": [
    "np.eye(2)"
   ]
  },
  {
   "cell_type": "code",
   "execution_count": 43,
   "id": "548eb073",
   "metadata": {},
   "outputs": [
    {
     "data": {
      "text/plain": [
       "array([0.53501607, 0.00716757, 0.93259672, 0.60638233, 0.61724321,\n",
       "       0.01646486])"
      ]
     },
     "execution_count": 43,
     "metadata": {},
     "output_type": "execute_result"
    }
   ],
   "source": [
    "np.random.rand(6)"
   ]
  },
  {
   "cell_type": "code",
   "execution_count": 44,
   "id": "ca1e12e8",
   "metadata": {},
   "outputs": [
    {
     "data": {
      "text/plain": [
       "7.084868488715988"
      ]
     },
     "execution_count": 44,
     "metadata": {},
     "output_type": "execute_result"
    }
   ],
   "source": [
    "np.random.normal(7)"
   ]
  },
  {
   "cell_type": "raw",
   "id": "bb2dc02c",
   "metadata": {},
   "source": [
    "random               Uniformly distributed floats over ``[0, 1)``\n",
    "bytes                Uniformly distributed random bytes.\n",
    "permutation          Randomly permute a sequence / generate a random sequence.\n",
    "shuffle              Randomly permute a sequence in place.\n",
    "choice               Random sample from 1-D array.\n",
    "rand                 Uniformly distributed values.\n",
    "randn                Normally distributed values.\n",
    "ranf                 Uniformly distributed floating point numbers.\n",
    "random_integers      Uniformly distributed integers in a given range.\n",
    "                     (deprecated, use ``integers(..., closed=True)`` instead)\n",
    "random_sample        Alias for `random_sample`\n",
    "randint              Uniformly distributed integers in a given range\n",
    "seed                 Seed the legacy random number generator."
   ]
  },
  {
   "cell_type": "code",
   "execution_count": 45,
   "id": "777ab88a",
   "metadata": {},
   "outputs": [
    {
     "data": {
      "text/plain": [
       "array([-0.81248022,  1.20983154, -0.33539029, -0.48552608,  0.70287124,\n",
       "       -1.59785761, -0.21051723,  0.13075022,  0.45493163])"
      ]
     },
     "execution_count": 45,
     "metadata": {},
     "output_type": "execute_result"
    }
   ],
   "source": [
    "np.random.randn(9)"
   ]
  },
  {
   "cell_type": "code",
   "execution_count": 48,
   "id": "2f2a5cf7",
   "metadata": {},
   "outputs": [
    {
     "data": {
      "text/plain": [
       "array([[0.0415635 , 0.92339402],\n",
       "       [0.58069216, 0.54582275],\n",
       "       [0.61492357, 0.76506858],\n",
       "       [0.90286332, 0.10992667],\n",
       "       [0.95069086, 0.75557789]])"
      ]
     },
     "execution_count": 48,
     "metadata": {},
     "output_type": "execute_result"
    }
   ],
   "source": [
    "np.random.random((5,2)) #distributed over [0,1]"
   ]
  },
  {
   "cell_type": "code",
   "execution_count": 53,
   "id": "8bc60ae1",
   "metadata": {},
   "outputs": [
    {
     "data": {
      "text/plain": [
       "array([[506, 527, 627],\n",
       "       [325, 186, 306]])"
      ]
     },
     "execution_count": 53,
     "metadata": {},
     "output_type": "execute_result"
    }
   ],
   "source": [
    "np.random.randint(10,1000,6).reshape(2,3) #random integers\n",
    "np.random.randint(10,1000,(2,3))"
   ]
  },
  {
   "cell_type": "code",
   "execution_count": 59,
   "id": "a1ff976c",
   "metadata": {},
   "outputs": [
    {
     "data": {
      "text/plain": [
       "array([10.        , 11.05263158, 12.10526316, 13.15789474, 14.21052632,\n",
       "       15.26315789, 16.31578947, 17.36842105, 18.42105263, 19.47368421,\n",
       "       20.52631579, 21.57894737, 22.63157895, 23.68421053, 24.73684211,\n",
       "       25.78947368, 26.84210526, 27.89473684, 28.94736842, 30.        ])"
      ]
     },
     "execution_count": 59,
     "metadata": {},
     "output_type": "execute_result"
    }
   ],
   "source": [
    "#array of evenly spaced values\n",
    "np.linspace(10,30,20) #specify the number of values required"
   ]
  },
  {
   "cell_type": "code",
   "execution_count": 62,
   "id": "b155cbad",
   "metadata": {},
   "outputs": [
    {
     "data": {
      "text/plain": [
       "array([10, 15, 20, 25])"
      ]
     },
     "execution_count": 62,
     "metadata": {},
     "output_type": "execute_result"
    }
   ],
   "source": [
    "np.arange(10,30,5) #number of steps "
   ]
  },
  {
   "cell_type": "code",
   "execution_count": 64,
   "id": "34e8483c",
   "metadata": {},
   "outputs": [
    {
     "data": {
      "text/plain": [
       "array([[20, 27, 65, 47, 37],\n",
       "       [40, 71, 50, 80, 85],\n",
       "       [10, 33, 47, 15, 39],\n",
       "       [84, 82, 12, 80, 82],\n",
       "       [42, 11, 33, 35, 23]])"
      ]
     },
     "execution_count": 64,
     "metadata": {},
     "output_type": "execute_result"
    }
   ],
   "source": [
    "arr = np.random.randint(10,90,(5,5))\n",
    "arr"
   ]
  },
  {
   "cell_type": "code",
   "execution_count": 65,
   "id": "f2b867d0",
   "metadata": {},
   "outputs": [
    {
     "data": {
      "text/plain": [
       "25"
      ]
     },
     "execution_count": 65,
     "metadata": {},
     "output_type": "execute_result"
    }
   ],
   "source": [
    "arr.size"
   ]
  },
  {
   "cell_type": "code",
   "execution_count": 66,
   "id": "65ce3bd3",
   "metadata": {},
   "outputs": [
    {
     "data": {
      "text/plain": [
       "2"
      ]
     },
     "execution_count": 66,
     "metadata": {},
     "output_type": "execute_result"
    }
   ],
   "source": [
    "arr.ndim"
   ]
  },
  {
   "cell_type": "markdown",
   "id": "966dc9ff",
   "metadata": {},
   "source": [
    "Indexing and Slicing"
   ]
  },
  {
   "cell_type": "code",
   "execution_count": 67,
   "id": "f2b5ca5b",
   "metadata": {},
   "outputs": [
    {
     "data": {
      "text/plain": [
       "array([[47, 15]])"
      ]
     },
     "execution_count": 67,
     "metadata": {},
     "output_type": "execute_result"
    }
   ],
   "source": [
    "arr[2:3,2:4]"
   ]
  },
  {
   "cell_type": "code",
   "execution_count": 70,
   "id": "f0c5592f",
   "metadata": {},
   "outputs": [
    {
     "data": {
      "text/plain": [
       "array([[84, 82, 12, 80, 82],\n",
       "       [42, 11, 33, 35, 23]])"
      ]
     },
     "execution_count": 70,
     "metadata": {},
     "output_type": "execute_result"
    }
   ],
   "source": [
    "arr[3:5,]"
   ]
  },
  {
   "cell_type": "code",
   "execution_count": 71,
   "id": "f538cfae",
   "metadata": {},
   "outputs": [
    {
     "data": {
      "text/plain": [
       "array([[47, 37],\n",
       "       [80, 85],\n",
       "       [15, 39],\n",
       "       [80, 82],\n",
       "       [35, 23]])"
      ]
     },
     "execution_count": 71,
     "metadata": {},
     "output_type": "execute_result"
    }
   ],
   "source": [
    "arr[:,3:]"
   ]
  },
  {
   "cell_type": "code",
   "execution_count": 73,
   "id": "0c184533",
   "metadata": {},
   "outputs": [
    {
     "data": {
      "text/plain": [
       "dtype('int32')"
      ]
     },
     "execution_count": 73,
     "metadata": {},
     "output_type": "execute_result"
    }
   ],
   "source": [
    "arr.dtype"
   ]
  },
  {
   "cell_type": "markdown",
   "id": "eb5cd8af",
   "metadata": {},
   "source": [
    "Mathematical operations in Numpy"
   ]
  },
  {
   "cell_type": "code",
   "execution_count": 77,
   "id": "c1978062",
   "metadata": {},
   "outputs": [
    {
     "name": "stdout",
     "output_type": "stream",
     "text": [
      "[0, 1, 2, 3, 4, 5, 6, 7, 8, 9, 0, 1, 2, 3, 4, 5, 6, 7, 8, 9]\n"
     ]
    }
   ],
   "source": [
    "list1 = list(range(10))\n",
    "list2 = list(range(10))\n",
    "\n",
    "print(list1 + list2) #addition of list concatenate them not do element by element operation"
   ]
  },
  {
   "cell_type": "code",
   "execution_count": 79,
   "id": "90177219",
   "metadata": {},
   "outputs": [
    {
     "name": "stdout",
     "output_type": "stream",
     "text": [
      "[[129  94 121]\n",
      " [114 107  65]\n",
      " [100 106  43]]\n",
      "[[  7 -18  15]\n",
      " [  4 -57 -39]\n",
      " [ 24  44  -7]]\n",
      "[[4148 2128 3604]\n",
      " [3245 2050  676]\n",
      " [2356 2325  450]]\n",
      "[[1.1147541  0.67857143 1.28301887]\n",
      " [1.07272727 0.30487805 0.25      ]\n",
      " [1.63157895 2.41935484 0.72      ]]\n"
     ]
    }
   ],
   "source": [
    "a = np.random.randint(10,90,(3,3))\n",
    "b = np.random.randint(20,100,(3,3))\n",
    "\n",
    "print(a+b) #numpy helps to do element by element operation\n",
    "print(a-b)\n",
    "print(a*b)\n",
    "print(a/b)"
   ]
  },
  {
   "cell_type": "code",
   "execution_count": 81,
   "id": "a6992d06",
   "metadata": {},
   "outputs": [
    {
     "data": {
      "text/plain": [
       "array([[1.1147541 , 0.67857143, 1.28301887],\n",
       "       [1.07272727, 0.30487805, 0.25      ],\n",
       "       [1.63157895, 2.41935484, 0.72      ]])"
      ]
     },
     "execution_count": 81,
     "metadata": {},
     "output_type": "execute_result"
    }
   ],
   "source": [
    "np.add(a,b)\n",
    "np.subtract(a,b)\n",
    "np.multiply(a,b)\n",
    "np.divide(a,b)"
   ]
  },
  {
   "cell_type": "markdown",
   "id": "95da498b",
   "metadata": {},
   "source": [
    "Array Manipulation"
   ]
  },
  {
   "cell_type": "code",
   "execution_count": 82,
   "id": "f70b10a3",
   "metadata": {},
   "outputs": [
    {
     "data": {
      "text/plain": [
       "array([[4, 1, 8, 6, 2],\n",
       "       [7, 8, 8, 3, 6]])"
      ]
     },
     "execution_count": 82,
     "metadata": {},
     "output_type": "execute_result"
    }
   ],
   "source": [
    "arr = np.random.randint(1,10,(2,5))\n",
    "arr"
   ]
  },
  {
   "cell_type": "code",
   "execution_count": 83,
   "id": "a79c8c68",
   "metadata": {},
   "outputs": [
    {
     "data": {
      "text/plain": [
       "array([[4, 7],\n",
       "       [1, 8],\n",
       "       [8, 8],\n",
       "       [6, 3],\n",
       "       [2, 6]])"
      ]
     },
     "execution_count": 83,
     "metadata": {},
     "output_type": "execute_result"
    }
   ],
   "source": [
    "np.transpose(arr)"
   ]
  },
  {
   "cell_type": "code",
   "execution_count": 84,
   "id": "9f064751",
   "metadata": {},
   "outputs": [
    {
     "data": {
      "text/plain": [
       "array([[4, 7],\n",
       "       [1, 8],\n",
       "       [8, 8],\n",
       "       [6, 3],\n",
       "       [2, 6]])"
      ]
     },
     "execution_count": 84,
     "metadata": {},
     "output_type": "execute_result"
    }
   ],
   "source": [
    "arr.T"
   ]
  },
  {
   "cell_type": "code",
   "execution_count": 88,
   "id": "db82cce1",
   "metadata": {},
   "outputs": [
    {
     "data": {
      "text/plain": [
       "array([['No', 'No', 'yes', 'yes', 'No'],\n",
       "       ['yes', 'yes', 'yes', 'No', 'yes']], dtype='<U3')"
      ]
     },
     "execution_count": 88,
     "metadata": {},
     "output_type": "execute_result"
    }
   ],
   "source": [
    "np.where(arr>5,'yes','No')"
   ]
  },
  {
   "cell_type": "code",
   "execution_count": 90,
   "id": "52b63e0e",
   "metadata": {},
   "outputs": [
    {
     "data": {
      "text/plain": [
       "(array([0, 1], dtype=int64), array([3, 4], dtype=int64))"
      ]
     },
     "execution_count": 90,
     "metadata": {},
     "output_type": "execute_result"
    }
   ],
   "source": [
    "np.where(arr==6) #if no condition is specified it just gives the index where cond is true"
   ]
  },
  {
   "cell_type": "code",
   "execution_count": 5,
   "id": "35584d3d",
   "metadata": {},
   "outputs": [
    {
     "data": {
      "text/plain": [
       "array([1., 1., 1., 1., 1.])"
      ]
     },
     "execution_count": 5,
     "metadata": {},
     "output_type": "execute_result"
    }
   ],
   "source": [
    "np.ones(5)"
   ]
  },
  {
   "cell_type": "code",
   "execution_count": 10,
   "id": "356f1780",
   "metadata": {},
   "outputs": [
    {
     "data": {
      "text/plain": [
       "array([[0., 0.],\n",
       "       [0., 0.]])"
      ]
     },
     "execution_count": 10,
     "metadata": {},
     "output_type": "execute_result"
    }
   ],
   "source": [
    "np.zeros((2,2))"
   ]
  },
  {
   "cell_type": "code",
   "execution_count": 13,
   "id": "7fe30f7e",
   "metadata": {},
   "outputs": [
    {
     "data": {
      "text/plain": [
       "array([[1., 0., 0., 0.],\n",
       "       [0., 1., 0., 0.],\n",
       "       [0., 0., 1., 0.],\n",
       "       [0., 0., 0., 1.]])"
      ]
     },
     "execution_count": 13,
     "metadata": {},
     "output_type": "execute_result"
    }
   ],
   "source": [
    "np.eye(4)"
   ]
  },
  {
   "cell_type": "code",
   "execution_count": 14,
   "id": "ca107504",
   "metadata": {},
   "outputs": [
    {
     "data": {
      "text/plain": [
       "array([[1., 0., 0., 0.],\n",
       "       [0., 1., 0., 0.],\n",
       "       [0., 0., 1., 0.],\n",
       "       [0., 0., 0., 1.]])"
      ]
     },
     "execution_count": 14,
     "metadata": {},
     "output_type": "execute_result"
    }
   ],
   "source": [
    "np.identity(4)"
   ]
  },
  {
   "cell_type": "code",
   "execution_count": 17,
   "id": "71f35645",
   "metadata": {},
   "outputs": [
    {
     "ename": "TypeError",
     "evalue": "'>' not supported between instances of 'list' and 'str'",
     "output_type": "error",
     "traceback": [
      "\u001b[1;31m---------------------------------------------------------------------------\u001b[0m",
      "\u001b[1;31mTypeError\u001b[0m                                 Traceback (most recent call last)",
      "\u001b[1;32m~\\AppData\\Local\\Temp/ipykernel_26120/2035776165.py\u001b[0m in \u001b[0;36m<module>\u001b[1;34m\u001b[0m\n\u001b[0;32m      1\u001b[0m \u001b[0mi\u001b[0m \u001b[1;33m=\u001b[0m \u001b[1;33m[\u001b[0m\u001b[1;36m4\u001b[0m\u001b[1;33m,\u001b[0m\u001b[1;36m5\u001b[0m\u001b[1;33m,\u001b[0m\u001b[1;36m6\u001b[0m\u001b[1;33m,\u001b[0m\u001b[1;36m710\u001b[0m\u001b[1;33m,\u001b[0m\u001b[1;36m0\u001b[0m\u001b[1;33m]\u001b[0m\u001b[1;33m\u001b[0m\u001b[1;33m\u001b[0m\u001b[0m\n\u001b[0;32m      2\u001b[0m \u001b[1;33m\u001b[0m\u001b[0m\n\u001b[1;32m----> 3\u001b[1;33m \u001b[0mnp\u001b[0m\u001b[1;33m.\u001b[0m\u001b[0mwhere\u001b[0m\u001b[1;33m(\u001b[0m\u001b[0mi\u001b[0m\u001b[1;33m>\u001b[0m\u001b[1;34m'6'\u001b[0m\u001b[1;33m,\u001b[0m \u001b[1;34m'yes'\u001b[0m\u001b[1;33m,\u001b[0m \u001b[1;34m'no'\u001b[0m\u001b[1;33m)\u001b[0m\u001b[1;33m\u001b[0m\u001b[1;33m\u001b[0m\u001b[0m\n\u001b[0m",
      "\u001b[1;31mTypeError\u001b[0m: '>' not supported between instances of 'list' and 'str'"
     ]
    }
   ],
   "source": [
    "i = [4,5,6,710,0]\n",
    "\n",
    "np.where(i>'6', 'yes', 'no')"
   ]
  },
  {
   "cell_type": "code",
   "execution_count": 19,
   "id": "f0b58410",
   "metadata": {},
   "outputs": [
    {
     "data": {
      "text/plain": [
       "array(['no', 'no', 'no', 'no', 'no', 'no', 'no', 'yes', 'yes', 'yes'],\n",
       "      dtype='<U3')"
      ]
     },
     "execution_count": 19,
     "metadata": {},
     "output_type": "execute_result"
    }
   ],
   "source": [
    "arr = np.arange(10)\n",
    "np.where(arr>6, 'yes', 'no')"
   ]
  },
  {
   "cell_type": "code",
   "execution_count": 20,
   "id": "cb3efbf6",
   "metadata": {},
   "outputs": [
    {
     "data": {
      "text/plain": [
       "4"
      ]
     },
     "execution_count": 20,
     "metadata": {},
     "output_type": "execute_result"
    }
   ],
   "source": [
    "np.random.randint(7)"
   ]
  },
  {
   "cell_type": "code",
   "execution_count": 21,
   "id": "121c0458",
   "metadata": {},
   "outputs": [
    {
     "data": {
      "text/plain": [
       "array([0.72257124, 0.87059897, 0.93770572, 0.64092906, 0.40369364,\n",
       "       0.45855416, 0.99560686, 0.85382101])"
      ]
     },
     "execution_count": 21,
     "metadata": {},
     "output_type": "execute_result"
    }
   ],
   "source": [
    "np.random.rand(8)"
   ]
  },
  {
   "cell_type": "code",
   "execution_count": 23,
   "id": "9c9b9079",
   "metadata": {},
   "outputs": [
    {
     "data": {
      "text/plain": [
       "array(['no', 'yes', 'yes'], dtype='<U3')"
      ]
     },
     "execution_count": 23,
     "metadata": {},
     "output_type": "execute_result"
    }
   ],
   "source": [
    "arr = np.array([3,4,4])\n",
    "\n",
    "np.where(arr>3, 'yes', 'no')"
   ]
  },
  {
   "cell_type": "code",
   "execution_count": 5,
   "id": "23c2ed6a",
   "metadata": {},
   "outputs": [],
   "source": [
    "arr = np.array(list(range(10)))"
   ]
  },
  {
   "cell_type": "code",
   "execution_count": 7,
   "id": "7685bd81",
   "metadata": {},
   "outputs": [
    {
     "data": {
      "text/plain": [
       "array([[0, 1],\n",
       "       [2, 3],\n",
       "       [4, 5],\n",
       "       [6, 7],\n",
       "       [8, 9]])"
      ]
     },
     "execution_count": 7,
     "metadata": {},
     "output_type": "execute_result"
    }
   ],
   "source": [
    "arr.reshape(5,2)"
   ]
  },
  {
   "cell_type": "code",
   "execution_count": 9,
   "id": "48eb9955",
   "metadata": {},
   "outputs": [
    {
     "data": {
      "text/plain": [
       "array([6, 7, 8, 9])"
      ]
     },
     "execution_count": 9,
     "metadata": {},
     "output_type": "execute_result"
    }
   ],
   "source": [
    "arr[arr>5]"
   ]
  },
  {
   "cell_type": "code",
   "execution_count": 10,
   "id": "8f71126f",
   "metadata": {},
   "outputs": [
    {
     "data": {
      "text/plain": [
       "array(['no', 'no', 'no', 'no', 'no', 'no', 'yes', 'yes', 'yes', 'yes'],\n",
       "      dtype='<U3')"
      ]
     },
     "execution_count": 10,
     "metadata": {},
     "output_type": "execute_result"
    }
   ],
   "source": [
    "np.where(arr>5, 'yes', 'no')"
   ]
  },
  {
   "cell_type": "code",
   "execution_count": 11,
   "id": "0eacdd96",
   "metadata": {},
   "outputs": [
    {
     "data": {
      "text/plain": [
       "array([[1., 0., 0., 0., 0.],\n",
       "       [0., 1., 0., 0., 0.],\n",
       "       [0., 0., 1., 0., 0.],\n",
       "       [0., 0., 0., 1., 0.],\n",
       "       [0., 0., 0., 0., 1.]])"
      ]
     },
     "execution_count": 11,
     "metadata": {},
     "output_type": "execute_result"
    }
   ],
   "source": [
    "np.eye(5)"
   ]
  },
  {
   "cell_type": "code",
   "execution_count": 13,
   "id": "e12a92a8",
   "metadata": {},
   "outputs": [
    {
     "data": {
      "text/plain": [
       "array([[1., 1., 1.],\n",
       "       [1., 1., 1.]])"
      ]
     },
     "execution_count": 13,
     "metadata": {},
     "output_type": "execute_result"
    }
   ],
   "source": [
    "np.ones((2,3))"
   ]
  },
  {
   "cell_type": "code",
   "execution_count": 18,
   "id": "28205f22",
   "metadata": {
    "scrolled": true
   },
   "outputs": [
    {
     "data": {
      "text/plain": [
       "array([0., 0., 0.])"
      ]
     },
     "execution_count": 18,
     "metadata": {},
     "output_type": "execute_result"
    }
   ],
   "source": [
    "np.zeros(3)"
   ]
  },
  {
   "cell_type": "code",
   "execution_count": 19,
   "id": "e49b268d",
   "metadata": {},
   "outputs": [
    {
     "data": {
      "text/plain": [
       "array([0.59058182, 0.40524046, 0.45611964, 0.70915499, 0.75367962,\n",
       "       0.14853061, 0.78168251])"
      ]
     },
     "execution_count": 19,
     "metadata": {},
     "output_type": "execute_result"
    }
   ],
   "source": [
    "np.random.random(7)"
   ]
  },
  {
   "cell_type": "code",
   "execution_count": 20,
   "id": "cb1e5ba8",
   "metadata": {},
   "outputs": [
    {
     "data": {
      "text/plain": [
       "array([0.73703846, 0.90378705, 0.04316366, 0.65031917, 0.69812644,\n",
       "       0.93780142, 0.75502959])"
      ]
     },
     "execution_count": 20,
     "metadata": {},
     "output_type": "execute_result"
    }
   ],
   "source": [
    "np.random.rand(7)"
   ]
  },
  {
   "cell_type": "code",
   "execution_count": 24,
   "id": "661d2b77",
   "metadata": {},
   "outputs": [
    {
     "data": {
      "text/plain": [
       "array([83, 11,  9,  6])"
      ]
     },
     "execution_count": 24,
     "metadata": {},
     "output_type": "execute_result"
    }
   ],
   "source": [
    "np.random.randint(0,90,4)  #start end and len"
   ]
  },
  {
   "cell_type": "code",
   "execution_count": null,
   "id": "4d2b4650",
   "metadata": {},
   "outputs": [],
   "source": [
    "np.random."
   ]
  }
 ],
 "metadata": {
  "kernelspec": {
   "display_name": "Python 3 (ipykernel)",
   "language": "python",
   "name": "python3"
  },
  "language_info": {
   "codemirror_mode": {
    "name": "ipython",
    "version": 3
   },
   "file_extension": ".py",
   "mimetype": "text/x-python",
   "name": "python",
   "nbconvert_exporter": "python",
   "pygments_lexer": "ipython3",
   "version": "3.9.7"
  }
 },
 "nbformat": 4,
 "nbformat_minor": 5
}
