{
 "cells": [
  {
   "cell_type": "code",
   "execution_count": 274,
   "id": "53d0611d",
   "metadata": {},
   "outputs": [],
   "source": [
    "import numpy as np\n",
    "import pandas as pd\n",
    "import matplotlib.pyplot as plt\n",
    "import seaborn as sns\n",
    "from sklearn.model_selection import train_test_split\n",
    "from sklearn.model_selection import cross_val_score\n",
    "from sklearn.tree import DecisionTreeClassifier\n",
    "from sklearn.tree import plot_tree\n",
    "from sklearn.metrics import confusion_matrix\n",
    "from sklearn.metrics import plot_confusion_matrix\n",
    "from sklearn.metrics import accuracy_score\n",
    "from sklearn.metrics import precision_score\n",
    "from sklearn.metrics import recall_score\n",
    "from sklearn.metrics import f1_score"
   ]
  },
  {
   "cell_type": "code",
   "execution_count": 220,
   "id": "c7430ead",
   "metadata": {},
   "outputs": [
    {
     "data": {
      "text/html": [
       "<a href=\"https://archive.ics.uci.edu/dataset/45/heart+disease\">UCI Heart Disease Dataset</a>"
      ],
      "text/plain": [
       "<IPython.core.display.HTML object>"
      ]
     },
     "metadata": {},
     "output_type": "display_data"
    }
   ],
   "source": [
    "from IPython.core.display import display, HTML\n",
    "display(HTML(\"\"\"<a href=\"https://archive.ics.uci.edu/dataset/45/heart+disease\">UCI Heart Disease Dataset</a>\"\"\"))"
   ]
  },
  {
   "cell_type": "code",
   "execution_count": 221,
   "id": "75bcab94",
   "metadata": {},
   "outputs": [],
   "source": [
    "df = pd.read_csv('processed.cleveland.data', header = None)"
   ]
  },
  {
   "cell_type": "code",
   "execution_count": 222,
   "id": "891d85c7",
   "metadata": {},
   "outputs": [
    {
     "data": {
      "text/html": [
       "<div>\n",
       "<style scoped>\n",
       "    .dataframe tbody tr th:only-of-type {\n",
       "        vertical-align: middle;\n",
       "    }\n",
       "\n",
       "    .dataframe tbody tr th {\n",
       "        vertical-align: top;\n",
       "    }\n",
       "\n",
       "    .dataframe thead th {\n",
       "        text-align: right;\n",
       "    }\n",
       "</style>\n",
       "<table border=\"1\" class=\"dataframe\">\n",
       "  <thead>\n",
       "    <tr style=\"text-align: right;\">\n",
       "      <th></th>\n",
       "      <th>0</th>\n",
       "      <th>1</th>\n",
       "      <th>2</th>\n",
       "      <th>3</th>\n",
       "      <th>4</th>\n",
       "      <th>5</th>\n",
       "      <th>6</th>\n",
       "      <th>7</th>\n",
       "      <th>8</th>\n",
       "      <th>9</th>\n",
       "      <th>10</th>\n",
       "      <th>11</th>\n",
       "      <th>12</th>\n",
       "      <th>13</th>\n",
       "    </tr>\n",
       "  </thead>\n",
       "  <tbody>\n",
       "    <tr>\n",
       "      <th>0</th>\n",
       "      <td>63.0</td>\n",
       "      <td>1.0</td>\n",
       "      <td>1.0</td>\n",
       "      <td>145.0</td>\n",
       "      <td>233.0</td>\n",
       "      <td>1.0</td>\n",
       "      <td>2.0</td>\n",
       "      <td>150.0</td>\n",
       "      <td>0.0</td>\n",
       "      <td>2.3</td>\n",
       "      <td>3.0</td>\n",
       "      <td>0.0</td>\n",
       "      <td>6.0</td>\n",
       "      <td>0</td>\n",
       "    </tr>\n",
       "    <tr>\n",
       "      <th>1</th>\n",
       "      <td>67.0</td>\n",
       "      <td>1.0</td>\n",
       "      <td>4.0</td>\n",
       "      <td>160.0</td>\n",
       "      <td>286.0</td>\n",
       "      <td>0.0</td>\n",
       "      <td>2.0</td>\n",
       "      <td>108.0</td>\n",
       "      <td>1.0</td>\n",
       "      <td>1.5</td>\n",
       "      <td>2.0</td>\n",
       "      <td>3.0</td>\n",
       "      <td>3.0</td>\n",
       "      <td>2</td>\n",
       "    </tr>\n",
       "    <tr>\n",
       "      <th>2</th>\n",
       "      <td>67.0</td>\n",
       "      <td>1.0</td>\n",
       "      <td>4.0</td>\n",
       "      <td>120.0</td>\n",
       "      <td>229.0</td>\n",
       "      <td>0.0</td>\n",
       "      <td>2.0</td>\n",
       "      <td>129.0</td>\n",
       "      <td>1.0</td>\n",
       "      <td>2.6</td>\n",
       "      <td>2.0</td>\n",
       "      <td>2.0</td>\n",
       "      <td>7.0</td>\n",
       "      <td>1</td>\n",
       "    </tr>\n",
       "    <tr>\n",
       "      <th>3</th>\n",
       "      <td>37.0</td>\n",
       "      <td>1.0</td>\n",
       "      <td>3.0</td>\n",
       "      <td>130.0</td>\n",
       "      <td>250.0</td>\n",
       "      <td>0.0</td>\n",
       "      <td>0.0</td>\n",
       "      <td>187.0</td>\n",
       "      <td>0.0</td>\n",
       "      <td>3.5</td>\n",
       "      <td>3.0</td>\n",
       "      <td>0.0</td>\n",
       "      <td>3.0</td>\n",
       "      <td>0</td>\n",
       "    </tr>\n",
       "    <tr>\n",
       "      <th>4</th>\n",
       "      <td>41.0</td>\n",
       "      <td>0.0</td>\n",
       "      <td>2.0</td>\n",
       "      <td>130.0</td>\n",
       "      <td>204.0</td>\n",
       "      <td>0.0</td>\n",
       "      <td>2.0</td>\n",
       "      <td>172.0</td>\n",
       "      <td>0.0</td>\n",
       "      <td>1.4</td>\n",
       "      <td>1.0</td>\n",
       "      <td>0.0</td>\n",
       "      <td>3.0</td>\n",
       "      <td>0</td>\n",
       "    </tr>\n",
       "  </tbody>\n",
       "</table>\n",
       "</div>"
      ],
      "text/plain": [
       "     0    1    2      3      4    5    6      7    8    9    10   11   12  13\n",
       "0  63.0  1.0  1.0  145.0  233.0  1.0  2.0  150.0  0.0  2.3  3.0  0.0  6.0   0\n",
       "1  67.0  1.0  4.0  160.0  286.0  0.0  2.0  108.0  1.0  1.5  2.0  3.0  3.0   2\n",
       "2  67.0  1.0  4.0  120.0  229.0  0.0  2.0  129.0  1.0  2.6  2.0  2.0  7.0   1\n",
       "3  37.0  1.0  3.0  130.0  250.0  0.0  0.0  187.0  0.0  3.5  3.0  0.0  3.0   0\n",
       "4  41.0  0.0  2.0  130.0  204.0  0.0  2.0  172.0  0.0  1.4  1.0  0.0  3.0   0"
      ]
     },
     "execution_count": 222,
     "metadata": {},
     "output_type": "execute_result"
    }
   ],
   "source": [
    "df.head()"
   ]
  },
  {
   "cell_type": "markdown",
   "id": "b742b16b",
   "metadata": {},
   "source": [
    "We can see that instead of nice column names we have numbers, let's replace it with some column names as defined on website:\n",
    "\n",
    "\n",
    "* **age** <br>\n",
    "* **sex** <br>\n",
    "* **cp** <br>\n",
    "* **trestbps** <br>\n",
    "* **chol** <br>\n",
    "* **fbs** <br>\n",
    "* **restecg** <br>\n",
    "* **thalach** <br>\n",
    "* **exang** <br>\n",
    "* **oldpeak** <br>\n",
    "* **slope** <br>\n",
    "* **ca** <br>\n",
    "* **thal** <br>\n",
    "* **num** <br>"
   ]
  },
  {
   "cell_type": "code",
   "execution_count": 223,
   "id": "7eb11f77",
   "metadata": {},
   "outputs": [],
   "source": [
    "df.columns = ['age', 'sex', 'cp', 'trestbps', 'chol', 'fbs', 'restecg', 'thalach', 'exang', 'oldpeak', 'slope', \n",
    "              'ca','thal', 'num']"
   ]
  },
  {
   "cell_type": "code",
   "execution_count": 224,
   "id": "5e8387a7",
   "metadata": {},
   "outputs": [
    {
     "data": {
      "text/html": [
       "<div>\n",
       "<style scoped>\n",
       "    .dataframe tbody tr th:only-of-type {\n",
       "        vertical-align: middle;\n",
       "    }\n",
       "\n",
       "    .dataframe tbody tr th {\n",
       "        vertical-align: top;\n",
       "    }\n",
       "\n",
       "    .dataframe thead th {\n",
       "        text-align: right;\n",
       "    }\n",
       "</style>\n",
       "<table border=\"1\" class=\"dataframe\">\n",
       "  <thead>\n",
       "    <tr style=\"text-align: right;\">\n",
       "      <th></th>\n",
       "      <th>age</th>\n",
       "      <th>sex</th>\n",
       "      <th>cp</th>\n",
       "      <th>trestbps</th>\n",
       "      <th>chol</th>\n",
       "      <th>fbs</th>\n",
       "      <th>restecg</th>\n",
       "      <th>thalach</th>\n",
       "      <th>exang</th>\n",
       "      <th>oldpeak</th>\n",
       "      <th>slope</th>\n",
       "      <th>ca</th>\n",
       "      <th>thal</th>\n",
       "      <th>num</th>\n",
       "    </tr>\n",
       "  </thead>\n",
       "  <tbody>\n",
       "    <tr>\n",
       "      <th>0</th>\n",
       "      <td>63.0</td>\n",
       "      <td>1.0</td>\n",
       "      <td>1.0</td>\n",
       "      <td>145.0</td>\n",
       "      <td>233.0</td>\n",
       "      <td>1.0</td>\n",
       "      <td>2.0</td>\n",
       "      <td>150.0</td>\n",
       "      <td>0.0</td>\n",
       "      <td>2.3</td>\n",
       "      <td>3.0</td>\n",
       "      <td>0.0</td>\n",
       "      <td>6.0</td>\n",
       "      <td>0</td>\n",
       "    </tr>\n",
       "    <tr>\n",
       "      <th>1</th>\n",
       "      <td>67.0</td>\n",
       "      <td>1.0</td>\n",
       "      <td>4.0</td>\n",
       "      <td>160.0</td>\n",
       "      <td>286.0</td>\n",
       "      <td>0.0</td>\n",
       "      <td>2.0</td>\n",
       "      <td>108.0</td>\n",
       "      <td>1.0</td>\n",
       "      <td>1.5</td>\n",
       "      <td>2.0</td>\n",
       "      <td>3.0</td>\n",
       "      <td>3.0</td>\n",
       "      <td>2</td>\n",
       "    </tr>\n",
       "    <tr>\n",
       "      <th>2</th>\n",
       "      <td>67.0</td>\n",
       "      <td>1.0</td>\n",
       "      <td>4.0</td>\n",
       "      <td>120.0</td>\n",
       "      <td>229.0</td>\n",
       "      <td>0.0</td>\n",
       "      <td>2.0</td>\n",
       "      <td>129.0</td>\n",
       "      <td>1.0</td>\n",
       "      <td>2.6</td>\n",
       "      <td>2.0</td>\n",
       "      <td>2.0</td>\n",
       "      <td>7.0</td>\n",
       "      <td>1</td>\n",
       "    </tr>\n",
       "    <tr>\n",
       "      <th>3</th>\n",
       "      <td>37.0</td>\n",
       "      <td>1.0</td>\n",
       "      <td>3.0</td>\n",
       "      <td>130.0</td>\n",
       "      <td>250.0</td>\n",
       "      <td>0.0</td>\n",
       "      <td>0.0</td>\n",
       "      <td>187.0</td>\n",
       "      <td>0.0</td>\n",
       "      <td>3.5</td>\n",
       "      <td>3.0</td>\n",
       "      <td>0.0</td>\n",
       "      <td>3.0</td>\n",
       "      <td>0</td>\n",
       "    </tr>\n",
       "    <tr>\n",
       "      <th>4</th>\n",
       "      <td>41.0</td>\n",
       "      <td>0.0</td>\n",
       "      <td>2.0</td>\n",
       "      <td>130.0</td>\n",
       "      <td>204.0</td>\n",
       "      <td>0.0</td>\n",
       "      <td>2.0</td>\n",
       "      <td>172.0</td>\n",
       "      <td>0.0</td>\n",
       "      <td>1.4</td>\n",
       "      <td>1.0</td>\n",
       "      <td>0.0</td>\n",
       "      <td>3.0</td>\n",
       "      <td>0</td>\n",
       "    </tr>\n",
       "  </tbody>\n",
       "</table>\n",
       "</div>"
      ],
      "text/plain": [
       "    age  sex   cp  trestbps   chol  fbs  restecg  thalach  exang  oldpeak  \\\n",
       "0  63.0  1.0  1.0     145.0  233.0  1.0      2.0    150.0    0.0      2.3   \n",
       "1  67.0  1.0  4.0     160.0  286.0  0.0      2.0    108.0    1.0      1.5   \n",
       "2  67.0  1.0  4.0     120.0  229.0  0.0      2.0    129.0    1.0      2.6   \n",
       "3  37.0  1.0  3.0     130.0  250.0  0.0      0.0    187.0    0.0      3.5   \n",
       "4  41.0  0.0  2.0     130.0  204.0  0.0      2.0    172.0    0.0      1.4   \n",
       "\n",
       "   slope   ca thal  num  \n",
       "0    3.0  0.0  6.0    0  \n",
       "1    2.0  3.0  3.0    2  \n",
       "2    2.0  2.0  7.0    1  \n",
       "3    3.0  0.0  3.0    0  \n",
       "4    1.0  0.0  3.0    0  "
      ]
     },
     "execution_count": 224,
     "metadata": {},
     "output_type": "execute_result"
    }
   ],
   "source": [
    "df.head()"
   ]
  },
  {
   "cell_type": "code",
   "execution_count": 225,
   "id": "076b9ccc",
   "metadata": {},
   "outputs": [
    {
     "data": {
      "text/plain": [
       "age         0\n",
       "sex         0\n",
       "cp          0\n",
       "trestbps    0\n",
       "chol        0\n",
       "fbs         0\n",
       "restecg     0\n",
       "thalach     0\n",
       "exang       0\n",
       "oldpeak     0\n",
       "slope       0\n",
       "ca          0\n",
       "thal        0\n",
       "num         0\n",
       "dtype: int64"
      ]
     },
     "execution_count": 225,
     "metadata": {},
     "output_type": "execute_result"
    }
   ],
   "source": [
    "#checking the missing values\n",
    "df.isnull().sum()"
   ]
  },
  {
   "cell_type": "code",
   "execution_count": 226,
   "id": "7a8083ed",
   "metadata": {},
   "outputs": [
    {
     "data": {
      "text/plain": [
       "age         float64\n",
       "sex         float64\n",
       "cp          float64\n",
       "trestbps    float64\n",
       "chol        float64\n",
       "fbs         float64\n",
       "restecg     float64\n",
       "thalach     float64\n",
       "exang       float64\n",
       "oldpeak     float64\n",
       "slope       float64\n",
       "ca           object\n",
       "thal         object\n",
       "num           int64\n",
       "dtype: object"
      ]
     },
     "execution_count": 226,
     "metadata": {},
     "output_type": "execute_result"
    }
   ],
   "source": [
    "#checking the data types\n",
    "df.dtypes"
   ]
  },
  {
   "cell_type": "markdown",
   "id": "82c1a017",
   "metadata": {},
   "source": [
    "All columns have float datatypes except <b><i>ca</i></b> and <b><i>thal</i></b> which are of <b>object</b> datatype Checking the unique values in these columns"
   ]
  },
  {
   "cell_type": "code",
   "execution_count": 227,
   "id": "b61a3e5b",
   "metadata": {},
   "outputs": [
    {
     "data": {
      "text/plain": [
       "array(['0.0', '3.0', '2.0', '1.0', '?'], dtype=object)"
      ]
     },
     "execution_count": 227,
     "metadata": {},
     "output_type": "execute_result"
    }
   ],
   "source": [
    "#checking unique values in ca\n",
    "df['ca'].unique()"
   ]
  },
  {
   "cell_type": "code",
   "execution_count": 228,
   "id": "6214fa40",
   "metadata": {},
   "outputs": [
    {
     "data": {
      "text/plain": [
       "array(['6.0', '3.0', '7.0', '?'], dtype=object)"
      ]
     },
     "execution_count": 228,
     "metadata": {},
     "output_type": "execute_result"
    }
   ],
   "source": [
    "#checking unique values in thal\n",
    "df['thal'].unique()"
   ]
  },
  {
   "cell_type": "markdown",
   "id": "6a2f6db8",
   "metadata": {},
   "source": [
    "**'?'** signifies missing values so we will need to either drop them or impute them "
   ]
  },
  {
   "cell_type": "code",
   "execution_count": 229,
   "id": "21875030",
   "metadata": {},
   "outputs": [
    {
     "data": {
      "text/plain": [
       "6"
      ]
     },
     "execution_count": 229,
     "metadata": {},
     "output_type": "execute_result"
    }
   ],
   "source": [
    "len(df[(df['ca'] == '?') | (df['thal'] == '?')])"
   ]
  },
  {
   "cell_type": "code",
   "execution_count": 230,
   "id": "ebe430b0",
   "metadata": {},
   "outputs": [
    {
     "data": {
      "text/html": [
       "<div>\n",
       "<style scoped>\n",
       "    .dataframe tbody tr th:only-of-type {\n",
       "        vertical-align: middle;\n",
       "    }\n",
       "\n",
       "    .dataframe tbody tr th {\n",
       "        vertical-align: top;\n",
       "    }\n",
       "\n",
       "    .dataframe thead th {\n",
       "        text-align: right;\n",
       "    }\n",
       "</style>\n",
       "<table border=\"1\" class=\"dataframe\">\n",
       "  <thead>\n",
       "    <tr style=\"text-align: right;\">\n",
       "      <th></th>\n",
       "      <th>age</th>\n",
       "      <th>sex</th>\n",
       "      <th>cp</th>\n",
       "      <th>trestbps</th>\n",
       "      <th>chol</th>\n",
       "      <th>fbs</th>\n",
       "      <th>restecg</th>\n",
       "      <th>thalach</th>\n",
       "      <th>exang</th>\n",
       "      <th>oldpeak</th>\n",
       "      <th>slope</th>\n",
       "      <th>ca</th>\n",
       "      <th>thal</th>\n",
       "      <th>num</th>\n",
       "    </tr>\n",
       "  </thead>\n",
       "  <tbody>\n",
       "    <tr>\n",
       "      <th>87</th>\n",
       "      <td>53.0</td>\n",
       "      <td>0.0</td>\n",
       "      <td>3.0</td>\n",
       "      <td>128.0</td>\n",
       "      <td>216.0</td>\n",
       "      <td>0.0</td>\n",
       "      <td>2.0</td>\n",
       "      <td>115.0</td>\n",
       "      <td>0.0</td>\n",
       "      <td>0.0</td>\n",
       "      <td>1.0</td>\n",
       "      <td>0.0</td>\n",
       "      <td>?</td>\n",
       "      <td>0</td>\n",
       "    </tr>\n",
       "    <tr>\n",
       "      <th>166</th>\n",
       "      <td>52.0</td>\n",
       "      <td>1.0</td>\n",
       "      <td>3.0</td>\n",
       "      <td>138.0</td>\n",
       "      <td>223.0</td>\n",
       "      <td>0.0</td>\n",
       "      <td>0.0</td>\n",
       "      <td>169.0</td>\n",
       "      <td>0.0</td>\n",
       "      <td>0.0</td>\n",
       "      <td>1.0</td>\n",
       "      <td>?</td>\n",
       "      <td>3.0</td>\n",
       "      <td>0</td>\n",
       "    </tr>\n",
       "    <tr>\n",
       "      <th>192</th>\n",
       "      <td>43.0</td>\n",
       "      <td>1.0</td>\n",
       "      <td>4.0</td>\n",
       "      <td>132.0</td>\n",
       "      <td>247.0</td>\n",
       "      <td>1.0</td>\n",
       "      <td>2.0</td>\n",
       "      <td>143.0</td>\n",
       "      <td>1.0</td>\n",
       "      <td>0.1</td>\n",
       "      <td>2.0</td>\n",
       "      <td>?</td>\n",
       "      <td>7.0</td>\n",
       "      <td>1</td>\n",
       "    </tr>\n",
       "    <tr>\n",
       "      <th>266</th>\n",
       "      <td>52.0</td>\n",
       "      <td>1.0</td>\n",
       "      <td>4.0</td>\n",
       "      <td>128.0</td>\n",
       "      <td>204.0</td>\n",
       "      <td>1.0</td>\n",
       "      <td>0.0</td>\n",
       "      <td>156.0</td>\n",
       "      <td>1.0</td>\n",
       "      <td>1.0</td>\n",
       "      <td>2.0</td>\n",
       "      <td>0.0</td>\n",
       "      <td>?</td>\n",
       "      <td>2</td>\n",
       "    </tr>\n",
       "    <tr>\n",
       "      <th>287</th>\n",
       "      <td>58.0</td>\n",
       "      <td>1.0</td>\n",
       "      <td>2.0</td>\n",
       "      <td>125.0</td>\n",
       "      <td>220.0</td>\n",
       "      <td>0.0</td>\n",
       "      <td>0.0</td>\n",
       "      <td>144.0</td>\n",
       "      <td>0.0</td>\n",
       "      <td>0.4</td>\n",
       "      <td>2.0</td>\n",
       "      <td>?</td>\n",
       "      <td>7.0</td>\n",
       "      <td>0</td>\n",
       "    </tr>\n",
       "    <tr>\n",
       "      <th>302</th>\n",
       "      <td>38.0</td>\n",
       "      <td>1.0</td>\n",
       "      <td>3.0</td>\n",
       "      <td>138.0</td>\n",
       "      <td>175.0</td>\n",
       "      <td>0.0</td>\n",
       "      <td>0.0</td>\n",
       "      <td>173.0</td>\n",
       "      <td>0.0</td>\n",
       "      <td>0.0</td>\n",
       "      <td>1.0</td>\n",
       "      <td>?</td>\n",
       "      <td>3.0</td>\n",
       "      <td>0</td>\n",
       "    </tr>\n",
       "  </tbody>\n",
       "</table>\n",
       "</div>"
      ],
      "text/plain": [
       "      age  sex   cp  trestbps   chol  fbs  restecg  thalach  exang  oldpeak  \\\n",
       "87   53.0  0.0  3.0     128.0  216.0  0.0      2.0    115.0    0.0      0.0   \n",
       "166  52.0  1.0  3.0     138.0  223.0  0.0      0.0    169.0    0.0      0.0   \n",
       "192  43.0  1.0  4.0     132.0  247.0  1.0      2.0    143.0    1.0      0.1   \n",
       "266  52.0  1.0  4.0     128.0  204.0  1.0      0.0    156.0    1.0      1.0   \n",
       "287  58.0  1.0  2.0     125.0  220.0  0.0      0.0    144.0    0.0      0.4   \n",
       "302  38.0  1.0  3.0     138.0  175.0  0.0      0.0    173.0    0.0      0.0   \n",
       "\n",
       "     slope   ca thal  num  \n",
       "87     1.0  0.0    ?    0  \n",
       "166    1.0    ?  3.0    0  \n",
       "192    2.0    ?  7.0    1  \n",
       "266    2.0  0.0    ?    2  \n",
       "287    2.0    ?  7.0    0  \n",
       "302    1.0    ?  3.0    0  "
      ]
     },
     "execution_count": 230,
     "metadata": {},
     "output_type": "execute_result"
    }
   ],
   "source": [
    "df[(df['ca'] == '?') | (df['thal'] == '?')]"
   ]
  },
  {
   "cell_type": "code",
   "execution_count": 231,
   "id": "17e4fd7c",
   "metadata": {},
   "outputs": [
    {
     "data": {
      "text/plain": [
       "(303, 14)"
      ]
     },
     "execution_count": 231,
     "metadata": {},
     "output_type": "execute_result"
    }
   ],
   "source": [
    "df.shape"
   ]
  },
  {
   "cell_type": "markdown",
   "id": "a1fc98c4",
   "metadata": {},
   "source": [
    "Since the number of **'?'** are just 6 out of total 303 rows, we can drop them from now since they don't affect the data that much "
   ]
  },
  {
   "cell_type": "code",
   "execution_count": 232,
   "id": "8e8cb7f9",
   "metadata": {},
   "outputs": [],
   "source": [
    "df.drop(df.index[(df['ca'] == '?')| (df['thal'] == '?')], inplace = True)"
   ]
  },
  {
   "cell_type": "code",
   "execution_count": 233,
   "id": "230cfd69",
   "metadata": {},
   "outputs": [
    {
     "data": {
      "text/html": [
       "<div>\n",
       "<style scoped>\n",
       "    .dataframe tbody tr th:only-of-type {\n",
       "        vertical-align: middle;\n",
       "    }\n",
       "\n",
       "    .dataframe tbody tr th {\n",
       "        vertical-align: top;\n",
       "    }\n",
       "\n",
       "    .dataframe thead th {\n",
       "        text-align: right;\n",
       "    }\n",
       "</style>\n",
       "<table border=\"1\" class=\"dataframe\">\n",
       "  <thead>\n",
       "    <tr style=\"text-align: right;\">\n",
       "      <th></th>\n",
       "      <th>age</th>\n",
       "      <th>sex</th>\n",
       "      <th>cp</th>\n",
       "      <th>trestbps</th>\n",
       "      <th>chol</th>\n",
       "      <th>fbs</th>\n",
       "      <th>restecg</th>\n",
       "      <th>thalach</th>\n",
       "      <th>exang</th>\n",
       "      <th>oldpeak</th>\n",
       "      <th>slope</th>\n",
       "      <th>ca</th>\n",
       "      <th>thal</th>\n",
       "      <th>num</th>\n",
       "    </tr>\n",
       "  </thead>\n",
       "  <tbody>\n",
       "  </tbody>\n",
       "</table>\n",
       "</div>"
      ],
      "text/plain": [
       "Empty DataFrame\n",
       "Columns: [age, sex, cp, trestbps, chol, fbs, restecg, thalach, exang, oldpeak, slope, ca, thal, num]\n",
       "Index: []"
      ]
     },
     "execution_count": 233,
     "metadata": {},
     "output_type": "execute_result"
    }
   ],
   "source": [
    "df[(df['ca'] == '?')| (df['thal'] == '?')]"
   ]
  },
  {
   "cell_type": "code",
   "execution_count": 234,
   "id": "d125003e",
   "metadata": {},
   "outputs": [
    {
     "data": {
      "text/plain": [
       "False"
      ]
     },
     "execution_count": 234,
     "metadata": {},
     "output_type": "execute_result"
    }
   ],
   "source": [
    "(df['ca'] == '?')| (df['thal'] == '?') is True"
   ]
  },
  {
   "cell_type": "code",
   "execution_count": 235,
   "id": "8fa09f0c",
   "metadata": {},
   "outputs": [
    {
     "data": {
      "text/plain": [
       "array(['0.0', '3.0', '2.0', '1.0'], dtype=object)"
      ]
     },
     "execution_count": 235,
     "metadata": {},
     "output_type": "execute_result"
    }
   ],
   "source": [
    "df['ca'].unique()"
   ]
  },
  {
   "cell_type": "code",
   "execution_count": 236,
   "id": "adf7a63a",
   "metadata": {},
   "outputs": [
    {
     "data": {
      "text/plain": [
       "array(['6.0', '3.0', '7.0'], dtype=object)"
      ]
     },
     "execution_count": 236,
     "metadata": {},
     "output_type": "execute_result"
    }
   ],
   "source": [
    "df['thal'].unique()"
   ]
  },
  {
   "cell_type": "markdown",
   "id": "6d2951e6",
   "metadata": {},
   "source": [
    "### Format Data Part 1 : Split Data into Dependant and Independant Variables "
   ]
  },
  {
   "cell_type": "code",
   "execution_count": 237,
   "id": "99efdfb1",
   "metadata": {},
   "outputs": [
    {
     "name": "stdout",
     "output_type": "stream",
     "text": [
      "    age  sex   cp  trestbps   chol  fbs  restecg  thalach  exang  oldpeak  \\\n",
      "0  63.0  1.0  1.0     145.0  233.0  1.0      2.0    150.0    0.0      2.3   \n",
      "1  67.0  1.0  4.0     160.0  286.0  0.0      2.0    108.0    1.0      1.5   \n",
      "2  67.0  1.0  4.0     120.0  229.0  0.0      2.0    129.0    1.0      2.6   \n",
      "3  37.0  1.0  3.0     130.0  250.0  0.0      0.0    187.0    0.0      3.5   \n",
      "4  41.0  0.0  2.0     130.0  204.0  0.0      2.0    172.0    0.0      1.4   \n",
      "\n",
      "   slope   ca thal  \n",
      "0    3.0  0.0  6.0  \n",
      "1    2.0  3.0  3.0  \n",
      "2    2.0  2.0  7.0  \n",
      "3    3.0  0.0  3.0  \n",
      "4    1.0  0.0  3.0  \n",
      "0    0\n",
      "1    2\n",
      "2    1\n",
      "3    0\n",
      "4    0\n",
      "Name: num, dtype: int64\n"
     ]
    }
   ],
   "source": [
    "X = df.drop('num', axis = 1)\n",
    "Y = df['num']\n",
    "print(X.head())\n",
    "print(Y.head())"
   ]
  },
  {
   "cell_type": "markdown",
   "id": "be0e67a3",
   "metadata": {},
   "source": [
    "### Format Data 2 : One Hot Encoding"
   ]
  },
  {
   "cell_type": "code",
   "execution_count": 238,
   "id": "93c4ee73",
   "metadata": {},
   "outputs": [
    {
     "data": {
      "text/html": [
       "<div>\n",
       "<style scoped>\n",
       "    .dataframe tbody tr th:only-of-type {\n",
       "        vertical-align: middle;\n",
       "    }\n",
       "\n",
       "    .dataframe tbody tr th {\n",
       "        vertical-align: top;\n",
       "    }\n",
       "\n",
       "    .dataframe thead th {\n",
       "        text-align: right;\n",
       "    }\n",
       "</style>\n",
       "<table border=\"1\" class=\"dataframe\">\n",
       "  <thead>\n",
       "    <tr style=\"text-align: right;\">\n",
       "      <th></th>\n",
       "      <th>age</th>\n",
       "      <th>sex</th>\n",
       "      <th>cp</th>\n",
       "      <th>trestbps</th>\n",
       "      <th>chol</th>\n",
       "      <th>fbs</th>\n",
       "      <th>restecg</th>\n",
       "      <th>thalach</th>\n",
       "      <th>exang</th>\n",
       "      <th>oldpeak</th>\n",
       "      <th>slope</th>\n",
       "      <th>ca</th>\n",
       "      <th>thal</th>\n",
       "    </tr>\n",
       "  </thead>\n",
       "  <tbody>\n",
       "    <tr>\n",
       "      <th>0</th>\n",
       "      <td>63.0</td>\n",
       "      <td>1.0</td>\n",
       "      <td>1.0</td>\n",
       "      <td>145.0</td>\n",
       "      <td>233.0</td>\n",
       "      <td>1.0</td>\n",
       "      <td>2.0</td>\n",
       "      <td>150.0</td>\n",
       "      <td>0.0</td>\n",
       "      <td>2.3</td>\n",
       "      <td>3.0</td>\n",
       "      <td>0.0</td>\n",
       "      <td>6.0</td>\n",
       "    </tr>\n",
       "    <tr>\n",
       "      <th>1</th>\n",
       "      <td>67.0</td>\n",
       "      <td>1.0</td>\n",
       "      <td>4.0</td>\n",
       "      <td>160.0</td>\n",
       "      <td>286.0</td>\n",
       "      <td>0.0</td>\n",
       "      <td>2.0</td>\n",
       "      <td>108.0</td>\n",
       "      <td>1.0</td>\n",
       "      <td>1.5</td>\n",
       "      <td>2.0</td>\n",
       "      <td>3.0</td>\n",
       "      <td>3.0</td>\n",
       "    </tr>\n",
       "    <tr>\n",
       "      <th>2</th>\n",
       "      <td>67.0</td>\n",
       "      <td>1.0</td>\n",
       "      <td>4.0</td>\n",
       "      <td>120.0</td>\n",
       "      <td>229.0</td>\n",
       "      <td>0.0</td>\n",
       "      <td>2.0</td>\n",
       "      <td>129.0</td>\n",
       "      <td>1.0</td>\n",
       "      <td>2.6</td>\n",
       "      <td>2.0</td>\n",
       "      <td>2.0</td>\n",
       "      <td>7.0</td>\n",
       "    </tr>\n",
       "    <tr>\n",
       "      <th>3</th>\n",
       "      <td>37.0</td>\n",
       "      <td>1.0</td>\n",
       "      <td>3.0</td>\n",
       "      <td>130.0</td>\n",
       "      <td>250.0</td>\n",
       "      <td>0.0</td>\n",
       "      <td>0.0</td>\n",
       "      <td>187.0</td>\n",
       "      <td>0.0</td>\n",
       "      <td>3.5</td>\n",
       "      <td>3.0</td>\n",
       "      <td>0.0</td>\n",
       "      <td>3.0</td>\n",
       "    </tr>\n",
       "    <tr>\n",
       "      <th>4</th>\n",
       "      <td>41.0</td>\n",
       "      <td>0.0</td>\n",
       "      <td>2.0</td>\n",
       "      <td>130.0</td>\n",
       "      <td>204.0</td>\n",
       "      <td>0.0</td>\n",
       "      <td>2.0</td>\n",
       "      <td>172.0</td>\n",
       "      <td>0.0</td>\n",
       "      <td>1.4</td>\n",
       "      <td>1.0</td>\n",
       "      <td>0.0</td>\n",
       "      <td>3.0</td>\n",
       "    </tr>\n",
       "    <tr>\n",
       "      <th>...</th>\n",
       "      <td>...</td>\n",
       "      <td>...</td>\n",
       "      <td>...</td>\n",
       "      <td>...</td>\n",
       "      <td>...</td>\n",
       "      <td>...</td>\n",
       "      <td>...</td>\n",
       "      <td>...</td>\n",
       "      <td>...</td>\n",
       "      <td>...</td>\n",
       "      <td>...</td>\n",
       "      <td>...</td>\n",
       "      <td>...</td>\n",
       "    </tr>\n",
       "    <tr>\n",
       "      <th>297</th>\n",
       "      <td>57.0</td>\n",
       "      <td>0.0</td>\n",
       "      <td>4.0</td>\n",
       "      <td>140.0</td>\n",
       "      <td>241.0</td>\n",
       "      <td>0.0</td>\n",
       "      <td>0.0</td>\n",
       "      <td>123.0</td>\n",
       "      <td>1.0</td>\n",
       "      <td>0.2</td>\n",
       "      <td>2.0</td>\n",
       "      <td>0.0</td>\n",
       "      <td>7.0</td>\n",
       "    </tr>\n",
       "    <tr>\n",
       "      <th>298</th>\n",
       "      <td>45.0</td>\n",
       "      <td>1.0</td>\n",
       "      <td>1.0</td>\n",
       "      <td>110.0</td>\n",
       "      <td>264.0</td>\n",
       "      <td>0.0</td>\n",
       "      <td>0.0</td>\n",
       "      <td>132.0</td>\n",
       "      <td>0.0</td>\n",
       "      <td>1.2</td>\n",
       "      <td>2.0</td>\n",
       "      <td>0.0</td>\n",
       "      <td>7.0</td>\n",
       "    </tr>\n",
       "    <tr>\n",
       "      <th>299</th>\n",
       "      <td>68.0</td>\n",
       "      <td>1.0</td>\n",
       "      <td>4.0</td>\n",
       "      <td>144.0</td>\n",
       "      <td>193.0</td>\n",
       "      <td>1.0</td>\n",
       "      <td>0.0</td>\n",
       "      <td>141.0</td>\n",
       "      <td>0.0</td>\n",
       "      <td>3.4</td>\n",
       "      <td>2.0</td>\n",
       "      <td>2.0</td>\n",
       "      <td>7.0</td>\n",
       "    </tr>\n",
       "    <tr>\n",
       "      <th>300</th>\n",
       "      <td>57.0</td>\n",
       "      <td>1.0</td>\n",
       "      <td>4.0</td>\n",
       "      <td>130.0</td>\n",
       "      <td>131.0</td>\n",
       "      <td>0.0</td>\n",
       "      <td>0.0</td>\n",
       "      <td>115.0</td>\n",
       "      <td>1.0</td>\n",
       "      <td>1.2</td>\n",
       "      <td>2.0</td>\n",
       "      <td>1.0</td>\n",
       "      <td>7.0</td>\n",
       "    </tr>\n",
       "    <tr>\n",
       "      <th>301</th>\n",
       "      <td>57.0</td>\n",
       "      <td>0.0</td>\n",
       "      <td>2.0</td>\n",
       "      <td>130.0</td>\n",
       "      <td>236.0</td>\n",
       "      <td>0.0</td>\n",
       "      <td>2.0</td>\n",
       "      <td>174.0</td>\n",
       "      <td>0.0</td>\n",
       "      <td>0.0</td>\n",
       "      <td>2.0</td>\n",
       "      <td>1.0</td>\n",
       "      <td>3.0</td>\n",
       "    </tr>\n",
       "  </tbody>\n",
       "</table>\n",
       "<p>297 rows × 13 columns</p>\n",
       "</div>"
      ],
      "text/plain": [
       "      age  sex   cp  trestbps   chol  fbs  restecg  thalach  exang  oldpeak  \\\n",
       "0    63.0  1.0  1.0     145.0  233.0  1.0      2.0    150.0    0.0      2.3   \n",
       "1    67.0  1.0  4.0     160.0  286.0  0.0      2.0    108.0    1.0      1.5   \n",
       "2    67.0  1.0  4.0     120.0  229.0  0.0      2.0    129.0    1.0      2.6   \n",
       "3    37.0  1.0  3.0     130.0  250.0  0.0      0.0    187.0    0.0      3.5   \n",
       "4    41.0  0.0  2.0     130.0  204.0  0.0      2.0    172.0    0.0      1.4   \n",
       "..    ...  ...  ...       ...    ...  ...      ...      ...    ...      ...   \n",
       "297  57.0  0.0  4.0     140.0  241.0  0.0      0.0    123.0    1.0      0.2   \n",
       "298  45.0  1.0  1.0     110.0  264.0  0.0      0.0    132.0    0.0      1.2   \n",
       "299  68.0  1.0  4.0     144.0  193.0  1.0      0.0    141.0    0.0      3.4   \n",
       "300  57.0  1.0  4.0     130.0  131.0  0.0      0.0    115.0    1.0      1.2   \n",
       "301  57.0  0.0  2.0     130.0  236.0  0.0      2.0    174.0    0.0      0.0   \n",
       "\n",
       "     slope   ca thal  \n",
       "0      3.0  0.0  6.0  \n",
       "1      2.0  3.0  3.0  \n",
       "2      2.0  2.0  7.0  \n",
       "3      3.0  0.0  3.0  \n",
       "4      1.0  0.0  3.0  \n",
       "..     ...  ...  ...  \n",
       "297    2.0  0.0  7.0  \n",
       "298    2.0  0.0  7.0  \n",
       "299    2.0  2.0  7.0  \n",
       "300    2.0  1.0  7.0  \n",
       "301    2.0  1.0  3.0  \n",
       "\n",
       "[297 rows x 13 columns]"
      ]
     },
     "execution_count": 238,
     "metadata": {},
     "output_type": "execute_result"
    }
   ],
   "source": [
    "X"
   ]
  },
  {
   "cell_type": "markdown",
   "id": "3740c434",
   "metadata": {},
   "source": [
    "We have some category variables which should not be continous because decision tree treats them continously and is more prone to cluster them together.For eg, cp 3 and 4 might have possibility of getting clsutered more than cp 1 and 4. So we need to make them into independant cateogry so decision tree can cluster them randomly\n",
    "\n",
    "* **age** <br> - Float \n",
    "* **sex** <br> - Category (0,1)\n",
    "* **cp** - Chest Pain <br> - Cateogry (1,2,3,4)\n",
    "* **trestbps** - Resting blood pressure (in mm Hg)<br> - Float\n",
    "* **chol** - Serum cholesterol in mg/dl<br> - Float\n",
    "* **fbs** - fasting blood sugar <br> - Category (0,1)\n",
    "* **restecg** - resting electrocardiographic results <br> - Category (0,1,2)\n",
    "* **thalach** - maximum heart rate achieved<br> - Float\n",
    "* **exang** <br> - exercise induced angina Category(0,1)\n",
    "* **oldpeak** - St depression induced by exercise relative to rest <br> - Float \n",
    "* **slope** - the slope of peak exercise ST segment <br> - Category (1,2,3)\n",
    "* **ca** - Number of Major vessesls colored by fluroscopy (0-3)<br> - Float \n",
    "* **thal** - thallium heart scan <br> - Category (3,6,7)"
   ]
  },
  {
   "cell_type": "markdown",
   "id": "1370e4e9",
   "metadata": {},
   "source": [
    "So we see that **age**, **chol**, **thalach** and  **trestbps** are all floating points, rest of the columns need to be inspected because even though **scikit native decision tress** support continous data like **age**, they do not support categorical data. We would be perfroming **One-Hot Encoding** to convert a column with categorical values into multiple columns"
   ]
  },
  {
   "cell_type": "markdown",
   "id": "f9e6baea",
   "metadata": {},
   "source": [
    "Why are we not using categorical data as continous features?  For eg. cp (chest pain) has 4 options for typical angina, atypical angina, non-anginal pain, asymptomatic...<br>\n",
    "* 1. Typical angina\n",
    "* 2. Atypical angina\n",
    "* 3. Non-anginal pain\n",
    "* 4. Asymptomatic <br>\n",
    "\n",
    "If we treated these values as continous then we would assume that 4 which means \"asymptomatic\" is more similar to 3 which means \"non-anginal pain\". In contrast, if we treat these as categrorical data, then we treat them as separate categories so likelihood of clustering patients with 4 and 1 is same as clustering patients with 4 and 3"
   ]
  },
  {
   "cell_type": "code",
   "execution_count": 239,
   "id": "1eccf812",
   "metadata": {},
   "outputs": [
    {
     "data": {
      "text/plain": [
       "array([1., 4., 3., 2.])"
      ]
     },
     "execution_count": 239,
     "metadata": {},
     "output_type": "execute_result"
    }
   ],
   "source": [
    "df['cp'].unique()"
   ]
  },
  {
   "cell_type": "markdown",
   "id": "4ec69f0d",
   "metadata": {},
   "source": [
    "There are many different ways to perform **One-Hot Encoding** but we will be going with pandas get_dummies()"
   ]
  },
  {
   "cell_type": "code",
   "execution_count": 240,
   "id": "e4805dcc",
   "metadata": {},
   "outputs": [
    {
     "data": {
      "text/html": [
       "<div>\n",
       "<style scoped>\n",
       "    .dataframe tbody tr th:only-of-type {\n",
       "        vertical-align: middle;\n",
       "    }\n",
       "\n",
       "    .dataframe tbody tr th {\n",
       "        vertical-align: top;\n",
       "    }\n",
       "\n",
       "    .dataframe thead th {\n",
       "        text-align: right;\n",
       "    }\n",
       "</style>\n",
       "<table border=\"1\" class=\"dataframe\">\n",
       "  <thead>\n",
       "    <tr style=\"text-align: right;\">\n",
       "      <th></th>\n",
       "      <th>cp_1.0</th>\n",
       "      <th>cp_2.0</th>\n",
       "      <th>cp_3.0</th>\n",
       "      <th>cp_4.0</th>\n",
       "    </tr>\n",
       "  </thead>\n",
       "  <tbody>\n",
       "    <tr>\n",
       "      <th>0</th>\n",
       "      <td>1</td>\n",
       "      <td>0</td>\n",
       "      <td>0</td>\n",
       "      <td>0</td>\n",
       "    </tr>\n",
       "    <tr>\n",
       "      <th>1</th>\n",
       "      <td>0</td>\n",
       "      <td>0</td>\n",
       "      <td>0</td>\n",
       "      <td>1</td>\n",
       "    </tr>\n",
       "    <tr>\n",
       "      <th>2</th>\n",
       "      <td>0</td>\n",
       "      <td>0</td>\n",
       "      <td>0</td>\n",
       "      <td>1</td>\n",
       "    </tr>\n",
       "    <tr>\n",
       "      <th>3</th>\n",
       "      <td>0</td>\n",
       "      <td>0</td>\n",
       "      <td>1</td>\n",
       "      <td>0</td>\n",
       "    </tr>\n",
       "    <tr>\n",
       "      <th>4</th>\n",
       "      <td>0</td>\n",
       "      <td>1</td>\n",
       "      <td>0</td>\n",
       "      <td>0</td>\n",
       "    </tr>\n",
       "  </tbody>\n",
       "</table>\n",
       "</div>"
      ],
      "text/plain": [
       "   cp_1.0  cp_2.0  cp_3.0  cp_4.0\n",
       "0       1       0       0       0\n",
       "1       0       0       0       1\n",
       "2       0       0       0       1\n",
       "3       0       0       1       0\n",
       "4       0       1       0       0"
      ]
     },
     "execution_count": 240,
     "metadata": {},
     "output_type": "execute_result"
    }
   ],
   "source": [
    "pd.get_dummies(X['cp'], prefix = 'cp').head()"
   ]
  },
  {
   "cell_type": "code",
   "execution_count": 241,
   "id": "4ada22eb",
   "metadata": {},
   "outputs": [],
   "source": [
    "X = pd.get_dummies(data = X, columns= ['cp', 'restecg', 'slope', 'thal'])\n",
    "#X['ca'] is not a category since it can be continous "
   ]
  },
  {
   "cell_type": "code",
   "execution_count": 242,
   "id": "cdcf2ece",
   "metadata": {},
   "outputs": [
    {
     "data": {
      "text/html": [
       "<div>\n",
       "<style scoped>\n",
       "    .dataframe tbody tr th:only-of-type {\n",
       "        vertical-align: middle;\n",
       "    }\n",
       "\n",
       "    .dataframe tbody tr th {\n",
       "        vertical-align: top;\n",
       "    }\n",
       "\n",
       "    .dataframe thead th {\n",
       "        text-align: right;\n",
       "    }\n",
       "</style>\n",
       "<table border=\"1\" class=\"dataframe\">\n",
       "  <thead>\n",
       "    <tr style=\"text-align: right;\">\n",
       "      <th></th>\n",
       "      <th>age</th>\n",
       "      <th>sex</th>\n",
       "      <th>trestbps</th>\n",
       "      <th>chol</th>\n",
       "      <th>fbs</th>\n",
       "      <th>thalach</th>\n",
       "      <th>exang</th>\n",
       "      <th>oldpeak</th>\n",
       "      <th>ca</th>\n",
       "      <th>cp_1.0</th>\n",
       "      <th>...</th>\n",
       "      <th>cp_4.0</th>\n",
       "      <th>restecg_0.0</th>\n",
       "      <th>restecg_1.0</th>\n",
       "      <th>restecg_2.0</th>\n",
       "      <th>slope_1.0</th>\n",
       "      <th>slope_2.0</th>\n",
       "      <th>slope_3.0</th>\n",
       "      <th>thal_3.0</th>\n",
       "      <th>thal_6.0</th>\n",
       "      <th>thal_7.0</th>\n",
       "    </tr>\n",
       "  </thead>\n",
       "  <tbody>\n",
       "    <tr>\n",
       "      <th>0</th>\n",
       "      <td>63.0</td>\n",
       "      <td>1.0</td>\n",
       "      <td>145.0</td>\n",
       "      <td>233.0</td>\n",
       "      <td>1.0</td>\n",
       "      <td>150.0</td>\n",
       "      <td>0.0</td>\n",
       "      <td>2.3</td>\n",
       "      <td>0.0</td>\n",
       "      <td>1</td>\n",
       "      <td>...</td>\n",
       "      <td>0</td>\n",
       "      <td>0</td>\n",
       "      <td>0</td>\n",
       "      <td>1</td>\n",
       "      <td>0</td>\n",
       "      <td>0</td>\n",
       "      <td>1</td>\n",
       "      <td>0</td>\n",
       "      <td>1</td>\n",
       "      <td>0</td>\n",
       "    </tr>\n",
       "    <tr>\n",
       "      <th>1</th>\n",
       "      <td>67.0</td>\n",
       "      <td>1.0</td>\n",
       "      <td>160.0</td>\n",
       "      <td>286.0</td>\n",
       "      <td>0.0</td>\n",
       "      <td>108.0</td>\n",
       "      <td>1.0</td>\n",
       "      <td>1.5</td>\n",
       "      <td>3.0</td>\n",
       "      <td>0</td>\n",
       "      <td>...</td>\n",
       "      <td>1</td>\n",
       "      <td>0</td>\n",
       "      <td>0</td>\n",
       "      <td>1</td>\n",
       "      <td>0</td>\n",
       "      <td>1</td>\n",
       "      <td>0</td>\n",
       "      <td>1</td>\n",
       "      <td>0</td>\n",
       "      <td>0</td>\n",
       "    </tr>\n",
       "    <tr>\n",
       "      <th>2</th>\n",
       "      <td>67.0</td>\n",
       "      <td>1.0</td>\n",
       "      <td>120.0</td>\n",
       "      <td>229.0</td>\n",
       "      <td>0.0</td>\n",
       "      <td>129.0</td>\n",
       "      <td>1.0</td>\n",
       "      <td>2.6</td>\n",
       "      <td>2.0</td>\n",
       "      <td>0</td>\n",
       "      <td>...</td>\n",
       "      <td>1</td>\n",
       "      <td>0</td>\n",
       "      <td>0</td>\n",
       "      <td>1</td>\n",
       "      <td>0</td>\n",
       "      <td>1</td>\n",
       "      <td>0</td>\n",
       "      <td>0</td>\n",
       "      <td>0</td>\n",
       "      <td>1</td>\n",
       "    </tr>\n",
       "    <tr>\n",
       "      <th>3</th>\n",
       "      <td>37.0</td>\n",
       "      <td>1.0</td>\n",
       "      <td>130.0</td>\n",
       "      <td>250.0</td>\n",
       "      <td>0.0</td>\n",
       "      <td>187.0</td>\n",
       "      <td>0.0</td>\n",
       "      <td>3.5</td>\n",
       "      <td>0.0</td>\n",
       "      <td>0</td>\n",
       "      <td>...</td>\n",
       "      <td>0</td>\n",
       "      <td>1</td>\n",
       "      <td>0</td>\n",
       "      <td>0</td>\n",
       "      <td>0</td>\n",
       "      <td>0</td>\n",
       "      <td>1</td>\n",
       "      <td>1</td>\n",
       "      <td>0</td>\n",
       "      <td>0</td>\n",
       "    </tr>\n",
       "    <tr>\n",
       "      <th>4</th>\n",
       "      <td>41.0</td>\n",
       "      <td>0.0</td>\n",
       "      <td>130.0</td>\n",
       "      <td>204.0</td>\n",
       "      <td>0.0</td>\n",
       "      <td>172.0</td>\n",
       "      <td>0.0</td>\n",
       "      <td>1.4</td>\n",
       "      <td>0.0</td>\n",
       "      <td>0</td>\n",
       "      <td>...</td>\n",
       "      <td>0</td>\n",
       "      <td>0</td>\n",
       "      <td>0</td>\n",
       "      <td>1</td>\n",
       "      <td>1</td>\n",
       "      <td>0</td>\n",
       "      <td>0</td>\n",
       "      <td>1</td>\n",
       "      <td>0</td>\n",
       "      <td>0</td>\n",
       "    </tr>\n",
       "  </tbody>\n",
       "</table>\n",
       "<p>5 rows × 22 columns</p>\n",
       "</div>"
      ],
      "text/plain": [
       "    age  sex  trestbps   chol  fbs  thalach  exang  oldpeak   ca  cp_1.0  ...  \\\n",
       "0  63.0  1.0     145.0  233.0  1.0    150.0    0.0      2.3  0.0       1  ...   \n",
       "1  67.0  1.0     160.0  286.0  0.0    108.0    1.0      1.5  3.0       0  ...   \n",
       "2  67.0  1.0     120.0  229.0  0.0    129.0    1.0      2.6  2.0       0  ...   \n",
       "3  37.0  1.0     130.0  250.0  0.0    187.0    0.0      3.5  0.0       0  ...   \n",
       "4  41.0  0.0     130.0  204.0  0.0    172.0    0.0      1.4  0.0       0  ...   \n",
       "\n",
       "   cp_4.0  restecg_0.0  restecg_1.0  restecg_2.0  slope_1.0  slope_2.0  \\\n",
       "0       0            0            0            1          0          0   \n",
       "1       1            0            0            1          0          1   \n",
       "2       1            0            0            1          0          1   \n",
       "3       0            1            0            0          0          0   \n",
       "4       0            0            0            1          1          0   \n",
       "\n",
       "   slope_3.0  thal_3.0  thal_6.0  thal_7.0  \n",
       "0          1         0         1         0  \n",
       "1          0         1         0         0  \n",
       "2          0         0         0         1  \n",
       "3          1         1         0         0  \n",
       "4          0         1         0         0  \n",
       "\n",
       "[5 rows x 22 columns]"
      ]
     },
     "execution_count": 242,
     "metadata": {},
     "output_type": "execute_result"
    }
   ],
   "source": [
    "X.head()"
   ]
  },
  {
   "cell_type": "code",
   "execution_count": 243,
   "id": "ccfce150",
   "metadata": {},
   "outputs": [
    {
     "data": {
      "text/plain": [
       "0    160\n",
       "1     54\n",
       "2     35\n",
       "3     35\n",
       "4     13\n",
       "Name: num, dtype: int64"
      ]
     },
     "execution_count": 243,
     "metadata": {},
     "output_type": "execute_result"
    }
   ],
   "source": [
    "#checking the value counts in Y\n",
    "Y.value_counts()"
   ]
  },
  {
   "cell_type": "markdown",
   "id": "7880a1fc",
   "metadata": {},
   "source": [
    "Since we want binary classification **0** - **Has heart disease** and **1** - **Does not have heart disease**, we should classify >1 under 1 itself"
   ]
  },
  {
   "cell_type": "code",
   "execution_count": 244,
   "id": "bc8f858b",
   "metadata": {},
   "outputs": [
    {
     "name": "stdout",
     "output_type": "stream",
     "text": [
      "0      0\n",
      "1      1\n",
      "2      1\n",
      "3      0\n",
      "4      0\n",
      "      ..\n",
      "297    1\n",
      "298    1\n",
      "299    1\n",
      "300    1\n",
      "301    1\n",
      "Name: num, Length: 297, dtype: int64\n"
     ]
    },
    {
     "name": "stderr",
     "output_type": "stream",
     "text": [
      "C:\\Users\\ngupt240\\AppData\\Local\\Temp/ipykernel_23204/1803440211.py:1: SettingWithCopyWarning: \n",
      "A value is trying to be set on a copy of a slice from a DataFrame\n",
      "\n",
      "See the caveats in the documentation: https://pandas.pydata.org/pandas-docs/stable/user_guide/indexing.html#returning-a-view-versus-a-copy\n",
      "  Y[Y >1] = 1\n"
     ]
    }
   ],
   "source": [
    "Y[Y >1] = 1\n",
    "print(Y)"
   ]
  },
  {
   "cell_type": "code",
   "execution_count": 245,
   "id": "ffbf5589",
   "metadata": {},
   "outputs": [
    {
     "data": {
      "text/plain": [
       "0    160\n",
       "1    137\n",
       "Name: num, dtype: int64"
      ]
     },
     "execution_count": 245,
     "metadata": {},
     "output_type": "execute_result"
    }
   ],
   "source": [
    "Y.value_counts()"
   ]
  },
  {
   "cell_type": "markdown",
   "id": "f5492f00",
   "metadata": {},
   "source": [
    "### Building a preliminary Classification Trees"
   ]
  },
  {
   "cell_type": "code",
   "execution_count": 246,
   "id": "462e07da",
   "metadata": {},
   "outputs": [],
   "source": [
    "X_train, X_test, Y_train, Y_test = train_test_split(X, Y, random_state = 42)"
   ]
  },
  {
   "cell_type": "code",
   "execution_count": 247,
   "id": "e8296954",
   "metadata": {},
   "outputs": [
    {
     "name": "stdout",
     "output_type": "stream",
     "text": [
      "(297, 22) (222, 22) (75, 22)\n"
     ]
    }
   ],
   "source": [
    "print(X.shape,X_train.shape, X_test.shape) #almost 25% test split"
   ]
  },
  {
   "cell_type": "code",
   "execution_count": 248,
   "id": "f848645b",
   "metadata": {},
   "outputs": [
    {
     "data": {
      "text/plain": [
       "DecisionTreeClassifier(random_state=43)"
      ]
     },
     "execution_count": 248,
     "metadata": {},
     "output_type": "execute_result"
    }
   ],
   "source": [
    "clt = DecisionTreeClassifier(random_state = 43)\n",
    "clt.fit(X_train, Y_train)"
   ]
  },
  {
   "cell_type": "code",
   "execution_count": 249,
   "id": "6840c89d",
   "metadata": {},
   "outputs": [
    {
     "data": {
      "text/plain": [
       "[Text(575.798275862069, 365.88461538461536, 'ca <= 0.5\\n0.498\\n222\\n[118, 104]'),\n",
       " Text(333.35689655172416, 336.6138461538461, 'thal_7.0 <= 0.5\\n0.382\\n132\\n[98, 34]'),\n",
       " Text(203.47758620689658, 307.3430769230769, 'oldpeak <= 2.7\\n0.24\\n93\\n[80, 13]'),\n",
       " Text(147.19655172413795, 278.0723076923077, 'age <= 58.5\\n0.185\\n87\\n[78, 9]'),\n",
       " Text(86.58620689655173, 248.80153846153846, 'oldpeak <= 1.7\\n0.061\\n63\\n[61, 2]'),\n",
       " Text(51.95172413793104, 219.5307692307692, 'trestbps <= 109.0\\n0.033\\n60\\n[59, 1]'),\n",
       " Text(34.63448275862069, 190.26, 'sex <= 0.5\\n0.278\\n6\\n[5, 1]'),\n",
       " Text(17.317241379310346, 160.98923076923077, '0.0\\n4\\n[4, 0]'),\n",
       " Text(51.95172413793104, 160.98923076923077, 'exang <= 0.5\\n0.5\\n2\\n[1, 1]'),\n",
       " Text(34.63448275862069, 131.71846153846153, '0.0\\n1\\n[0, 1]'),\n",
       " Text(69.26896551724138, 131.71846153846153, '0.0\\n1\\n[1, 0]'),\n",
       " Text(69.26896551724138, 190.26, '0.0\\n54\\n[54, 0]'),\n",
       " Text(121.22068965517242, 219.5307692307692, 'cp_4.0 <= 0.5\\n0.444\\n3\\n[2, 1]'),\n",
       " Text(103.90344827586208, 190.26, '0.0\\n2\\n[2, 0]'),\n",
       " Text(138.53793103448277, 190.26, '0.0\\n1\\n[0, 1]'),\n",
       " Text(207.80689655172415, 248.80153846153846, 'oldpeak <= 1.45\\n0.413\\n24\\n[17, 7]'),\n",
       " Text(190.4896551724138, 219.5307692307692, 'fbs <= 0.5\\n0.484\\n17\\n[10, 7]'),\n",
       " Text(173.17241379310346, 190.26, 'age <= 64.5\\n0.498\\n15\\n[8, 7]'),\n",
       " Text(138.53793103448277, 160.98923076923077, 'thalach <= 148.5\\n0.48\\n10\\n[4, 6]'),\n",
       " Text(121.22068965517242, 131.71846153846153, '0.0\\n3\\n[0, 3]'),\n",
       " Text(155.85517241379313, 131.71846153846153, 'cp_3.0 <= 0.5\\n0.49\\n7\\n[4, 3]'),\n",
       " Text(138.53793103448277, 102.44769230769231, 'oldpeak <= 1.3\\n0.444\\n6\\n[4, 2]'),\n",
       " Text(121.22068965517242, 73.17692307692306, 'chol <= 327.5\\n0.32\\n5\\n[4, 1]'),\n",
       " Text(103.90344827586208, 43.90615384615387, '0.0\\n3\\n[3, 0]'),\n",
       " Text(138.53793103448277, 43.90615384615387, 'chol <= 362.0\\n0.5\\n2\\n[1, 1]'),\n",
       " Text(121.22068965517242, 14.635384615384623, '0.0\\n1\\n[0, 1]'),\n",
       " Text(155.85517241379313, 14.635384615384623, '0.0\\n1\\n[1, 0]'),\n",
       " Text(155.85517241379313, 73.17692307692306, '0.0\\n1\\n[0, 1]'),\n",
       " Text(173.17241379310346, 102.44769230769231, '0.0\\n1\\n[0, 1]'),\n",
       " Text(207.80689655172415, 160.98923076923077, 'thalach <= 93.5\\n0.32\\n5\\n[4, 1]'),\n",
       " Text(190.4896551724138, 131.71846153846153, '0.0\\n1\\n[0, 1]'),\n",
       " Text(225.1241379310345, 131.71846153846153, '0.0\\n4\\n[4, 0]'),\n",
       " Text(207.80689655172415, 190.26, '0.0\\n2\\n[2, 0]'),\n",
       " Text(225.1241379310345, 219.5307692307692, '0.0\\n7\\n[7, 0]'),\n",
       " Text(259.7586206896552, 278.0723076923077, 'thalach <= 147.5\\n0.444\\n6\\n[2, 4]'),\n",
       " Text(242.44137931034484, 248.80153846153846, '0.0\\n3\\n[0, 3]'),\n",
       " Text(277.07586206896553, 248.80153846153846, 'chol <= 196.5\\n0.444\\n3\\n[2, 1]'),\n",
       " Text(259.7586206896552, 219.5307692307692, '0.0\\n1\\n[0, 1]'),\n",
       " Text(294.3931034482759, 219.5307692307692, '0.0\\n2\\n[2, 0]'),\n",
       " Text(463.2362068965518, 307.3430769230769, 'cp_4.0 <= 0.5\\n0.497\\n39\\n[18, 21]'),\n",
       " Text(389.6379310344828, 278.0723076923077, 'thalach <= 152.0\\n0.42\\n20\\n[14, 6]'),\n",
       " Text(346.3448275862069, 248.80153846153846, 'oldpeak <= 0.8\\n0.444\\n6\\n[2, 4]'),\n",
       " Text(329.02758620689656, 219.5307692307692, 'cp_2.0 <= 0.5\\n0.444\\n3\\n[2, 1]'),\n",
       " Text(311.71034482758625, 190.26, '0.0\\n2\\n[2, 0]'),\n",
       " Text(346.3448275862069, 190.26, '0.0\\n1\\n[0, 1]'),\n",
       " Text(363.6620689655173, 219.5307692307692, '0.0\\n3\\n[0, 3]'),\n",
       " Text(432.93103448275866, 248.80153846153846, 'slope_3.0 <= 0.5\\n0.245\\n14\\n[12, 2]'),\n",
       " Text(398.29655172413794, 219.5307692307692, 'trestbps <= 161.0\\n0.153\\n12\\n[11, 1]'),\n",
       " Text(380.9793103448276, 190.26, '0.0\\n9\\n[9, 0]'),\n",
       " Text(415.6137931034483, 190.26, 'chol <= 257.5\\n0.444\\n3\\n[2, 1]'),\n",
       " Text(398.29655172413794, 160.98923076923077, '0.0\\n2\\n[2, 0]'),\n",
       " Text(432.93103448275866, 160.98923076923077, '0.0\\n1\\n[0, 1]'),\n",
       " Text(467.5655172413793, 219.5307692307692, 'thalach <= 181.0\\n0.5\\n2\\n[1, 1]'),\n",
       " Text(450.248275862069, 190.26, '0.0\\n1\\n[0, 1]'),\n",
       " Text(484.8827586206897, 190.26, '0.0\\n1\\n[1, 0]'),\n",
       " Text(536.8344827586208, 278.0723076923077, 'oldpeak <= 0.45\\n0.332\\n19\\n[4, 15]'),\n",
       " Text(519.5172413793103, 248.80153846153846, 'age <= 42.0\\n0.49\\n7\\n[4, 3]'),\n",
       " Text(502.20000000000005, 219.5307692307692, '0.0\\n3\\n[0, 3]'),\n",
       " Text(536.8344827586208, 219.5307692307692, '0.0\\n4\\n[4, 0]'),\n",
       " Text(554.1517241379311, 248.80153846153846, '0.0\\n12\\n[0, 12]'),\n",
       " Text(818.2396551724138, 336.6138461538461, 'cp_4.0 <= 0.5\\n0.346\\n90\\n[20, 70]'),\n",
       " Text(718.6655172413793, 307.3430769230769, 'oldpeak <= 0.55\\n0.499\\n31\\n[16, 15]'),\n",
       " Text(640.7379310344828, 278.0723076923077, 'cp_2.0 <= 0.5\\n0.401\\n18\\n[13, 5]'),\n",
       " Text(588.7862068965518, 248.80153846153846, 'oldpeak <= 0.35\\n0.165\\n11\\n[10, 1]'),\n",
       " Text(571.4689655172414, 219.5307692307692, '0.0\\n9\\n[9, 0]'),\n",
       " Text(606.1034482758621, 219.5307692307692, 'thal_7.0 <= 0.5\\n0.5\\n2\\n[1, 1]'),\n",
       " Text(588.7862068965518, 190.26, '0.0\\n1\\n[1, 0]'),\n",
       " Text(623.4206896551725, 190.26, '0.0\\n1\\n[0, 1]'),\n",
       " Text(692.6896551724138, 248.80153846153846, 'trestbps <= 134.0\\n0.49\\n7\\n[3, 4]'),\n",
       " Text(675.3724137931035, 219.5307692307692, 'slope_1.0 <= 0.5\\n0.375\\n4\\n[3, 1]'),\n",
       " Text(658.0551724137931, 190.26, '0.0\\n1\\n[0, 1]'),\n",
       " Text(692.6896551724138, 190.26, '0.0\\n3\\n[3, 0]'),\n",
       " Text(710.0068965517241, 219.5307692307692, '0.0\\n3\\n[0, 3]'),\n",
       " Text(796.5931034482759, 278.0723076923077, 'trestbps <= 139.0\\n0.355\\n13\\n[3, 10]'),\n",
       " Text(761.9586206896552, 248.80153846153846, 'ca <= 2.5\\n0.18\\n10\\n[1, 9]'),\n",
       " Text(744.6413793103449, 219.5307692307692, '0.0\\n7\\n[0, 7]'),\n",
       " Text(779.2758620689656, 219.5307692307692, 'age <= 55.5\\n0.444\\n3\\n[1, 2]'),\n",
       " Text(761.9586206896552, 190.26, '0.0\\n2\\n[0, 2]'),\n",
       " Text(796.5931034482759, 190.26, '0.0\\n1\\n[1, 0]'),\n",
       " Text(831.2275862068966, 248.80153846153846, 'slope_1.0 <= 0.5\\n0.444\\n3\\n[2, 1]'),\n",
       " Text(813.9103448275863, 219.5307692307692, '0.0\\n1\\n[0, 1]'),\n",
       " Text(848.5448275862069, 219.5307692307692, '0.0\\n2\\n[2, 0]'),\n",
       " Text(917.8137931034483, 307.3430769230769, 'trestbps <= 109.0\\n0.126\\n59\\n[4, 55]'),\n",
       " Text(883.1793103448276, 278.0723076923077, 'thalach <= 151.5\\n0.5\\n4\\n[2, 2]'),\n",
       " Text(865.8620689655173, 248.80153846153846, '0.0\\n2\\n[2, 0]'),\n",
       " Text(900.496551724138, 248.80153846153846, '0.0\\n2\\n[0, 2]'),\n",
       " Text(952.4482758620691, 278.0723076923077, 'age <= 63.5\\n0.07\\n55\\n[2, 53]'),\n",
       " Text(935.1310344827587, 248.80153846153846, '0.0\\n44\\n[0, 44]'),\n",
       " Text(969.7655172413794, 248.80153846153846, 'age <= 64.5\\n0.298\\n11\\n[2, 9]'),\n",
       " Text(952.4482758620691, 219.5307692307692, 'chol <= 254.5\\n0.5\\n4\\n[2, 2]'),\n",
       " Text(935.1310344827587, 190.26, '0.0\\n2\\n[0, 2]'),\n",
       " Text(969.7655172413794, 190.26, '0.0\\n2\\n[2, 0]'),\n",
       " Text(987.0827586206897, 219.5307692307692, '0.0\\n7\\n[0, 7]')]"
      ]
     },
     "execution_count": 249,
     "metadata": {},
     "output_type": "execute_result"
    },
    {
     "data": {
      "image/png": "[encoded data removed]",
      "text/plain": [
       "<Figure size 1296x504 with 1 Axes>"
      ]
     },
     "metadata": {},
     "output_type": "display_data"
    }
   ],
   "source": [
    "plt.figure(figsize = (18,7))\n",
    "plot_tree(clt, feature_names = X.columns, label = ['Have HD', 'Doesnot have HD'], filled = True )"
   ]
  },
  {
   "cell_type": "markdown",
   "id": "9a25a054",
   "metadata": {},
   "source": [
    "This is an example of **overfitting** the training data for which decision trees are prone to "
   ]
  },
  {
   "cell_type": "code",
   "execution_count": 265,
   "id": "3a669c7f",
   "metadata": {},
   "outputs": [
    {
     "data": {
      "image/png": "[encoded data removed]",
      "text/plain": [
       "<Figure size 432x288 with 2 Axes>"
      ]
     },
     "metadata": {},
     "output_type": "display_data"
    }
   ],
   "source": [
    "plot_confusion_matrix(clt, X_train, Y_train, display_labels = ['Have HD', 'Doesnot have HD'])\n",
    "plt.grid(None)"
   ]
  },
  {
   "cell_type": "markdown",
   "id": "7e8b8ef2",
   "metadata": {},
   "source": [
    "The **Classification tree** is huge and we will now see how it performs on **testing dataset** by running the tree on confusion matrix"
   ]
  },
  {
   "cell_type": "code",
   "execution_count": 272,
   "id": "a0e2cc89",
   "metadata": {},
   "outputs": [
    {
     "data": {
      "image/png": "[encoded data removed]",
      "text/plain": [
       "<Figure size 432x288 with 2 Axes>"
      ]
     },
     "metadata": {},
     "output_type": "display_data"
    }
   ],
   "source": [
    "plot_confusion_matrix(clt, X_test, Y_test, display_labels = ['Have HD', 'Doesnot have HD'])\n",
    "plt.grid(None)"
   ]
  },
  {
   "cell_type": "markdown",
   "id": "a1132fda",
   "metadata": {},
   "source": [
    "Out of total **42** patients who has heart disease, it was able to identify **32 with an accuracy of 76%**..similarly out of **32** patients who did not have heart disease, it was able to identify **27 correct with an accuracy of 84%**..This might be due to overfitting that we can reduce by pruning "
   ]
  },
  {
   "cell_type": "markdown",
   "id": "9a8fbce5",
   "metadata": {},
   "source": [
    "### Cost Complexity Pruning part 1 : Visualise alpha"
   ]
  },
  {
   "cell_type": "code",
   "execution_count": 252,
   "id": "08bf7809",
   "metadata": {},
   "outputs": [
    {
     "name": "stdout",
     "output_type": "stream",
     "text": [
      "[0.         0.00295295 0.0036036  0.003861   0.00405405 0.004095\n",
      " 0.0041184  0.00429358 0.00541298 0.00578761 0.00600601 0.00600601\n",
      " 0.00600601 0.00667591 0.00675676 0.00757375 0.00811505 0.00868726\n",
      " 0.00889851 0.01038181 0.0105777  0.01422475 0.01604051 0.01642461\n",
      " 0.02103075 0.03680006 0.03934523]\n"
     ]
    }
   ],
   "source": [
    "path = clt.cost_complexity_pruning_path(X_train, Y_train)\n",
    "clt_alphas = path['ccp_alphas']\n",
    "clt_alphas = clt_alphas[:-1] #exclusing the max value where only root would be left\n",
    "print(clt_alphas)"
   ]
  },
  {
   "cell_type": "code",
   "execution_count": 253,
   "id": "f2c01212",
   "metadata": {},
   "outputs": [
    {
     "data": {
      "text/plain": [
       "<Figure size 720x720 with 0 Axes>"
      ]
     },
     "metadata": {},
     "output_type": "display_data"
    },
    {
     "data": {
      "image/png": "[encoded data removed]",
      "text/plain": [
       "<Figure size 432x288 with 1 Axes>"
      ]
     },
     "metadata": {},
     "output_type": "display_data"
    }
   ],
   "source": [
    "clt_dts = []\n",
    "\n",
    "for clt_alpha in clt_alphas :\n",
    "    clt_dt = DecisionTreeClassifier(random_state = 42, ccp_alpha = clt_alpha)\n",
    "    clt_dt.fit(X_train, Y_train)\n",
    "    clt_dts.append(clt_dt)\n",
    "    \n",
    "training_score = [clt_dt.score( X_train, Y_train) for clt_dt in clt_dts]\n",
    "testing_score = [clt_dt.score( X_test, Y_test) for clt_dt in clt_dts]\n",
    "\n",
    "plt.figure(figsize = (10,10))\n",
    "fig, ax = plt.subplots()\n",
    "ax.plot(clt_alphas,training_score, label = 'train', marker= 'o')\n",
    "ax.plot(clt_alphas,testing_score, label = 'test', marker= '+')\n",
    "ax.set_xlabel('Effective alphas')\n",
    "ax.set_ylabel('Accuracy scores')\n",
    "plt.legend()\n",
    "ax.set_title('Accuracy scores Train vs Test')\n",
    "plt.show()"
   ]
  },
  {
   "cell_type": "markdown",
   "id": "57eed266",
   "metadata": {},
   "source": [
    "We can see that the accuracy is highest when **ccp_alpha = 0.016** and after that accuracy of testing dataset drop. "
   ]
  },
  {
   "cell_type": "markdown",
   "id": "998d0bac",
   "metadata": {},
   "source": [
    "Note : Value of ccp_alpha iin **Classification tree** can range from 0 to 1 since Gini Impurity scores go from 0 to 1. In contrast, ccp_alpha in **Regression trees** can go from 0 to positive infinity since it depends on sum of sqaured residuals  "
   ]
  },
  {
   "cell_type": "code",
   "execution_count": 254,
   "id": "9fb8eb56",
   "metadata": {},
   "outputs": [],
   "source": [
    "#Alternatively :\n",
    "\n",
    "# train_pred_scores, test_pred_scores = [],[]\n",
    "\n",
    "# for clt_alpha in clt_alphas :\n",
    "#     clt_dt = DecisionTreeClassifier(random_state = 42, ccp_alpha = clt_alpha)\n",
    "#     clt_dt.fit(X_train, Y_train)\n",
    "#     X_pred_train = clt_dt.predict(X_train)\n",
    "#     X_pred_test = clt_dt.predict(X_test)\n",
    "#     train_pred_scores.append(accuracy_score(X_pred_train, Y_train))\n",
    "#     test_pred_scores.append(accuracy_score(X_pred_test, Y_test))\n",
    "\n",
    "# sns.set()\n",
    "# plt.figure(figsize = (10,10))\n",
    "# fig, ax = plt.subplots()\n",
    "# ax.plot(clt_alphas,train_pred_scores, label = 'train' )\n",
    "# ax.plot(clt_alphas,test_pred_scores, label = 'test')\n",
    "# ax.set_xlabel('Effective alphas')\n",
    "# ax.set_ylabel('Accuracy scores')\n",
    "# plt.legend()\n",
    "# ax.set_title('Accuracy scores Train vs Test')\n",
    "# plt.show()"
   ]
  },
  {
   "cell_type": "markdown",
   "id": "9455edaa",
   "metadata": {},
   "source": [
    "Since there are many ways to divide the orignal dataset into Training and testing, how do we know that we are using the best split? We also don't know if the value of alpha would still be best at 0.016 so we will need to use **ten-fold cross validation** to verify this "
   ]
  },
  {
   "cell_type": "markdown",
   "id": "b7562c63",
   "metadata": {},
   "source": [
    "### Cost Complexity Pruning part 2: Ten Fold Cross-Validation "
   ]
  },
  {
   "cell_type": "markdown",
   "id": "20ee6173",
   "metadata": {},
   "source": [
    "The graph that we drew suggested **ccp_alpha = 0.016** \n",
    "\n",
    "First, let's see the accuracy_score of ccp_alpha at this value using cross-val_score. We need to verify if this value is ideal when we split the training and testing dataset in different ways "
   ]
  },
  {
   "cell_type": "code",
   "execution_count": 255,
   "id": "d080949d",
   "metadata": {},
   "outputs": [
    {
     "data": {
      "text/plain": [
       "[<matplotlib.lines.Line2D at 0x22e5730e760>]"
      ]
     },
     "execution_count": 255,
     "metadata": {},
     "output_type": "execute_result"
    },
    {
     "data": {
      "image/png": "[encoded data removed]",
      "text/plain": [
       "<Figure size 432x288 with 1 Axes>"
      ]
     },
     "metadata": {},
     "output_type": "display_data"
    }
   ],
   "source": [
    "clf_dt = DecisionTreeClassifier(random_state =43, ccp_alpha = 0.016 )    \n",
    "\n",
    "#we are using 5-fold cv instead of 10-fold due to small dataset\n",
    "score = cross_val_score(clf_dt, X_train, Y_train, cv = 5)\n",
    "df = pd.DataFrame(data = {'trees' : range(5), 'accuracy' : score})\n",
    "plt.plot(df['trees'], df['accuracy'], marker = 'o')"
   ]
  },
  {
   "cell_type": "markdown",
   "id": "60cb9a45",
   "metadata": {},
   "source": [
    "The graph shows that ccp_alpha is sensitive to different training and testing dataset. With ccp_alpha = 0.016 we get accuracy between 0 and 0.85 so we need to find optimal value with cv "
   ]
  },
  {
   "cell_type": "code",
   "execution_count": 256,
   "id": "bc915cc7",
   "metadata": {},
   "outputs": [
    {
     "data": {
      "text/plain": [
       "<AxesSubplot:xlabel='alpha'>"
      ]
     },
     "execution_count": 256,
     "metadata": {},
     "output_type": "execute_result"
    },
    {
     "data": {
      "image/png": "[encoded data removed]",
      "text/plain": [
       "<Figure size 432x288 with 1 Axes>"
      ]
     },
     "metadata": {},
     "output_type": "display_data"
    }
   ],
   "source": [
    "alpha_loop_values = []\n",
    "\n",
    "for clt_alpha in clt_alphas :\n",
    "    clt_dt = DecisionTreeClassifier(random_state = 42, ccp_alpha = clt_alpha)\n",
    "    scores = cross_val_score(clt_dt, X_train, Y_train, cv = 5)\n",
    "    alpha_loop_values.append([clt_alpha, np.mean(scores), np.std(scores)])\n",
    "\n",
    "accuracy_scores = pd.DataFrame(alpha_loop_values, columns = ['alpha', 'mean_scores', 'std_scores'])\n",
    "\n",
    "accuracy_scores.plot(x = 'alpha', y = 'mean_scores', yerr = 'std_scores', linestyle = '--')"
   ]
  },
  {
   "cell_type": "markdown",
   "id": "f9f8ea32",
   "metadata": {},
   "source": [
    "Using cv, we can see that we should set ccp_alpha something close to 0.014 instead of 0.016, we should find exact value with :-"
   ]
  },
  {
   "cell_type": "code",
   "execution_count": 257,
   "id": "8271aab0",
   "metadata": {},
   "outputs": [],
   "source": [
    "ideal_value = accuracy_scores.loc[(accuracy_scores['alpha']>0.013) & (accuracy_scores['alpha'] < 0.015 )]['alpha']"
   ]
  },
  {
   "cell_type": "code",
   "execution_count": 258,
   "id": "523900f2",
   "metadata": {},
   "outputs": [
    {
     "data": {
      "text/plain": [
       "pandas.core.series.Series"
      ]
     },
     "execution_count": 258,
     "metadata": {},
     "output_type": "execute_result"
    }
   ],
   "source": [
    "type(ideal_value)"
   ]
  },
  {
   "cell_type": "code",
   "execution_count": 259,
   "id": "029b8097",
   "metadata": {},
   "outputs": [
    {
     "name": "stdout",
     "output_type": "stream",
     "text": [
      "0.014224751066856332\n"
     ]
    }
   ],
   "source": [
    "#changing to float so it can be used into final classification\n",
    "ideal_value = float(ideal_value)\n",
    "print(ideal_value)"
   ]
  },
  {
   "cell_type": "markdown",
   "id": "9b1bd8d8",
   "metadata": {},
   "source": [
    "### Buidling Final Classification Tree"
   ]
  },
  {
   "cell_type": "code",
   "execution_count": 260,
   "id": "f7079b61",
   "metadata": {},
   "outputs": [
    {
     "data": {
      "text/plain": [
       "[Text(482.8846153846154, 237.82500000000002, 'ca <= 0.5\\ngini = 0.498\\nsamples = 222\\nvalue = [118, 104]\\nclass = Have HD'),\n",
       " Text(257.53846153846155, 169.875, 'thal_7.0 <= 0.5\\ngini = 0.382\\nsamples = 132\\nvalue = [98, 34]\\nclass = Have HD'),\n",
       " Text(128.76923076923077, 101.92500000000001, 'oldpeak <= 2.7\\ngini = 0.24\\nsamples = 93\\nvalue = [80, 13]\\nclass = Have HD'),\n",
       " Text(64.38461538461539, 33.974999999999994, 'gini = 0.185\\nsamples = 87\\nvalue = [78, 9]\\nclass = Have HD'),\n",
       " Text(193.15384615384616, 33.974999999999994, 'gini = 0.444\\nsamples = 6\\nvalue = [2, 4]\\nclass = Doesnot have HD'),\n",
       " Text(386.3076923076923, 101.92500000000001, 'cp_4.0 <= 0.5\\ngini = 0.497\\nsamples = 39\\nvalue = [18, 21]\\nclass = Doesnot have HD'),\n",
       " Text(321.9230769230769, 33.974999999999994, 'gini = 0.42\\nsamples = 20\\nvalue = [14, 6]\\nclass = Have HD'),\n",
       " Text(450.69230769230774, 33.974999999999994, 'gini = 0.332\\nsamples = 19\\nvalue = [4, 15]\\nclass = Doesnot have HD'),\n",
       " Text(708.2307692307693, 169.875, 'cp_4.0 <= 0.5\\ngini = 0.346\\nsamples = 90\\nvalue = [20, 70]\\nclass = Doesnot have HD'),\n",
       " Text(643.8461538461538, 101.92500000000001, 'oldpeak <= 0.55\\ngini = 0.499\\nsamples = 31\\nvalue = [16, 15]\\nclass = Have HD'),\n",
       " Text(579.4615384615385, 33.974999999999994, 'gini = 0.401\\nsamples = 18\\nvalue = [13, 5]\\nclass = Have HD'),\n",
       " Text(708.2307692307693, 33.974999999999994, 'gini = 0.355\\nsamples = 13\\nvalue = [3, 10]\\nclass = Doesnot have HD'),\n",
       " Text(772.6153846153846, 101.92500000000001, 'gini = 0.126\\nsamples = 59\\nvalue = [4, 55]\\nclass = Doesnot have HD')]"
      ]
     },
     "execution_count": 260,
     "metadata": {},
     "output_type": "execute_result"
    },
    {
     "data": {
      "image/png": "[encoded data removed]",
      "text/plain": [
       "<Figure size 1080x360 with 1 Axes>"
      ]
     },
     "metadata": {},
     "output_type": "display_data"
    }
   ],
   "source": [
    "clt_dt = DecisionTreeClassifier(random_state = 42, ccp_alpha = 0.0143)\n",
    "\n",
    "clt_dt.fit(X_train, Y_train)\n",
    "\n",
    "plt.figure(figsize = (15,5))\n",
    "plot_tree(clt_dt, filled = True, rounded = True, class_names = ['Have HD', 'Doesnot have HD'], \n",
    "          feature_names = X_train.columns)"
   ]
  },
  {
   "cell_type": "code",
   "execution_count": 268,
   "id": "17a6c934",
   "metadata": {},
   "outputs": [
    {
     "data": {
      "image/png": "[encoded data removed]",
      "text/plain": [
       "<Figure size 432x288 with 2 Axes>"
      ]
     },
     "metadata": {},
     "output_type": "display_data"
    }
   ],
   "source": [
    "#checking for training data \n",
    "\n",
    "plot_confusion_matrix(clt_dt, X_train, Y_train, display_labels = ['Doesnot have HD', 'Have HD'], cmap=plt.cm.Blues)\n",
    "plt.grid(None)"
   ]
  },
  {
   "cell_type": "markdown",
   "id": "ddfb7174",
   "metadata": {},
   "source": [
    "We can see increase in Bias since model is not overfitting on **training**, we can see some **False Positves** and **False Negatives** which will avoid overfitting and lead to Low variance in **testing** data "
   ]
  },
  {
   "cell_type": "code",
   "execution_count": 269,
   "id": "295816b5",
   "metadata": {},
   "outputs": [
    {
     "data": {
      "image/png": "[encoded data removed]",
      "text/plain": [
       "<Figure size 432x288 with 2 Axes>"
      ]
     },
     "metadata": {},
     "output_type": "display_data"
    }
   ],
   "source": [
    "#checking for testing data\n",
    "plot_confusion_matrix(clt_dt, X_test, Y_test, display_labels = ['Doesnot have HD', 'Have HD'], cmap=plt.cm.Blues)\n",
    "plt.grid(None)"
   ]
  },
  {
   "cell_type": "markdown",
   "id": "1f9d58ee",
   "metadata": {},
   "source": [
    "Out of 42, **34 (81%)** were correctly classified to not have heart disease and we can see there is an improvement in overall decision tree size as well which will reduce overfitting"
   ]
  },
  {
   "cell_type": "markdown",
   "id": "d164d3d7",
   "metadata": {},
   "source": [
    "***Thank you***"
   ]
  },
  {
   "cell_type": "code",
   "execution_count": null,
   "id": "7e20022c",
   "metadata": {},
   "outputs": [],
   "source": []
  }
 ],
 "metadata": {
  "kernelspec": {
   "display_name": "Python 3 (ipykernel)",
   "language": "python",
   "name": "python3"
  },
  "language_info": {
   "codemirror_mode": {
    "name": "ipython",
    "version": 3
   },
   "file_extension": ".py",
   "mimetype": "text/x-python",
   "name": "python",
   "nbconvert_exporter": "python",
   "pygments_lexer": "ipython3",
   "version": "3.9.7"
  }
 },
 "nbformat": 4,
 "nbformat_minor": 5
}
