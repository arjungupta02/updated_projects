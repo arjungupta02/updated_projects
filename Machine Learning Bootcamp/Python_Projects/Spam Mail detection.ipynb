{
 "cells": [
  {
   "cell_type": "code",
   "execution_count": 269,
   "id": "15b32827",
   "metadata": {},
   "outputs": [],
   "source": [
    "import numpy as np\n",
    "import pandas as pd\n",
    "import matplotlib.pyplot as plt\n",
    "import seaborn as sns\n",
    "import nltk\n",
    "import re\n",
    "from nltk.corpus import stopwords\n",
    "from nltk.stem import PorterStemmer\n",
    "from sklearn.model_selection import train_test_split\n",
    "from sklearn.feature_extraction.text import TfidfVectorizer\n",
    "from sklearn.linear_model import LogisticRegression\n",
    "from sklearn.metrics import accuracy_score"
   ]
  },
  {
   "cell_type": "code",
   "execution_count": 270,
   "id": "f2695504",
   "metadata": {},
   "outputs": [
    {
     "name": "stderr",
     "output_type": "stream",
     "text": [
      "[nltk_data] Error loading stopwords: <urlopen error Tunnel connection\n",
      "[nltk_data]     failed: 407 AuthorizedOnly>\n"
     ]
    }
   ],
   "source": [
    "import nltk\n",
    "stopwords = nltk.download('stopwords')\n",
    "#we will skip this step due to technical issues"
   ]
  },
  {
   "cell_type": "code",
   "execution_count": 271,
   "id": "8d30509d",
   "metadata": {},
   "outputs": [],
   "source": [
    "spam_df = pd.read_csv('spam.csv')"
   ]
  },
  {
   "cell_type": "code",
   "execution_count": 272,
   "id": "ae05c745",
   "metadata": {},
   "outputs": [
    {
     "data": {
      "text/html": [
       "<div>\n",
       "<style scoped>\n",
       "    .dataframe tbody tr th:only-of-type {\n",
       "        vertical-align: middle;\n",
       "    }\n",
       "\n",
       "    .dataframe tbody tr th {\n",
       "        vertical-align: top;\n",
       "    }\n",
       "\n",
       "    .dataframe thead th {\n",
       "        text-align: right;\n",
       "    }\n",
       "</style>\n",
       "<table border=\"1\" class=\"dataframe\">\n",
       "  <thead>\n",
       "    <tr style=\"text-align: right;\">\n",
       "      <th></th>\n",
       "      <th>Category</th>\n",
       "      <th>Message</th>\n",
       "    </tr>\n",
       "  </thead>\n",
       "  <tbody>\n",
       "    <tr>\n",
       "      <th>0</th>\n",
       "      <td>ham</td>\n",
       "      <td>Go until jurong point, crazy.. Available only ...</td>\n",
       "    </tr>\n",
       "    <tr>\n",
       "      <th>1</th>\n",
       "      <td>ham</td>\n",
       "      <td>Ok lar... Joking wif u oni...</td>\n",
       "    </tr>\n",
       "    <tr>\n",
       "      <th>2</th>\n",
       "      <td>spam</td>\n",
       "      <td>Free entry in 2 a wkly comp to win FA Cup fina...</td>\n",
       "    </tr>\n",
       "    <tr>\n",
       "      <th>3</th>\n",
       "      <td>ham</td>\n",
       "      <td>U dun say so early hor... U c already then say...</td>\n",
       "    </tr>\n",
       "    <tr>\n",
       "      <th>4</th>\n",
       "      <td>ham</td>\n",
       "      <td>Nah I don't think he goes to usf, he lives aro...</td>\n",
       "    </tr>\n",
       "  </tbody>\n",
       "</table>\n",
       "</div>"
      ],
      "text/plain": [
       "  Category                                            Message\n",
       "0      ham  Go until jurong point, crazy.. Available only ...\n",
       "1      ham                      Ok lar... Joking wif u oni...\n",
       "2     spam  Free entry in 2 a wkly comp to win FA Cup fina...\n",
       "3      ham  U dun say so early hor... U c already then say...\n",
       "4      ham  Nah I don't think he goes to usf, he lives aro..."
      ]
     },
     "execution_count": 272,
     "metadata": {},
     "output_type": "execute_result"
    }
   ],
   "source": [
    "spam_df.head()"
   ]
  },
  {
   "cell_type": "code",
   "execution_count": 273,
   "id": "874fc824",
   "metadata": {},
   "outputs": [
    {
     "data": {
      "text/plain": [
       "(5572, 2)"
      ]
     },
     "execution_count": 273,
     "metadata": {},
     "output_type": "execute_result"
    }
   ],
   "source": [
    "spam_df.shape"
   ]
  },
  {
   "cell_type": "code",
   "execution_count": 274,
   "id": "1f04fc81",
   "metadata": {},
   "outputs": [
    {
     "name": "stdout",
     "output_type": "stream",
     "text": [
      "<class 'pandas.core.frame.DataFrame'>\n",
      "RangeIndex: 5572 entries, 0 to 5571\n",
      "Data columns (total 2 columns):\n",
      " #   Column    Non-Null Count  Dtype \n",
      "---  ------    --------------  ----- \n",
      " 0   Category  5572 non-null   object\n",
      " 1   Message   5572 non-null   object\n",
      "dtypes: object(2)\n",
      "memory usage: 87.2+ KB\n"
     ]
    }
   ],
   "source": [
    "spam_df.info() "
   ]
  },
  {
   "cell_type": "code",
   "execution_count": 275,
   "id": "75f19697",
   "metadata": {},
   "outputs": [
    {
     "data": {
      "text/plain": [
       "Category    0\n",
       "Message     0\n",
       "dtype: int64"
      ]
     },
     "execution_count": 275,
     "metadata": {},
     "output_type": "execute_result"
    }
   ],
   "source": [
    "spam_df.isnull().sum()"
   ]
  },
  {
   "cell_type": "code",
   "execution_count": 276,
   "id": "07318f77",
   "metadata": {},
   "outputs": [],
   "source": [
    "spam_df.fillna('', inplace = True) #convert null values with null strings if present"
   ]
  },
  {
   "cell_type": "code",
   "execution_count": 277,
   "id": "cfd0eaa3",
   "metadata": {},
   "outputs": [],
   "source": [
    "#Remove stopwords"
   ]
  },
  {
   "cell_type": "markdown",
   "id": "20f83b59",
   "metadata": {},
   "source": [
    "Label Encoding"
   ]
  },
  {
   "cell_type": "code",
   "execution_count": 278,
   "id": "06259c49",
   "metadata": {},
   "outputs": [],
   "source": [
    "spam_df.replace({'Category': {'ham':0, 'spam':1}}, inplace = True)"
   ]
  },
  {
   "cell_type": "code",
   "execution_count": 279,
   "id": "91e7b86b",
   "metadata": {},
   "outputs": [
    {
     "data": {
      "text/html": [
       "<div>\n",
       "<style scoped>\n",
       "    .dataframe tbody tr th:only-of-type {\n",
       "        vertical-align: middle;\n",
       "    }\n",
       "\n",
       "    .dataframe tbody tr th {\n",
       "        vertical-align: top;\n",
       "    }\n",
       "\n",
       "    .dataframe thead th {\n",
       "        text-align: right;\n",
       "    }\n",
       "</style>\n",
       "<table border=\"1\" class=\"dataframe\">\n",
       "  <thead>\n",
       "    <tr style=\"text-align: right;\">\n",
       "      <th></th>\n",
       "      <th>Category</th>\n",
       "      <th>Message</th>\n",
       "    </tr>\n",
       "  </thead>\n",
       "  <tbody>\n",
       "    <tr>\n",
       "      <th>0</th>\n",
       "      <td>0</td>\n",
       "      <td>Go until jurong point, crazy.. Available only ...</td>\n",
       "    </tr>\n",
       "    <tr>\n",
       "      <th>1</th>\n",
       "      <td>0</td>\n",
       "      <td>Ok lar... Joking wif u oni...</td>\n",
       "    </tr>\n",
       "    <tr>\n",
       "      <th>2</th>\n",
       "      <td>1</td>\n",
       "      <td>Free entry in 2 a wkly comp to win FA Cup fina...</td>\n",
       "    </tr>\n",
       "    <tr>\n",
       "      <th>3</th>\n",
       "      <td>0</td>\n",
       "      <td>U dun say so early hor... U c already then say...</td>\n",
       "    </tr>\n",
       "    <tr>\n",
       "      <th>4</th>\n",
       "      <td>0</td>\n",
       "      <td>Nah I don't think he goes to usf, he lives aro...</td>\n",
       "    </tr>\n",
       "  </tbody>\n",
       "</table>\n",
       "</div>"
      ],
      "text/plain": [
       "   Category                                            Message\n",
       "0         0  Go until jurong point, crazy.. Available only ...\n",
       "1         0                      Ok lar... Joking wif u oni...\n",
       "2         1  Free entry in 2 a wkly comp to win FA Cup fina...\n",
       "3         0  U dun say so early hor... U c already then say...\n",
       "4         0  Nah I don't think he goes to usf, he lives aro..."
      ]
     },
     "execution_count": 279,
     "metadata": {},
     "output_type": "execute_result"
    }
   ],
   "source": [
    "spam_df.head()"
   ]
  },
  {
   "cell_type": "code",
   "execution_count": 280,
   "id": "6fce1f4c",
   "metadata": {},
   "outputs": [],
   "source": [
    "ps = PorterStemmer()"
   ]
  },
  {
   "cell_type": "code",
   "execution_count": 281,
   "id": "61b5f484",
   "metadata": {},
   "outputs": [
    {
     "name": "stdout",
     "output_type": "stream",
     "text": [
      "batman\n",
      "bat\n",
      "bat\n",
      "batwoman\n"
     ]
    }
   ],
   "source": [
    "print(ps.stem('batman'))\n",
    "print(ps.stem('bat'))\n",
    "print(ps.stem('batting')) #bat and batting comes from same word 'bat' but batman and batwoman have diff meanings\n",
    "print(ps.stem('batwoman'))"
   ]
  },
  {
   "cell_type": "markdown",
   "id": "653a428e",
   "metadata": {},
   "source": [
    "Porter Stemming"
   ]
  },
  {
   "cell_type": "code",
   "execution_count": 282,
   "id": "01319228",
   "metadata": {},
   "outputs": [],
   "source": [
    "def stemming(content):\n",
    "    content = re.sub('^[A-Za-z]','', content)\n",
    "    content_stemmed = content.lower()\n",
    "    content_stemmed = content_stemmed.split()\n",
    "    ps = PorterStemmer()\n",
    "    content_stemmed = [ps.stem(words) for words in content_stemmed]\n",
    "    content_stemmed = ' '.join(content_stemmed)\n",
    "    return content_stemmed"
   ]
  },
  {
   "cell_type": "code",
   "execution_count": 283,
   "id": "42b3c7b3",
   "metadata": {},
   "outputs": [],
   "source": [
    "spam_df['Message'] = spam_df['Message'].apply(stemming)"
   ]
  },
  {
   "cell_type": "code",
   "execution_count": 284,
   "id": "59c7a7ef",
   "metadata": {},
   "outputs": [
    {
     "name": "stdout",
     "output_type": "stream",
     "text": [
      "0       o until jurong point, crazy.. avail onli in bu...\n",
      "1                              k lar... joke wif u oni...\n",
      "2       ree entri in 2 a wkli comp to win fa cup final...\n",
      "3         dun say so earli hor... u c alreadi then say...\n",
      "4       ah i don't think he goe to usf, he live around...\n",
      "                              ...                        \n",
      "5567    hi is the 2nd time we have tri 2 contact u. u ...\n",
      "5568                      ill ü b go to esplanad fr home?\n",
      "5569    ity, * wa in mood for that. so...ani other sug...\n",
      "5570    he guy did some bitch but i act like i'd be in...\n",
      "5571                              ofl. it true to it name\n",
      "Name: Message, Length: 5572, dtype: object\n"
     ]
    }
   ],
   "source": [
    "print(spam_df['Message'])"
   ]
  },
  {
   "cell_type": "code",
   "execution_count": 285,
   "id": "20994c8c",
   "metadata": {},
   "outputs": [],
   "source": [
    "X = spam_df['Message']\n",
    "Y = spam_df['Category']"
   ]
  },
  {
   "cell_type": "code",
   "execution_count": 335,
   "id": "d96caf43",
   "metadata": {},
   "outputs": [],
   "source": [
    "Y = spam_df['Category'].astype(int)"
   ]
  },
  {
   "cell_type": "code",
   "execution_count": 337,
   "id": "f12f8322",
   "metadata": {},
   "outputs": [
    {
     "data": {
      "text/plain": [
       "0    4825\n",
       "1     747\n",
       "Name: Category, dtype: int64"
      ]
     },
     "execution_count": 337,
     "metadata": {},
     "output_type": "execute_result"
    }
   ],
   "source": [
    "spam_df['Category'].value_counts()"
   ]
  },
  {
   "cell_type": "code",
   "execution_count": 338,
   "id": "c85a34b7",
   "metadata": {},
   "outputs": [],
   "source": [
    "sample_1 = spam_df[spam_df['Category'] ==0].sample(n = 747)\n",
    "sample_2 = spam_df[spam_df['Category'] ==1].sample(n = 747)"
   ]
  },
  {
   "cell_type": "code",
   "execution_count": 339,
   "id": "2c6f9840",
   "metadata": {},
   "outputs": [],
   "source": [
    "new_spam_df = pd.concat((sample_1, sample_2))"
   ]
  },
  {
   "cell_type": "code",
   "execution_count": 340,
   "id": "e1e9a9b2",
   "metadata": {},
   "outputs": [
    {
     "data": {
      "text/plain": [
       "0    747\n",
       "1    747\n",
       "Name: Category, dtype: int64"
      ]
     },
     "execution_count": 340,
     "metadata": {},
     "output_type": "execute_result"
    }
   ],
   "source": [
    "new_spam_df['Category'].value_counts()"
   ]
  },
  {
   "cell_type": "code",
   "execution_count": 341,
   "id": "3f9adf3c",
   "metadata": {},
   "outputs": [
    {
     "data": {
      "text/plain": [
       "(1494,)"
      ]
     },
     "execution_count": 341,
     "metadata": {},
     "output_type": "execute_result"
    }
   ],
   "source": [
    "new_spam_df['Message'].shape"
   ]
  },
  {
   "cell_type": "code",
   "execution_count": 342,
   "id": "3c6edf7b",
   "metadata": {},
   "outputs": [],
   "source": [
    "X = new_spam_df['Message']\n",
    "Y = new_spam_df['Category'].astype(int)"
   ]
  },
  {
   "cell_type": "code",
   "execution_count": null,
   "id": "81036eed",
   "metadata": {},
   "outputs": [],
   "source": []
  },
  {
   "cell_type": "markdown",
   "id": "3a1c928c",
   "metadata": {},
   "source": [
    "Tf-Idf Vectorizer"
   ]
  },
  {
   "cell_type": "code",
   "execution_count": 343,
   "id": "4ced0608",
   "metadata": {},
   "outputs": [],
   "source": [
    "vectorizer = TfidfVectorizer(min_df =1, stop_words = 'english', lowercase= 'True')"
   ]
  },
  {
   "cell_type": "code",
   "execution_count": 351,
   "id": "848f8154",
   "metadata": {},
   "outputs": [],
   "source": [
    "X = vectorizer.fit_transform(X)"
   ]
  },
  {
   "cell_type": "code",
   "execution_count": null,
   "id": "4914ef68",
   "metadata": {},
   "outputs": [],
   "source": []
  },
  {
   "cell_type": "code",
   "execution_count": 352,
   "id": "a815f3f2",
   "metadata": {},
   "outputs": [
    {
     "data": {
      "text/plain": [
       "(1494, 4298)"
      ]
     },
     "execution_count": 352,
     "metadata": {},
     "output_type": "execute_result"
    }
   ],
   "source": [
    "X.shape"
   ]
  },
  {
   "cell_type": "code",
   "execution_count": 353,
   "id": "8d6ca544",
   "metadata": {},
   "outputs": [
    {
     "data": {
      "text/plain": [
       "(1494,)"
      ]
     },
     "execution_count": 353,
     "metadata": {},
     "output_type": "execute_result"
    }
   ],
   "source": [
    "Y.shape"
   ]
  },
  {
   "cell_type": "code",
   "execution_count": 354,
   "id": "d6f19d27",
   "metadata": {},
   "outputs": [],
   "source": [
    "X_train, X_test, Y_train, Y_test = train_test_split(X, Y, test_size = 0.2, random_state = 2, stratify = Y)"
   ]
  },
  {
   "cell_type": "code",
   "execution_count": 355,
   "id": "13ea24b7",
   "metadata": {},
   "outputs": [
    {
     "name": "stdout",
     "output_type": "stream",
     "text": [
      "(1494, 4298) (1195, 4298) (299, 4298)\n"
     ]
    }
   ],
   "source": [
    "print(X.shape, X_train.shape, X_test.shape)"
   ]
  },
  {
   "cell_type": "code",
   "execution_count": 356,
   "id": "d79866dc",
   "metadata": {},
   "outputs": [],
   "source": [
    "model = LogisticRegression()"
   ]
  },
  {
   "cell_type": "code",
   "execution_count": 357,
   "id": "bf8093e1",
   "metadata": {},
   "outputs": [
    {
     "data": {
      "text/plain": [
       "LogisticRegression()"
      ]
     },
     "execution_count": 357,
     "metadata": {},
     "output_type": "execute_result"
    }
   ],
   "source": [
    "model.fit(X_train, Y_train)"
   ]
  },
  {
   "cell_type": "code",
   "execution_count": 358,
   "id": "18c05b54",
   "metadata": {},
   "outputs": [
    {
     "name": "stdout",
     "output_type": "stream",
     "text": [
      "Accuracy of training data is:  0.9815899581589959\n"
     ]
    }
   ],
   "source": [
    "spam_train_predict = model.predict(X_train)\n",
    "spam_train_accuracy = accuracy_score(spam_train_predict, Y_train)\n",
    "print('Accuracy of training data is: ',spam_train_accuracy )"
   ]
  },
  {
   "cell_type": "code",
   "execution_count": 359,
   "id": "f438ee16",
   "metadata": {},
   "outputs": [
    {
     "name": "stdout",
     "output_type": "stream",
     "text": [
      "Accuracy of testing data is:  0.959866220735786\n"
     ]
    }
   ],
   "source": [
    "spam_test_predict = model.predict(X_test)\n",
    "spam_test_accuracy = accuracy_score(spam_test_predict, Y_test)\n",
    "print('Accuracy of testing data is: ',spam_test_accuracy )"
   ]
  },
  {
   "cell_type": "code",
   "execution_count": null,
   "id": "1fc6fee8",
   "metadata": {},
   "outputs": [],
   "source": []
  },
  {
   "cell_type": "code",
   "execution_count": null,
   "id": "22e7e68e",
   "metadata": {},
   "outputs": [],
   "source": []
  },
  {
   "cell_type": "code",
   "execution_count": null,
   "id": "e4ad396d",
   "metadata": {},
   "outputs": [],
   "source": []
  },
  {
   "cell_type": "code",
   "execution_count": null,
   "id": "0dae31fe",
   "metadata": {},
   "outputs": [],
   "source": []
  },
  {
   "cell_type": "code",
   "execution_count": null,
   "id": "619e29eb",
   "metadata": {},
   "outputs": [],
   "source": []
  }
 ],
 "metadata": {
  "kernelspec": {
   "display_name": "Python 3 (ipykernel)",
   "language": "python",
   "name": "python3"
  },
  "language_info": {
   "codemirror_mode": {
    "name": "ipython",
    "version": 3
   },
   "file_extension": ".py",
   "mimetype": "text/x-python",
   "name": "python",
   "nbconvert_exporter": "python",
   "pygments_lexer": "ipython3",
   "version": "3.9.7"
  }
 },
 "nbformat": 4,
 "nbformat_minor": 5
}
