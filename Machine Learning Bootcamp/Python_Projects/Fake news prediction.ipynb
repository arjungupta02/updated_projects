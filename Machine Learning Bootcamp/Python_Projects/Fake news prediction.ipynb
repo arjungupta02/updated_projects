{
 "cells": [
  {
   "cell_type": "markdown",
   "id": "8c037fc8",
   "metadata": {},
   "source": [
    "1 : Fake news\n",
    "0 : Real news "
   ]
  },
  {
   "cell_type": "code",
   "execution_count": 242,
   "id": "19b8a1d0",
   "metadata": {},
   "outputs": [],
   "source": [
    "import numpy as np\n",
    "import pandas as pd\n",
    "import re\n",
    "from nltk.corpus import stopwords\n",
    "from nltk.stem.porter import PorterStemmer\n",
    "from sklearn.feature_extraction.text import TfidfVectorizer\n",
    "from sklearn.model_selection import train_test_split\n",
    "from sklearn.linear_model import LogisticRegression\n",
    "from sklearn.metrics import accuracy_score"
   ]
  },
  {
   "cell_type": "code",
   "execution_count": 243,
   "id": "83d350da",
   "metadata": {},
   "outputs": [],
   "source": [
    "news_df = pd.read_csv('data.csv')"
   ]
  },
  {
   "cell_type": "code",
   "execution_count": 244,
   "id": "d8cdd80a",
   "metadata": {},
   "outputs": [
    {
     "data": {
      "text/html": [
       "<div>\n",
       "<style scoped>\n",
       "    .dataframe tbody tr th:only-of-type {\n",
       "        vertical-align: middle;\n",
       "    }\n",
       "\n",
       "    .dataframe tbody tr th {\n",
       "        vertical-align: top;\n",
       "    }\n",
       "\n",
       "    .dataframe thead th {\n",
       "        text-align: right;\n",
       "    }\n",
       "</style>\n",
       "<table border=\"1\" class=\"dataframe\">\n",
       "  <thead>\n",
       "    <tr style=\"text-align: right;\">\n",
       "      <th></th>\n",
       "      <th>URLs</th>\n",
       "      <th>Headline</th>\n",
       "      <th>Body</th>\n",
       "      <th>Label</th>\n",
       "    </tr>\n",
       "  </thead>\n",
       "  <tbody>\n",
       "    <tr>\n",
       "      <th>0</th>\n",
       "      <td>http://www.bbc.com/news/world-us-canada-414191...</td>\n",
       "      <td>Four ways Bob Corker skewered Donald Trump</td>\n",
       "      <td>Image copyright Getty Images\\nOn Sunday mornin...</td>\n",
       "      <td>1</td>\n",
       "    </tr>\n",
       "    <tr>\n",
       "      <th>1</th>\n",
       "      <td>https://www.reuters.com/article/us-filmfestiva...</td>\n",
       "      <td>Linklater's war veteran comedy speaks to moder...</td>\n",
       "      <td>LONDON (Reuters) - “Last Flag Flying”, a comed...</td>\n",
       "      <td>1</td>\n",
       "    </tr>\n",
       "    <tr>\n",
       "      <th>2</th>\n",
       "      <td>https://www.nytimes.com/2017/10/09/us/politics...</td>\n",
       "      <td>Trump’s Fight With Corker Jeopardizes His Legi...</td>\n",
       "      <td>The feud broke into public view last week when...</td>\n",
       "      <td>1</td>\n",
       "    </tr>\n",
       "    <tr>\n",
       "      <th>3</th>\n",
       "      <td>https://www.reuters.com/article/us-mexico-oil-...</td>\n",
       "      <td>Egypt's Cheiron wins tie-up with Pemex for Mex...</td>\n",
       "      <td>MEXICO CITY (Reuters) - Egypt’s Cheiron Holdin...</td>\n",
       "      <td>1</td>\n",
       "    </tr>\n",
       "    <tr>\n",
       "      <th>4</th>\n",
       "      <td>http://www.cnn.com/videos/cnnmoney/2017/10/08/...</td>\n",
       "      <td>Jason Aldean opens 'SNL' with Vegas tribute</td>\n",
       "      <td>Country singer Jason Aldean, who was performin...</td>\n",
       "      <td>1</td>\n",
       "    </tr>\n",
       "  </tbody>\n",
       "</table>\n",
       "</div>"
      ],
      "text/plain": [
       "                                                URLs  \\\n",
       "0  http://www.bbc.com/news/world-us-canada-414191...   \n",
       "1  https://www.reuters.com/article/us-filmfestiva...   \n",
       "2  https://www.nytimes.com/2017/10/09/us/politics...   \n",
       "3  https://www.reuters.com/article/us-mexico-oil-...   \n",
       "4  http://www.cnn.com/videos/cnnmoney/2017/10/08/...   \n",
       "\n",
       "                                            Headline  \\\n",
       "0         Four ways Bob Corker skewered Donald Trump   \n",
       "1  Linklater's war veteran comedy speaks to moder...   \n",
       "2  Trump’s Fight With Corker Jeopardizes His Legi...   \n",
       "3  Egypt's Cheiron wins tie-up with Pemex for Mex...   \n",
       "4        Jason Aldean opens 'SNL' with Vegas tribute   \n",
       "\n",
       "                                                Body  Label  \n",
       "0  Image copyright Getty Images\\nOn Sunday mornin...      1  \n",
       "1  LONDON (Reuters) - “Last Flag Flying”, a comed...      1  \n",
       "2  The feud broke into public view last week when...      1  \n",
       "3  MEXICO CITY (Reuters) - Egypt’s Cheiron Holdin...      1  \n",
       "4  Country singer Jason Aldean, who was performin...      1  "
      ]
     },
     "execution_count": 244,
     "metadata": {},
     "output_type": "execute_result"
    }
   ],
   "source": [
    "news_df.head()"
   ]
  },
  {
   "cell_type": "code",
   "execution_count": 245,
   "id": "78c8706a",
   "metadata": {},
   "outputs": [
    {
     "data": {
      "text/plain": [
       "0    2137\n",
       "1    1872\n",
       "Name: Label, dtype: int64"
      ]
     },
     "execution_count": 245,
     "metadata": {},
     "output_type": "execute_result"
    }
   ],
   "source": [
    "news_df['Label'].value_counts()"
   ]
  },
  {
   "cell_type": "code",
   "execution_count": 246,
   "id": "c73372be",
   "metadata": {},
   "outputs": [
    {
     "data": {
      "text/plain": [
       "URLs         0\n",
       "Headline     0\n",
       "Body        21\n",
       "Label        0\n",
       "dtype: int64"
      ]
     },
     "execution_count": 246,
     "metadata": {},
     "output_type": "execute_result"
    }
   ],
   "source": [
    "news_df.isnull().sum()\n",
    "#if nulls --> replace with ' ' string"
   ]
  },
  {
   "cell_type": "code",
   "execution_count": 247,
   "id": "1609e58f",
   "metadata": {},
   "outputs": [],
   "source": [
    "news_df.fillna('', inplace = True)"
   ]
  },
  {
   "cell_type": "code",
   "execution_count": 248,
   "id": "e90eead3",
   "metadata": {},
   "outputs": [
    {
     "data": {
      "text/plain": [
       "URLs        0\n",
       "Headline    0\n",
       "Body        0\n",
       "Label       0\n",
       "dtype: int64"
      ]
     },
     "execution_count": 248,
     "metadata": {},
     "output_type": "execute_result"
    }
   ],
   "source": [
    "news_df.isnull().sum()"
   ]
  },
  {
   "cell_type": "markdown",
   "id": "26815a7e",
   "metadata": {},
   "source": [
    "Stemming \n",
    "\n",
    "Stemming is process to reduce words to root word. For eg. acting, action,etc. to act"
   ]
  },
  {
   "cell_type": "code",
   "execution_count": 249,
   "id": "a912f88b",
   "metadata": {},
   "outputs": [],
   "source": [
    "port_stemmer = PorterStemmer()"
   ]
  },
  {
   "cell_type": "code",
   "execution_count": 250,
   "id": "d5c40b75",
   "metadata": {},
   "outputs": [],
   "source": [
    "def stemming(content):\n",
    "    stemmed_content = re.sub('[^A-Za-z]', ' ', content)\n",
    "    stemmed_content = stemmed_content.lower()\n",
    "    stemmed_content = stemmed_content.split()\n",
    "    stemmed_content = [port_stemmer.stem(word) for word in stemmed_content ] #if not word in stopwords.words('English')]\n",
    "    stemmed_content = ' '.join(stemmed_content)\n",
    "    return stemmed_content"
   ]
  },
  {
   "cell_type": "code",
   "execution_count": 251,
   "id": "9c4b8ed9",
   "metadata": {},
   "outputs": [],
   "source": [
    "news_df['Headline']= news_df['Headline'].apply(stemming)"
   ]
  },
  {
   "cell_type": "code",
   "execution_count": 253,
   "id": "ad16f6d9",
   "metadata": {},
   "outputs": [],
   "source": [
    "X = news_df['Headline'].values\n",
    "Y = news_df['Label'].values"
   ]
  },
  {
   "cell_type": "code",
   "execution_count": 254,
   "id": "5d255f75",
   "metadata": {},
   "outputs": [],
   "source": [
    "vectorise = TfidfVectorizer()\n",
    "vectorise.fit(X)\n",
    "X = vectorise.transform(X)"
   ]
  },
  {
   "cell_type": "code",
   "execution_count": 255,
   "id": "270ab978",
   "metadata": {},
   "outputs": [
    {
     "name": "stdout",
     "output_type": "stream",
     "text": [
      "  (0, 5338)\t0.37863563249625337\n",
      "  (0, 5077)\t0.19663377847748262\n",
      "  (0, 4474)\t0.5210398276773331\n",
      "  (0, 1926)\t0.38469689571798976\n",
      "  (0, 1428)\t0.32732150493643364\n",
      "  (0, 1069)\t0.38469689571798976\n",
      "  (0, 550)\t0.37863563249625337\n",
      "  (1, 5317)\t0.26427916335070045\n",
      "  (1, 5251)\t0.34824993274445065\n",
      "  (1, 4972)\t0.1245242242679185\n",
      "  (1, 4629)\t0.2952348501759012\n",
      "  (1, 4571)\t0.35936090719651564\n",
      "  (1, 4269)\t0.21578777741735192\n",
      "  (1, 3162)\t0.36600982841006474\n",
      "  (1, 2856)\t0.4081992836939202\n",
      "  (1, 979)\t0.3827637717927405\n",
      "  (1, 151)\t0.28880101760970767\n",
      "  (2, 5424)\t0.2110259636641431\n",
      "  (2, 5077)\t0.1767698192268701\n",
      "  (2, 2801)\t0.4463291612782778\n",
      "  (2, 2604)\t0.4684043446740203\n",
      "  (2, 2303)\t0.27804013300581815\n",
      "  (2, 1819)\t0.33089331865470845\n",
      "  (2, 1069)\t0.3458347860664969\n",
      "  (2, 77)\t0.4463291612782778\n",
      "  :\t:\n",
      "  (4006, 138)\t0.49780149355863224\n",
      "  (4007, 5185)\t0.2161821536416761\n",
      "  (4007, 5054)\t0.34208603051436154\n",
      "  (4007, 4972)\t0.22798852988822443\n",
      "  (4007, 4577)\t0.35039668039908134\n",
      "  (4007, 3514)\t0.3605680938162077\n",
      "  (4007, 2453)\t0.12930088724942587\n",
      "  (4007, 1474)\t0.2946140876625188\n",
      "  (4007, 1202)\t0.28083540708761107\n",
      "  (4007, 867)\t0.2591644650455607\n",
      "  (4007, 480)\t0.292008671310537\n",
      "  (4007, 224)\t0.297377502012251\n",
      "  (4007, 23)\t0.32897279791422934\n",
      "  (4008, 5255)\t0.39200195535684224\n",
      "  (4008, 3844)\t0.27059542854983487\n",
      "  (4008, 3775)\t0.2344043875420557\n",
      "  (4008, 3601)\t0.3257132922736127\n",
      "  (4008, 3421)\t0.14531056848492668\n",
      "  (4008, 3329)\t0.25291517485537474\n",
      "  (4008, 3118)\t0.3344313918274196\n",
      "  (4008, 2790)\t0.2851979125868802\n",
      "  (4008, 2003)\t0.2075608889942027\n",
      "  (4008, 427)\t0.3344313918274196\n",
      "  (4008, 197)\t0.30905825438733914\n",
      "  (4008, 152)\t0.28874154555232845\n"
     ]
    }
   ],
   "source": [
    "print(X)"
   ]
  },
  {
   "cell_type": "markdown",
   "id": "ff2b7c55",
   "metadata": {},
   "source": [
    "Splitting into training and testing"
   ]
  },
  {
   "cell_type": "code",
   "execution_count": 257,
   "id": "1f5f6172",
   "metadata": {},
   "outputs": [],
   "source": [
    "X_train, X_test, Y_train, Y_test = train_test_split(X, Y, test_size = 0.2, random_state = 2, stratify = Y)"
   ]
  },
  {
   "cell_type": "code",
   "execution_count": 258,
   "id": "c8c7b2bf",
   "metadata": {},
   "outputs": [
    {
     "name": "stdout",
     "output_type": "stream",
     "text": [
      "(3207, 5515) (802, 5515) (3207,) (802,)\n"
     ]
    }
   ],
   "source": [
    "print(X_train.shape, X_test.shape, Y_train.shape, Y_test.shape)"
   ]
  },
  {
   "cell_type": "code",
   "execution_count": 259,
   "id": "1a42d326",
   "metadata": {},
   "outputs": [],
   "source": [
    "model = LogisticRegression()"
   ]
  },
  {
   "cell_type": "code",
   "execution_count": 260,
   "id": "e56bbcc0",
   "metadata": {},
   "outputs": [
    {
     "data": {
      "text/plain": [
       "LogisticRegression()"
      ]
     },
     "execution_count": 260,
     "metadata": {},
     "output_type": "execute_result"
    }
   ],
   "source": [
    "model.fit(X_train, Y_train)"
   ]
  },
  {
   "cell_type": "markdown",
   "id": "bf16eca4",
   "metadata": {},
   "source": [
    "Evaluating the results"
   ]
  },
  {
   "cell_type": "code",
   "execution_count": 262,
   "id": "40cf3ae9",
   "metadata": {},
   "outputs": [],
   "source": [
    "X_train_prediction = model.predict(X_train)\n",
    "Train_accuracy = accuracy_score(X_train_prediction, Y_train)"
   ]
  },
  {
   "cell_type": "code",
   "execution_count": 263,
   "id": "1988eb40",
   "metadata": {},
   "outputs": [
    {
     "name": "stdout",
     "output_type": "stream",
     "text": [
      "Accuracy of training data is : 0.9441845961958216\n"
     ]
    }
   ],
   "source": [
    "print('Accuracy of training data is :',Train_accuracy )"
   ]
  },
  {
   "cell_type": "code",
   "execution_count": 265,
   "id": "a5d6ca8b",
   "metadata": {},
   "outputs": [],
   "source": [
    "X_test_prediction = model.predict(X_test)\n",
    "Test_accuracy = accuracy_score(X_test_prediction, Y_test)"
   ]
  },
  {
   "cell_type": "code",
   "execution_count": 266,
   "id": "c4bf95df",
   "metadata": {},
   "outputs": [
    {
     "name": "stdout",
     "output_type": "stream",
     "text": [
      "Accuracy of testing data is : 0.8541147132169576\n"
     ]
    }
   ],
   "source": [
    "print('Accuracy of testing data is :',Test_accuracy )"
   ]
  },
  {
   "cell_type": "code",
   "execution_count": null,
   "id": "383b59cc",
   "metadata": {},
   "outputs": [],
   "source": []
  }
 ],
 "metadata": {
  "kernelspec": {
   "display_name": "Python 3 (ipykernel)",
   "language": "python",
   "name": "python3"
  },
  "language_info": {
   "codemirror_mode": {
    "name": "ipython",
    "version": 3
   },
   "file_extension": ".py",
   "mimetype": "text/x-python",
   "name": "python",
   "nbconvert_exporter": "python",
   "pygments_lexer": "ipython3",
   "version": "3.9.7"
  }
 },
 "nbformat": 4,
 "nbformat_minor": 5
}
