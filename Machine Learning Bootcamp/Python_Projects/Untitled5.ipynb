{
 "cells": [
  {
   "cell_type": "code",
   "execution_count": 1,
   "id": "3b884b32",
   "metadata": {},
   "outputs": [
    {
     "data": {
      "text/plain": [
       "[2, 3, 4, 10, 5]"
      ]
     },
     "execution_count": 1,
     "metadata": {},
     "output_type": "execute_result"
    }
   ],
   "source": [
    "[2,3,4,10,5]"
   ]
  },
  {
   "cell_type": "code",
   "execution_count": 6,
   "id": "89c2b441",
   "metadata": {},
   "outputs": [],
   "source": [
    "my_list = [12,3543,235,45614,743,67,80,901]"
   ]
  },
  {
   "cell_type": "code",
   "execution_count": 4,
   "id": "1d11676b",
   "metadata": {},
   "outputs": [
    {
     "data": {
      "text/plain": [
       "(901, 45614, 12, 235, 3543, 743, 67, 80)"
      ]
     },
     "execution_count": 4,
     "metadata": {},
     "output_type": "execute_result"
    }
   ],
   "source": [
    "901, 45614, 12, 235,3543, 743, 67,80 "
   ]
  },
  {
   "cell_type": "code",
   "execution_count": 47,
   "id": "9071be7b",
   "metadata": {},
   "outputs": [
    {
     "name": "stdout",
     "output_type": "stream",
     "text": [
      "[12, 3543, 235, 45614, 743, 67, 80, 901]\n",
      "[1, 4, 3, 1, 4, 6, 8, 0]\n"
     ]
    }
   ],
   "source": [
    "import pandas as pd\n",
    "#len of each element \n",
    "tenth_place = list(map(lambda x :  x//10%10, my_list))\n",
    "print(my_list)\n",
    "print(tenth_place)\n",
    "\n",
    "\n",
    "my_list"
   ]
  },
  {
   "cell_type": "code",
   "execution_count": 37,
   "id": "492473a5",
   "metadata": {},
   "outputs": [
    {
     "data": {
      "text/plain": [
       "[1, 4, 3, 1, 4, 6, 8, 0]"
      ]
     },
     "execution_count": 37,
     "metadata": {},
     "output_type": "execute_result"
    }
   ],
   "source": [
    "list(map(lambda x :  x//10%10, my_list))"
   ]
  },
  {
   "cell_type": "code",
   "execution_count": 32,
   "id": "e3e4ca96",
   "metadata": {},
   "outputs": [
    {
     "data": {
      "text/plain": [
       "3"
      ]
     },
     "execution_count": 32,
     "metadata": {},
     "output_type": "execute_result"
    }
   ],
   "source": [
    "235//10 %10"
   ]
  },
  {
   "cell_type": "code",
   "execution_count": 28,
   "id": "db5403de",
   "metadata": {},
   "outputs": [
    {
     "data": {
      "text/plain": [
       "118"
      ]
     },
     "execution_count": 28,
     "metadata": {},
     "output_type": "execute_result"
    }
   ],
   "source": [
    "236//2"
   ]
  },
  {
   "cell_type": "markdown",
   "id": "600c9110",
   "metadata": {},
   "source": [
    "sum of three prime number is 100\n",
    "In one of the pairs, one number exceeds by 36"
   ]
  },
  {
   "cell_type": "markdown",
   "id": "2185bd00",
   "metadata": {},
   "source": [
    "x #prime number\n",
    "y #prime number\n",
    "z #prime number\n",
    "\n",
    "\n",
    "\n",
    "x + y + z = 100\n",
    "y+ 36 + y + z  = 100 > 2y + z = 64 > z = 64 - 2y\n",
    "\n",
    "2y + z = 64\n",
    "\n",
    "z= 2 >  #prime even number \n",
    "y = 31\n",
    "x =67"
   ]
  },
  {
   "cell_type": "markdown",
   "id": "51c3a268",
   "metadata": {},
   "source": [
    "Cruise company (Ship company)\n",
    "\n",
    "\n",
    "#predict the timing of customer booking \n",
    "\n",
    "#domestic > #asia pacific #people cruise \n",
    " \n",
    "\n",
    "Demographic > Age, Income , \n",
    "Seasonality > Weather conditions (temp)> continous > category (lower  , Holidays (datetime), > 1, 0 (category) , competitors (if a person signed up for another holiday or not) > \n",
    "Customer > Last 3 , 6, 1year bookings, Acquisitions (New customers), Active (Right now), Repetitive customers(booked before), \n",
    "Click through rate , Bounce rate , Engagement metrics (Numberspf customers are active at a time, Number of customers who have visited a page), Support costs(Call, raise a ticket) \n",
    "\n",
    "EDA ( Distribution of continous)\n",
    "Feature engineering\n",
    "Training structure \n",
    "X = \n",
    "Y = Dependant  0,1,,2 (Multi-class problem)\n",
    "\n",
    "3 months, 6 months , 1 year > 0,1,2 > date of ride \n",
    "\n",
    "3-6 months, 6months-1 year > 0,1\n",
    "\n",
    "oct 2022 (date of booking) >\n",
    "\n",
    "segmentation > \n",
    "\n",
    "#propensity model "
   ]
  }
 ],
 "metadata": {
  "kernelspec": {
   "display_name": "Python 3 (ipykernel)",
   "language": "python",
   "name": "python3"
  },
  "language_info": {
   "codemirror_mode": {
    "name": "ipython",
    "version": 3
   },
   "file_extension": ".py",
   "mimetype": "text/x-python",
   "name": "python",
   "nbconvert_exporter": "python",
   "pygments_lexer": "ipython3",
   "version": "3.9.7"
  }
 },
 "nbformat": 4,
 "nbformat_minor": 5
}
