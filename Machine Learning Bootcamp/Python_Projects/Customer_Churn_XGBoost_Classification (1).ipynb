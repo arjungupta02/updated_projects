{
 "cells": [
  {
   "cell_type": "markdown",
   "id": "337253c8",
   "metadata": {},
   "source": [
    "### Introduction\n",
    "\n",
    "\n",
    "**What is Customer Churn?**<br>\n",
    "Customer churn is defined as when customers or subscribers discontinue doing business with a firm or service.\n",
    "\n",
    "Customers in the telecom industry can choose from a variety of service providers and actively switch from one to the next. The telecommunications business has an annual churn rate of 15-25 percent in this highly competitive market.\n",
    "\n",
    "Individualized customer retention is tough because most firms have a large number of customers and can't afford to devote much time to each of them. The costs would be too great, outweighing the additional revenue. However, if a corporation could forecast which customers are likely to leave ahead of time, it could focus customer retention efforts only on these \"high risk\" clients. The ultimate goal is to expand its coverage area and retrieve more customers loyalty. The core to succeed in this market lies in the customer itself.\n",
    "\n",
    "Customer churn is a critical metric because it is much less expensive to retain existing customers than it is to acquire new customers.\n",
    "\n",
    "\n",
    "To reduce customer churn, telecom companies need to predict which customers are at high risk of churn.\n",
    "\n",
    "To detect early signs of potential churn, one must first develop a holistic view of the customers and their interactions across numerous channels, including store/branch visits, product purchase histories, customer service calls, Web-based transactions, and social media interactions, to mention a few.\n",
    "\n",
    "As a result, by addressing churn, these businesses may not only preserve their market position, but also grow and thrive. More customers they have in their network, the lower the cost of initiation and the larger the profit. As a result, the company's key focus for success is reducing client attrition and implementing effective retention strategy."
   ]
  },
  {
   "cell_type": "markdown",
   "id": "0b4e49cd",
   "metadata": {},
   "source": [
    "We will be using **XGBoost** to build a collection of boosted trees and use continous and categorical data from IBM Base samples to predict whether or not a customer will stop using company's service. In business lingo, it is called **customer churn**. Link to dataset :\n",
    "\n",
    "<a href=\"https://www.kaggle.com/datasets/blastchar/telco-customer-churn\">Telco Customer Churn</a>"
   ]
  },
  {
   "cell_type": "markdown",
   "id": "6e72dd1b",
   "metadata": {},
   "source": [
    "We will cover below steps to preprocess data and build an optimised predictive system:\n",
    "\n",
    "* **Importing data from File**\n",
    "\n",
    "* **Missing Data from File**\n",
    " * Identifying with Missing data\n",
    " * Dealing with Missing data\n",
    " \n",
    "* **Formatting data fror XGBoost**\n",
    "  * Splitting data into dependant and independant variables\n",
    "  * One-Hot-Encoding\n",
    "  * Converting all columns to Int, Float or Bool\n",
    "  \n",
    "* **Building a preliminary XGBoost Model**\n",
    "\n",
    "* **Optimising parameters with Cross Validation and GridSearchCV**\n",
    "  * Optimising the learning rate, tree depth, number of trees, gamma(for pruning) and lambda (for regularisation)\n",
    " \n",
    "* **Building, Drawing, Interpreting and Evaluating the optimized XGBoost model**\n",
    "\n",
    "  "
   ]
  },
  {
   "cell_type": "code",
   "execution_count": 6,
   "id": "3bcbe7e6",
   "metadata": {},
   "outputs": [],
   "source": [
    "import pandas as pd\n",
    "import numpy as np\n",
    "import xgboost as xgb\n",
    "from xgboost import plot_tree\n",
    "from sklearn.model_selection import train_test_split\n",
    "from sklearn.model_selection import cross_val_score, GridSearchCV\n",
    "from sklearn.metrics import balanced_accuracy_score, roc_auc_score, make_scorer\n",
    "from sklearn.metrics import plot_confusion_matrix\n",
    "import matplotlib.pyplot as plt\n",
    "import matplotlib.ticker as mtick # For specifying the axes tick format \n",
    "import seaborn as sns\n",
    "sns.set_style('ticks')"
   ]
  },
  {
   "cell_type": "code",
   "execution_count": 7,
   "id": "735f593a",
   "metadata": {},
   "outputs": [],
   "source": [
    "customer_churn_df = pd.read_csv('Telco-Customer-Churn.csv')"
   ]
  },
  {
   "cell_type": "code",
   "execution_count": 8,
   "id": "c52a7c01",
   "metadata": {},
   "outputs": [
    {
     "data": {
      "text/plain": [
       "Index(['customerID', 'gender', 'SeniorCitizen', 'Partner', 'Dependents',\n",
       "       'tenure', 'PhoneService', 'MultipleLines', 'InternetService',\n",
       "       'OnlineSecurity', 'OnlineBackup', 'DeviceProtection', 'TechSupport',\n",
       "       'StreamingTV', 'StreamingMovies', 'Contract', 'PaperlessBilling',\n",
       "       'PaymentMethod', 'MonthlyCharges', 'TotalCharges', 'Churn'],\n",
       "      dtype='object')"
      ]
     },
     "execution_count": 8,
     "metadata": {},
     "output_type": "execute_result"
    }
   ],
   "source": [
    "customer_churn_df.columns"
   ]
  },
  {
   "cell_type": "code",
   "execution_count": 9,
   "id": "94e2002d",
   "metadata": {},
   "outputs": [
    {
     "data": {
      "text/html": [
       "<div>\n",
       "<style scoped>\n",
       "    .dataframe tbody tr th:only-of-type {\n",
       "        vertical-align: middle;\n",
       "    }\n",
       "\n",
       "    .dataframe tbody tr th {\n",
       "        vertical-align: top;\n",
       "    }\n",
       "\n",
       "    .dataframe thead th {\n",
       "        text-align: right;\n",
       "    }\n",
       "</style>\n",
       "<table border=\"1\" class=\"dataframe\">\n",
       "  <thead>\n",
       "    <tr style=\"text-align: right;\">\n",
       "      <th></th>\n",
       "      <th>customerID</th>\n",
       "      <th>gender</th>\n",
       "      <th>SeniorCitizen</th>\n",
       "      <th>Partner</th>\n",
       "      <th>Dependents</th>\n",
       "      <th>tenure</th>\n",
       "      <th>PhoneService</th>\n",
       "      <th>MultipleLines</th>\n",
       "      <th>InternetService</th>\n",
       "      <th>OnlineSecurity</th>\n",
       "      <th>...</th>\n",
       "      <th>DeviceProtection</th>\n",
       "      <th>TechSupport</th>\n",
       "      <th>StreamingTV</th>\n",
       "      <th>StreamingMovies</th>\n",
       "      <th>Contract</th>\n",
       "      <th>PaperlessBilling</th>\n",
       "      <th>PaymentMethod</th>\n",
       "      <th>MonthlyCharges</th>\n",
       "      <th>TotalCharges</th>\n",
       "      <th>Churn</th>\n",
       "    </tr>\n",
       "  </thead>\n",
       "  <tbody>\n",
       "    <tr>\n",
       "      <th>0</th>\n",
       "      <td>7590-VHVEG</td>\n",
       "      <td>Female</td>\n",
       "      <td>0</td>\n",
       "      <td>Yes</td>\n",
       "      <td>No</td>\n",
       "      <td>1</td>\n",
       "      <td>No</td>\n",
       "      <td>No phone service</td>\n",
       "      <td>DSL</td>\n",
       "      <td>No</td>\n",
       "      <td>...</td>\n",
       "      <td>No</td>\n",
       "      <td>No</td>\n",
       "      <td>No</td>\n",
       "      <td>No</td>\n",
       "      <td>Month-to-month</td>\n",
       "      <td>Yes</td>\n",
       "      <td>Electronic check</td>\n",
       "      <td>29.85</td>\n",
       "      <td>29.85</td>\n",
       "      <td>No</td>\n",
       "    </tr>\n",
       "    <tr>\n",
       "      <th>1</th>\n",
       "      <td>5575-GNVDE</td>\n",
       "      <td>Male</td>\n",
       "      <td>0</td>\n",
       "      <td>No</td>\n",
       "      <td>No</td>\n",
       "      <td>34</td>\n",
       "      <td>Yes</td>\n",
       "      <td>No</td>\n",
       "      <td>DSL</td>\n",
       "      <td>Yes</td>\n",
       "      <td>...</td>\n",
       "      <td>Yes</td>\n",
       "      <td>No</td>\n",
       "      <td>No</td>\n",
       "      <td>No</td>\n",
       "      <td>One year</td>\n",
       "      <td>No</td>\n",
       "      <td>Mailed check</td>\n",
       "      <td>56.95</td>\n",
       "      <td>1889.5</td>\n",
       "      <td>No</td>\n",
       "    </tr>\n",
       "    <tr>\n",
       "      <th>2</th>\n",
       "      <td>3668-QPYBK</td>\n",
       "      <td>Male</td>\n",
       "      <td>0</td>\n",
       "      <td>No</td>\n",
       "      <td>No</td>\n",
       "      <td>2</td>\n",
       "      <td>Yes</td>\n",
       "      <td>No</td>\n",
       "      <td>DSL</td>\n",
       "      <td>Yes</td>\n",
       "      <td>...</td>\n",
       "      <td>No</td>\n",
       "      <td>No</td>\n",
       "      <td>No</td>\n",
       "      <td>No</td>\n",
       "      <td>Month-to-month</td>\n",
       "      <td>Yes</td>\n",
       "      <td>Mailed check</td>\n",
       "      <td>53.85</td>\n",
       "      <td>108.15</td>\n",
       "      <td>Yes</td>\n",
       "    </tr>\n",
       "    <tr>\n",
       "      <th>3</th>\n",
       "      <td>7795-CFOCW</td>\n",
       "      <td>Male</td>\n",
       "      <td>0</td>\n",
       "      <td>No</td>\n",
       "      <td>No</td>\n",
       "      <td>45</td>\n",
       "      <td>No</td>\n",
       "      <td>No phone service</td>\n",
       "      <td>DSL</td>\n",
       "      <td>Yes</td>\n",
       "      <td>...</td>\n",
       "      <td>Yes</td>\n",
       "      <td>Yes</td>\n",
       "      <td>No</td>\n",
       "      <td>No</td>\n",
       "      <td>One year</td>\n",
       "      <td>No</td>\n",
       "      <td>Bank transfer (automatic)</td>\n",
       "      <td>42.30</td>\n",
       "      <td>1840.75</td>\n",
       "      <td>No</td>\n",
       "    </tr>\n",
       "    <tr>\n",
       "      <th>4</th>\n",
       "      <td>9237-HQITU</td>\n",
       "      <td>Female</td>\n",
       "      <td>0</td>\n",
       "      <td>No</td>\n",
       "      <td>No</td>\n",
       "      <td>2</td>\n",
       "      <td>Yes</td>\n",
       "      <td>No</td>\n",
       "      <td>Fiber optic</td>\n",
       "      <td>No</td>\n",
       "      <td>...</td>\n",
       "      <td>No</td>\n",
       "      <td>No</td>\n",
       "      <td>No</td>\n",
       "      <td>No</td>\n",
       "      <td>Month-to-month</td>\n",
       "      <td>Yes</td>\n",
       "      <td>Electronic check</td>\n",
       "      <td>70.70</td>\n",
       "      <td>151.65</td>\n",
       "      <td>Yes</td>\n",
       "    </tr>\n",
       "  </tbody>\n",
       "</table>\n",
       "<p>5 rows × 21 columns</p>\n",
       "</div>"
      ],
      "text/plain": [
       "   customerID  gender  SeniorCitizen Partner Dependents  tenure PhoneService  \\\n",
       "0  7590-VHVEG  Female              0     Yes         No       1           No   \n",
       "1  5575-GNVDE    Male              0      No         No      34          Yes   \n",
       "2  3668-QPYBK    Male              0      No         No       2          Yes   \n",
       "3  7795-CFOCW    Male              0      No         No      45           No   \n",
       "4  9237-HQITU  Female              0      No         No       2          Yes   \n",
       "\n",
       "      MultipleLines InternetService OnlineSecurity  ... DeviceProtection  \\\n",
       "0  No phone service             DSL             No  ...               No   \n",
       "1                No             DSL            Yes  ...              Yes   \n",
       "2                No             DSL            Yes  ...               No   \n",
       "3  No phone service             DSL            Yes  ...              Yes   \n",
       "4                No     Fiber optic             No  ...               No   \n",
       "\n",
       "  TechSupport StreamingTV StreamingMovies        Contract PaperlessBilling  \\\n",
       "0          No          No              No  Month-to-month              Yes   \n",
       "1          No          No              No        One year               No   \n",
       "2          No          No              No  Month-to-month              Yes   \n",
       "3         Yes          No              No        One year               No   \n",
       "4          No          No              No  Month-to-month              Yes   \n",
       "\n",
       "               PaymentMethod MonthlyCharges  TotalCharges Churn  \n",
       "0           Electronic check          29.85         29.85    No  \n",
       "1               Mailed check          56.95        1889.5    No  \n",
       "2               Mailed check          53.85        108.15   Yes  \n",
       "3  Bank transfer (automatic)          42.30       1840.75    No  \n",
       "4           Electronic check          70.70        151.65   Yes  \n",
       "\n",
       "[5 rows x 21 columns]"
      ]
     },
     "execution_count": 9,
     "metadata": {},
     "output_type": "execute_result"
    }
   ],
   "source": [
    "customer_churn_df.head()"
   ]
  },
  {
   "cell_type": "code",
   "execution_count": 10,
   "id": "472318bc",
   "metadata": {},
   "outputs": [
    {
     "data": {
      "text/plain": [
       "(7043, 21)"
      ]
     },
     "execution_count": 10,
     "metadata": {},
     "output_type": "execute_result"
    }
   ],
   "source": [
    "customer_churn_df.shape"
   ]
  },
  {
   "cell_type": "code",
   "execution_count": 11,
   "id": "1e98b0cc",
   "metadata": {},
   "outputs": [
    {
     "data": {
      "text/plain": [
       "Index(['customerID', 'gender', 'SeniorCitizen', 'Partner', 'Dependents',\n",
       "       'tenure', 'PhoneService', 'MultipleLines', 'InternetService',\n",
       "       'OnlineSecurity', 'OnlineBackup', 'DeviceProtection', 'TechSupport',\n",
       "       'StreamingTV', 'StreamingMovies', 'Contract', 'PaperlessBilling',\n",
       "       'PaymentMethod', 'MonthlyCharges', 'TotalCharges', 'Churn'],\n",
       "      dtype='object')"
      ]
     },
     "execution_count": 11,
     "metadata": {},
     "output_type": "execute_result"
    }
   ],
   "source": [
    "customer_churn_df.columns"
   ]
  },
  {
   "cell_type": "code",
   "execution_count": 12,
   "id": "f3076940",
   "metadata": {},
   "outputs": [
    {
     "data": {
      "text/plain": [
       "customerID           object\n",
       "gender               object\n",
       "SeniorCitizen         int64\n",
       "Partner              object\n",
       "Dependents           object\n",
       "tenure                int64\n",
       "PhoneService         object\n",
       "MultipleLines        object\n",
       "InternetService      object\n",
       "OnlineSecurity       object\n",
       "OnlineBackup         object\n",
       "DeviceProtection     object\n",
       "TechSupport          object\n",
       "StreamingTV          object\n",
       "StreamingMovies      object\n",
       "Contract             object\n",
       "PaperlessBilling     object\n",
       "PaymentMethod        object\n",
       "MonthlyCharges      float64\n",
       "TotalCharges         object\n",
       "Churn                object\n",
       "dtype: object"
      ]
     },
     "execution_count": 12,
     "metadata": {},
     "output_type": "execute_result"
    }
   ],
   "source": [
    "customer_churn_df.dtypes"
   ]
  },
  {
   "cell_type": "code",
   "execution_count": 13,
   "id": "ee9ea962",
   "metadata": {},
   "outputs": [
    {
     "data": {
      "text/html": [
       "<div>\n",
       "<style scoped>\n",
       "    .dataframe tbody tr th:only-of-type {\n",
       "        vertical-align: middle;\n",
       "    }\n",
       "\n",
       "    .dataframe tbody tr th {\n",
       "        vertical-align: top;\n",
       "    }\n",
       "\n",
       "    .dataframe thead th {\n",
       "        text-align: right;\n",
       "    }\n",
       "</style>\n",
       "<table border=\"1\" class=\"dataframe\">\n",
       "  <thead>\n",
       "    <tr style=\"text-align: right;\">\n",
       "      <th></th>\n",
       "      <th>customerID</th>\n",
       "      <th>gender</th>\n",
       "      <th>SeniorCitizen</th>\n",
       "      <th>Partner</th>\n",
       "      <th>Dependents</th>\n",
       "      <th>tenure</th>\n",
       "      <th>PhoneService</th>\n",
       "      <th>MultipleLines</th>\n",
       "      <th>InternetService</th>\n",
       "      <th>OnlineSecurity</th>\n",
       "      <th>...</th>\n",
       "      <th>DeviceProtection</th>\n",
       "      <th>TechSupport</th>\n",
       "      <th>StreamingTV</th>\n",
       "      <th>StreamingMovies</th>\n",
       "      <th>Contract</th>\n",
       "      <th>PaperlessBilling</th>\n",
       "      <th>PaymentMethod</th>\n",
       "      <th>MonthlyCharges</th>\n",
       "      <th>TotalCharges</th>\n",
       "      <th>Churn</th>\n",
       "    </tr>\n",
       "  </thead>\n",
       "  <tbody>\n",
       "    <tr>\n",
       "      <th>0</th>\n",
       "      <td>7590-VHVEG</td>\n",
       "      <td>Female</td>\n",
       "      <td>0</td>\n",
       "      <td>Yes</td>\n",
       "      <td>No</td>\n",
       "      <td>1</td>\n",
       "      <td>No</td>\n",
       "      <td>No phone service</td>\n",
       "      <td>DSL</td>\n",
       "      <td>No</td>\n",
       "      <td>...</td>\n",
       "      <td>No</td>\n",
       "      <td>No</td>\n",
       "      <td>No</td>\n",
       "      <td>No</td>\n",
       "      <td>Month-to-month</td>\n",
       "      <td>Yes</td>\n",
       "      <td>Electronic check</td>\n",
       "      <td>29.85</td>\n",
       "      <td>29.85</td>\n",
       "      <td>No</td>\n",
       "    </tr>\n",
       "    <tr>\n",
       "      <th>1</th>\n",
       "      <td>5575-GNVDE</td>\n",
       "      <td>Male</td>\n",
       "      <td>0</td>\n",
       "      <td>No</td>\n",
       "      <td>No</td>\n",
       "      <td>34</td>\n",
       "      <td>Yes</td>\n",
       "      <td>No</td>\n",
       "      <td>DSL</td>\n",
       "      <td>Yes</td>\n",
       "      <td>...</td>\n",
       "      <td>Yes</td>\n",
       "      <td>No</td>\n",
       "      <td>No</td>\n",
       "      <td>No</td>\n",
       "      <td>One year</td>\n",
       "      <td>No</td>\n",
       "      <td>Mailed check</td>\n",
       "      <td>56.95</td>\n",
       "      <td>1889.5</td>\n",
       "      <td>No</td>\n",
       "    </tr>\n",
       "    <tr>\n",
       "      <th>2</th>\n",
       "      <td>3668-QPYBK</td>\n",
       "      <td>Male</td>\n",
       "      <td>0</td>\n",
       "      <td>No</td>\n",
       "      <td>No</td>\n",
       "      <td>2</td>\n",
       "      <td>Yes</td>\n",
       "      <td>No</td>\n",
       "      <td>DSL</td>\n",
       "      <td>Yes</td>\n",
       "      <td>...</td>\n",
       "      <td>No</td>\n",
       "      <td>No</td>\n",
       "      <td>No</td>\n",
       "      <td>No</td>\n",
       "      <td>Month-to-month</td>\n",
       "      <td>Yes</td>\n",
       "      <td>Mailed check</td>\n",
       "      <td>53.85</td>\n",
       "      <td>108.15</td>\n",
       "      <td>Yes</td>\n",
       "    </tr>\n",
       "    <tr>\n",
       "      <th>3</th>\n",
       "      <td>7795-CFOCW</td>\n",
       "      <td>Male</td>\n",
       "      <td>0</td>\n",
       "      <td>No</td>\n",
       "      <td>No</td>\n",
       "      <td>45</td>\n",
       "      <td>No</td>\n",
       "      <td>No phone service</td>\n",
       "      <td>DSL</td>\n",
       "      <td>Yes</td>\n",
       "      <td>...</td>\n",
       "      <td>Yes</td>\n",
       "      <td>Yes</td>\n",
       "      <td>No</td>\n",
       "      <td>No</td>\n",
       "      <td>One year</td>\n",
       "      <td>No</td>\n",
       "      <td>Bank transfer (automatic)</td>\n",
       "      <td>42.30</td>\n",
       "      <td>1840.75</td>\n",
       "      <td>No</td>\n",
       "    </tr>\n",
       "    <tr>\n",
       "      <th>4</th>\n",
       "      <td>9237-HQITU</td>\n",
       "      <td>Female</td>\n",
       "      <td>0</td>\n",
       "      <td>No</td>\n",
       "      <td>No</td>\n",
       "      <td>2</td>\n",
       "      <td>Yes</td>\n",
       "      <td>No</td>\n",
       "      <td>Fiber optic</td>\n",
       "      <td>No</td>\n",
       "      <td>...</td>\n",
       "      <td>No</td>\n",
       "      <td>No</td>\n",
       "      <td>No</td>\n",
       "      <td>No</td>\n",
       "      <td>Month-to-month</td>\n",
       "      <td>Yes</td>\n",
       "      <td>Electronic check</td>\n",
       "      <td>70.70</td>\n",
       "      <td>151.65</td>\n",
       "      <td>Yes</td>\n",
       "    </tr>\n",
       "  </tbody>\n",
       "</table>\n",
       "<p>5 rows × 21 columns</p>\n",
       "</div>"
      ],
      "text/plain": [
       "   customerID  gender  SeniorCitizen Partner Dependents  tenure PhoneService  \\\n",
       "0  7590-VHVEG  Female              0     Yes         No       1           No   \n",
       "1  5575-GNVDE    Male              0      No         No      34          Yes   \n",
       "2  3668-QPYBK    Male              0      No         No       2          Yes   \n",
       "3  7795-CFOCW    Male              0      No         No      45           No   \n",
       "4  9237-HQITU  Female              0      No         No       2          Yes   \n",
       "\n",
       "      MultipleLines InternetService OnlineSecurity  ... DeviceProtection  \\\n",
       "0  No phone service             DSL             No  ...               No   \n",
       "1                No             DSL            Yes  ...              Yes   \n",
       "2                No             DSL            Yes  ...               No   \n",
       "3  No phone service             DSL            Yes  ...              Yes   \n",
       "4                No     Fiber optic             No  ...               No   \n",
       "\n",
       "  TechSupport StreamingTV StreamingMovies        Contract PaperlessBilling  \\\n",
       "0          No          No              No  Month-to-month              Yes   \n",
       "1          No          No              No        One year               No   \n",
       "2          No          No              No  Month-to-month              Yes   \n",
       "3         Yes          No              No        One year               No   \n",
       "4          No          No              No  Month-to-month              Yes   \n",
       "\n",
       "               PaymentMethod MonthlyCharges  TotalCharges Churn  \n",
       "0           Electronic check          29.85         29.85    No  \n",
       "1               Mailed check          56.95        1889.5    No  \n",
       "2               Mailed check          53.85        108.15   Yes  \n",
       "3  Bank transfer (automatic)          42.30       1840.75    No  \n",
       "4           Electronic check          70.70        151.65   Yes  \n",
       "\n",
       "[5 rows x 21 columns]"
      ]
     },
     "execution_count": 13,
     "metadata": {},
     "output_type": "execute_result"
    }
   ],
   "source": [
    "customer_churn_df.head()"
   ]
  },
  {
   "cell_type": "code",
   "execution_count": 14,
   "id": "f69a50d5",
   "metadata": {},
   "outputs": [
    {
     "data": {
      "text/plain": [
       "Index(['customerID', 'gender', 'SeniorCitizen', 'Partner', 'Dependents',\n",
       "       'tenure', 'PhoneService', 'MultipleLines', 'InternetService',\n",
       "       'OnlineSecurity', 'OnlineBackup', 'DeviceProtection', 'TechSupport',\n",
       "       'StreamingTV', 'StreamingMovies', 'Contract', 'PaperlessBilling',\n",
       "       'PaymentMethod', 'MonthlyCharges', 'TotalCharges', 'Churn'],\n",
       "      dtype='object')"
      ]
     },
     "execution_count": 14,
     "metadata": {},
     "output_type": "execute_result"
    }
   ],
   "source": [
    "customer_churn_df.columns"
   ]
  },
  {
   "cell_type": "code",
   "execution_count": 15,
   "id": "0c8e220a",
   "metadata": {},
   "outputs": [
    {
     "data": {
      "text/plain": [
       "array(['Electronic check', 'Mailed check', 'Bank transfer (automatic)',\n",
       "       'Credit card (automatic)'], dtype=object)"
      ]
     },
     "execution_count": 15,
     "metadata": {},
     "output_type": "execute_result"
    }
   ],
   "source": [
    "customer_churn_df['PaymentMethod'].unique()"
   ]
  },
  {
   "cell_type": "code",
   "execution_count": 16,
   "id": "6be93dfc",
   "metadata": {},
   "outputs": [
    {
     "data": {
      "text/plain": [
       "array([29.85, 56.95, 53.85, ..., 63.1 , 44.2 , 78.7 ])"
      ]
     },
     "execution_count": 16,
     "metadata": {},
     "output_type": "execute_result"
    }
   ],
   "source": [
    "customer_churn_df['MonthlyCharges'].unique()"
   ]
  },
  {
   "cell_type": "code",
   "execution_count": 17,
   "id": "2718bfc4",
   "metadata": {},
   "outputs": [
    {
     "data": {
      "text/plain": [
       "array(['29.85', '1889.5', '108.15', ..., '346.45', '306.6', '6844.5'],\n",
       "      dtype=object)"
      ]
     },
     "execution_count": 17,
     "metadata": {},
     "output_type": "execute_result"
    }
   ],
   "source": [
    "customer_churn_df['TotalCharges'].unique()"
   ]
  },
  {
   "cell_type": "code",
   "execution_count": 18,
   "id": "8d891a21",
   "metadata": {},
   "outputs": [
    {
     "data": {
      "text/plain": [
       "array(['No', 'Yes'], dtype=object)"
      ]
     },
     "execution_count": 18,
     "metadata": {},
     "output_type": "execute_result"
    }
   ],
   "source": [
    "customer_churn_df['Churn'].unique()"
   ]
  },
  {
   "cell_type": "code",
   "execution_count": 19,
   "id": "9741603d",
   "metadata": {},
   "outputs": [
    {
     "name": "stdout",
     "output_type": "stream",
     "text": [
      "customerID ---> 7043\n",
      "gender ---> 2\n",
      "SeniorCitizen ---> 2\n",
      "Partner ---> 2\n",
      "Dependents ---> 2\n",
      "tenure ---> 73\n",
      "PhoneService ---> 2\n",
      "MultipleLines ---> 3\n",
      "InternetService ---> 3\n",
      "OnlineSecurity ---> 3\n",
      "OnlineBackup ---> 3\n",
      "DeviceProtection ---> 3\n",
      "TechSupport ---> 3\n",
      "StreamingTV ---> 3\n",
      "StreamingMovies ---> 3\n",
      "Contract ---> 3\n",
      "PaperlessBilling ---> 2\n",
      "PaymentMethod ---> 4\n",
      "MonthlyCharges ---> 1585\n",
      "TotalCharges ---> 6531\n",
      "Churn ---> 2\n"
     ]
    }
   ],
   "source": [
    "for col in customer_churn_df.columns:\n",
    "    print(col,'--->', customer_churn_df[col].nunique())"
   ]
  },
  {
   "cell_type": "markdown",
   "id": "eac8e6b1",
   "metadata": {},
   "source": [
    "Since customer_churn_df has distinct customerID for each customer, it is not helpful for predictions so we will drop it"
   ]
  },
  {
   "cell_type": "code",
   "execution_count": 20,
   "id": "4bf2fc1b",
   "metadata": {},
   "outputs": [
    {
     "data": {
      "text/plain": [
       "7043"
      ]
     },
     "execution_count": 20,
     "metadata": {},
     "output_type": "execute_result"
    }
   ],
   "source": [
    "customer_churn_df['customerID'].nunique()"
   ]
  },
  {
   "cell_type": "code",
   "execution_count": 21,
   "id": "a372bb9d",
   "metadata": {},
   "outputs": [],
   "source": [
    "customer_churn_df.drop('customerID', axis = 1, inplace = True)"
   ]
  },
  {
   "cell_type": "code",
   "execution_count": 22,
   "id": "d4c1dbe0",
   "metadata": {},
   "outputs": [
    {
     "data": {
      "text/plain": [
       "gender               object\n",
       "SeniorCitizen         int64\n",
       "Partner              object\n",
       "Dependents           object\n",
       "tenure                int64\n",
       "PhoneService         object\n",
       "MultipleLines        object\n",
       "InternetService      object\n",
       "OnlineSecurity       object\n",
       "OnlineBackup         object\n",
       "DeviceProtection     object\n",
       "TechSupport          object\n",
       "StreamingTV          object\n",
       "StreamingMovies      object\n",
       "Contract             object\n",
       "PaperlessBilling     object\n",
       "PaymentMethod        object\n",
       "MonthlyCharges      float64\n",
       "TotalCharges         object\n",
       "Churn                object\n",
       "dtype: object"
      ]
     },
     "execution_count": 22,
     "metadata": {},
     "output_type": "execute_result"
    }
   ],
   "source": [
    "customer_churn_df.dtypes"
   ]
  },
  {
   "cell_type": "markdown",
   "id": "1b9d58e4",
   "metadata": {},
   "source": [
    "**NOTE** Although it is OK to have whitespace in PaymentMethod names in **PaymentMethod** for **XGBoost** and classification, we can't have any whitespace if we want to draw a tree. So let's take care of that now by replacing whitespace with an underscore character _"
   ]
  },
  {
   "cell_type": "code",
   "execution_count": 23,
   "id": "0ba2a628",
   "metadata": {},
   "outputs": [
    {
     "data": {
      "text/plain": [
       "array(['Electronic check', 'Mailed check', 'Bank transfer (automatic)',\n",
       "       'Credit card (automatic)'], dtype=object)"
      ]
     },
     "execution_count": 23,
     "metadata": {},
     "output_type": "execute_result"
    }
   ],
   "source": [
    "customer_churn_df['PaymentMethod'].unique()"
   ]
  },
  {
   "cell_type": "code",
   "execution_count": 24,
   "id": "6203a608",
   "metadata": {},
   "outputs": [],
   "source": [
    "customer_churn_df['PaymentMethod'].replace(' ', '_', inplace = True)"
   ]
  },
  {
   "cell_type": "code",
   "execution_count": 25,
   "id": "4cfa9612",
   "metadata": {},
   "outputs": [
    {
     "data": {
      "text/plain": [
       "array(['Electronic check', 'Mailed check', 'Bank transfer (automatic)',\n",
       "       'Credit card (automatic)'], dtype=object)"
      ]
     },
     "execution_count": 25,
     "metadata": {},
     "output_type": "execute_result"
    }
   ],
   "source": [
    "customer_churn_df['PaymentMethod'].unique()"
   ]
  },
  {
   "cell_type": "markdown",
   "id": "076de0fd",
   "metadata": {},
   "source": [
    "Similarly, we can do this for column names "
   ]
  },
  {
   "cell_type": "code",
   "execution_count": 26,
   "id": "f37be2af",
   "metadata": {},
   "outputs": [],
   "source": [
    "customer_churn_df.columns = customer_churn_df.columns.str.replace(' ', '_') #if cols have blank spaces in names "
   ]
  },
  {
   "cell_type": "code",
   "execution_count": 27,
   "id": "b73a0315",
   "metadata": {},
   "outputs": [
    {
     "data": {
      "text/plain": [
       "Index(['gender', 'SeniorCitizen', 'Partner', 'Dependents', 'tenure',\n",
       "       'PhoneService', 'MultipleLines', 'InternetService', 'OnlineSecurity',\n",
       "       'OnlineBackup', 'DeviceProtection', 'TechSupport', 'StreamingTV',\n",
       "       'StreamingMovies', 'Contract', 'PaperlessBilling', 'PaymentMethod',\n",
       "       'MonthlyCharges', 'TotalCharges', 'Churn'],\n",
       "      dtype='object')"
      ]
     },
     "execution_count": 27,
     "metadata": {},
     "output_type": "execute_result"
    }
   ],
   "source": [
    "customer_churn_df.columns"
   ]
  },
  {
   "cell_type": "markdown",
   "id": "ae643213",
   "metadata": {},
   "source": [
    "### Missing Data Part 1 : Identifying Missing Data "
   ]
  },
  {
   "cell_type": "markdown",
   "id": "e3f5b960",
   "metadata": {},
   "source": [
    "Unfortunately, the biggest part of any data analysis project is making sure that data is formatted and fixing it when it is not.The first part of this process is **Missing Data** \n",
    "\n",
    "**Missing Data** is simply a blank space, or a surrogate value like **NA**, that indicates that we failed to collect data for one of the features. For example, if we forgot to ask someone's age, or forgot to write it down then we would have blank space for that person's age.\n",
    "\n",
    "One thing that is relatively unique about **XGBoost** is that it has default behaviour for missing data. So all wehave to do is set missing values to 0\n",
    "\n",
    "Read more here : <a href=\"https://medium.com/hypatai/how-xgboost-handles-sparsities-arising-from-of-missing-data-with-an-example-90ce8e4ba9ca\">Sparsity-aware Split Finding</a>\n"
   ]
  },
  {
   "cell_type": "markdown",
   "id": "56e9950b",
   "metadata": {},
   "source": [
    "First let's see what sort of data in each column:"
   ]
  },
  {
   "cell_type": "code",
   "execution_count": 28,
   "id": "e2732269",
   "metadata": {},
   "outputs": [
    {
     "data": {
      "text/plain": [
       "gender               object\n",
       "SeniorCitizen         int64\n",
       "Partner              object\n",
       "Dependents           object\n",
       "tenure                int64\n",
       "PhoneService         object\n",
       "MultipleLines        object\n",
       "InternetService      object\n",
       "OnlineSecurity       object\n",
       "OnlineBackup         object\n",
       "DeviceProtection     object\n",
       "TechSupport          object\n",
       "StreamingTV          object\n",
       "StreamingMovies      object\n",
       "Contract             object\n",
       "PaperlessBilling     object\n",
       "PaymentMethod        object\n",
       "MonthlyCharges      float64\n",
       "TotalCharges         object\n",
       "Churn                object\n",
       "dtype: object"
      ]
     },
     "execution_count": 28,
     "metadata": {},
     "output_type": "execute_result"
    }
   ],
   "source": [
    "customer_churn_df.dtypes"
   ]
  },
  {
   "cell_type": "markdown",
   "id": "4f5efc60",
   "metadata": {},
   "source": [
    "A lot of columns are Object and that is OK because as we run head(), there were a lot of text responses like Yes and No. However, let's verify that we are getting what we expect"
   ]
  },
  {
   "cell_type": "code",
   "execution_count": 29,
   "id": "809bcc7d",
   "metadata": {},
   "outputs": [
    {
     "data": {
      "text/plain": [
       "array(['No', 'Yes'], dtype=object)"
      ]
     },
     "execution_count": 29,
     "metadata": {},
     "output_type": "execute_result"
    }
   ],
   "source": [
    "customer_churn_df['PhoneService'].unique()"
   ]
  },
  {
   "cell_type": "markdown",
   "id": "935ac027",
   "metadata": {},
   "source": [
    "So **Phone Service** has type Object because it contains text, and it has only two values, Yes and No. So this is good. We would check this for every column to cross-verify that we don't have **NA**, **?** or ** ** as strings instead of Nulls which can can cause problem"
   ]
  },
  {
   "cell_type": "code",
   "execution_count": 30,
   "id": "2ad9b8b5",
   "metadata": {},
   "outputs": [
    {
     "data": {
      "text/plain": [
       "array(['29.85', '1889.5', '108.15', ..., '346.45', '306.6', '6844.5'],\n",
       "      dtype=object)"
      ]
     },
     "execution_count": 30,
     "metadata": {},
     "output_type": "execute_result"
    }
   ],
   "source": [
    "customer_churn_df['TotalCharges'].unique()"
   ]
  },
  {
   "cell_type": "markdown",
   "id": "e3fd086a",
   "metadata": {},
   "source": [
    "...we see that there are too many unique values to print, however when we try to convert **TotalCharges** to Numeric, we get parse \" \" error"
   ]
  },
  {
   "cell_type": "code",
   "execution_count": 31,
   "id": "13a23d18",
   "metadata": {},
   "outputs": [
    {
     "ename": "ValueError",
     "evalue": "Unable to parse string \" \" at position 488",
     "output_type": "error",
     "traceback": [
      "\u001b[1;31m---------------------------------------------------------------------------\u001b[0m",
      "\u001b[1;31mValueError\u001b[0m                                Traceback (most recent call last)",
      "\u001b[1;32mC:\\ProgramData\\Anaconda3\\lib\\site-packages\\pandas\\_libs\\lib.pyx\u001b[0m in \u001b[0;36mpandas._libs.lib.maybe_convert_numeric\u001b[1;34m()\u001b[0m\n",
      "\u001b[1;31mValueError\u001b[0m: Unable to parse string \" \"",
      "\nDuring handling of the above exception, another exception occurred:\n",
      "\u001b[1;31mValueError\u001b[0m                                Traceback (most recent call last)",
      "\u001b[1;32m~\\AppData\\Local\\Temp/ipykernel_23976/2389600912.py\u001b[0m in \u001b[0;36m<module>\u001b[1;34m\u001b[0m\n\u001b[1;32m----> 1\u001b[1;33m \u001b[0mcustomer_churn_df\u001b[0m\u001b[1;33m[\u001b[0m\u001b[1;34m'TotalCharges'\u001b[0m\u001b[1;33m]\u001b[0m \u001b[1;33m=\u001b[0m \u001b[0mpd\u001b[0m\u001b[1;33m.\u001b[0m\u001b[0mto_numeric\u001b[0m\u001b[1;33m(\u001b[0m\u001b[0mcustomer_churn_df\u001b[0m\u001b[1;33m[\u001b[0m\u001b[1;34m'TotalCharges'\u001b[0m\u001b[1;33m]\u001b[0m\u001b[1;33m)\u001b[0m\u001b[1;33m\u001b[0m\u001b[1;33m\u001b[0m\u001b[0m\n\u001b[0m",
      "\u001b[1;32mC:\\ProgramData\\Anaconda3\\lib\\site-packages\\pandas\\core\\tools\\numeric.py\u001b[0m in \u001b[0;36mto_numeric\u001b[1;34m(arg, errors, downcast)\u001b[0m\n\u001b[0;32m    181\u001b[0m         \u001b[0mcoerce_numeric\u001b[0m \u001b[1;33m=\u001b[0m \u001b[0merrors\u001b[0m \u001b[1;32mnot\u001b[0m \u001b[1;32min\u001b[0m \u001b[1;33m(\u001b[0m\u001b[1;34m\"ignore\"\u001b[0m\u001b[1;33m,\u001b[0m \u001b[1;34m\"raise\"\u001b[0m\u001b[1;33m)\u001b[0m\u001b[1;33m\u001b[0m\u001b[1;33m\u001b[0m\u001b[0m\n\u001b[0;32m    182\u001b[0m         \u001b[1;32mtry\u001b[0m\u001b[1;33m:\u001b[0m\u001b[1;33m\u001b[0m\u001b[1;33m\u001b[0m\u001b[0m\n\u001b[1;32m--> 183\u001b[1;33m             values, _ = lib.maybe_convert_numeric(\n\u001b[0m\u001b[0;32m    184\u001b[0m                 \u001b[0mvalues\u001b[0m\u001b[1;33m,\u001b[0m \u001b[0mset\u001b[0m\u001b[1;33m(\u001b[0m\u001b[1;33m)\u001b[0m\u001b[1;33m,\u001b[0m \u001b[0mcoerce_numeric\u001b[0m\u001b[1;33m=\u001b[0m\u001b[0mcoerce_numeric\u001b[0m\u001b[1;33m\u001b[0m\u001b[1;33m\u001b[0m\u001b[0m\n\u001b[0;32m    185\u001b[0m             )\n",
      "\u001b[1;32mC:\\ProgramData\\Anaconda3\\lib\\site-packages\\pandas\\_libs\\lib.pyx\u001b[0m in \u001b[0;36mpandas._libs.lib.maybe_convert_numeric\u001b[1;34m()\u001b[0m\n",
      "\u001b[1;31mValueError\u001b[0m: Unable to parse string \" \" at position 488"
     ]
    }
   ],
   "source": [
    "customer_churn_df['TotalCharges'] = pd.to_numeric(customer_churn_df['TotalCharges'])"
   ]
  },
  {
   "cell_type": "code",
   "execution_count": 32,
   "id": "ee2b0e12",
   "metadata": {},
   "outputs": [
    {
     "data": {
      "text/html": [
       "<div>\n",
       "<style scoped>\n",
       "    .dataframe tbody tr th:only-of-type {\n",
       "        vertical-align: middle;\n",
       "    }\n",
       "\n",
       "    .dataframe tbody tr th {\n",
       "        vertical-align: top;\n",
       "    }\n",
       "\n",
       "    .dataframe thead th {\n",
       "        text-align: right;\n",
       "    }\n",
       "</style>\n",
       "<table border=\"1\" class=\"dataframe\">\n",
       "  <thead>\n",
       "    <tr style=\"text-align: right;\">\n",
       "      <th></th>\n",
       "      <th>gender</th>\n",
       "      <th>SeniorCitizen</th>\n",
       "      <th>Partner</th>\n",
       "      <th>Dependents</th>\n",
       "      <th>tenure</th>\n",
       "      <th>PhoneService</th>\n",
       "      <th>MultipleLines</th>\n",
       "      <th>InternetService</th>\n",
       "      <th>OnlineSecurity</th>\n",
       "      <th>OnlineBackup</th>\n",
       "      <th>DeviceProtection</th>\n",
       "      <th>TechSupport</th>\n",
       "      <th>StreamingTV</th>\n",
       "      <th>StreamingMovies</th>\n",
       "      <th>Contract</th>\n",
       "      <th>PaperlessBilling</th>\n",
       "      <th>PaymentMethod</th>\n",
       "      <th>MonthlyCharges</th>\n",
       "      <th>TotalCharges</th>\n",
       "      <th>Churn</th>\n",
       "    </tr>\n",
       "  </thead>\n",
       "  <tbody>\n",
       "    <tr>\n",
       "      <th>488</th>\n",
       "      <td>Female</td>\n",
       "      <td>0</td>\n",
       "      <td>Yes</td>\n",
       "      <td>Yes</td>\n",
       "      <td>0</td>\n",
       "      <td>No</td>\n",
       "      <td>No phone service</td>\n",
       "      <td>DSL</td>\n",
       "      <td>Yes</td>\n",
       "      <td>No</td>\n",
       "      <td>Yes</td>\n",
       "      <td>Yes</td>\n",
       "      <td>Yes</td>\n",
       "      <td>No</td>\n",
       "      <td>Two year</td>\n",
       "      <td>Yes</td>\n",
       "      <td>Bank transfer (automatic)</td>\n",
       "      <td>52.55</td>\n",
       "      <td></td>\n",
       "      <td>No</td>\n",
       "    </tr>\n",
       "    <tr>\n",
       "      <th>753</th>\n",
       "      <td>Male</td>\n",
       "      <td>0</td>\n",
       "      <td>No</td>\n",
       "      <td>Yes</td>\n",
       "      <td>0</td>\n",
       "      <td>Yes</td>\n",
       "      <td>No</td>\n",
       "      <td>No</td>\n",
       "      <td>No internet service</td>\n",
       "      <td>No internet service</td>\n",
       "      <td>No internet service</td>\n",
       "      <td>No internet service</td>\n",
       "      <td>No internet service</td>\n",
       "      <td>No internet service</td>\n",
       "      <td>Two year</td>\n",
       "      <td>No</td>\n",
       "      <td>Mailed check</td>\n",
       "      <td>20.25</td>\n",
       "      <td></td>\n",
       "      <td>No</td>\n",
       "    </tr>\n",
       "    <tr>\n",
       "      <th>936</th>\n",
       "      <td>Female</td>\n",
       "      <td>0</td>\n",
       "      <td>Yes</td>\n",
       "      <td>Yes</td>\n",
       "      <td>0</td>\n",
       "      <td>Yes</td>\n",
       "      <td>No</td>\n",
       "      <td>DSL</td>\n",
       "      <td>Yes</td>\n",
       "      <td>Yes</td>\n",
       "      <td>Yes</td>\n",
       "      <td>No</td>\n",
       "      <td>Yes</td>\n",
       "      <td>Yes</td>\n",
       "      <td>Two year</td>\n",
       "      <td>No</td>\n",
       "      <td>Mailed check</td>\n",
       "      <td>80.85</td>\n",
       "      <td></td>\n",
       "      <td>No</td>\n",
       "    </tr>\n",
       "    <tr>\n",
       "      <th>1082</th>\n",
       "      <td>Male</td>\n",
       "      <td>0</td>\n",
       "      <td>Yes</td>\n",
       "      <td>Yes</td>\n",
       "      <td>0</td>\n",
       "      <td>Yes</td>\n",
       "      <td>Yes</td>\n",
       "      <td>No</td>\n",
       "      <td>No internet service</td>\n",
       "      <td>No internet service</td>\n",
       "      <td>No internet service</td>\n",
       "      <td>No internet service</td>\n",
       "      <td>No internet service</td>\n",
       "      <td>No internet service</td>\n",
       "      <td>Two year</td>\n",
       "      <td>No</td>\n",
       "      <td>Mailed check</td>\n",
       "      <td>25.75</td>\n",
       "      <td></td>\n",
       "      <td>No</td>\n",
       "    </tr>\n",
       "    <tr>\n",
       "      <th>1340</th>\n",
       "      <td>Female</td>\n",
       "      <td>0</td>\n",
       "      <td>Yes</td>\n",
       "      <td>Yes</td>\n",
       "      <td>0</td>\n",
       "      <td>No</td>\n",
       "      <td>No phone service</td>\n",
       "      <td>DSL</td>\n",
       "      <td>Yes</td>\n",
       "      <td>Yes</td>\n",
       "      <td>Yes</td>\n",
       "      <td>Yes</td>\n",
       "      <td>Yes</td>\n",
       "      <td>No</td>\n",
       "      <td>Two year</td>\n",
       "      <td>No</td>\n",
       "      <td>Credit card (automatic)</td>\n",
       "      <td>56.05</td>\n",
       "      <td></td>\n",
       "      <td>No</td>\n",
       "    </tr>\n",
       "    <tr>\n",
       "      <th>3331</th>\n",
       "      <td>Male</td>\n",
       "      <td>0</td>\n",
       "      <td>Yes</td>\n",
       "      <td>Yes</td>\n",
       "      <td>0</td>\n",
       "      <td>Yes</td>\n",
       "      <td>No</td>\n",
       "      <td>No</td>\n",
       "      <td>No internet service</td>\n",
       "      <td>No internet service</td>\n",
       "      <td>No internet service</td>\n",
       "      <td>No internet service</td>\n",
       "      <td>No internet service</td>\n",
       "      <td>No internet service</td>\n",
       "      <td>Two year</td>\n",
       "      <td>No</td>\n",
       "      <td>Mailed check</td>\n",
       "      <td>19.85</td>\n",
       "      <td></td>\n",
       "      <td>No</td>\n",
       "    </tr>\n",
       "    <tr>\n",
       "      <th>3826</th>\n",
       "      <td>Male</td>\n",
       "      <td>0</td>\n",
       "      <td>Yes</td>\n",
       "      <td>Yes</td>\n",
       "      <td>0</td>\n",
       "      <td>Yes</td>\n",
       "      <td>Yes</td>\n",
       "      <td>No</td>\n",
       "      <td>No internet service</td>\n",
       "      <td>No internet service</td>\n",
       "      <td>No internet service</td>\n",
       "      <td>No internet service</td>\n",
       "      <td>No internet service</td>\n",
       "      <td>No internet service</td>\n",
       "      <td>Two year</td>\n",
       "      <td>No</td>\n",
       "      <td>Mailed check</td>\n",
       "      <td>25.35</td>\n",
       "      <td></td>\n",
       "      <td>No</td>\n",
       "    </tr>\n",
       "    <tr>\n",
       "      <th>4380</th>\n",
       "      <td>Female</td>\n",
       "      <td>0</td>\n",
       "      <td>Yes</td>\n",
       "      <td>Yes</td>\n",
       "      <td>0</td>\n",
       "      <td>Yes</td>\n",
       "      <td>No</td>\n",
       "      <td>No</td>\n",
       "      <td>No internet service</td>\n",
       "      <td>No internet service</td>\n",
       "      <td>No internet service</td>\n",
       "      <td>No internet service</td>\n",
       "      <td>No internet service</td>\n",
       "      <td>No internet service</td>\n",
       "      <td>Two year</td>\n",
       "      <td>No</td>\n",
       "      <td>Mailed check</td>\n",
       "      <td>20.00</td>\n",
       "      <td></td>\n",
       "      <td>No</td>\n",
       "    </tr>\n",
       "    <tr>\n",
       "      <th>5218</th>\n",
       "      <td>Male</td>\n",
       "      <td>0</td>\n",
       "      <td>Yes</td>\n",
       "      <td>Yes</td>\n",
       "      <td>0</td>\n",
       "      <td>Yes</td>\n",
       "      <td>No</td>\n",
       "      <td>No</td>\n",
       "      <td>No internet service</td>\n",
       "      <td>No internet service</td>\n",
       "      <td>No internet service</td>\n",
       "      <td>No internet service</td>\n",
       "      <td>No internet service</td>\n",
       "      <td>No internet service</td>\n",
       "      <td>One year</td>\n",
       "      <td>Yes</td>\n",
       "      <td>Mailed check</td>\n",
       "      <td>19.70</td>\n",
       "      <td></td>\n",
       "      <td>No</td>\n",
       "    </tr>\n",
       "    <tr>\n",
       "      <th>6670</th>\n",
       "      <td>Female</td>\n",
       "      <td>0</td>\n",
       "      <td>Yes</td>\n",
       "      <td>Yes</td>\n",
       "      <td>0</td>\n",
       "      <td>Yes</td>\n",
       "      <td>Yes</td>\n",
       "      <td>DSL</td>\n",
       "      <td>No</td>\n",
       "      <td>Yes</td>\n",
       "      <td>Yes</td>\n",
       "      <td>Yes</td>\n",
       "      <td>Yes</td>\n",
       "      <td>No</td>\n",
       "      <td>Two year</td>\n",
       "      <td>No</td>\n",
       "      <td>Mailed check</td>\n",
       "      <td>73.35</td>\n",
       "      <td></td>\n",
       "      <td>No</td>\n",
       "    </tr>\n",
       "    <tr>\n",
       "      <th>6754</th>\n",
       "      <td>Male</td>\n",
       "      <td>0</td>\n",
       "      <td>No</td>\n",
       "      <td>Yes</td>\n",
       "      <td>0</td>\n",
       "      <td>Yes</td>\n",
       "      <td>Yes</td>\n",
       "      <td>DSL</td>\n",
       "      <td>Yes</td>\n",
       "      <td>Yes</td>\n",
       "      <td>No</td>\n",
       "      <td>Yes</td>\n",
       "      <td>No</td>\n",
       "      <td>No</td>\n",
       "      <td>Two year</td>\n",
       "      <td>Yes</td>\n",
       "      <td>Bank transfer (automatic)</td>\n",
       "      <td>61.90</td>\n",
       "      <td></td>\n",
       "      <td>No</td>\n",
       "    </tr>\n",
       "  </tbody>\n",
       "</table>\n",
       "</div>"
      ],
      "text/plain": [
       "      gender  SeniorCitizen Partner Dependents  tenure PhoneService  \\\n",
       "488   Female              0     Yes        Yes       0           No   \n",
       "753     Male              0      No        Yes       0          Yes   \n",
       "936   Female              0     Yes        Yes       0          Yes   \n",
       "1082    Male              0     Yes        Yes       0          Yes   \n",
       "1340  Female              0     Yes        Yes       0           No   \n",
       "3331    Male              0     Yes        Yes       0          Yes   \n",
       "3826    Male              0     Yes        Yes       0          Yes   \n",
       "4380  Female              0     Yes        Yes       0          Yes   \n",
       "5218    Male              0     Yes        Yes       0          Yes   \n",
       "6670  Female              0     Yes        Yes       0          Yes   \n",
       "6754    Male              0      No        Yes       0          Yes   \n",
       "\n",
       "         MultipleLines InternetService       OnlineSecurity  \\\n",
       "488   No phone service             DSL                  Yes   \n",
       "753                 No              No  No internet service   \n",
       "936                 No             DSL                  Yes   \n",
       "1082               Yes              No  No internet service   \n",
       "1340  No phone service             DSL                  Yes   \n",
       "3331                No              No  No internet service   \n",
       "3826               Yes              No  No internet service   \n",
       "4380                No              No  No internet service   \n",
       "5218                No              No  No internet service   \n",
       "6670               Yes             DSL                   No   \n",
       "6754               Yes             DSL                  Yes   \n",
       "\n",
       "             OnlineBackup     DeviceProtection          TechSupport  \\\n",
       "488                    No                  Yes                  Yes   \n",
       "753   No internet service  No internet service  No internet service   \n",
       "936                   Yes                  Yes                   No   \n",
       "1082  No internet service  No internet service  No internet service   \n",
       "1340                  Yes                  Yes                  Yes   \n",
       "3331  No internet service  No internet service  No internet service   \n",
       "3826  No internet service  No internet service  No internet service   \n",
       "4380  No internet service  No internet service  No internet service   \n",
       "5218  No internet service  No internet service  No internet service   \n",
       "6670                  Yes                  Yes                  Yes   \n",
       "6754                  Yes                   No                  Yes   \n",
       "\n",
       "              StreamingTV      StreamingMovies  Contract PaperlessBilling  \\\n",
       "488                   Yes                   No  Two year              Yes   \n",
       "753   No internet service  No internet service  Two year               No   \n",
       "936                   Yes                  Yes  Two year               No   \n",
       "1082  No internet service  No internet service  Two year               No   \n",
       "1340                  Yes                   No  Two year               No   \n",
       "3331  No internet service  No internet service  Two year               No   \n",
       "3826  No internet service  No internet service  Two year               No   \n",
       "4380  No internet service  No internet service  Two year               No   \n",
       "5218  No internet service  No internet service  One year              Yes   \n",
       "6670                  Yes                   No  Two year               No   \n",
       "6754                   No                   No  Two year              Yes   \n",
       "\n",
       "                  PaymentMethod  MonthlyCharges TotalCharges Churn  \n",
       "488   Bank transfer (automatic)           52.55                 No  \n",
       "753                Mailed check           20.25                 No  \n",
       "936                Mailed check           80.85                 No  \n",
       "1082               Mailed check           25.75                 No  \n",
       "1340    Credit card (automatic)           56.05                 No  \n",
       "3331               Mailed check           19.85                 No  \n",
       "3826               Mailed check           25.35                 No  \n",
       "4380               Mailed check           20.00                 No  \n",
       "5218               Mailed check           19.70                 No  \n",
       "6670               Mailed check           73.35                 No  \n",
       "6754  Bank transfer (automatic)           61.90                 No  "
      ]
     },
     "execution_count": 32,
     "metadata": {},
     "output_type": "execute_result"
    }
   ],
   "source": [
    "customer_churn_df[customer_churn_df['TotalCharges'] == ' ']"
   ]
  },
  {
   "cell_type": "markdown",
   "id": "80e0736b",
   "metadata": {},
   "source": [
    "### Missing Data Part 2 : Dealing with Missing Data "
   ]
  },
  {
   "cell_type": "markdown",
   "id": "439e690d",
   "metadata": {},
   "source": [
    "One thing that is relatively unqiue about **XGBoost** is that it determines the default behaviour for missing data. So all we have to do is identify missing values and make sure they are set to 0\n",
    "\n",
    "However, before that let's see how many rows are missing data. If it's a lot, then we might have a problem in our hands than **XGBoost** can deal on it's own. If it's not too many, we can set it to 0"
   ]
  },
  {
   "cell_type": "code",
   "execution_count": 33,
   "id": "96abe555",
   "metadata": {},
   "outputs": [
    {
     "data": {
      "text/plain": [
       "11"
      ]
     },
     "execution_count": 33,
     "metadata": {},
     "output_type": "execute_result"
    }
   ],
   "source": [
    "len(customer_churn_df[customer_churn_df['TotalCharges'] == ' '])"
   ]
  },
  {
   "cell_type": "markdown",
   "id": "fdd37e54",
   "metadata": {},
   "source": [
    "There are 11 rows where **TotalCharges** with missing data so we will be setting it to 0 "
   ]
  },
  {
   "cell_type": "code",
   "execution_count": 34,
   "id": "30d84140",
   "metadata": {},
   "outputs": [
    {
     "data": {
      "text/html": [
       "<div>\n",
       "<style scoped>\n",
       "    .dataframe tbody tr th:only-of-type {\n",
       "        vertical-align: middle;\n",
       "    }\n",
       "\n",
       "    .dataframe tbody tr th {\n",
       "        vertical-align: top;\n",
       "    }\n",
       "\n",
       "    .dataframe thead th {\n",
       "        text-align: right;\n",
       "    }\n",
       "</style>\n",
       "<table border=\"1\" class=\"dataframe\">\n",
       "  <thead>\n",
       "    <tr style=\"text-align: right;\">\n",
       "      <th></th>\n",
       "      <th>gender</th>\n",
       "      <th>SeniorCitizen</th>\n",
       "      <th>Partner</th>\n",
       "      <th>Dependents</th>\n",
       "      <th>tenure</th>\n",
       "      <th>PhoneService</th>\n",
       "      <th>MultipleLines</th>\n",
       "      <th>InternetService</th>\n",
       "      <th>OnlineSecurity</th>\n",
       "      <th>OnlineBackup</th>\n",
       "      <th>DeviceProtection</th>\n",
       "      <th>TechSupport</th>\n",
       "      <th>StreamingTV</th>\n",
       "      <th>StreamingMovies</th>\n",
       "      <th>Contract</th>\n",
       "      <th>PaperlessBilling</th>\n",
       "      <th>PaymentMethod</th>\n",
       "      <th>MonthlyCharges</th>\n",
       "      <th>TotalCharges</th>\n",
       "      <th>Churn</th>\n",
       "    </tr>\n",
       "  </thead>\n",
       "  <tbody>\n",
       "    <tr>\n",
       "      <th>488</th>\n",
       "      <td>Female</td>\n",
       "      <td>0</td>\n",
       "      <td>Yes</td>\n",
       "      <td>Yes</td>\n",
       "      <td>0</td>\n",
       "      <td>No</td>\n",
       "      <td>No phone service</td>\n",
       "      <td>DSL</td>\n",
       "      <td>Yes</td>\n",
       "      <td>No</td>\n",
       "      <td>Yes</td>\n",
       "      <td>Yes</td>\n",
       "      <td>Yes</td>\n",
       "      <td>No</td>\n",
       "      <td>Two year</td>\n",
       "      <td>Yes</td>\n",
       "      <td>Bank transfer (automatic)</td>\n",
       "      <td>52.55</td>\n",
       "      <td></td>\n",
       "      <td>No</td>\n",
       "    </tr>\n",
       "    <tr>\n",
       "      <th>753</th>\n",
       "      <td>Male</td>\n",
       "      <td>0</td>\n",
       "      <td>No</td>\n",
       "      <td>Yes</td>\n",
       "      <td>0</td>\n",
       "      <td>Yes</td>\n",
       "      <td>No</td>\n",
       "      <td>No</td>\n",
       "      <td>No internet service</td>\n",
       "      <td>No internet service</td>\n",
       "      <td>No internet service</td>\n",
       "      <td>No internet service</td>\n",
       "      <td>No internet service</td>\n",
       "      <td>No internet service</td>\n",
       "      <td>Two year</td>\n",
       "      <td>No</td>\n",
       "      <td>Mailed check</td>\n",
       "      <td>20.25</td>\n",
       "      <td></td>\n",
       "      <td>No</td>\n",
       "    </tr>\n",
       "    <tr>\n",
       "      <th>936</th>\n",
       "      <td>Female</td>\n",
       "      <td>0</td>\n",
       "      <td>Yes</td>\n",
       "      <td>Yes</td>\n",
       "      <td>0</td>\n",
       "      <td>Yes</td>\n",
       "      <td>No</td>\n",
       "      <td>DSL</td>\n",
       "      <td>Yes</td>\n",
       "      <td>Yes</td>\n",
       "      <td>Yes</td>\n",
       "      <td>No</td>\n",
       "      <td>Yes</td>\n",
       "      <td>Yes</td>\n",
       "      <td>Two year</td>\n",
       "      <td>No</td>\n",
       "      <td>Mailed check</td>\n",
       "      <td>80.85</td>\n",
       "      <td></td>\n",
       "      <td>No</td>\n",
       "    </tr>\n",
       "    <tr>\n",
       "      <th>1082</th>\n",
       "      <td>Male</td>\n",
       "      <td>0</td>\n",
       "      <td>Yes</td>\n",
       "      <td>Yes</td>\n",
       "      <td>0</td>\n",
       "      <td>Yes</td>\n",
       "      <td>Yes</td>\n",
       "      <td>No</td>\n",
       "      <td>No internet service</td>\n",
       "      <td>No internet service</td>\n",
       "      <td>No internet service</td>\n",
       "      <td>No internet service</td>\n",
       "      <td>No internet service</td>\n",
       "      <td>No internet service</td>\n",
       "      <td>Two year</td>\n",
       "      <td>No</td>\n",
       "      <td>Mailed check</td>\n",
       "      <td>25.75</td>\n",
       "      <td></td>\n",
       "      <td>No</td>\n",
       "    </tr>\n",
       "    <tr>\n",
       "      <th>1340</th>\n",
       "      <td>Female</td>\n",
       "      <td>0</td>\n",
       "      <td>Yes</td>\n",
       "      <td>Yes</td>\n",
       "      <td>0</td>\n",
       "      <td>No</td>\n",
       "      <td>No phone service</td>\n",
       "      <td>DSL</td>\n",
       "      <td>Yes</td>\n",
       "      <td>Yes</td>\n",
       "      <td>Yes</td>\n",
       "      <td>Yes</td>\n",
       "      <td>Yes</td>\n",
       "      <td>No</td>\n",
       "      <td>Two year</td>\n",
       "      <td>No</td>\n",
       "      <td>Credit card (automatic)</td>\n",
       "      <td>56.05</td>\n",
       "      <td></td>\n",
       "      <td>No</td>\n",
       "    </tr>\n",
       "    <tr>\n",
       "      <th>3331</th>\n",
       "      <td>Male</td>\n",
       "      <td>0</td>\n",
       "      <td>Yes</td>\n",
       "      <td>Yes</td>\n",
       "      <td>0</td>\n",
       "      <td>Yes</td>\n",
       "      <td>No</td>\n",
       "      <td>No</td>\n",
       "      <td>No internet service</td>\n",
       "      <td>No internet service</td>\n",
       "      <td>No internet service</td>\n",
       "      <td>No internet service</td>\n",
       "      <td>No internet service</td>\n",
       "      <td>No internet service</td>\n",
       "      <td>Two year</td>\n",
       "      <td>No</td>\n",
       "      <td>Mailed check</td>\n",
       "      <td>19.85</td>\n",
       "      <td></td>\n",
       "      <td>No</td>\n",
       "    </tr>\n",
       "    <tr>\n",
       "      <th>3826</th>\n",
       "      <td>Male</td>\n",
       "      <td>0</td>\n",
       "      <td>Yes</td>\n",
       "      <td>Yes</td>\n",
       "      <td>0</td>\n",
       "      <td>Yes</td>\n",
       "      <td>Yes</td>\n",
       "      <td>No</td>\n",
       "      <td>No internet service</td>\n",
       "      <td>No internet service</td>\n",
       "      <td>No internet service</td>\n",
       "      <td>No internet service</td>\n",
       "      <td>No internet service</td>\n",
       "      <td>No internet service</td>\n",
       "      <td>Two year</td>\n",
       "      <td>No</td>\n",
       "      <td>Mailed check</td>\n",
       "      <td>25.35</td>\n",
       "      <td></td>\n",
       "      <td>No</td>\n",
       "    </tr>\n",
       "    <tr>\n",
       "      <th>4380</th>\n",
       "      <td>Female</td>\n",
       "      <td>0</td>\n",
       "      <td>Yes</td>\n",
       "      <td>Yes</td>\n",
       "      <td>0</td>\n",
       "      <td>Yes</td>\n",
       "      <td>No</td>\n",
       "      <td>No</td>\n",
       "      <td>No internet service</td>\n",
       "      <td>No internet service</td>\n",
       "      <td>No internet service</td>\n",
       "      <td>No internet service</td>\n",
       "      <td>No internet service</td>\n",
       "      <td>No internet service</td>\n",
       "      <td>Two year</td>\n",
       "      <td>No</td>\n",
       "      <td>Mailed check</td>\n",
       "      <td>20.00</td>\n",
       "      <td></td>\n",
       "      <td>No</td>\n",
       "    </tr>\n",
       "    <tr>\n",
       "      <th>5218</th>\n",
       "      <td>Male</td>\n",
       "      <td>0</td>\n",
       "      <td>Yes</td>\n",
       "      <td>Yes</td>\n",
       "      <td>0</td>\n",
       "      <td>Yes</td>\n",
       "      <td>No</td>\n",
       "      <td>No</td>\n",
       "      <td>No internet service</td>\n",
       "      <td>No internet service</td>\n",
       "      <td>No internet service</td>\n",
       "      <td>No internet service</td>\n",
       "      <td>No internet service</td>\n",
       "      <td>No internet service</td>\n",
       "      <td>One year</td>\n",
       "      <td>Yes</td>\n",
       "      <td>Mailed check</td>\n",
       "      <td>19.70</td>\n",
       "      <td></td>\n",
       "      <td>No</td>\n",
       "    </tr>\n",
       "    <tr>\n",
       "      <th>6670</th>\n",
       "      <td>Female</td>\n",
       "      <td>0</td>\n",
       "      <td>Yes</td>\n",
       "      <td>Yes</td>\n",
       "      <td>0</td>\n",
       "      <td>Yes</td>\n",
       "      <td>Yes</td>\n",
       "      <td>DSL</td>\n",
       "      <td>No</td>\n",
       "      <td>Yes</td>\n",
       "      <td>Yes</td>\n",
       "      <td>Yes</td>\n",
       "      <td>Yes</td>\n",
       "      <td>No</td>\n",
       "      <td>Two year</td>\n",
       "      <td>No</td>\n",
       "      <td>Mailed check</td>\n",
       "      <td>73.35</td>\n",
       "      <td></td>\n",
       "      <td>No</td>\n",
       "    </tr>\n",
       "    <tr>\n",
       "      <th>6754</th>\n",
       "      <td>Male</td>\n",
       "      <td>0</td>\n",
       "      <td>No</td>\n",
       "      <td>Yes</td>\n",
       "      <td>0</td>\n",
       "      <td>Yes</td>\n",
       "      <td>Yes</td>\n",
       "      <td>DSL</td>\n",
       "      <td>Yes</td>\n",
       "      <td>Yes</td>\n",
       "      <td>No</td>\n",
       "      <td>Yes</td>\n",
       "      <td>No</td>\n",
       "      <td>No</td>\n",
       "      <td>Two year</td>\n",
       "      <td>Yes</td>\n",
       "      <td>Bank transfer (automatic)</td>\n",
       "      <td>61.90</td>\n",
       "      <td></td>\n",
       "      <td>No</td>\n",
       "    </tr>\n",
       "  </tbody>\n",
       "</table>\n",
       "</div>"
      ],
      "text/plain": [
       "      gender  SeniorCitizen Partner Dependents  tenure PhoneService  \\\n",
       "488   Female              0     Yes        Yes       0           No   \n",
       "753     Male              0      No        Yes       0          Yes   \n",
       "936   Female              0     Yes        Yes       0          Yes   \n",
       "1082    Male              0     Yes        Yes       0          Yes   \n",
       "1340  Female              0     Yes        Yes       0           No   \n",
       "3331    Male              0     Yes        Yes       0          Yes   \n",
       "3826    Male              0     Yes        Yes       0          Yes   \n",
       "4380  Female              0     Yes        Yes       0          Yes   \n",
       "5218    Male              0     Yes        Yes       0          Yes   \n",
       "6670  Female              0     Yes        Yes       0          Yes   \n",
       "6754    Male              0      No        Yes       0          Yes   \n",
       "\n",
       "         MultipleLines InternetService       OnlineSecurity  \\\n",
       "488   No phone service             DSL                  Yes   \n",
       "753                 No              No  No internet service   \n",
       "936                 No             DSL                  Yes   \n",
       "1082               Yes              No  No internet service   \n",
       "1340  No phone service             DSL                  Yes   \n",
       "3331                No              No  No internet service   \n",
       "3826               Yes              No  No internet service   \n",
       "4380                No              No  No internet service   \n",
       "5218                No              No  No internet service   \n",
       "6670               Yes             DSL                   No   \n",
       "6754               Yes             DSL                  Yes   \n",
       "\n",
       "             OnlineBackup     DeviceProtection          TechSupport  \\\n",
       "488                    No                  Yes                  Yes   \n",
       "753   No internet service  No internet service  No internet service   \n",
       "936                   Yes                  Yes                   No   \n",
       "1082  No internet service  No internet service  No internet service   \n",
       "1340                  Yes                  Yes                  Yes   \n",
       "3331  No internet service  No internet service  No internet service   \n",
       "3826  No internet service  No internet service  No internet service   \n",
       "4380  No internet service  No internet service  No internet service   \n",
       "5218  No internet service  No internet service  No internet service   \n",
       "6670                  Yes                  Yes                  Yes   \n",
       "6754                  Yes                   No                  Yes   \n",
       "\n",
       "              StreamingTV      StreamingMovies  Contract PaperlessBilling  \\\n",
       "488                   Yes                   No  Two year              Yes   \n",
       "753   No internet service  No internet service  Two year               No   \n",
       "936                   Yes                  Yes  Two year               No   \n",
       "1082  No internet service  No internet service  Two year               No   \n",
       "1340                  Yes                   No  Two year               No   \n",
       "3331  No internet service  No internet service  Two year               No   \n",
       "3826  No internet service  No internet service  Two year               No   \n",
       "4380  No internet service  No internet service  Two year               No   \n",
       "5218  No internet service  No internet service  One year              Yes   \n",
       "6670                  Yes                   No  Two year               No   \n",
       "6754                   No                   No  Two year              Yes   \n",
       "\n",
       "                  PaymentMethod  MonthlyCharges TotalCharges Churn  \n",
       "488   Bank transfer (automatic)           52.55                 No  \n",
       "753                Mailed check           20.25                 No  \n",
       "936                Mailed check           80.85                 No  \n",
       "1082               Mailed check           25.75                 No  \n",
       "1340    Credit card (automatic)           56.05                 No  \n",
       "3331               Mailed check           19.85                 No  \n",
       "3826               Mailed check           25.35                 No  \n",
       "4380               Mailed check           20.00                 No  \n",
       "5218               Mailed check           19.70                 No  \n",
       "6670               Mailed check           73.35                 No  \n",
       "6754  Bank transfer (automatic)           61.90                 No  "
      ]
     },
     "execution_count": 34,
     "metadata": {},
     "output_type": "execute_result"
    }
   ],
   "source": [
    "customer_churn_df.loc[customer_churn_df['TotalCharges'] == ' ']"
   ]
  },
  {
   "cell_type": "code",
   "execution_count": 35,
   "id": "5a00e038",
   "metadata": {},
   "outputs": [],
   "source": [
    "customer_churn_df.loc[customer_churn_df['TotalCharges'] == ' ', 'TotalCharges'] = 0"
   ]
  },
  {
   "cell_type": "code",
   "execution_count": 36,
   "id": "63913572",
   "metadata": {},
   "outputs": [
    {
     "data": {
      "text/html": [
       "<div>\n",
       "<style scoped>\n",
       "    .dataframe tbody tr th:only-of-type {\n",
       "        vertical-align: middle;\n",
       "    }\n",
       "\n",
       "    .dataframe tbody tr th {\n",
       "        vertical-align: top;\n",
       "    }\n",
       "\n",
       "    .dataframe thead th {\n",
       "        text-align: right;\n",
       "    }\n",
       "</style>\n",
       "<table border=\"1\" class=\"dataframe\">\n",
       "  <thead>\n",
       "    <tr style=\"text-align: right;\">\n",
       "      <th></th>\n",
       "      <th>gender</th>\n",
       "      <th>SeniorCitizen</th>\n",
       "      <th>Partner</th>\n",
       "      <th>Dependents</th>\n",
       "      <th>tenure</th>\n",
       "      <th>PhoneService</th>\n",
       "      <th>MultipleLines</th>\n",
       "      <th>InternetService</th>\n",
       "      <th>OnlineSecurity</th>\n",
       "      <th>OnlineBackup</th>\n",
       "      <th>DeviceProtection</th>\n",
       "      <th>TechSupport</th>\n",
       "      <th>StreamingTV</th>\n",
       "      <th>StreamingMovies</th>\n",
       "      <th>Contract</th>\n",
       "      <th>PaperlessBilling</th>\n",
       "      <th>PaymentMethod</th>\n",
       "      <th>MonthlyCharges</th>\n",
       "      <th>TotalCharges</th>\n",
       "      <th>Churn</th>\n",
       "    </tr>\n",
       "  </thead>\n",
       "  <tbody>\n",
       "  </tbody>\n",
       "</table>\n",
       "</div>"
      ],
      "text/plain": [
       "Empty DataFrame\n",
       "Columns: [gender, SeniorCitizen, Partner, Dependents, tenure, PhoneService, MultipleLines, InternetService, OnlineSecurity, OnlineBackup, DeviceProtection, TechSupport, StreamingTV, StreamingMovies, Contract, PaperlessBilling, PaymentMethod, MonthlyCharges, TotalCharges, Churn]\n",
       "Index: []"
      ]
     },
     "execution_count": 36,
     "metadata": {},
     "output_type": "execute_result"
    }
   ],
   "source": [
    "customer_churn_df[customer_churn_df['TotalCharges'] == ' ']"
   ]
  },
  {
   "cell_type": "code",
   "execution_count": 148,
   "id": "ad486f4d",
   "metadata": {},
   "outputs": [
    {
     "data": {
      "text/html": [
       "<div>\n",
       "<style scoped>\n",
       "    .dataframe tbody tr th:only-of-type {\n",
       "        vertical-align: middle;\n",
       "    }\n",
       "\n",
       "    .dataframe tbody tr th {\n",
       "        vertical-align: top;\n",
       "    }\n",
       "\n",
       "    .dataframe thead th {\n",
       "        text-align: right;\n",
       "    }\n",
       "</style>\n",
       "<table border=\"1\" class=\"dataframe\">\n",
       "  <thead>\n",
       "    <tr style=\"text-align: right;\">\n",
       "      <th></th>\n",
       "      <th>gender</th>\n",
       "      <th>SeniorCitizen</th>\n",
       "      <th>Partner</th>\n",
       "      <th>Dependents</th>\n",
       "      <th>tenure</th>\n",
       "      <th>PhoneService</th>\n",
       "      <th>MultipleLines</th>\n",
       "      <th>InternetService</th>\n",
       "      <th>OnlineSecurity</th>\n",
       "      <th>OnlineBackup</th>\n",
       "      <th>DeviceProtection</th>\n",
       "      <th>TechSupport</th>\n",
       "      <th>StreamingTV</th>\n",
       "      <th>StreamingMovies</th>\n",
       "      <th>Contract</th>\n",
       "      <th>PaperlessBilling</th>\n",
       "      <th>PaymentMethod</th>\n",
       "      <th>MonthlyCharges</th>\n",
       "      <th>TotalCharges</th>\n",
       "      <th>Churn</th>\n",
       "    </tr>\n",
       "  </thead>\n",
       "  <tbody>\n",
       "    <tr>\n",
       "      <th>488</th>\n",
       "      <td>Female</td>\n",
       "      <td>0</td>\n",
       "      <td>Yes</td>\n",
       "      <td>Yes</td>\n",
       "      <td>0</td>\n",
       "      <td>No</td>\n",
       "      <td>No_phone_service</td>\n",
       "      <td>DSL</td>\n",
       "      <td>Yes</td>\n",
       "      <td>No</td>\n",
       "      <td>Yes</td>\n",
       "      <td>Yes</td>\n",
       "      <td>Yes</td>\n",
       "      <td>No</td>\n",
       "      <td>Two_year</td>\n",
       "      <td>Yes</td>\n",
       "      <td>Bank_transfer_(automatic)</td>\n",
       "      <td>52.55</td>\n",
       "      <td>0.0</td>\n",
       "      <td>0</td>\n",
       "    </tr>\n",
       "    <tr>\n",
       "      <th>753</th>\n",
       "      <td>Male</td>\n",
       "      <td>0</td>\n",
       "      <td>No</td>\n",
       "      <td>Yes</td>\n",
       "      <td>0</td>\n",
       "      <td>Yes</td>\n",
       "      <td>No</td>\n",
       "      <td>No</td>\n",
       "      <td>No_internet_service</td>\n",
       "      <td>No_internet_service</td>\n",
       "      <td>No_internet_service</td>\n",
       "      <td>No_internet_service</td>\n",
       "      <td>No_internet_service</td>\n",
       "      <td>No_internet_service</td>\n",
       "      <td>Two_year</td>\n",
       "      <td>No</td>\n",
       "      <td>Mailed_check</td>\n",
       "      <td>20.25</td>\n",
       "      <td>0.0</td>\n",
       "      <td>0</td>\n",
       "    </tr>\n",
       "    <tr>\n",
       "      <th>936</th>\n",
       "      <td>Female</td>\n",
       "      <td>0</td>\n",
       "      <td>Yes</td>\n",
       "      <td>Yes</td>\n",
       "      <td>0</td>\n",
       "      <td>Yes</td>\n",
       "      <td>No</td>\n",
       "      <td>DSL</td>\n",
       "      <td>Yes</td>\n",
       "      <td>Yes</td>\n",
       "      <td>Yes</td>\n",
       "      <td>No</td>\n",
       "      <td>Yes</td>\n",
       "      <td>Yes</td>\n",
       "      <td>Two_year</td>\n",
       "      <td>No</td>\n",
       "      <td>Mailed_check</td>\n",
       "      <td>80.85</td>\n",
       "      <td>0.0</td>\n",
       "      <td>0</td>\n",
       "    </tr>\n",
       "    <tr>\n",
       "      <th>1082</th>\n",
       "      <td>Male</td>\n",
       "      <td>0</td>\n",
       "      <td>Yes</td>\n",
       "      <td>Yes</td>\n",
       "      <td>0</td>\n",
       "      <td>Yes</td>\n",
       "      <td>Yes</td>\n",
       "      <td>No</td>\n",
       "      <td>No_internet_service</td>\n",
       "      <td>No_internet_service</td>\n",
       "      <td>No_internet_service</td>\n",
       "      <td>No_internet_service</td>\n",
       "      <td>No_internet_service</td>\n",
       "      <td>No_internet_service</td>\n",
       "      <td>Two_year</td>\n",
       "      <td>No</td>\n",
       "      <td>Mailed_check</td>\n",
       "      <td>25.75</td>\n",
       "      <td>0.0</td>\n",
       "      <td>0</td>\n",
       "    </tr>\n",
       "    <tr>\n",
       "      <th>1340</th>\n",
       "      <td>Female</td>\n",
       "      <td>0</td>\n",
       "      <td>Yes</td>\n",
       "      <td>Yes</td>\n",
       "      <td>0</td>\n",
       "      <td>No</td>\n",
       "      <td>No_phone_service</td>\n",
       "      <td>DSL</td>\n",
       "      <td>Yes</td>\n",
       "      <td>Yes</td>\n",
       "      <td>Yes</td>\n",
       "      <td>Yes</td>\n",
       "      <td>Yes</td>\n",
       "      <td>No</td>\n",
       "      <td>Two_year</td>\n",
       "      <td>No</td>\n",
       "      <td>Credit_card_(automatic)</td>\n",
       "      <td>56.05</td>\n",
       "      <td>0.0</td>\n",
       "      <td>0</td>\n",
       "    </tr>\n",
       "    <tr>\n",
       "      <th>3331</th>\n",
       "      <td>Male</td>\n",
       "      <td>0</td>\n",
       "      <td>Yes</td>\n",
       "      <td>Yes</td>\n",
       "      <td>0</td>\n",
       "      <td>Yes</td>\n",
       "      <td>No</td>\n",
       "      <td>No</td>\n",
       "      <td>No_internet_service</td>\n",
       "      <td>No_internet_service</td>\n",
       "      <td>No_internet_service</td>\n",
       "      <td>No_internet_service</td>\n",
       "      <td>No_internet_service</td>\n",
       "      <td>No_internet_service</td>\n",
       "      <td>Two_year</td>\n",
       "      <td>No</td>\n",
       "      <td>Mailed_check</td>\n",
       "      <td>19.85</td>\n",
       "      <td>0.0</td>\n",
       "      <td>0</td>\n",
       "    </tr>\n",
       "    <tr>\n",
       "      <th>3826</th>\n",
       "      <td>Male</td>\n",
       "      <td>0</td>\n",
       "      <td>Yes</td>\n",
       "      <td>Yes</td>\n",
       "      <td>0</td>\n",
       "      <td>Yes</td>\n",
       "      <td>Yes</td>\n",
       "      <td>No</td>\n",
       "      <td>No_internet_service</td>\n",
       "      <td>No_internet_service</td>\n",
       "      <td>No_internet_service</td>\n",
       "      <td>No_internet_service</td>\n",
       "      <td>No_internet_service</td>\n",
       "      <td>No_internet_service</td>\n",
       "      <td>Two_year</td>\n",
       "      <td>No</td>\n",
       "      <td>Mailed_check</td>\n",
       "      <td>25.35</td>\n",
       "      <td>0.0</td>\n",
       "      <td>0</td>\n",
       "    </tr>\n",
       "    <tr>\n",
       "      <th>4380</th>\n",
       "      <td>Female</td>\n",
       "      <td>0</td>\n",
       "      <td>Yes</td>\n",
       "      <td>Yes</td>\n",
       "      <td>0</td>\n",
       "      <td>Yes</td>\n",
       "      <td>No</td>\n",
       "      <td>No</td>\n",
       "      <td>No_internet_service</td>\n",
       "      <td>No_internet_service</td>\n",
       "      <td>No_internet_service</td>\n",
       "      <td>No_internet_service</td>\n",
       "      <td>No_internet_service</td>\n",
       "      <td>No_internet_service</td>\n",
       "      <td>Two_year</td>\n",
       "      <td>No</td>\n",
       "      <td>Mailed_check</td>\n",
       "      <td>20.00</td>\n",
       "      <td>0.0</td>\n",
       "      <td>0</td>\n",
       "    </tr>\n",
       "    <tr>\n",
       "      <th>5218</th>\n",
       "      <td>Male</td>\n",
       "      <td>0</td>\n",
       "      <td>Yes</td>\n",
       "      <td>Yes</td>\n",
       "      <td>0</td>\n",
       "      <td>Yes</td>\n",
       "      <td>No</td>\n",
       "      <td>No</td>\n",
       "      <td>No_internet_service</td>\n",
       "      <td>No_internet_service</td>\n",
       "      <td>No_internet_service</td>\n",
       "      <td>No_internet_service</td>\n",
       "      <td>No_internet_service</td>\n",
       "      <td>No_internet_service</td>\n",
       "      <td>One_year</td>\n",
       "      <td>Yes</td>\n",
       "      <td>Mailed_check</td>\n",
       "      <td>19.70</td>\n",
       "      <td>0.0</td>\n",
       "      <td>0</td>\n",
       "    </tr>\n",
       "    <tr>\n",
       "      <th>6670</th>\n",
       "      <td>Female</td>\n",
       "      <td>0</td>\n",
       "      <td>Yes</td>\n",
       "      <td>Yes</td>\n",
       "      <td>0</td>\n",
       "      <td>Yes</td>\n",
       "      <td>Yes</td>\n",
       "      <td>DSL</td>\n",
       "      <td>No</td>\n",
       "      <td>Yes</td>\n",
       "      <td>Yes</td>\n",
       "      <td>Yes</td>\n",
       "      <td>Yes</td>\n",
       "      <td>No</td>\n",
       "      <td>Two_year</td>\n",
       "      <td>No</td>\n",
       "      <td>Mailed_check</td>\n",
       "      <td>73.35</td>\n",
       "      <td>0.0</td>\n",
       "      <td>0</td>\n",
       "    </tr>\n",
       "    <tr>\n",
       "      <th>6754</th>\n",
       "      <td>Male</td>\n",
       "      <td>0</td>\n",
       "      <td>No</td>\n",
       "      <td>Yes</td>\n",
       "      <td>0</td>\n",
       "      <td>Yes</td>\n",
       "      <td>Yes</td>\n",
       "      <td>DSL</td>\n",
       "      <td>Yes</td>\n",
       "      <td>Yes</td>\n",
       "      <td>No</td>\n",
       "      <td>Yes</td>\n",
       "      <td>No</td>\n",
       "      <td>No</td>\n",
       "      <td>Two_year</td>\n",
       "      <td>Yes</td>\n",
       "      <td>Bank_transfer_(automatic)</td>\n",
       "      <td>61.90</td>\n",
       "      <td>0.0</td>\n",
       "      <td>0</td>\n",
       "    </tr>\n",
       "  </tbody>\n",
       "</table>\n",
       "</div>"
      ],
      "text/plain": [
       "      gender  SeniorCitizen Partner Dependents  tenure PhoneService  \\\n",
       "488   Female              0     Yes        Yes       0           No   \n",
       "753     Male              0      No        Yes       0          Yes   \n",
       "936   Female              0     Yes        Yes       0          Yes   \n",
       "1082    Male              0     Yes        Yes       0          Yes   \n",
       "1340  Female              0     Yes        Yes       0           No   \n",
       "3331    Male              0     Yes        Yes       0          Yes   \n",
       "3826    Male              0     Yes        Yes       0          Yes   \n",
       "4380  Female              0     Yes        Yes       0          Yes   \n",
       "5218    Male              0     Yes        Yes       0          Yes   \n",
       "6670  Female              0     Yes        Yes       0          Yes   \n",
       "6754    Male              0      No        Yes       0          Yes   \n",
       "\n",
       "         MultipleLines InternetService       OnlineSecurity  \\\n",
       "488   No_phone_service             DSL                  Yes   \n",
       "753                 No              No  No_internet_service   \n",
       "936                 No             DSL                  Yes   \n",
       "1082               Yes              No  No_internet_service   \n",
       "1340  No_phone_service             DSL                  Yes   \n",
       "3331                No              No  No_internet_service   \n",
       "3826               Yes              No  No_internet_service   \n",
       "4380                No              No  No_internet_service   \n",
       "5218                No              No  No_internet_service   \n",
       "6670               Yes             DSL                   No   \n",
       "6754               Yes             DSL                  Yes   \n",
       "\n",
       "             OnlineBackup     DeviceProtection          TechSupport  \\\n",
       "488                    No                  Yes                  Yes   \n",
       "753   No_internet_service  No_internet_service  No_internet_service   \n",
       "936                   Yes                  Yes                   No   \n",
       "1082  No_internet_service  No_internet_service  No_internet_service   \n",
       "1340                  Yes                  Yes                  Yes   \n",
       "3331  No_internet_service  No_internet_service  No_internet_service   \n",
       "3826  No_internet_service  No_internet_service  No_internet_service   \n",
       "4380  No_internet_service  No_internet_service  No_internet_service   \n",
       "5218  No_internet_service  No_internet_service  No_internet_service   \n",
       "6670                  Yes                  Yes                  Yes   \n",
       "6754                  Yes                   No                  Yes   \n",
       "\n",
       "              StreamingTV      StreamingMovies  Contract PaperlessBilling  \\\n",
       "488                   Yes                   No  Two_year              Yes   \n",
       "753   No_internet_service  No_internet_service  Two_year               No   \n",
       "936                   Yes                  Yes  Two_year               No   \n",
       "1082  No_internet_service  No_internet_service  Two_year               No   \n",
       "1340                  Yes                   No  Two_year               No   \n",
       "3331  No_internet_service  No_internet_service  Two_year               No   \n",
       "3826  No_internet_service  No_internet_service  Two_year               No   \n",
       "4380  No_internet_service  No_internet_service  Two_year               No   \n",
       "5218  No_internet_service  No_internet_service  One_year              Yes   \n",
       "6670                  Yes                   No  Two_year               No   \n",
       "6754                   No                   No  Two_year              Yes   \n",
       "\n",
       "                  PaymentMethod  MonthlyCharges  TotalCharges  Churn  \n",
       "488   Bank_transfer_(automatic)           52.55           0.0      0  \n",
       "753                Mailed_check           20.25           0.0      0  \n",
       "936                Mailed_check           80.85           0.0      0  \n",
       "1082               Mailed_check           25.75           0.0      0  \n",
       "1340    Credit_card_(automatic)           56.05           0.0      0  \n",
       "3331               Mailed_check           19.85           0.0      0  \n",
       "3826               Mailed_check           25.35           0.0      0  \n",
       "4380               Mailed_check           20.00           0.0      0  \n",
       "5218               Mailed_check           19.70           0.0      0  \n",
       "6670               Mailed_check           73.35           0.0      0  \n",
       "6754  Bank_transfer_(automatic)           61.90           0.0      0  "
      ]
     },
     "execution_count": 148,
     "metadata": {},
     "output_type": "execute_result"
    }
   ],
   "source": [
    "customer_churn_df[customer_churn_df['TotalCharges'] == 0]"
   ]
  },
  {
   "cell_type": "code",
   "execution_count": 38,
   "id": "d48405f0",
   "metadata": {},
   "outputs": [],
   "source": [
    "customer_churn_df['TotalCharges'] = pd.to_numeric(customer_churn_df['TotalCharges'])"
   ]
  },
  {
   "cell_type": "code",
   "execution_count": 39,
   "id": "4b603a8c",
   "metadata": {},
   "outputs": [
    {
     "data": {
      "text/plain": [
       "gender               object\n",
       "SeniorCitizen         int64\n",
       "Partner              object\n",
       "Dependents           object\n",
       "tenure                int64\n",
       "PhoneService         object\n",
       "MultipleLines        object\n",
       "InternetService      object\n",
       "OnlineSecurity       object\n",
       "OnlineBackup         object\n",
       "DeviceProtection     object\n",
       "TechSupport          object\n",
       "StreamingTV          object\n",
       "StreamingMovies      object\n",
       "Contract             object\n",
       "PaperlessBilling     object\n",
       "PaymentMethod        object\n",
       "MonthlyCharges      float64\n",
       "TotalCharges        float64\n",
       "Churn                object\n",
       "dtype: object"
      ]
     },
     "execution_count": 39,
     "metadata": {},
     "output_type": "execute_result"
    }
   ],
   "source": [
    "customer_churn_df.dtypes"
   ]
  },
  {
   "cell_type": "markdown",
   "id": "84087af5",
   "metadata": {},
   "source": [
    "Now that we have dealt with missing data, we can replace all other whitespaces in entire data with underscore. **NOTE** we are only doing it so we can draw one of the **XGBoost trees**"
   ]
  },
  {
   "cell_type": "code",
   "execution_count": 40,
   "id": "e1074d7f",
   "metadata": {},
   "outputs": [
    {
     "data": {
      "text/html": [
       "<div>\n",
       "<style scoped>\n",
       "    .dataframe tbody tr th:only-of-type {\n",
       "        vertical-align: middle;\n",
       "    }\n",
       "\n",
       "    .dataframe tbody tr th {\n",
       "        vertical-align: top;\n",
       "    }\n",
       "\n",
       "    .dataframe thead th {\n",
       "        text-align: right;\n",
       "    }\n",
       "</style>\n",
       "<table border=\"1\" class=\"dataframe\">\n",
       "  <thead>\n",
       "    <tr style=\"text-align: right;\">\n",
       "      <th></th>\n",
       "      <th>gender</th>\n",
       "      <th>SeniorCitizen</th>\n",
       "      <th>Partner</th>\n",
       "      <th>Dependents</th>\n",
       "      <th>tenure</th>\n",
       "      <th>PhoneService</th>\n",
       "      <th>MultipleLines</th>\n",
       "      <th>InternetService</th>\n",
       "      <th>OnlineSecurity</th>\n",
       "      <th>OnlineBackup</th>\n",
       "      <th>DeviceProtection</th>\n",
       "      <th>TechSupport</th>\n",
       "      <th>StreamingTV</th>\n",
       "      <th>StreamingMovies</th>\n",
       "      <th>Contract</th>\n",
       "      <th>PaperlessBilling</th>\n",
       "      <th>PaymentMethod</th>\n",
       "      <th>MonthlyCharges</th>\n",
       "      <th>TotalCharges</th>\n",
       "      <th>Churn</th>\n",
       "    </tr>\n",
       "  </thead>\n",
       "  <tbody>\n",
       "    <tr>\n",
       "      <th>0</th>\n",
       "      <td>Female</td>\n",
       "      <td>0</td>\n",
       "      <td>Yes</td>\n",
       "      <td>No</td>\n",
       "      <td>1</td>\n",
       "      <td>No</td>\n",
       "      <td>No_phone_service</td>\n",
       "      <td>DSL</td>\n",
       "      <td>No</td>\n",
       "      <td>Yes</td>\n",
       "      <td>No</td>\n",
       "      <td>No</td>\n",
       "      <td>No</td>\n",
       "      <td>No</td>\n",
       "      <td>Month-to-month</td>\n",
       "      <td>Yes</td>\n",
       "      <td>Electronic_check</td>\n",
       "      <td>29.85</td>\n",
       "      <td>29.85</td>\n",
       "      <td>No</td>\n",
       "    </tr>\n",
       "    <tr>\n",
       "      <th>1</th>\n",
       "      <td>Male</td>\n",
       "      <td>0</td>\n",
       "      <td>No</td>\n",
       "      <td>No</td>\n",
       "      <td>34</td>\n",
       "      <td>Yes</td>\n",
       "      <td>No</td>\n",
       "      <td>DSL</td>\n",
       "      <td>Yes</td>\n",
       "      <td>No</td>\n",
       "      <td>Yes</td>\n",
       "      <td>No</td>\n",
       "      <td>No</td>\n",
       "      <td>No</td>\n",
       "      <td>One_year</td>\n",
       "      <td>No</td>\n",
       "      <td>Mailed_check</td>\n",
       "      <td>56.95</td>\n",
       "      <td>1889.50</td>\n",
       "      <td>No</td>\n",
       "    </tr>\n",
       "    <tr>\n",
       "      <th>2</th>\n",
       "      <td>Male</td>\n",
       "      <td>0</td>\n",
       "      <td>No</td>\n",
       "      <td>No</td>\n",
       "      <td>2</td>\n",
       "      <td>Yes</td>\n",
       "      <td>No</td>\n",
       "      <td>DSL</td>\n",
       "      <td>Yes</td>\n",
       "      <td>Yes</td>\n",
       "      <td>No</td>\n",
       "      <td>No</td>\n",
       "      <td>No</td>\n",
       "      <td>No</td>\n",
       "      <td>Month-to-month</td>\n",
       "      <td>Yes</td>\n",
       "      <td>Mailed_check</td>\n",
       "      <td>53.85</td>\n",
       "      <td>108.15</td>\n",
       "      <td>Yes</td>\n",
       "    </tr>\n",
       "    <tr>\n",
       "      <th>3</th>\n",
       "      <td>Male</td>\n",
       "      <td>0</td>\n",
       "      <td>No</td>\n",
       "      <td>No</td>\n",
       "      <td>45</td>\n",
       "      <td>No</td>\n",
       "      <td>No_phone_service</td>\n",
       "      <td>DSL</td>\n",
       "      <td>Yes</td>\n",
       "      <td>No</td>\n",
       "      <td>Yes</td>\n",
       "      <td>Yes</td>\n",
       "      <td>No</td>\n",
       "      <td>No</td>\n",
       "      <td>One_year</td>\n",
       "      <td>No</td>\n",
       "      <td>Bank_transfer_(automatic)</td>\n",
       "      <td>42.30</td>\n",
       "      <td>1840.75</td>\n",
       "      <td>No</td>\n",
       "    </tr>\n",
       "    <tr>\n",
       "      <th>4</th>\n",
       "      <td>Female</td>\n",
       "      <td>0</td>\n",
       "      <td>No</td>\n",
       "      <td>No</td>\n",
       "      <td>2</td>\n",
       "      <td>Yes</td>\n",
       "      <td>No</td>\n",
       "      <td>Fiber_optic</td>\n",
       "      <td>No</td>\n",
       "      <td>No</td>\n",
       "      <td>No</td>\n",
       "      <td>No</td>\n",
       "      <td>No</td>\n",
       "      <td>No</td>\n",
       "      <td>Month-to-month</td>\n",
       "      <td>Yes</td>\n",
       "      <td>Electronic_check</td>\n",
       "      <td>70.70</td>\n",
       "      <td>151.65</td>\n",
       "      <td>Yes</td>\n",
       "    </tr>\n",
       "  </tbody>\n",
       "</table>\n",
       "</div>"
      ],
      "text/plain": [
       "   gender  SeniorCitizen Partner Dependents  tenure PhoneService  \\\n",
       "0  Female              0     Yes         No       1           No   \n",
       "1    Male              0      No         No      34          Yes   \n",
       "2    Male              0      No         No       2          Yes   \n",
       "3    Male              0      No         No      45           No   \n",
       "4  Female              0      No         No       2          Yes   \n",
       "\n",
       "      MultipleLines InternetService OnlineSecurity OnlineBackup  \\\n",
       "0  No_phone_service             DSL             No          Yes   \n",
       "1                No             DSL            Yes           No   \n",
       "2                No             DSL            Yes          Yes   \n",
       "3  No_phone_service             DSL            Yes           No   \n",
       "4                No     Fiber_optic             No           No   \n",
       "\n",
       "  DeviceProtection TechSupport StreamingTV StreamingMovies        Contract  \\\n",
       "0               No          No          No              No  Month-to-month   \n",
       "1              Yes          No          No              No        One_year   \n",
       "2               No          No          No              No  Month-to-month   \n",
       "3              Yes         Yes          No              No        One_year   \n",
       "4               No          No          No              No  Month-to-month   \n",
       "\n",
       "  PaperlessBilling              PaymentMethod  MonthlyCharges  TotalCharges  \\\n",
       "0              Yes           Electronic_check           29.85         29.85   \n",
       "1               No               Mailed_check           56.95       1889.50   \n",
       "2              Yes               Mailed_check           53.85        108.15   \n",
       "3               No  Bank_transfer_(automatic)           42.30       1840.75   \n",
       "4              Yes           Electronic_check           70.70        151.65   \n",
       "\n",
       "  Churn  \n",
       "0    No  \n",
       "1    No  \n",
       "2   Yes  \n",
       "3    No  \n",
       "4   Yes  "
      ]
     },
     "execution_count": 40,
     "metadata": {},
     "output_type": "execute_result"
    }
   ],
   "source": [
    "customer_churn_df.replace(' ', '_', regex = True, inplace = True)\n",
    "customer_churn_df.head()"
   ]
  },
  {
   "cell_type": "code",
   "execution_count": 41,
   "id": "928f032e",
   "metadata": {},
   "outputs": [
    {
     "data": {
      "text/plain": [
       "array(['No', 'Yes'], dtype=object)"
      ]
     },
     "execution_count": 41,
     "metadata": {},
     "output_type": "execute_result"
    }
   ],
   "source": [
    "customer_churn_df['Churn'].unique()"
   ]
  },
  {
   "cell_type": "code",
   "execution_count": 42,
   "id": "88618a5d",
   "metadata": {},
   "outputs": [],
   "source": [
    "customer_churn_df['Churn'].replace({'Yes' : 1, 'No' : 0}, inplace = True)"
   ]
  },
  {
   "cell_type": "code",
   "execution_count": 43,
   "id": "b0152694",
   "metadata": {},
   "outputs": [
    {
     "data": {
      "text/plain": [
       "array([0, 1], dtype=int64)"
      ]
     },
     "execution_count": 43,
     "metadata": {},
     "output_type": "execute_result"
    }
   ],
   "source": [
    "customer_churn_df['Churn'].unique()"
   ]
  },
  {
   "cell_type": "code",
   "execution_count": 44,
   "id": "dc375b17",
   "metadata": {},
   "outputs": [
    {
     "data": {
      "text/plain": [
       "0    5174\n",
       "1    1869\n",
       "Name: Churn, dtype: int64"
      ]
     },
     "execution_count": 44,
     "metadata": {},
     "output_type": "execute_result"
    }
   ],
   "source": [
    "customer_churn_df['Churn'].value_counts()"
   ]
  },
  {
   "cell_type": "code",
   "execution_count": 45,
   "id": "43ae8e62",
   "metadata": {},
   "outputs": [
    {
     "data": {
      "text/plain": [
       "gender               object\n",
       "SeniorCitizen         int64\n",
       "Partner              object\n",
       "Dependents           object\n",
       "tenure                int64\n",
       "PhoneService         object\n",
       "MultipleLines        object\n",
       "InternetService      object\n",
       "OnlineSecurity       object\n",
       "OnlineBackup         object\n",
       "DeviceProtection     object\n",
       "TechSupport          object\n",
       "StreamingTV          object\n",
       "StreamingMovies      object\n",
       "Contract             object\n",
       "PaperlessBilling     object\n",
       "PaymentMethod        object\n",
       "MonthlyCharges      float64\n",
       "TotalCharges        float64\n",
       "Churn                 int64\n",
       "dtype: object"
      ]
     },
     "execution_count": 45,
     "metadata": {},
     "output_type": "execute_result"
    }
   ],
   "source": [
    "customer_churn_df.dtypes"
   ]
  },
  {
   "cell_type": "markdown",
   "id": "47ca8334",
   "metadata": {},
   "source": [
    "### Format Data 1 : Split data into Dependant and Independent variables "
   ]
  },
  {
   "cell_type": "markdown",
   "id": "67297487",
   "metadata": {},
   "source": [
    "Now that we've taken care of missing data, we are ready to start formatting the data for making **XGBoost** model\n",
    "\n",
    "The first step is to split the data into two parts :\n",
    "* The columns of data that we will use to make predictions\n",
    "* The columns of data that we want to predict\n",
    "\n",
    "The reason we deal with missing data before splitting into X and Y is because if we remove rows, splitting after ensures that each row in X correctly corresponds to right value in Y"
   ]
  },
  {
   "cell_type": "code",
   "execution_count": 46,
   "id": "2dbeff12",
   "metadata": {},
   "outputs": [],
   "source": [
    "X = customer_churn_df.drop('Churn', axis = 1)\n",
    "Y = customer_churn_df['Churn']"
   ]
  },
  {
   "cell_type": "code",
   "execution_count": 47,
   "id": "3c75544c",
   "metadata": {},
   "outputs": [
    {
     "name": "stdout",
     "output_type": "stream",
     "text": [
      "      gender  SeniorCitizen Partner Dependents  tenure PhoneService  \\\n",
      "0     Female              0     Yes         No       1           No   \n",
      "1       Male              0      No         No      34          Yes   \n",
      "2       Male              0      No         No       2          Yes   \n",
      "3       Male              0      No         No      45           No   \n",
      "4     Female              0      No         No       2          Yes   \n",
      "...      ...            ...     ...        ...     ...          ...   \n",
      "7038    Male              0     Yes        Yes      24          Yes   \n",
      "7039  Female              0     Yes        Yes      72          Yes   \n",
      "7040  Female              0     Yes        Yes      11           No   \n",
      "7041    Male              1     Yes         No       4          Yes   \n",
      "7042    Male              0      No         No      66          Yes   \n",
      "\n",
      "         MultipleLines InternetService OnlineSecurity OnlineBackup  \\\n",
      "0     No_phone_service             DSL             No          Yes   \n",
      "1                   No             DSL            Yes           No   \n",
      "2                   No             DSL            Yes          Yes   \n",
      "3     No_phone_service             DSL            Yes           No   \n",
      "4                   No     Fiber_optic             No           No   \n",
      "...                ...             ...            ...          ...   \n",
      "7038               Yes             DSL            Yes           No   \n",
      "7039               Yes     Fiber_optic             No          Yes   \n",
      "7040  No_phone_service             DSL            Yes           No   \n",
      "7041               Yes     Fiber_optic             No           No   \n",
      "7042                No     Fiber_optic            Yes           No   \n",
      "\n",
      "     DeviceProtection TechSupport StreamingTV StreamingMovies        Contract  \\\n",
      "0                  No          No          No              No  Month-to-month   \n",
      "1                 Yes          No          No              No        One_year   \n",
      "2                  No          No          No              No  Month-to-month   \n",
      "3                 Yes         Yes          No              No        One_year   \n",
      "4                  No          No          No              No  Month-to-month   \n",
      "...               ...         ...         ...             ...             ...   \n",
      "7038              Yes         Yes         Yes             Yes        One_year   \n",
      "7039              Yes          No         Yes             Yes        One_year   \n",
      "7040               No          No          No              No  Month-to-month   \n",
      "7041               No          No          No              No  Month-to-month   \n",
      "7042              Yes         Yes         Yes             Yes        Two_year   \n",
      "\n",
      "     PaperlessBilling              PaymentMethod  MonthlyCharges  TotalCharges  \n",
      "0                 Yes           Electronic_check           29.85         29.85  \n",
      "1                  No               Mailed_check           56.95       1889.50  \n",
      "2                 Yes               Mailed_check           53.85        108.15  \n",
      "3                  No  Bank_transfer_(automatic)           42.30       1840.75  \n",
      "4                 Yes           Electronic_check           70.70        151.65  \n",
      "...               ...                        ...             ...           ...  \n",
      "7038              Yes               Mailed_check           84.80       1990.50  \n",
      "7039              Yes    Credit_card_(automatic)          103.20       7362.90  \n",
      "7040              Yes           Electronic_check           29.60        346.45  \n",
      "7041              Yes               Mailed_check           74.40        306.60  \n",
      "7042              Yes  Bank_transfer_(automatic)          105.65       6844.50  \n",
      "\n",
      "[7043 rows x 19 columns]\n"
     ]
    }
   ],
   "source": [
    "print(X)"
   ]
  },
  {
   "cell_type": "markdown",
   "id": "ee029d95",
   "metadata": {},
   "source": [
    "(Feature selection & Feature selection)"
   ]
  },
  {
   "cell_type": "markdown",
   "id": "9b2fc0f5",
   "metadata": {},
   "source": [
    "### Format Data Part 2 : One Hot Encoding"
   ]
  },
  {
   "cell_type": "markdown",
   "id": "7573dbe4",
   "metadata": {},
   "source": [
    "Now that we have split the data into two pieces, we want to take a closer look at X which contains features that we will use to make predictions. This list tells us what each variable represents and type of data (**float** or **categorical**), it should contain :\n",
    "\n",
    "* **Gender - Category**\n",
    "  * Female, Male\n",
    "* **Senior Citizen - Category** \n",
    "  * 1, 0 \n",
    "* **Partner - Category**\n",
    "  * Yes, No\n",
    "* **Dependents - Category**\n",
    "  * Yes, No\n",
    "* **tenure - Float**\n",
    "  * 1,34,50,etc...\n",
    "* **PhoneService - Category**\n",
    "  * Yes, No\n",
    "* **MultipleLines - Category**\n",
    "  * Yes, No, No_phone_service\n",
    "* **InternetService - Category**\n",
    "  * DSL, Fiber_Optic, No\n",
    "* **OnlineSecurity - Category**\n",
    "  * Yes, No, No_internet_service\n",
    "* **OnlineBackup - Category**\n",
    "  * Yes, No, No_internet_service\n",
    "* **DeviceProtection - Category**\n",
    "  * Yes, No, No_internet_service\n",
    "* **StreamingTV - Category**\n",
    "  * Yes, No, No_internet_service\n",
    "* **StreamingMovies - Category**\n",
    "  * Yes, No, No_internet_service\n",
    "* **Contract - Category**\n",
    "  * Month-to-month, One_year, Two_year\n",
    "* **PaperlessBilling - Category**\n",
    "  * Yes, No\n",
    "* **PaymentMethod - Category**\n",
    "  * Electronic_check, Mailed_check, Bank_transfer_(automatic),\n",
    "       Credit_card_(automatic)\n",
    "* **MonthlyCharges - Float**\n",
    "  * 29.85, 45, etc...\n",
    "* **TotalCharges - Category**\n",
    "  *  29.85, 45, etc.."
   ]
  },
  {
   "cell_type": "code",
   "execution_count": 48,
   "id": "46e2aec7",
   "metadata": {},
   "outputs": [
    {
     "data": {
      "text/plain": [
       "gender               object\n",
       "SeniorCitizen         int64\n",
       "Partner              object\n",
       "Dependents           object\n",
       "tenure                int64\n",
       "PhoneService         object\n",
       "MultipleLines        object\n",
       "InternetService      object\n",
       "OnlineSecurity       object\n",
       "OnlineBackup         object\n",
       "DeviceProtection     object\n",
       "TechSupport          object\n",
       "StreamingTV          object\n",
       "StreamingMovies      object\n",
       "Contract             object\n",
       "PaperlessBilling     object\n",
       "PaymentMethod        object\n",
       "MonthlyCharges      float64\n",
       "TotalCharges        float64\n",
       "Churn                 int64\n",
       "dtype: object"
      ]
     },
     "execution_count": 48,
     "metadata": {},
     "output_type": "execute_result"
    }
   ],
   "source": [
    "customer_churn_df.dtypes"
   ]
  },
  {
   "cell_type": "markdown",
   "id": "12938275",
   "metadata": {},
   "source": [
    "All of the column that are Object are categorical data that needs to be changed so it can be supported by **XGBoost**. While **XGBoost** natively supports continous variables like **MonthlyCharges**, **TotalCharges**, it does not support categorical data like **PhoneService** which contains 2 different categories. Thus, in order to use categorical data with **XGBoost**, we have to use a trick that converts a column of categorical data into multiple columns of binary values. This trick is called **One-Hot Encoding**\n",
    "\n",
    "Why can't we use categorical data like continous values?! Let's lool at column **PaymentMethod**:\n",
    "* Electronic_check\n",
    "* Mailed_check\n",
    "* Bank_transfer_(automatic)\n",
    "* Credit_card_(automatic)\n",
    "\n",
    "If we converted this categories into numbers like 1,2,3,4 and treated them like continous numbers then we would assume that 4 which means **Credit_card** is more similar to 3 which is **Bank_transfer** than it to 1 or 2 which are other forms of payment. That means, **XGBoost** would more likely to cluster the people with 4s and 3s together than 4s and 1s. In contrast, if we treat this Payment_method as categroical data, then we treat each one as a separate category that is no more or less similar to any other category.Thus, the likelihood of clustering people with **Mailed_check** with people who pay with **Electronic_check** is same as clustering **Mailed_check** with **Credit_card** and that approach is more reasonable."
   ]
  },
  {
   "cell_type": "code",
   "execution_count": 49,
   "id": "f8f3c93d",
   "metadata": {
    "scrolled": true
   },
   "outputs": [
    {
     "data": {
      "text/html": [
       "<div>\n",
       "<style scoped>\n",
       "    .dataframe tbody tr th:only-of-type {\n",
       "        vertical-align: middle;\n",
       "    }\n",
       "\n",
       "    .dataframe tbody tr th {\n",
       "        vertical-align: top;\n",
       "    }\n",
       "\n",
       "    .dataframe thead th {\n",
       "        text-align: right;\n",
       "    }\n",
       "</style>\n",
       "<table border=\"1\" class=\"dataframe\">\n",
       "  <thead>\n",
       "    <tr style=\"text-align: right;\">\n",
       "      <th></th>\n",
       "      <th>Bank_transfer_(automatic)</th>\n",
       "      <th>Credit_card_(automatic)</th>\n",
       "      <th>Electronic_check</th>\n",
       "      <th>Mailed_check</th>\n",
       "    </tr>\n",
       "  </thead>\n",
       "  <tbody>\n",
       "    <tr>\n",
       "      <th>0</th>\n",
       "      <td>0</td>\n",
       "      <td>0</td>\n",
       "      <td>1</td>\n",
       "      <td>0</td>\n",
       "    </tr>\n",
       "    <tr>\n",
       "      <th>1</th>\n",
       "      <td>0</td>\n",
       "      <td>0</td>\n",
       "      <td>0</td>\n",
       "      <td>1</td>\n",
       "    </tr>\n",
       "    <tr>\n",
       "      <th>2</th>\n",
       "      <td>0</td>\n",
       "      <td>0</td>\n",
       "      <td>0</td>\n",
       "      <td>1</td>\n",
       "    </tr>\n",
       "    <tr>\n",
       "      <th>3</th>\n",
       "      <td>1</td>\n",
       "      <td>0</td>\n",
       "      <td>0</td>\n",
       "      <td>0</td>\n",
       "    </tr>\n",
       "    <tr>\n",
       "      <th>4</th>\n",
       "      <td>0</td>\n",
       "      <td>0</td>\n",
       "      <td>1</td>\n",
       "      <td>0</td>\n",
       "    </tr>\n",
       "  </tbody>\n",
       "</table>\n",
       "</div>"
      ],
      "text/plain": [
       "   Bank_transfer_(automatic)  Credit_card_(automatic)  Electronic_check  \\\n",
       "0                          0                        0                 1   \n",
       "1                          0                        0                 0   \n",
       "2                          0                        0                 0   \n",
       "3                          1                        0                 0   \n",
       "4                          0                        0                 1   \n",
       "\n",
       "   Mailed_check  \n",
       "0             0  \n",
       "1             1  \n",
       "2             1  \n",
       "3             0  \n",
       "4             0  "
      ]
     },
     "execution_count": 49,
     "metadata": {},
     "output_type": "execute_result"
    }
   ],
   "source": [
    "pd.get_dummies(customer_churn_df['PaymentMethod']).head()"
   ]
  },
  {
   "cell_type": "code",
   "execution_count": 50,
   "id": "49364b21",
   "metadata": {},
   "outputs": [],
   "source": [
    "dummy_df = pd.get_dummies(customer_churn_df,columns = ['gender', 'SeniorCitizen', 'Partner', 'Dependents', 'PhoneService',\n",
    "                                        'MultipleLines', 'InternetService','OnlineSecurity', 'OnlineBackup', \n",
    "                                        'DeviceProtection', 'TechSupport', 'StreamingTV', 'StreamingMovies', \n",
    "                                        'Contract', 'PaperlessBilling', 'PaymentMethod'])"
   ]
  },
  {
   "cell_type": "code",
   "execution_count": 150,
   "id": "8da88f9e",
   "metadata": {
    "scrolled": true
   },
   "outputs": [
    {
     "data": {
      "text/html": [
       "<div>\n",
       "<style scoped>\n",
       "    .dataframe tbody tr th:only-of-type {\n",
       "        vertical-align: middle;\n",
       "    }\n",
       "\n",
       "    .dataframe tbody tr th {\n",
       "        vertical-align: top;\n",
       "    }\n",
       "\n",
       "    .dataframe thead th {\n",
       "        text-align: right;\n",
       "    }\n",
       "</style>\n",
       "<table border=\"1\" class=\"dataframe\">\n",
       "  <thead>\n",
       "    <tr style=\"text-align: right;\">\n",
       "      <th></th>\n",
       "      <th>tenure</th>\n",
       "      <th>MonthlyCharges</th>\n",
       "      <th>TotalCharges</th>\n",
       "      <th>Churn</th>\n",
       "      <th>gender_Female</th>\n",
       "      <th>gender_Male</th>\n",
       "      <th>SeniorCitizen_0</th>\n",
       "      <th>SeniorCitizen_1</th>\n",
       "      <th>Partner_No</th>\n",
       "      <th>Partner_Yes</th>\n",
       "      <th>...</th>\n",
       "      <th>StreamingMovies_Yes</th>\n",
       "      <th>Contract_Month-to-month</th>\n",
       "      <th>Contract_One_year</th>\n",
       "      <th>Contract_Two_year</th>\n",
       "      <th>PaperlessBilling_No</th>\n",
       "      <th>PaperlessBilling_Yes</th>\n",
       "      <th>PaymentMethod_Bank_transfer_(automatic)</th>\n",
       "      <th>PaymentMethod_Credit_card_(automatic)</th>\n",
       "      <th>PaymentMethod_Electronic_check</th>\n",
       "      <th>PaymentMethod_Mailed_check</th>\n",
       "    </tr>\n",
       "  </thead>\n",
       "  <tbody>\n",
       "    <tr>\n",
       "      <th>0</th>\n",
       "      <td>1</td>\n",
       "      <td>29.85</td>\n",
       "      <td>29.85</td>\n",
       "      <td>0</td>\n",
       "      <td>1</td>\n",
       "      <td>0</td>\n",
       "      <td>1</td>\n",
       "      <td>0</td>\n",
       "      <td>0</td>\n",
       "      <td>1</td>\n",
       "      <td>...</td>\n",
       "      <td>0</td>\n",
       "      <td>1</td>\n",
       "      <td>0</td>\n",
       "      <td>0</td>\n",
       "      <td>0</td>\n",
       "      <td>1</td>\n",
       "      <td>0</td>\n",
       "      <td>0</td>\n",
       "      <td>1</td>\n",
       "      <td>0</td>\n",
       "    </tr>\n",
       "    <tr>\n",
       "      <th>1</th>\n",
       "      <td>34</td>\n",
       "      <td>56.95</td>\n",
       "      <td>1889.50</td>\n",
       "      <td>0</td>\n",
       "      <td>0</td>\n",
       "      <td>1</td>\n",
       "      <td>1</td>\n",
       "      <td>0</td>\n",
       "      <td>1</td>\n",
       "      <td>0</td>\n",
       "      <td>...</td>\n",
       "      <td>0</td>\n",
       "      <td>0</td>\n",
       "      <td>1</td>\n",
       "      <td>0</td>\n",
       "      <td>1</td>\n",
       "      <td>0</td>\n",
       "      <td>0</td>\n",
       "      <td>0</td>\n",
       "      <td>0</td>\n",
       "      <td>1</td>\n",
       "    </tr>\n",
       "    <tr>\n",
       "      <th>2</th>\n",
       "      <td>2</td>\n",
       "      <td>53.85</td>\n",
       "      <td>108.15</td>\n",
       "      <td>1</td>\n",
       "      <td>0</td>\n",
       "      <td>1</td>\n",
       "      <td>1</td>\n",
       "      <td>0</td>\n",
       "      <td>1</td>\n",
       "      <td>0</td>\n",
       "      <td>...</td>\n",
       "      <td>0</td>\n",
       "      <td>1</td>\n",
       "      <td>0</td>\n",
       "      <td>0</td>\n",
       "      <td>0</td>\n",
       "      <td>1</td>\n",
       "      <td>0</td>\n",
       "      <td>0</td>\n",
       "      <td>0</td>\n",
       "      <td>1</td>\n",
       "    </tr>\n",
       "    <tr>\n",
       "      <th>3</th>\n",
       "      <td>45</td>\n",
       "      <td>42.30</td>\n",
       "      <td>1840.75</td>\n",
       "      <td>0</td>\n",
       "      <td>0</td>\n",
       "      <td>1</td>\n",
       "      <td>1</td>\n",
       "      <td>0</td>\n",
       "      <td>1</td>\n",
       "      <td>0</td>\n",
       "      <td>...</td>\n",
       "      <td>0</td>\n",
       "      <td>0</td>\n",
       "      <td>1</td>\n",
       "      <td>0</td>\n",
       "      <td>1</td>\n",
       "      <td>0</td>\n",
       "      <td>1</td>\n",
       "      <td>0</td>\n",
       "      <td>0</td>\n",
       "      <td>0</td>\n",
       "    </tr>\n",
       "    <tr>\n",
       "      <th>4</th>\n",
       "      <td>2</td>\n",
       "      <td>70.70</td>\n",
       "      <td>151.65</td>\n",
       "      <td>1</td>\n",
       "      <td>1</td>\n",
       "      <td>0</td>\n",
       "      <td>1</td>\n",
       "      <td>0</td>\n",
       "      <td>1</td>\n",
       "      <td>0</td>\n",
       "      <td>...</td>\n",
       "      <td>0</td>\n",
       "      <td>1</td>\n",
       "      <td>0</td>\n",
       "      <td>0</td>\n",
       "      <td>0</td>\n",
       "      <td>1</td>\n",
       "      <td>0</td>\n",
       "      <td>0</td>\n",
       "      <td>1</td>\n",
       "      <td>0</td>\n",
       "    </tr>\n",
       "  </tbody>\n",
       "</table>\n",
       "<p>5 rows × 47 columns</p>\n",
       "</div>"
      ],
      "text/plain": [
       "   tenure  MonthlyCharges  TotalCharges  Churn  gender_Female  gender_Male  \\\n",
       "0       1           29.85         29.85      0              1            0   \n",
       "1      34           56.95       1889.50      0              0            1   \n",
       "2       2           53.85        108.15      1              0            1   \n",
       "3      45           42.30       1840.75      0              0            1   \n",
       "4       2           70.70        151.65      1              1            0   \n",
       "\n",
       "   SeniorCitizen_0  SeniorCitizen_1  Partner_No  Partner_Yes  ...  \\\n",
       "0                1                0           0            1  ...   \n",
       "1                1                0           1            0  ...   \n",
       "2                1                0           1            0  ...   \n",
       "3                1                0           1            0  ...   \n",
       "4                1                0           1            0  ...   \n",
       "\n",
       "   StreamingMovies_Yes  Contract_Month-to-month  Contract_One_year  \\\n",
       "0                    0                        1                  0   \n",
       "1                    0                        0                  1   \n",
       "2                    0                        1                  0   \n",
       "3                    0                        0                  1   \n",
       "4                    0                        1                  0   \n",
       "\n",
       "   Contract_Two_year  PaperlessBilling_No  PaperlessBilling_Yes  \\\n",
       "0                  0                    0                     1   \n",
       "1                  0                    1                     0   \n",
       "2                  0                    0                     1   \n",
       "3                  0                    1                     0   \n",
       "4                  0                    0                     1   \n",
       "\n",
       "   PaymentMethod_Bank_transfer_(automatic)  \\\n",
       "0                                        0   \n",
       "1                                        0   \n",
       "2                                        0   \n",
       "3                                        1   \n",
       "4                                        0   \n",
       "\n",
       "   PaymentMethod_Credit_card_(automatic)  PaymentMethod_Electronic_check  \\\n",
       "0                                      0                               1   \n",
       "1                                      0                               0   \n",
       "2                                      0                               0   \n",
       "3                                      0                               0   \n",
       "4                                      0                               1   \n",
       "\n",
       "   PaymentMethod_Mailed_check  \n",
       "0                           0  \n",
       "1                           1  \n",
       "2                           1  \n",
       "3                           0  \n",
       "4                           0  \n",
       "\n",
       "[5 rows x 47 columns]"
      ]
     },
     "execution_count": 150,
     "metadata": {},
     "output_type": "execute_result"
    }
   ],
   "source": [
    "dummy_df.head()"
   ]
  },
  {
   "cell_type": "code",
   "execution_count": 52,
   "id": "bbdf9271",
   "metadata": {},
   "outputs": [
    {
     "data": {
      "image/png": "[encoded data removed]",
      "text/plain": [
       "<Figure size 720x432 with 1 Axes>"
      ]
     },
     "metadata": {},
     "output_type": "display_data"
    }
   ],
   "source": [
    "plt.figure(figsize = (10,6))\n",
    "dummy_df.corr()['Churn'].sort_values(ascending = False).plot(kind = 'bar')\n",
    "sns.reset_orig()"
   ]
  },
  {
   "cell_type": "code",
   "execution_count": 83,
   "id": "af47795a",
   "metadata": {},
   "outputs": [],
   "source": [
    "X_encoded = dummy_df.drop('Churn', axis = 1)\n",
    "Y = dummy_df['Churn']"
   ]
  },
  {
   "cell_type": "markdown",
   "id": "cad6dc54",
   "metadata": {},
   "source": [
    "Month to month contracts, absence of online security and tech support seem to be positively correlated with churn. While, tenure, two year contracts seem to be negatively correlated with churn.\n",
    "\n",
    "Interestingly, services such as Online security, streaming TV, online backup, tech support, etc. without internet connection seem to be negatively related to churn.\n",
    "\n",
    "We will explore the patterns for the above correlations below before we delve into modelling and identifying the important variables."
   ]
  },
  {
   "cell_type": "markdown",
   "id": "034c109c",
   "metadata": {},
   "source": [
    "### Data Exploration "
   ]
  },
  {
   "cell_type": "markdown",
   "id": "bc318ba9",
   "metadata": {},
   "source": [
    "Let us first start with exploring our data set, to better understand the patterns in the data and potentially form some hypothesis. First we will look at the distribution of individual variables and then slice and dice our data for any interesting trends."
   ]
  },
  {
   "cell_type": "code",
   "execution_count": 53,
   "id": "f8a6fe7e",
   "metadata": {},
   "outputs": [
    {
     "data": {
      "text/plain": [
       "Index(['gender', 'SeniorCitizen', 'Partner', 'Dependents', 'tenure',\n",
       "       'PhoneService', 'MultipleLines', 'InternetService', 'OnlineSecurity',\n",
       "       'OnlineBackup', 'DeviceProtection', 'TechSupport', 'StreamingTV',\n",
       "       'StreamingMovies', 'Contract', 'PaperlessBilling', 'PaymentMethod',\n",
       "       'MonthlyCharges', 'TotalCharges', 'Churn'],\n",
       "      dtype='object')"
      ]
     },
     "execution_count": 53,
     "metadata": {},
     "output_type": "execute_result"
    }
   ],
   "source": [
    "customer_churn_df.columns"
   ]
  },
  {
   "cell_type": "markdown",
   "id": "7534fc6b",
   "metadata": {},
   "source": [
    "A. **Demographics** : Let us first understand the gender, age range, partner and dependent status of the customers"
   ]
  },
  {
   "cell_type": "code",
   "execution_count": 54,
   "id": "656a81c2",
   "metadata": {
    "scrolled": false
   },
   "outputs": [
    {
     "data": {
      "image/png": "[encoded data removed]",
      "text/plain": [
       "<Figure size 360x360 with 1 Axes>"
      ]
     },
     "metadata": {
      "needs_background": "light"
     },
     "output_type": "display_data"
    }
   ],
   "source": [
    "#gender\n",
    "\n",
    "ax = plt.figure(figsize = (5,5))\n",
    "colors = ['#4D3425','#E4512B']\n",
    "ax = (customer_churn_df['gender'].value_counts()/len(customer_churn_df['gender'])*100).plot(kind = 'bar', stacked = True,\n",
    "                                                                                      color = colors, rot = 0)\n",
    "\n",
    "ax.set_xlabel('Gender')\n",
    "ax.set_ylabel('% of Customers')\n",
    "ax.set_title('Gender Distribution')\n",
    "ax.yaxis.set_major_formatter(mtick.PercentFormatter()) #chnaging formatting of yaxis to %\n",
    "\n",
    "for p in ax.patches: \n",
    "    width, height = p.get_width(),  p.get_height() # get_width pulls left or right; get_y pushes up or down\n",
    "    x,y = p.get_xy()\n",
    "    ax.annotate('{:.1f}%'.format(height), (p.get_x()+.3*width, p.get_y()+.9*height), #text coordinates\n",
    "                color = 'white',\n",
    "               weight = 'bold',\n",
    "               size = 13)\n"
   ]
  },
  {
   "cell_type": "code",
   "execution_count": 55,
   "id": "edfa483e",
   "metadata": {
    "scrolled": true
   },
   "outputs": [
    {
     "data": {
      "text/plain": [
       "Text(0.5, 1.0, 'Age distribution')"
      ]
     },
     "execution_count": 55,
     "metadata": {},
     "output_type": "execute_result"
    },
    {
     "data": {
      "image/png": "[encoded data removed]",
      "text/plain": [
       "<Figure size 432x288 with 1 Axes>"
      ]
     },
     "metadata": {},
     "output_type": "display_data"
    }
   ],
   "source": [
    "#Senior citizen distribution \n",
    "\n",
    "ax = (customer_churn_df['SeniorCitizen'].value_counts()*100.0 /len(customer_churn_df))\\\n",
    ".plot(kind = 'pie', autopct = '%.1f%%', labels = ['No', 'Yes'])\n",
    "ax.set_xlabel('% of Senior Citizen', fontsize = 12)\n",
    "ax.set_title('Age distribution', fontsize = 12)"
   ]
  },
  {
   "cell_type": "code",
   "execution_count": 56,
   "id": "bbdf58ae",
   "metadata": {
    "scrolled": true
   },
   "outputs": [
    {
     "data": {
      "image/png": "[encoded data removed]",
      "text/plain": [
       "<Figure size 360x360 with 1 Axes>"
      ]
     },
     "metadata": {
      "needs_background": "light"
     },
     "output_type": "display_data"
    }
   ],
   "source": [
    "#partner\n",
    "\n",
    "ax = plt.figure(figsize = (5,5))\n",
    "colors = ['#4D3425','#E4512B']\n",
    "ax = (customer_churn_df['Partner'].value_counts()/len(customer_churn_df['Partner'])*100).plot(kind = 'bar', stacked = True,\n",
    "                                                                                      color = colors, rot = 0)\n",
    "\n",
    "ax.set_xlabel('Partner')\n",
    "ax.set_ylabel('% of Customers')\n",
    "ax.set_title('Partner Distribution')\n",
    "ax.yaxis.set_major_formatter(mtick.PercentFormatter()) #chnaging formatting of yaxis to %\n",
    "\n",
    "for p in ax.patches: \n",
    "    width, height = p.get_width(),  p.get_height() # get_width pulls left or right; get_y pushes up or down\n",
    "    x,y = p.get_xy()\n",
    "    ax.annotate('{:.1f}%'.format(height), (p.get_x()+.3*width, p.get_y()+.9*height), #text coordinates\n",
    "                color = 'white',\n",
    "               weight = 'bold',\n",
    "               size = 13)\n",
    "    "
   ]
  },
  {
   "cell_type": "code",
   "execution_count": 57,
   "id": "be72702a",
   "metadata": {
    "scrolled": true
   },
   "outputs": [
    {
     "data": {
      "image/png": "[encoded data removed]",
      "text/plain": [
       "<Figure size 360x360 with 1 Axes>"
      ]
     },
     "metadata": {
      "needs_background": "light"
     },
     "output_type": "display_data"
    }
   ],
   "source": [
    "#dependants\n",
    "\n",
    "ax = plt.figure(figsize = (5,5))\n",
    "colors = ['#4D3425','#E4512B']\n",
    "ax = (customer_churn_df['Dependents'].value_counts()/len(customer_churn_df['Partner'])*100).plot(kind = 'bar', stacked = True,\n",
    "                                                                                      color = colors, rot = 0)\n",
    "\n",
    "ax.set_xlabel('Dependents')\n",
    "ax.set_ylabel('% of Customers')\n",
    "ax.set_title('Dependents Distribution')\n",
    "ax.yaxis.set_major_formatter(mtick.PercentFormatter()) #chnaging formatting of yaxis to %\n",
    "\n",
    "for p in ax.patches: \n",
    "    width, height = p.get_width(),  p.get_height() # get_width pulls left or right; get_y pushes up or down\n",
    "    x,y = p.get_xy()\n",
    "    ax.annotate('{:.1f}%'.format(height), (p.get_x()+.3*width, p.get_y()+.7*height), #text coordinates\n",
    "                color = 'white',\n",
    "               weight = 'bold',\n",
    "               size = 13)\n",
    "    \n"
   ]
  },
  {
   "cell_type": "markdown",
   "id": "2d07f0ed",
   "metadata": {},
   "source": [
    "What would be interesting is to look at the % of customers, who have partners, also have dependents. We will explore this next."
   ]
  },
  {
   "cell_type": "code",
   "execution_count": 58,
   "id": "a59f01e2",
   "metadata": {
    "scrolled": true
   },
   "outputs": [
    {
     "data": {
      "text/plain": [
       "<Figure size 720x720 with 0 Axes>"
      ]
     },
     "metadata": {},
     "output_type": "display_data"
    },
    {
     "data": {
      "image/png": "[encoded data removed]",
      "text/plain": [
       "<Figure size 432x288 with 1 Axes>"
      ]
     },
     "metadata": {
      "needs_background": "light"
     },
     "output_type": "display_data"
    }
   ],
   "source": [
    "ax = plt.figure(figsize = (10,10))\n",
    "colors = ['#4D3425','#E4512B']\n",
    "# partner_dependants =customer_churn_df[['Partner','Dependents']].value_counts().unstack()\n",
    "partner_dependants =customer_churn_df.groupby(['Partner', 'Dependents']).size().unstack() #unstack is pivotting\n",
    "\n",
    "\n",
    "ax = (partner_dependants.T/partner_dependants.T.sum()*100).T.plot(kind = 'bar', stacked = True, color = colors, rot = 0)\n",
    "\n",
    "ax.yaxis.set_major_formatter(mtick.PercentFormatter())\n",
    "ax.set_ylabel('% of customer')\n",
    "ax.set_title('% of customers with/without dependants on whether they have partner')\n",
    "ax.legend(loc = 'center', prop = {'size' :10}, title = 'Dependants', fontsize = 10)\n",
    "\n",
    "for p in ax.patches: \n",
    "    width, height = p.get_width(),  p.get_height() # get_width pulls left or right; get_y pushes up or down\n",
    "    x,y = p.get_xy()\n",
    "    ax.annotate('{:.1f}%'.format(height), (p.get_x()+.3*width, p.get_y()+.2*height), #text coordinates\n",
    "                color = 'white',\n",
    "               weight = 'bold',\n",
    "               size = 13)\n",
    "    "
   ]
  },
  {
   "cell_type": "markdown",
   "id": "9c908a7b",
   "metadata": {},
   "source": [
    "Customers who have partners, almost **half** of them also have dependanrs while rest of them are dependants. Customers who don't have partner, almost **90%** of people also don't have any dependants i.e. they are independant"
   ]
  },
  {
   "cell_type": "markdown",
   "id": "79a81197",
   "metadata": {},
   "source": [
    "**Checking % of customers with or without dependants based on Gender**\n",
    "\n",
    "*Distribution of Dependants based on Gender is similar*"
   ]
  },
  {
   "cell_type": "code",
   "execution_count": 59,
   "id": "721b191d",
   "metadata": {
    "scrolled": true
   },
   "outputs": [
    {
     "data": {
      "text/plain": [
       "<Figure size 720x720 with 0 Axes>"
      ]
     },
     "metadata": {},
     "output_type": "display_data"
    },
    {
     "data": {
      "image/png": "[encoded data removed]",
      "text/plain": [
       "<Figure size 432x288 with 1 Axes>"
      ]
     },
     "metadata": {
      "needs_background": "light"
     },
     "output_type": "display_data"
    }
   ],
   "source": [
    "ax = plt.figure(figsize = (10,10))\n",
    "colors = ['#4D3425','#E4512B']\n",
    "partner_dependants =customer_churn_df[['gender','Dependents']].value_counts().unstack()\n",
    "#partner_dependants =customer_churn_df.groupby(['Partner', 'Dependents']).size().unstack()\n",
    "\n",
    "\n",
    "ax = (partner_dependants.T/partner_dependants.T.sum()*100).T.plot(kind = 'bar', stacked = True, color = colors, rot = 0)\n",
    "\n",
    "ax.yaxis.set_major_formatter(mtick.PercentFormatter())\n",
    "ax.set_ylabel('% of customer')\n",
    "ax.set_title('% of customers with/without dependants on whether they have Gender')\n",
    "ax.legend(loc = 'center', prop = {'size' :10}, title = 'Dependants', fontsize = 10)\n",
    "\n",
    "for p in ax.patches: \n",
    "    width, height = p.get_width(),  p.get_height() # get_width pulls left or right; get_y pushes up or down\n",
    "    x,y = p.get_xy()\n",
    "    ax.annotate('{:.1f}%'.format(height), (p.get_x()+.3*width, p.get_y()+.2*height), #text coordinates\n",
    "                color = 'white',\n",
    "               weight = 'bold',\n",
    "               size = 13)\n",
    "    "
   ]
  },
  {
   "cell_type": "markdown",
   "id": "c3ee761b",
   "metadata": {},
   "source": [
    "**Checking % of customers with or without dependants based on Age**\n",
    "\n",
    "*As expected, customer has very less % of dependants if they are senior citizen*"
   ]
  },
  {
   "cell_type": "code",
   "execution_count": 60,
   "id": "ebc9d8f4",
   "metadata": {
    "scrolled": true
   },
   "outputs": [
    {
     "data": {
      "text/plain": [
       "<Figure size 720x720 with 0 Axes>"
      ]
     },
     "metadata": {},
     "output_type": "display_data"
    },
    {
     "data": {
      "image/png": "[encoded data removed]",
      "text/plain": [
       "<Figure size 432x288 with 1 Axes>"
      ]
     },
     "metadata": {
      "needs_background": "light"
     },
     "output_type": "display_data"
    }
   ],
   "source": [
    "ax = plt.figure(figsize = (10,10))\n",
    "colors = ['#4D3425','#E4512B']\n",
    "partner_dependants =customer_churn_df[['SeniorCitizen','Dependents']].value_counts().unstack()\n",
    "#partner_dependants =customer_churn_df.groupby(['Partner', 'Dependents']).size().unstack()\n",
    "\n",
    "\n",
    "ax = (partner_dependants.T/partner_dependants.T.sum()*100).T.plot(kind = 'bar', stacked = True, color = colors, rot = 0)\n",
    "\n",
    "ax.yaxis.set_major_formatter(mtick.PercentFormatter())\n",
    "ax.set_ylabel('% of customer')\n",
    "ax.set_title('% of customers with/without dependants on whether they are Senior Citizen')\n",
    "ax.legend(loc = 'center', prop = {'size' :10}, title = 'Dependants', fontsize = 10)\n",
    "\n",
    "for p in ax.patches: \n",
    "    width, height = p.get_width(),  p.get_height() # get_width pulls left or right; get_y pushes up or down\n",
    "    x,y = p.get_xy()\n",
    "    ax.annotate('{:.1f}%'.format(height), (p.get_x()+.3*width, p.get_y()+.2*height), #text coordinates\n",
    "                color = 'white',\n",
    "               weight = 'bold',\n",
    "               size = 13)\n",
    "    "
   ]
  },
  {
   "cell_type": "markdown",
   "id": "c768a63a",
   "metadata": {},
   "source": [
    "**Checking % of customers's age status based on Gender**\n",
    "\n",
    "*Distribution is quite similar in terms of age and Gender*"
   ]
  },
  {
   "cell_type": "code",
   "execution_count": 61,
   "id": "81b10a7a",
   "metadata": {},
   "outputs": [
    {
     "data": {
      "text/plain": [
       "<Figure size 720x720 with 0 Axes>"
      ]
     },
     "metadata": {},
     "output_type": "display_data"
    },
    {
     "data": {
      "image/png": "[encoded data removed]",
      "text/plain": [
       "<Figure size 432x288 with 1 Axes>"
      ]
     },
     "metadata": {
      "needs_background": "light"
     },
     "output_type": "display_data"
    }
   ],
   "source": [
    "ax = plt.figure(figsize = (10,10))\n",
    "colors = ['#4D3425','#E4512B']\n",
    "partner_dependants =customer_churn_df[['SeniorCitizen','gender']].value_counts().unstack()\n",
    "#partner_dependants =customer_churn_df.groupby(['Partner', 'Dependents']).size().unstack()\n",
    "\n",
    "\n",
    "ax = (partner_dependants.T/partner_dependants.T.sum()*100).T.plot(kind = 'bar', stacked = True, color = colors, rot = 0)\n",
    "\n",
    "ax.yaxis.set_major_formatter(mtick.PercentFormatter())\n",
    "ax.set_ylabel('% of customer')\n",
    "ax.set_title('% of customers and their age status based on Gender')\n",
    "ax.legend(loc = 'center', prop = {'size' :10}, title = 'Gender', fontsize = 10)\n",
    "\n",
    "for p in ax.patches: \n",
    "    width, height = p.get_width(),  p.get_height() # get_width pulls left or right; get_y pushes up or down\n",
    "    x,y = p.get_xy()\n",
    "    ax.annotate('{:.1f}%'.format(height), (p.get_x()+.3*width, p.get_y()+.2*height), #text coordinates\n",
    "                color = 'white',\n",
    "               weight = 'bold',\n",
    "               size = 13)\n",
    "    "
   ]
  },
  {
   "cell_type": "markdown",
   "id": "bca9fb99",
   "metadata": {},
   "source": [
    "B.) **Customer Account Information**: Let's see the tenure and contract of customers"
   ]
  },
  {
   "cell_type": "markdown",
   "id": "ae7cefe4",
   "metadata": {},
   "source": [
    "**Tenure** : After looking at the below histogram we can see that a lot of customers have been with the telecom company for just a month, while quite a many are there for about 72 months. This could be potentially because different customers have different contracts. Thus based on the contract they are into it could be more/less easier for the customers to stay/leave the telecom company."
   ]
  },
  {
   "cell_type": "code",
   "execution_count": 62,
   "id": "a446762b",
   "metadata": {
    "scrolled": true
   },
   "outputs": [
    {
     "name": "stderr",
     "output_type": "stream",
     "text": [
      "C:\\ProgramData\\Anaconda3\\lib\\site-packages\\seaborn\\distributions.py:2619: FutureWarning: `distplot` is a deprecated function and will be removed in a future version. Please adapt your code to use either `displot` (a figure-level function with similar flexibility) or `histplot` (an axes-level function for histograms).\n",
      "  warnings.warn(msg, FutureWarning)\n"
     ]
    },
    {
     "data": {
      "text/plain": [
       "Text(0.5, 1.0, 'Tenure of Customers')"
      ]
     },
     "execution_count": 62,
     "metadata": {},
     "output_type": "execute_result"
    },
    {
     "data": {
      "image/png": "[encoded data removed]",
      "text/plain": [
       "<Figure size 360x360 with 1 Axes>"
      ]
     },
     "metadata": {
      "needs_background": "light"
     },
     "output_type": "display_data"
    }
   ],
   "source": [
    "fig = plt.figure(figsize = (5,5))\n",
    "ax = sns.distplot(customer_churn_df['tenure'],hist = True, kde = False, color = 'darkblue',\n",
    "                 hist_kws = {'edgecolor' : 'black'},\n",
    "                 kde_kws = {'linewidth' : 4})\n",
    "ax.set_xlabel('Tenure (months)')\n",
    "ax.set_ylabel('# of customers')\n",
    "ax.set_title('Tenure of Customers')"
   ]
  },
  {
   "cell_type": "markdown",
   "id": "ccbf16ed",
   "metadata": {},
   "source": [
    "2. **Contract** : To understand the above graph, lets first look at the # of customers by different contracts."
   ]
  },
  {
   "cell_type": "code",
   "execution_count": 63,
   "id": "5a35fa1e",
   "metadata": {},
   "outputs": [
    {
     "name": "stderr",
     "output_type": "stream",
     "text": [
      "C:\\ProgramData\\Anaconda3\\lib\\site-packages\\seaborn\\_decorators.py:36: FutureWarning: Pass the following variable as a keyword arg: x. From version 0.12, the only valid positional argument will be `data`, and passing other arguments without an explicit keyword will result in an error or misinterpretation.\n",
      "  warnings.warn(\n"
     ]
    },
    {
     "data": {
      "text/plain": [
       "Text(0.5, 1.0, '# of Customers by Contract Type')"
      ]
     },
     "execution_count": 63,
     "metadata": {},
     "output_type": "execute_result"
    },
    {
     "data": {
      "image/png": "[encoded data removed]",
      "text/plain": [
       "<Figure size 432x288 with 1 Axes>"
      ]
     },
     "metadata": {
      "needs_background": "light"
     },
     "output_type": "display_data"
    }
   ],
   "source": [
    "ax = sns.countplot(customer_churn_df['Contract'])\n",
    "ax.set_xlabel('Type of contract')\n",
    "ax.set_ylabel('# of Customers')\n",
    "ax.set_title('# of Customers by Contract Type')"
   ]
  },
  {
   "cell_type": "markdown",
   "id": "c74097f5",
   "metadata": {},
   "source": [
    "As we can see from this graph most of the customers are in the month to month contract. While there are equal number of customers in the 1 year and 2 year contracts."
   ]
  },
  {
   "cell_type": "markdown",
   "id": "aefa7cf1",
   "metadata": {},
   "source": [
    "Below we will understand the tenure of customers based on their contract type."
   ]
  },
  {
   "cell_type": "code",
   "execution_count": 64,
   "id": "1e727fcf",
   "metadata": {},
   "outputs": [
    {
     "data": {
      "text/plain": [
       "Month-to-month    3875\n",
       "Two_year          1695\n",
       "One_year          1473\n",
       "Name: Contract, dtype: int64"
      ]
     },
     "execution_count": 64,
     "metadata": {},
     "output_type": "execute_result"
    }
   ],
   "source": [
    "customer_churn_df['Contract'].value_counts()"
   ]
  },
  {
   "cell_type": "code",
   "execution_count": 65,
   "id": "5dda1521",
   "metadata": {},
   "outputs": [
    {
     "name": "stderr",
     "output_type": "stream",
     "text": [
      "C:\\ProgramData\\Anaconda3\\lib\\site-packages\\seaborn\\distributions.py:2619: FutureWarning: `distplot` is a deprecated function and will be removed in a future version. Please adapt your code to use either `displot` (a figure-level function with similar flexibility) or `histplot` (an axes-level function for histograms).\n",
      "  warnings.warn(msg, FutureWarning)\n"
     ]
    },
    {
     "data": {
      "text/plain": [
       "Text(0.5, 1.0, 'Two year contract')"
      ]
     },
     "execution_count": 65,
     "metadata": {},
     "output_type": "execute_result"
    },
    {
     "data": {
      "image/png": "[encoded data removed]",
      "text/plain": [
       "<Figure size 1152x216 with 3 Axes>"
      ]
     },
     "metadata": {
      "needs_background": "light"
     },
     "output_type": "display_data"
    }
   ],
   "source": [
    "fig, axes = plt.subplots(nrows = 1, ncols = 3, figsize = (16,3))\n",
    "\n",
    "ax = sns.distplot(customer_churn_df[customer_churn_df['Contract'] == 'Month-to-month']['tenure'], \n",
    "                  hist_kws = {'edgecolor': 'black'},color = 'darkblue',\n",
    "                  kde = False, kde_kws = {'linewidth' : 4}, ax = axes[0]) #axes[rownumber, colnumber]\n",
    "ax.set_xlabel('Tenure (Months)')\n",
    "ax.set_ylabel('# of customers')\n",
    "ax.set_title('Month-to-Month contract')\n",
    "\n",
    "ax = sns.distplot(customer_churn_df[customer_churn_df['Contract'] == 'One_year']['tenure'],\n",
    "                  hist_kws = {'edgecolor': 'black'},color = 'turquoise',\n",
    "                  kde = False, kde_kws = {'linewidth' : 4}, ax= axes[1])\n",
    "ax.set_xlabel('Tenure (Months)')\n",
    "ax.set_ylabel('# of customers')\n",
    "ax.set_title('One year contract')\n",
    "\n",
    "ax = sns.distplot(customer_churn_df[customer_churn_df['Contract'] == 'Two_year']['tenure'], \n",
    "                 hist_kws = {'edgecolor': 'black'},color = 'steelblue',\n",
    "                  kde = False, kde_kws = {'linewidth' : 4}, ax= axes[2])\n",
    "ax.set_xlabel('Tenure (Months)')\n",
    "ax.set_ylabel('# of customers')\n",
    "ax.set_title('Two year contract')"
   ]
  },
  {
   "cell_type": "markdown",
   "id": "d6f03c88",
   "metadata": {},
   "source": [
    "Interestingly most of the monthly contracts last for 1-2 months, while the 2 year contracts tend to last for about 70 months. This shows that the customers taking a longer contract are more loyal to the company and tend to stay with it for a longer period of time.\n",
    "\n",
    "This is also what we saw in the earlier chart on correlation with the churn rate."
   ]
  },
  {
   "cell_type": "markdown",
   "id": "7d2619c5",
   "metadata": {},
   "source": [
    "C. Let us now look at the distribution of various services used by customers"
   ]
  },
  {
   "cell_type": "code",
   "execution_count": 66,
   "id": "2e2619c8",
   "metadata": {
    "scrolled": false
   },
   "outputs": [
    {
     "name": "stderr",
     "output_type": "stream",
     "text": [
      "C:\\ProgramData\\Anaconda3\\lib\\site-packages\\seaborn\\_decorators.py:36: FutureWarning: Pass the following variable as a keyword arg: x. From version 0.12, the only valid positional argument will be `data`, and passing other arguments without an explicit keyword will result in an error or misinterpretation.\n",
      "  warnings.warn(\n",
      "C:\\ProgramData\\Anaconda3\\lib\\site-packages\\seaborn\\_decorators.py:36: FutureWarning: Pass the following variable as a keyword arg: x. From version 0.12, the only valid positional argument will be `data`, and passing other arguments without an explicit keyword will result in an error or misinterpretation.\n",
      "  warnings.warn(\n",
      "C:\\ProgramData\\Anaconda3\\lib\\site-packages\\seaborn\\_decorators.py:36: FutureWarning: Pass the following variable as a keyword arg: x. From version 0.12, the only valid positional argument will be `data`, and passing other arguments without an explicit keyword will result in an error or misinterpretation.\n",
      "  warnings.warn(\n",
      "C:\\ProgramData\\Anaconda3\\lib\\site-packages\\seaborn\\_decorators.py:36: FutureWarning: Pass the following variable as a keyword arg: x. From version 0.12, the only valid positional argument will be `data`, and passing other arguments without an explicit keyword will result in an error or misinterpretation.\n",
      "  warnings.warn(\n",
      "C:\\ProgramData\\Anaconda3\\lib\\site-packages\\seaborn\\_decorators.py:36: FutureWarning: Pass the following variable as a keyword arg: x. From version 0.12, the only valid positional argument will be `data`, and passing other arguments without an explicit keyword will result in an error or misinterpretation.\n",
      "  warnings.warn(\n",
      "C:\\ProgramData\\Anaconda3\\lib\\site-packages\\seaborn\\_decorators.py:36: FutureWarning: Pass the following variable as a keyword arg: x. From version 0.12, the only valid positional argument will be `data`, and passing other arguments without an explicit keyword will result in an error or misinterpretation.\n",
      "  warnings.warn(\n",
      "C:\\ProgramData\\Anaconda3\\lib\\site-packages\\seaborn\\_decorators.py:36: FutureWarning: Pass the following variable as a keyword arg: x. From version 0.12, the only valid positional argument will be `data`, and passing other arguments without an explicit keyword will result in an error or misinterpretation.\n",
      "  warnings.warn(\n",
      "C:\\ProgramData\\Anaconda3\\lib\\site-packages\\seaborn\\_decorators.py:36: FutureWarning: Pass the following variable as a keyword arg: x. From version 0.12, the only valid positional argument will be `data`, and passing other arguments without an explicit keyword will result in an error or misinterpretation.\n",
      "  warnings.warn(\n",
      "C:\\ProgramData\\Anaconda3\\lib\\site-packages\\seaborn\\_decorators.py:36: FutureWarning: Pass the following variable as a keyword arg: x. From version 0.12, the only valid positional argument will be `data`, and passing other arguments without an explicit keyword will result in an error or misinterpretation.\n",
      "  warnings.warn(\n"
     ]
    },
    {
     "data": {
      "image/png": "[encoded data removed]",
      "text/plain": [
       "<Figure size 1080x864 with 9 Axes>"
      ]
     },
     "metadata": {
      "needs_background": "light"
     },
     "output_type": "display_data"
    }
   ],
   "source": [
    "services = ['PhoneService','MultipleLines','InternetService','OnlineSecurity',\n",
    "           'OnlineBackup','DeviceProtection','TechSupport','StreamingTV','StreamingMovies']\n",
    "\n",
    "fig, axes = plt.subplots(nrows = 3, ncols = 3, figsize = (15,12))\n",
    "\n",
    "for i, item in enumerate(services):\n",
    "    if i <3:\n",
    "        ax = sns.countplot(customer_churn_df[item], ax = axes[i,0]) #axes[0,1,2 (rows), 1(column)]\n",
    "    elif i >=3 and i<6:\n",
    "        ax = sns.countplot(customer_churn_df[item], ax = axes[i-3,1]) # axes[3-(3,4,5) (rows), 1 (column)]\n",
    "    elif i>=6 and i <9:\n",
    "        ax = sns.countplot(customer_churn_df[item], ax = axes[i-6,2]) #axes[6-(6,7,8) (rows), 1(column)]\n",
    "    \n",
    "#     print(i)\n",
    "#     print(item)\n",
    "\n",
    "\n",
    "# s = ['Nidhi', 'Arjun', 'Urvashi', 'neha']\n",
    "# for i, item in enumerate(s):\n",
    "#     if i <2 :\n",
    "#         print('stop at 2', s[i])\n",
    "#     else :\n",
    "#         print('not stopped at 2', s[i])"
   ]
  },
  {
   "cell_type": "markdown",
   "id": "505846c9",
   "metadata": {},
   "source": [
    "D.) Now let's take a quick look at the relation between monthly and total charges"
   ]
  },
  {
   "cell_type": "code",
   "execution_count": 67,
   "id": "fe592eb5",
   "metadata": {},
   "outputs": [
    {
     "data": {
      "text/plain": [
       "<AxesSubplot:xlabel='MonthlyCharges', ylabel='TotalCharges'>"
      ]
     },
     "execution_count": 67,
     "metadata": {},
     "output_type": "execute_result"
    },
    {
     "data": {
      "image/png": "[encoded data removed]",
      "text/plain": [
       "<Figure size 432x288 with 1 Axes>"
      ]
     },
     "metadata": {
      "needs_background": "light"
     },
     "output_type": "display_data"
    }
   ],
   "source": [
    "sns.lineplot(x = customer_churn_df['MonthlyCharges'], y = customer_churn_df['TotalCharges'])"
   ]
  },
  {
   "cell_type": "markdown",
   "id": "8ed55e62",
   "metadata": {},
   "source": [
    "We can see that the total charges increases as the monthly bill for a customer increases."
   ]
  },
  {
   "cell_type": "markdown",
   "id": "6b9e6f58",
   "metadata": {},
   "source": [
    "E.) Finally, let's take a look at out predictor variable (Churn) and understand its interaction with other important variables as was found out in the correlation plot"
   ]
  },
  {
   "cell_type": "markdown",
   "id": "7e006037",
   "metadata": {},
   "source": [
    "Lets first look at the churn rate in our data"
   ]
  },
  {
   "cell_type": "code",
   "execution_count": 68,
   "id": "38538cf3",
   "metadata": {
    "scrolled": false
   },
   "outputs": [
    {
     "data": {
      "image/png": "[encoded data removed]",
      "text/plain": [
       "<Figure size 432x288 with 1 Axes>"
      ]
     },
     "metadata": {
      "needs_background": "light"
     },
     "output_type": "display_data"
    }
   ],
   "source": [
    "colors = ['#4D3425','#E4512B']\n",
    "ax = (customer_churn_df['Churn'].value_counts()/len(customer_churn_df)*100).plot(kind = 'bar', color = colors)\n",
    "\n",
    "ax.yaxis.set_major_formatter(mtick.PercentFormatter())\n",
    "ax.set_ylabel('% of customers')\n",
    "ax.set_xlabel('Churn Label')\n",
    "ax.set_title('Churn distribution')\n",
    "\n",
    "for p in ax.patches:\n",
    "    width, height = p.get_width(), p.get_height()\n",
    "    x, y = p.get_xy()\n",
    "    ax.annotate('{:.1f}%'.format(height), (p.get_x()+ .2*width, p.get_y() + .7*height), color = 'white', weight = 'bold')"
   ]
  },
  {
   "cell_type": "markdown",
   "id": "357f1b6b",
   "metadata": {},
   "source": [
    "In our data, 74% of the customers do not churn. Clearly the data is skewed as we would expect a large majority of the customers to not churn. This is important to keep in mind for our modelling as skeweness could lead to a lot of false negatives."
   ]
  },
  {
   "cell_type": "markdown",
   "id": "f1013db6",
   "metadata": {},
   "source": [
    "Lets now explore the churn rate by tenure, seniority, contract type, monthly charges and total charges to see how it varies by these variables."
   ]
  },
  {
   "cell_type": "markdown",
   "id": "33bfef52",
   "metadata": {},
   "source": [
    "**Churn vs Tenure** :  As we can see form the below plot, the customers who do not churn, they tend to stay for a longer tenure with the telecom company.The churn seems to go down as tenure goes up"
   ]
  },
  {
   "cell_type": "code",
   "execution_count": 69,
   "id": "43d22158",
   "metadata": {
    "scrolled": true
   },
   "outputs": [
    {
     "data": {
      "text/plain": [
       "<AxesSubplot:xlabel='tenure', ylabel='Churn'>"
      ]
     },
     "execution_count": 69,
     "metadata": {},
     "output_type": "execute_result"
    },
    {
     "data": {
      "image/png": "[encoded data removed]",
      "text/plain": [
       "<Figure size 432x288 with 1 Axes>"
      ]
     },
     "metadata": {
      "needs_background": "light"
     },
     "output_type": "display_data"
    }
   ],
   "source": [
    " sns.lineplot(x = customer_churn_df['tenure'], y = customer_churn_df['Churn'])\n",
    "# sns.boxplot(x = customer_churn_df.Churn, y = customer_churn_df.tenure)"
   ]
  },
  {
   "cell_type": "markdown",
   "id": "7de5fbfc",
   "metadata": {},
   "source": [
    "**Churn vs Contract Type**  : Similar to what we saw in correlation plot, customers who have high month-to-month contract have high churn rate"
   ]
  },
  {
   "cell_type": "code",
   "execution_count": 70,
   "id": "c267d1ad",
   "metadata": {},
   "outputs": [
    {
     "data": {
      "text/plain": [
       "<Figure size 720x720 with 0 Axes>"
      ]
     },
     "metadata": {},
     "output_type": "display_data"
    },
    {
     "data": {
      "image/png": "[encoded data removed]",
      "text/plain": [
       "<Figure size 432x288 with 1 Axes>"
      ]
     },
     "metadata": {
      "needs_background": "light"
     },
     "output_type": "display_data"
    }
   ],
   "source": [
    "# sns.countplot(x = customer_churn_df['Contract'], hue = customer_churn_df['Churn'])\n",
    "ax = plt.figure(figsize = (10,10))\n",
    "colors = ['#4D3425','#E4512B']\n",
    "churned_contracts = customer_churn_df[['Contract', 'Churn']].value_counts().unstack().T/customer_churn_df[['Contract', 'Churn']].value_counts().unstack().T.sum()*100\n",
    "ax = churned_contracts.T.plot(kind = 'bar', stacked = True, color = colors)\n",
    "ax.yaxis.set_major_formatter(mtick.PercentFormatter())\n",
    "ax.set_ylabel('% of customers')\n",
    "ax.set_xlabel('Contract type')\n",
    "ax.legend(loc = 'best', title = 'Churn')\n",
    "ax.set_title('% of Churned vs Non-churned customers by contract')\n",
    "\n",
    "for p in ax.patches:\n",
    "    width, height = p.get_width(), p.get_height()\n",
    "    x, y = p.get_xy()\n",
    "    ax.annotate('{:.1f}%'.format(height), (p.get_x()+ .25*width, p.get_y() + .04*height), color = 'white', weight = 'bold', size = 12)"
   ]
  },
  {
   "cell_type": "markdown",
   "id": "3d089e09",
   "metadata": {},
   "source": [
    "**Churn by Seniority** : Senior Citizens have almost double the churn rate than younger population."
   ]
  },
  {
   "cell_type": "code",
   "execution_count": 71,
   "id": "d81f3524",
   "metadata": {
    "scrolled": false
   },
   "outputs": [
    {
     "data": {
      "text/plain": [
       "<Figure size 720x720 with 0 Axes>"
      ]
     },
     "metadata": {},
     "output_type": "display_data"
    },
    {
     "data": {
      "image/png": "[encoded data removed]",
      "text/plain": [
       "<Figure size 432x288 with 1 Axes>"
      ]
     },
     "metadata": {
      "needs_background": "light"
     },
     "output_type": "display_data"
    }
   ],
   "source": [
    "# sns.countplot(x = customer_churn_df['Contract'], hue = customer_churn_df['Churn'])\n",
    "ax = plt.figure(figsize = (10,10))\n",
    "colors = ['#4D3425','#E4512B']\n",
    "churned_contracts = customer_churn_df[['SeniorCitizen', 'Churn']].value_counts().unstack().T/customer_churn_df[['SeniorCitizen', 'Churn']].value_counts().unstack().T.sum()*100\n",
    "ax = churned_contracts.T.plot(kind = 'bar', stacked = True, color = colors)\n",
    "ax.yaxis.set_major_formatter(mtick.PercentFormatter())\n",
    "ax.set_ylabel('% of customers')\n",
    "ax.set_xlabel('Senior Citizen')\n",
    "ax.legend(loc = 'best', title = 'Churn')\n",
    "ax.set_title('% of Churned vs Non-churned customers by Age')\n",
    "\n",
    "for p in ax.patches:\n",
    "    width, height = p.get_width(), p.get_height()\n",
    "    x, y = p.get_xy()\n",
    "    ax.annotate('{:.1f}%'.format(height), (p.get_x()+ .25*width, p.get_y() + .04*height), color = 'white', weight = 'bold', size = 12)"
   ]
  },
  {
   "cell_type": "markdown",
   "id": "9503b2f4",
   "metadata": {},
   "source": [
    "**Churn by Monthly Charges**: Higher % of customers churn when the monthly charges are high."
   ]
  },
  {
   "cell_type": "code",
   "execution_count": 72,
   "id": "38dbba22",
   "metadata": {},
   "outputs": [
    {
     "data": {
      "text/plain": [
       "Text(0.5, 1.0, 'Distribution of monthly charges by churn')"
      ]
     },
     "execution_count": 72,
     "metadata": {},
     "output_type": "execute_result"
    },
    {
     "data": {
      "image/png": "[encoded data removed]",
      "text/plain": [
       "<Figure size 432x288 with 1 Axes>"
      ]
     },
     "metadata": {
      "needs_background": "light"
     },
     "output_type": "display_data"
    }
   ],
   "source": [
    "ax = sns.kdeplot(customer_churn_df[customer_churn_df['Churn'] == 1]['MonthlyCharges'], color = 'blue', shade = True)\n",
    "ax = sns.kdeplot(customer_churn_df[customer_churn_df['Churn'] == 0]['MonthlyCharges'],color = 'red', shade = True)\n",
    "ax.legend([\"Churn\",\"Not Churn\"],loc='upper right')\n",
    "ax.set_ylabel('Density')\n",
    "ax.set_xlabel('Monthly Charges')\n",
    "ax.set_title('Distribution of monthly charges by churn')"
   ]
  },
  {
   "cell_type": "markdown",
   "id": "1402184a",
   "metadata": {},
   "source": [
    "**Churn by Total Charges** : It seems that there is higer churn when the total charges are lower."
   ]
  },
  {
   "cell_type": "code",
   "execution_count": 73,
   "id": "c7660306",
   "metadata": {},
   "outputs": [
    {
     "data": {
      "text/plain": [
       "Text(0.5, 1.0, 'Distribution of monthly charges by churn')"
      ]
     },
     "execution_count": 73,
     "metadata": {},
     "output_type": "execute_result"
    },
    {
     "data": {
      "image/png": "[encoded data removed]",
      "text/plain": [
       "<Figure size 432x288 with 1 Axes>"
      ]
     },
     "metadata": {
      "needs_background": "light"
     },
     "output_type": "display_data"
    }
   ],
   "source": [
    "ax = sns.kdeplot(customer_churn_df[customer_churn_df['Churn'] == 1]['TotalCharges'], color = 'blue', shade = True)\n",
    "ax = sns.kdeplot(customer_churn_df[customer_churn_df['Churn'] == 0]['TotalCharges'],color = 'red', shade = True)\n",
    "ax.legend([\"Churn\",\"Not Churn\"],loc='upper right')\n",
    "ax.set_ylabel('Density')\n",
    "ax.set_xlabel('Monthly Charges')\n",
    "ax.set_title('Distribution of monthly charges by churn')"
   ]
  },
  {
   "cell_type": "markdown",
   "id": "f95caffd",
   "metadata": {},
   "source": [
    "**After going through the above EDA we will explore some predictive models and compare them**"
   ]
  },
  {
   "cell_type": "markdown",
   "id": "b487a706",
   "metadata": {},
   "source": [
    "We will develop Logistic Regression, Random Forest, SVM, ADA Boost and XG Boost"
   ]
  },
  {
   "cell_type": "markdown",
   "id": "ef4df2f6",
   "metadata": {},
   "source": [
    "**1. Logistic Regression**"
   ]
  },
  {
   "cell_type": "code",
   "execution_count": 86,
   "id": "eea1de04",
   "metadata": {
    "scrolled": true
   },
   "outputs": [
    {
     "name": "stderr",
     "output_type": "stream",
     "text": [
      "C:\\ProgramData\\Anaconda3\\lib\\site-packages\\sklearn\\linear_model\\_logistic.py:763: ConvergenceWarning: lbfgs failed to converge (status=1):\n",
      "STOP: TOTAL NO. of ITERATIONS REACHED LIMIT.\n",
      "\n",
      "Increase the number of iterations (max_iter) or scale the data as shown in:\n",
      "    https://scikit-learn.org/stable/modules/preprocessing.html\n",
      "Please also refer to the documentation for alternative solver options:\n",
      "    https://scikit-learn.org/stable/modules/linear_model.html#logistic-regression\n",
      "  n_iter_i = _check_optimize_result(\n"
     ]
    },
    {
     "data": {
      "text/plain": [
       "<sklearn.metrics._plot.confusion_matrix.ConfusionMatrixDisplay at 0x1685fbb17c0>"
      ]
     },
     "execution_count": 86,
     "metadata": {},
     "output_type": "execute_result"
    },
    {
     "data": {
      "image/png": "[encoded data removed]",
      "text/plain": [
       "<Figure size 432x288 with 2 Axes>"
      ]
     },
     "metadata": {
      "needs_background": "light"
     },
     "output_type": "display_data"
    }
   ],
   "source": [
    "from sklearn.linear_model import LogisticRegression\n",
    "from sklearn.preprocessing import MinMaxScaler\n",
    "model = LogisticRegression()\n",
    "scalar = MinMaxScaler(feature_range = (0,1))\n",
    "scalar.fit(X_encoded)\n",
    "X_encoded_standarised = scalar.transform(X_encoded)\n",
    "\n",
    "X_train, X_test, Y_train, Y_test = train_test_split(X_encoded_standarised, Y, test_size = 0.2, stratify = Y, \n",
    "                                                    random_state = 42)\n",
    "\n",
    "model.fit(X_train, Y_train)\n",
    "plot_confusion_matrix(model, X_test, Y_test, display_labels = ['Not left', 'Left'])"
   ]
  },
  {
   "cell_type": "markdown",
   "id": "ed788ae8",
   "metadata": {},
   "source": [
    "Logistic Regression was only able to predict **55%** **(206 out of 374)** of correct people who have left"
   ]
  },
  {
   "cell_type": "markdown",
   "id": "9905f7b5",
   "metadata": {},
   "source": [
    "**Feature Importance**"
   ]
  },
  {
   "cell_type": "code",
   "execution_count": 87,
   "id": "db7d2f1a",
   "metadata": {},
   "outputs": [
    {
     "data": {
      "text/plain": [
       "Text(0.5, 1.0, 'Lowest weights')"
      ]
     },
     "execution_count": 87,
     "metadata": {},
     "output_type": "execute_result"
    },
    {
     "data": {
      "text/plain": [
       "<Figure size 1440x576 with 0 Axes>"
      ]
     },
     "metadata": {},
     "output_type": "display_data"
    },
    {
     "data": {
      "image/png": "[encoded data removed]",
      "text/plain": [
       "<Figure size 432x288 with 2 Axes>"
      ]
     },
     "metadata": {
      "needs_background": "light"
     },
     "output_type": "display_data"
    }
   ],
   "source": [
    "plt.figure(figsize = (20,8))\n",
    "feature_importance = pd.DataFrame(data = {'Attributes' : X_encoded.columns, 'Importance' : model.coef_[0]})\n",
    "\n",
    "highest_weights = feature_importance.sort_values(by = 'Importance',ascending = False)\n",
    "lowest_weights  = feature_importance.sort_values(by = 'Importance',ascending = True)\n",
    "\n",
    "fig, axes = plt.subplots(nrows = 1, ncols = 2)\n",
    "\n",
    "ax = highest_weights.iloc[:11].plot(kind = 'bar', x = 'Attributes', y = 'Importance', ax = axes[0])\n",
    "ax.set_title('Highest weights')\n",
    "ax = lowest_weights.iloc[:11].plot(kind = 'bar', x = 'Attributes', y = 'Importance', ax = axes[1])\n",
    "ax.set_title('Lowest weights')\n",
    "\n",
    "# https://betterdatascience.com/feature-importance-python/"
   ]
  },
  {
   "cell_type": "markdown",
   "id": "fa14770f",
   "metadata": {},
   "source": [
    "**Observations**\n",
    "\n",
    "We can see that some variables have a negative relation to our predicted variable (Churn), while some have positive relation. Negative relation means that likeliness of churn decreases with that variable. Let us summarize some of the interesting features below:\n",
    "\n",
    "As we saw in our EDA, having a 2 month contract reduces chances of churn. 2 month contract along with tenure have the most negative relation with Churn as predicted by logistic regressions\n",
    "Having DSL internet service also reduces the proability of Churn\n",
    "Lastly, total charges, monthly contracts, fibre optic internet services and seniority can lead to higher churn rates. This is interesting because although fibre optic services are faster, customers are likely to churn because of it."
   ]
  },
  {
   "cell_type": "markdown",
   "id": "89faa2db",
   "metadata": {},
   "source": [
    "**2. Random Forest**"
   ]
  },
  {
   "cell_type": "code",
   "execution_count": 88,
   "id": "0f39e5cb",
   "metadata": {
    "scrolled": true
   },
   "outputs": [
    {
     "data": {
      "image/png": "[encoded data removed]",
      "text/plain": [
       "<Figure size 432x288 with 2 Axes>"
      ]
     },
     "metadata": {
      "needs_background": "light"
     },
     "output_type": "display_data"
    }
   ],
   "source": [
    "from sklearn.ensemble import RandomForestClassifier \n",
    "model_rf = RandomForestClassifier(n_estimators = 1000,criteria = max_depth = 30, oob_score = True, random_state = 50,\n",
    "                                 max_features = 'auto', n_jobs = -1)\n",
    "\n",
    "X_train, X_test, Y_train, Y_test = train_test_split(X_encoded_standarised, Y, test_size = 0.2,stratify = Y)\n",
    "\n",
    "model_rf.fit(X_train,Y_train)\n",
    "\n",
    "plot_confusion_matrix(model_rf, X_test, Y_test, display_labels = ['Not left', 'Left'])\n",
    "plt.grid(None)"
   ]
  },
  {
   "cell_type": "markdown",
   "id": "29cc7750",
   "metadata": {},
   "source": [
    "Random Forest was only able to predict **49% (183 out of 374)** correct people who have left"
   ]
  },
  {
   "cell_type": "markdown",
   "id": "a63a945d",
   "metadata": {},
   "source": [
    "**Feature Importance**"
   ]
  },
  {
   "cell_type": "code",
   "execution_count": 89,
   "id": "1e0c1e7f",
   "metadata": {
    "scrolled": true
   },
   "outputs": [
    {
     "data": {
      "text/plain": [
       "Text(0.5, 1.0, 'Low Important Features')"
      ]
     },
     "execution_count": 89,
     "metadata": {},
     "output_type": "execute_result"
    },
    {
     "data": {
      "text/plain": [
       "<Figure size 1440x576 with 0 Axes>"
      ]
     },
     "metadata": {},
     "output_type": "display_data"
    },
    {
     "data": {
      "image/png": "[encoded data removed]",
      "text/plain": [
       "<Figure size 432x288 with 2 Axes>"
      ]
     },
     "metadata": {
      "needs_background": "light"
     },
     "output_type": "display_data"
    }
   ],
   "source": [
    "feature_importance = model_rf.feature_importances_\n",
    "plt.figure(figsize = (20,8))\n",
    "fig, axes = plt.subplots(nrows = 1, ncols = 2)\n",
    "feature_importance_df = pd.DataFrame(data = {'Attributes' : X_encoded.columns, 'Importance' : feature_importance})\n",
    "higher_weights = feature_importance_df.sort_values(by = 'Importance',ascending = False)\n",
    "lower_weights = feature_importance_df.sort_values(by = 'Importance',ascending = True)\n",
    "ax = higher_weights.iloc[:11,].plot(kind = 'bar', x = 'Attributes', y = 'Importance', ax = axes[0])\n",
    "ax.set_title('High Important features')\n",
    "ax = lower_weights.iloc[:11,].plot(kind = 'bar', x = 'Attributes', y = 'Importance', ax = axes[1])\n",
    "ax.set_title('Low Important Features')"
   ]
  },
  {
   "cell_type": "markdown",
   "id": "2e5d5188",
   "metadata": {},
   "source": [
    "**Observations:**\n",
    "\n",
    "From random forest algorithm, monthly contract, tenure and total charges are the most important predictor variables to predict churn.\n",
    "The results from random forest are very similar to that of the logistic regression and in line to what we had expected from our EDA"
   ]
  },
  {
   "cell_type": "markdown",
   "id": "63e74c43",
   "metadata": {},
   "source": [
    "**3. Support Vector Machines**"
   ]
  },
  {
   "cell_type": "code",
   "execution_count": 90,
   "id": "02e6be33",
   "metadata": {},
   "outputs": [
    {
     "name": "stdout",
     "output_type": "stream",
     "text": [
      "              precision    recall  f1-score   support\n",
      "\n",
      "           0       0.84      0.89      0.86      1035\n",
      "           1       0.64      0.54      0.59       374\n",
      "\n",
      "    accuracy                           0.80      1409\n",
      "   macro avg       0.74      0.72      0.73      1409\n",
      "weighted avg       0.79      0.80      0.79      1409\n",
      "\n",
      "0.7153517269885555\n"
     ]
    },
    {
     "data": {
      "text/plain": [
       "<sklearn.metrics._plot.confusion_matrix.ConfusionMatrixDisplay at 0x1685fdddbe0>"
      ]
     },
     "execution_count": 90,
     "metadata": {},
     "output_type": "execute_result"
    },
    {
     "data": {
      "image/png": "[encoded data removed]",
      "text/plain": [
       "<Figure size 432x288 with 2 Axes>"
      ]
     },
     "metadata": {
      "needs_background": "light"
     },
     "output_type": "display_data"
    }
   ],
   "source": [
    "from sklearn.svm import SVC\n",
    "from sklearn.metrics import classification_report, accuracy_score, roc_auc_score\n",
    "model_svm = SVC(kernel = 'linear',random_state = 42) #default kernel > rbf #we tried linear and rbf \n",
    "model_svm.fit(X_train, Y_train)\n",
    "y_predictions = model.predict(X_test)\n",
    "classification_svm = classification_report(Y_test,y_predictions) # precision and recall used when data is not balanced\n",
    "roc_sore = roc_auc_score(Y_test,y_predictions)\n",
    "print(classification_svm)\n",
    "print(roc_sore) #when output is balanced\n",
    "plot_confusion_matrix(model_svm,X_test, Y_test, display_labels = ['Not left', 'Left'])"
   ]
  },
  {
   "cell_type": "markdown",
   "id": "1f0b338a",
   "metadata": {},
   "source": [
    "With SVM, we are able to imporve the accuracy by **54% (204 out of 374)** correctly predicted people who left"
   ]
  },
  {
   "cell_type": "markdown",
   "id": "43859b96",
   "metadata": {},
   "source": [
    "**Feature Importance**"
   ]
  },
  {
   "cell_type": "code",
   "execution_count": 91,
   "id": "3672d5d2",
   "metadata": {},
   "outputs": [
    {
     "data": {
      "text/plain": [
       "<AxesSubplot:xlabel='Attributes'>"
      ]
     },
     "execution_count": 91,
     "metadata": {},
     "output_type": "execute_result"
    },
    {
     "data": {
      "image/png": "[encoded data removed]",
      "text/plain": [
       "<Figure size 432x288 with 2 Axes>"
      ]
     },
     "metadata": {
      "needs_background": "light"
     },
     "output_type": "display_data"
    },
    {
     "data": {
      "text/plain": [
       "<Figure size 576x576 with 0 Axes>"
      ]
     },
     "metadata": {},
     "output_type": "display_data"
    }
   ],
   "source": [
    "fig, axes = plt.subplots(nrows =1, ncols = 2)\n",
    "fig = plt.figure(figsize = (8,8))\n",
    "feature_importance = pd.DataFrame(data = {'Attributes' : X_encoded.columns, 'Importance' : model_svm.coef_[0]})\n",
    "highest_importance = feature_importance.sort_values(by = 'Importance', ascending = False)\n",
    "lowest_importance = feature_importance.sort_values(by = 'Importance', ascending = True)\n",
    "highest_importance.iloc[:11].plot(kind = 'bar', x = 'Attributes', y = 'Importance', ax = axes[0])\n",
    "lowest_importance.iloc[:11].plot(kind = 'bar', x = 'Attributes', y = 'Importance', ax = axes[1])"
   ]
  },
  {
   "cell_type": "markdown",
   "id": "e3ca20fb",
   "metadata": {},
   "source": [
    "According to SVM, \"Internet Fibre optic\" and \"Payment_Electronic_check\" is more contributing factor to Churn than Tenure and Month-to-Month as confirmed by Linear regression and Random forest"
   ]
  },
  {
   "cell_type": "markdown",
   "id": "c7d03599",
   "metadata": {},
   "source": [
    "**ADA Boost**"
   ]
  },
  {
   "cell_type": "code",
   "execution_count": 92,
   "id": "01be212a",
   "metadata": {},
   "outputs": [
    {
     "data": {
      "text/plain": [
       "<sklearn.metrics._plot.confusion_matrix.ConfusionMatrixDisplay at 0x1686151c130>"
      ]
     },
     "execution_count": 92,
     "metadata": {},
     "output_type": "execute_result"
    },
    {
     "data": {
      "image/png": "[encoded data removed]",
      "text/plain": [
       "<Figure size 432x288 with 2 Axes>"
      ]
     },
     "metadata": {
      "needs_background": "light"
     },
     "output_type": "display_data"
    }
   ],
   "source": [
    "from sklearn.ensemble import AdaBoostClassifier\n",
    "model_ac = AdaBoostClassifier(n_estimators= 150, learning_rate = 0.2)\n",
    "\n",
    "#optimising with hyperparameter tuning \n",
    "#round 1\n",
    "# param_grid = {'n_estimators' : [50,80,100], 'learning_rate': [0.01, 0.05, 0.10]}\n",
    "# optimised_paramas = GridSearchCV(model_ac, param_grid =param_grid, cv = 3, n_jobs = -1 , scoring = 'roc_auc')  # scoring is aucpr since data is imbalnced\n",
    "# optimised_paramas.fit(X_train, Y_train)\n",
    "# optimised_paramas.best_params_\n",
    "# results : {'learning_rate': 0.1, 'n_estimators': 100}\n",
    "\n",
    "# #round 2 \n",
    "# param_grid = {'n_estimators' : [100,150,200], 'learning_rate': [0.10, 0.20,0.50]}\n",
    "# optimised_paramas = GridSearchCV(model_ac, param_grid =param_grid, cv = 3, n_jobs = -1 , scoring = 'roc_auc') \n",
    "# optimised_paramas.fit(X_train, Y_train)\n",
    "# optimised_paramas.best_params_\n",
    "# # {'learning_rate': 0.2, 'n_estimators': 150}\n",
    "\n",
    "\n",
    "# #round 3\n",
    "# param_grid = {'n_estimators' : [120,130,150], 'learning_rate': [0.10, 0.15,0.20]}\n",
    "# optimised_paramas = GridSearchCV(model_ac, param_grid =param_grid, cv = 3, n_jobs = -1 , scoring = 'roc_auc') \n",
    "# optimised_paramas.fit(X_train, Y_train)\n",
    "# optimised_paramas.best_params_\n",
    "# {'learning_rate': 0.2, 'n_estimators': 150}\n",
    "\n",
    "model_ac.fit(X_train, Y_train)\n",
    "# y_predict = model_ac.predict(X_test)\n",
    "# classification_report(Y_test, y_predict)\n",
    "plot_confusion_matrix(model_ac,X_test, Y_test, display_labels = ['Not left', 'Left'])"
   ]
  },
  {
   "cell_type": "markdown",
   "id": "28d726d1",
   "metadata": {},
   "source": [
    "With Adaboost, we can correctly identify people who left by **56% (211 out of 374)** with hyperparameter tuning"
   ]
  },
  {
   "cell_type": "markdown",
   "id": "28ba394c",
   "metadata": {},
   "source": [
    "**Feature Importance**"
   ]
  },
  {
   "cell_type": "code",
   "execution_count": 93,
   "id": "5722fb64",
   "metadata": {},
   "outputs": [
    {
     "data": {
      "text/plain": [
       "Text(0.5, 1.0, 'Low Important Features')"
      ]
     },
     "execution_count": 93,
     "metadata": {},
     "output_type": "execute_result"
    },
    {
     "data": {
      "text/plain": [
       "<Figure size 1440x576 with 0 Axes>"
      ]
     },
     "metadata": {},
     "output_type": "display_data"
    },
    {
     "data": {
      "image/png": "[encoded data removed]",
      "text/plain": [
       "<Figure size 432x288 with 2 Axes>"
      ]
     },
     "metadata": {
      "needs_background": "light"
     },
     "output_type": "display_data"
    }
   ],
   "source": [
    "feature_importance = model_ac.feature_importances_\n",
    "plt.figure(figsize = (20,8))\n",
    "fig, axes = plt.subplots(nrows = 1, ncols = 2)\n",
    "feature_importance_df = pd.DataFrame(data = {'Attributes' : X_encoded.columns, 'Importance' : feature_importance})\n",
    "higher_weights = feature_importance_df.sort_values(by = 'Importance',ascending = False)\n",
    "lower_weights = feature_importance_df.sort_values(by = 'Importance',ascending = True)\n",
    "ax = higher_weights.iloc[:11,].plot(kind = 'bar', x = 'Attributes', y = 'Importance', ax = axes[0])\n",
    "ax.set_title('High Important features')\n",
    "ax = lower_weights.iloc[:11,].plot(kind = 'bar', x = 'Attributes', y = 'Importance', ax = axes[1])\n",
    "ax.set_title('Low Important Features')"
   ]
  },
  {
   "cell_type": "markdown",
   "id": "ba589e2a",
   "metadata": {},
   "source": [
    "Feature importance in **Adaboost** is very close to **Random forest** classifying **Total charges** and **Monthly charges** as most important variables "
   ]
  },
  {
   "cell_type": "markdown",
   "id": "e26d0388",
   "metadata": {},
   "source": [
    "**Gradient Boosting Classifier**"
   ]
  },
  {
   "cell_type": "code",
   "execution_count": 146,
   "id": "14ade4d1",
   "metadata": {
    "scrolled": false
   },
   "outputs": [
    {
     "name": "stdout",
     "output_type": "stream",
     "text": [
      "              precision    recall  f1-score   support\n",
      "\n",
      "           0       0.91      0.84      0.87      1113\n",
      "           1       0.53      0.67      0.59       296\n",
      "\n",
      "    accuracy                           0.81      1409\n",
      "   macro avg       0.72      0.76      0.73      1409\n",
      "weighted avg       0.83      0.81      0.81      1409\n",
      "\n"
     ]
    },
    {
     "data": {
      "image/png": "[encoded data removed]",
      "text/plain": [
       "<Figure size 432x288 with 2 Axes>"
      ]
     },
     "metadata": {
      "needs_background": "light"
     },
     "output_type": "display_data"
    }
   ],
   "source": [
    "from sklearn.ensemble import GradientBoostingClassifier\n",
    "from sklearn.model_selection import RandomizedSearchCV\n",
    "# model_gc = GradientBoostingClassifier()\n",
    "\n",
    "# round 1 \n",
    "# param_grid = {'learning_rate' : [0.10,0.25,0.75],'n_estimators' : [100,250,500],\n",
    "#              'max_depth' : [3,8,20], }\n",
    "#  #best_params = {'n_estimators': 100, 'max_depth': 3, 'learning_rate': 0.1}\n",
    "\n",
    "# round 2 \n",
    "param_grid = {'learning_rate' : [0.05,0.07,0.10],'n_estimators' : [50,70,100], 'max_depth' : [1,2,3]}\n",
    "\n",
    "optimal_grid = RandomizedSearchCV(estimator = model_gc, param_distributions = param_grid, scoring = 'roc_auc', cv = 5,\n",
    "                           verbose = True, n_iter = 50, n_jobs = 10)\n",
    "{'n_estimators': 100, 'max_depth': 2, 'learning_rate': 0.1}\n",
    "\n",
    "model_gc = GradientBoostingClassifier(n_estimators = 100,max_depth = 2, learning_rate = 0.1 )\n",
    "\n",
    "model_gc.fit(X_train, Y_train)\n",
    "X_test_predictions = model_gc.predict(X_test)\n",
    "plot_confusion_matrix(model_gc, X_test, Y_test,display_labels = ['Not left', 'Left'])\n",
    "cf_gb = classification_report(X_test_predictions, Y_test)\n",
    "print(cf_gb)"
   ]
  },
  {
   "cell_type": "markdown",
   "id": "45ac63f3",
   "metadata": {},
   "source": [
    "With **Gradient Boosting**, we can correctly identify people who left by **53% (199 out of 374)** with hyperparameter tuning"
   ]
  },
  {
   "cell_type": "markdown",
   "id": "248162bf",
   "metadata": {},
   "source": [
    "**Feature Importance**"
   ]
  },
  {
   "cell_type": "code",
   "execution_count": 140,
   "id": "1bfdd014",
   "metadata": {},
   "outputs": [
    {
     "name": "stdout",
     "output_type": "stream",
     "text": [
      "                              Attributes  Importance\n",
      "3                          gender_Female         0.0\n",
      "4                            gender_Male         0.0\n",
      "7                             Partner_No         0.0\n",
      "8                            Partner_Yes         0.0\n",
      "14        MultipleLines_No_phone_service         0.0\n",
      "15                     MultipleLines_Yes         0.0\n",
      "16                   InternetService_DSL         0.0\n",
      "18                    InternetService_No         0.0\n",
      "20    OnlineSecurity_No_internet_service         0.0\n",
      "21                    OnlineSecurity_Yes         0.0\n",
      "23      OnlineBackup_No_internet_service         0.0\n",
      "24                      OnlineBackup_Yes         0.0\n",
      "26  DeviceProtection_No_internet_service         0.0\n",
      "27                  DeviceProtection_Yes         0.0\n",
      "29       TechSupport_No_internet_service         0.0\n",
      "30                       TechSupport_Yes         0.0\n",
      "31                        StreamingTV_No         0.0\n",
      "32       StreamingTV_No_internet_service         0.0\n",
      "34                    StreamingMovies_No         0.0\n",
      "35   StreamingMovies_No_internet_service         0.0\n"
     ]
    },
    {
     "data": {
      "text/plain": [
       "<Figure size 1440x576 with 0 Axes>"
      ]
     },
     "metadata": {},
     "output_type": "display_data"
    },
    {
     "data": {
      "image/png": "[encoded data removed]",
      "text/plain": [
       "<Figure size 432x288 with 2 Axes>"
      ]
     },
     "metadata": {
      "needs_background": "light"
     },
     "output_type": "display_data"
    }
   ],
   "source": [
    "feature_importance = model_gc.feature_importances_\n",
    "plt.figure(figsize = (20,8))\n",
    "fig, axes = plt.subplots(nrows = 1, ncols = 2)\n",
    "feature_importance_df = pd.DataFrame(data = {'Attributes' : X_encoded.columns, 'Importance' : feature_importance})\n",
    "higher_weights = feature_importance_df.sort_values(by = 'Importance',ascending = False)\n",
    "lower_weights = feature_importance_df.sort_values(by = 'Importance',ascending = True)\n",
    "ax = higher_weights.iloc[:11,].plot(kind = 'bar', x = 'Attributes', y = 'Importance', ax = axes[0])\n",
    "ax.set_title('High Important features')\n",
    "ax = lower_weights.iloc[:11,].plot(kind = 'bar', x = 'Attributes', y = 'Importance', ax = axes[1])\n",
    "ax.set_title('Low Important Features')\n",
    "print(feature_importance_df[feature_importance_df['Importance'] == 0])"
   ]
  },
  {
   "cell_type": "markdown",
   "id": "27d3c97a",
   "metadata": {},
   "source": [
    "Feature importance in **Gradient Boosting** claasified **Contract_Month_to_Month** and **Tenure** as most important variables "
   ]
  },
  {
   "cell_type": "markdown",
   "id": "86b11323",
   "metadata": {},
   "source": [
    "### Build a preliminary XGBoost Model"
   ]
  },
  {
   "cell_type": "markdown",
   "id": "965e8cd2",
   "metadata": {},
   "source": [
    "At long last, the data is correctly formatted for making **XGBoost** model. Now, we simply split the data into training and testing sets and build the model. However, let's first observe that this data is imbalanced by dividing the number of people who **left** the company i.e. Y = 1, by total number of people in dataset"
   ]
  },
  {
   "cell_type": "code",
   "execution_count": 388,
   "id": "c706a22c",
   "metadata": {},
   "outputs": [
    {
     "data": {
      "text/plain": [
       "0.2653698707936959"
      ]
     },
     "execution_count": 388,
     "metadata": {},
     "output_type": "execute_result"
    }
   ],
   "source": [
    "sum(Y)/len(Y)"
   ]
  },
  {
   "cell_type": "code",
   "execution_count": 389,
   "id": "7bf959d9",
   "metadata": {},
   "outputs": [
    {
     "data": {
      "text/plain": [
       "0    5174\n",
       "1    1869\n",
       "Name: Churn, dtype: int64"
      ]
     },
     "execution_count": 389,
     "metadata": {},
     "output_type": "execute_result"
    }
   ],
   "source": [
    "Y.value_counts()"
   ]
  },
  {
   "cell_type": "markdown",
   "id": "a2b91391",
   "metadata": {},
   "source": [
    "So we see that only **27%** of people in dataset left the company. Because of this, when we split the data into training and testing, we will split using stratification in order to maintain the same % of people who left the company in both *training* and *testing* dataset"
   ]
  },
  {
   "cell_type": "code",
   "execution_count": 390,
   "id": "2cb1fd4b",
   "metadata": {},
   "outputs": [],
   "source": [
    "X_train, X_test, Y_train, Y_test = train_test_split(X_encoded, Y, random_state = 42, stratify = Y)"
   ]
  },
  {
   "cell_type": "code",
   "execution_count": 391,
   "id": "fc0bf14f",
   "metadata": {},
   "outputs": [
    {
     "data": {
      "text/plain": [
       "((5282, 46), (1761, 46), (5282,), (1761,))"
      ]
     },
     "execution_count": 391,
     "metadata": {},
     "output_type": "execute_result"
    }
   ],
   "source": [
    "X_train.shape, X_test.shape, Y_train.shape, Y_test.shape"
   ]
  },
  {
   "cell_type": "code",
   "execution_count": 392,
   "id": "fff28ed9",
   "metadata": {},
   "outputs": [
    {
     "data": {
      "text/plain": [
       "0.2654297614539947"
      ]
     },
     "execution_count": 392,
     "metadata": {},
     "output_type": "execute_result"
    }
   ],
   "source": [
    "sum(Y_train)/len(Y_train)"
   ]
  },
  {
   "cell_type": "code",
   "execution_count": 393,
   "id": "16bcdcaa",
   "metadata": {},
   "outputs": [
    {
     "data": {
      "text/plain": [
       "0.26519023282226006"
      ]
     },
     "execution_count": 393,
     "metadata": {},
     "output_type": "execute_result"
    }
   ],
   "source": [
    "sum(Y_test)/len(Y_test)"
   ]
  },
  {
   "cell_type": "markdown",
   "id": "2a0c6213",
   "metadata": {},
   "source": [
    "**NOTE**  To avoid how overfitting, we need to find optimal number of tress that should be build in each iteration. Instead of using Cross-validation, we will be using **early stopping** to stop building when they are no longer improving the situation"
   ]
  },
  {
   "cell_type": "code",
   "execution_count": 394,
   "id": "3c9ebab3",
   "metadata": {},
   "outputs": [
    {
     "name": "stdout",
     "output_type": "stream",
     "text": [
      "[0]\tvalidation_0-aucpr:0.63160\n",
      "[1]\tvalidation_0-aucpr:0.64538\n",
      "[2]\tvalidation_0-aucpr:0.64402\n",
      "[3]\tvalidation_0-aucpr:0.64429\n",
      "[4]\tvalidation_0-aucpr:0.63866\n",
      "[5]\tvalidation_0-aucpr:0.63419\n",
      "[6]\tvalidation_0-aucpr:0.63912\n",
      "[7]\tvalidation_0-aucpr:0.63787\n",
      "[8]\tvalidation_0-aucpr:0.63779\n",
      "[9]\tvalidation_0-aucpr:0.63894\n",
      "[10]\tvalidation_0-aucpr:0.63680\n",
      "[11]\tvalidation_0-aucpr:0.63828\n"
     ]
    },
    {
     "name": "stderr",
     "output_type": "stream",
     "text": [
      "C:\\ProgramData\\Anaconda3\\lib\\site-packages\\xgboost\\sklearn.py:835: UserWarning: `eval_metric` in `fit` method is deprecated for better compatibility with scikit-learn, use `eval_metric` in constructor or`set_params` instead.\n",
      "  warnings.warn(\n",
      "C:\\ProgramData\\Anaconda3\\lib\\site-packages\\xgboost\\sklearn.py:835: UserWarning: `early_stopping_rounds` in `fit` method is deprecated for better compatibility with scikit-learn, use `early_stopping_rounds` in constructor or`set_params` instead.\n",
      "  warnings.warn(\n"
     ]
    },
    {
     "data": {
      "text/plain": [
       "XGBClassifier(base_score=None, booster=None, callbacks=None,\n",
       "              colsample_bylevel=None, colsample_bynode=None,\n",
       "              colsample_bytree=None, early_stopping_rounds=None,\n",
       "              enable_categorical=False, eval_metric=None, feature_types=None,\n",
       "              gamma=None, gpu_id=None, grow_policy=None, importance_type=None,\n",
       "              interaction_constraints=None, learning_rate=None, max_bin=None,\n",
       "              max_cat_threshold=None, max_cat_to_onehot=None,\n",
       "              max_delta_step=None, max_depth=None, max_leaves=None,\n",
       "              min_child_weight=None, missing=nan, monotone_constraints=None,\n",
       "              n_estimators=100, n_jobs=None, num_parallel_tree=None,\n",
       "              predictor=None, random_state=None, ...)"
      ]
     },
     "execution_count": 394,
     "metadata": {},
     "output_type": "execute_result"
    }
   ],
   "source": [
    "clg_xgb = xgb.XGBClassifier(objective = 'binary:logistic', seed = 42)\n",
    "#missing none takes in 0 as default for missing\n",
    "\n",
    "clg_xgb.fit(X_train, Y_train, \n",
    "           verbose = True, \n",
    "           early_stopping_rounds = 10, \n",
    "           eval_metric = 'aucpr',\n",
    "           eval_set = [(X_test, Y_test)])"
   ]
  },
  {
   "cell_type": "markdown",
   "id": "ef093dfb",
   "metadata": {},
   "source": [
    "Okay, we have build an **XGBoost** model, let's see how it performs on testing dataset and draw a **confusion matrix**"
   ]
  },
  {
   "cell_type": "code",
   "execution_count": 395,
   "id": "b4d680d8",
   "metadata": {
    "scrolled": true
   },
   "outputs": [
    {
     "data": {
      "text/plain": [
       "<sklearn.metrics._plot.confusion_matrix.ConfusionMatrixDisplay at 0x25935f97f70>"
      ]
     },
     "execution_count": 395,
     "metadata": {},
     "output_type": "execute_result"
    },
    {
     "data": {
      "image/png": "[encoded data removed]",
      "text/plain": [
       "<Figure size 432x288 with 2 Axes>"
      ]
     },
     "metadata": {
      "needs_background": "light"
     },
     "output_type": "display_data"
    }
   ],
   "source": [
    "plot_confusion_matrix(clg_xgb, X_test, Y_test, values_format = 'd',display_labels = ['Not Left', 'Left'])"
   ]
  },
  {
   "cell_type": "code",
   "execution_count": 396,
   "id": "3654ae89",
   "metadata": {},
   "outputs": [
    {
     "data": {
      "text/plain": [
       "0    1294\n",
       "1     467\n",
       "Name: Churn, dtype: int64"
      ]
     },
     "execution_count": 396,
     "metadata": {},
     "output_type": "execute_result"
    }
   ],
   "source": [
    "Y_test.value_counts()"
   ]
  },
  {
   "cell_type": "markdown",
   "id": "7d326e8f",
   "metadata": {},
   "source": [
    "In confusion matrix, we see that out of **1294** people that did not leave, **1155** **(89%)** people were correctly classified which is good. However, out of **467** people that left, only **242** **(52%)** people were not correctly classified. Part of the problem was because data was imbalanced which we see earlier and we see that now in Confusion matrix. Because people leaving costs company a lot, we would like to capture more of the people that left. **XGBoost** has a parameter *scale_pos_weight* that helps to add penalty for incorrectly classifying minority class. We will also try to improve the overall performance by set of Hyperparamter tuning"
   ]
  },
  {
   "cell_type": "markdown",
   "id": "360dde3f",
   "metadata": {},
   "source": [
    "### Optimise Parameters using CrossValidation and GridSearch"
   ]
  },
  {
   "cell_type": "markdown",
   "id": "d741abb7",
   "metadata": {},
   "source": [
    "**XGBoost** has a lot of *hyperparameters*, parameters that we have to manually configure and are not determined by **XGBoost** itself including max_depth, maximum tree depth, learning_rate, gamma (parameter that encourages pruning), reg_lambda (the regularisation parameter lambda). So let's try to find optimal values for hyperparameter in hopes that we can improve the accuracy with **Testing Dataset**\n",
    "\n",
    "**NOTE:** Since there are many *hyperparameters* we will use GridSearchCV(). We specify a bunch of hyperparameters with GridSearchCV() and choose the best combination that work for us."
   ]
  },
  {
   "cell_type": "code",
   "execution_count": 397,
   "id": "fcfb4284",
   "metadata": {
    "scrolled": true
   },
   "outputs": [
    {
     "name": "stdout",
     "output_type": "stream",
     "text": [
      "Fitting 3 folds for each of 81 candidates, totalling 243 fits\n",
      "[0]\tvalidation_0-aucpr:0.59673\n",
      "[1]\tvalidation_0-aucpr:0.59714\n",
      "[2]\tvalidation_0-aucpr:0.60240\n",
      "[3]\tvalidation_0-aucpr:0.60535\n",
      "[4]\tvalidation_0-aucpr:0.61386\n",
      "[5]\tvalidation_0-aucpr:0.61718\n",
      "[6]\tvalidation_0-aucpr:0.61976\n",
      "[7]\tvalidation_0-aucpr:0.63092\n",
      "[8]\tvalidation_0-aucpr:0.62819\n",
      "[9]\tvalidation_0-aucpr:0.62538\n",
      "[10]\tvalidation_0-aucpr:0.62580\n",
      "[11]\tvalidation_0-aucpr:0.62608\n",
      "[12]\tvalidation_0-aucpr:0.63273\n",
      "[13]\tvalidation_0-aucpr:0.63895\n",
      "[14]\tvalidation_0-aucpr:0.63475\n",
      "[15]\tvalidation_0-aucpr:0.63416\n",
      "[16]\tvalidation_0-aucpr:0.63385\n"
     ]
    },
    {
     "name": "stderr",
     "output_type": "stream",
     "text": [
      "C:\\ProgramData\\Anaconda3\\lib\\site-packages\\xgboost\\sklearn.py:835: UserWarning: `eval_metric` in `fit` method is deprecated for better compatibility with scikit-learn, use `eval_metric` in constructor or`set_params` instead.\n",
      "  warnings.warn(\n",
      "C:\\ProgramData\\Anaconda3\\lib\\site-packages\\xgboost\\sklearn.py:835: UserWarning: `early_stopping_rounds` in `fit` method is deprecated for better compatibility with scikit-learn, use `early_stopping_rounds` in constructor or`set_params` instead.\n",
      "  warnings.warn(\n"
     ]
    },
    {
     "name": "stdout",
     "output_type": "stream",
     "text": [
      "[17]\tvalidation_0-aucpr:0.63941\n",
      "[18]\tvalidation_0-aucpr:0.63894\n",
      "[19]\tvalidation_0-aucpr:0.64387\n",
      "[20]\tvalidation_0-aucpr:0.64536\n",
      "[21]\tvalidation_0-aucpr:0.64686\n",
      "[22]\tvalidation_0-aucpr:0.64843\n",
      "[23]\tvalidation_0-aucpr:0.64919\n",
      "[24]\tvalidation_0-aucpr:0.64896\n",
      "[25]\tvalidation_0-aucpr:0.64851\n",
      "[26]\tvalidation_0-aucpr:0.64925\n",
      "[27]\tvalidation_0-aucpr:0.64947\n",
      "[28]\tvalidation_0-aucpr:0.65395\n",
      "[29]\tvalidation_0-aucpr:0.65339\n",
      "[30]\tvalidation_0-aucpr:0.65392\n",
      "[31]\tvalidation_0-aucpr:0.65364\n",
      "[32]\tvalidation_0-aucpr:0.65397\n",
      "[33]\tvalidation_0-aucpr:0.65441\n",
      "[34]\tvalidation_0-aucpr:0.65516\n",
      "[35]\tvalidation_0-aucpr:0.65555\n",
      "[36]\tvalidation_0-aucpr:0.65634\n",
      "[37]\tvalidation_0-aucpr:0.65588\n",
      "[38]\tvalidation_0-aucpr:0.65483\n",
      "[39]\tvalidation_0-aucpr:0.65618\n",
      "[40]\tvalidation_0-aucpr:0.65649\n",
      "[41]\tvalidation_0-aucpr:0.65590\n",
      "[42]\tvalidation_0-aucpr:0.65506\n",
      "[43]\tvalidation_0-aucpr:0.65573\n",
      "[44]\tvalidation_0-aucpr:0.65609\n",
      "[45]\tvalidation_0-aucpr:0.65516\n",
      "[46]\tvalidation_0-aucpr:0.65485\n",
      "[47]\tvalidation_0-aucpr:0.65485\n",
      "[48]\tvalidation_0-aucpr:0.65616\n",
      "[49]\tvalidation_0-aucpr:0.65604\n",
      "[50]\tvalidation_0-aucpr:0.65502\n",
      "{'gamma': 0, 'learning_rate': 0.1, 'max_depth': 4, 'reg_lambda': 10, 'scale_pos_weight': 2}\n"
     ]
    }
   ],
   "source": [
    "# When data is imbalanced, the XGBoost manual says :\n",
    "#If you care only about overall performance metric(AUC) of prediction\n",
    "# *Balance positive and negative weights via scaled_pos_weight\n",
    "# *Use AUC for evaluation\n",
    "\n",
    "## We are running GridSearchCV() on subsets of rows and features subsequentally instead of all in order to optimize the \n",
    "## optimise parameters in short period of time\n",
    "\n",
    "\n",
    "##Round 1\n",
    "# param_grid = {\n",
    "#     'max_depth': [3,4,5],\n",
    "#     'reg_lambda': [0,1, 10],\n",
    "#     'gamma': [0,0.25,1],\n",
    "#     'learning_rate': [0.1,0.01,0.05],\n",
    "#     'scale_pos_weight': [2,3,5] \n",
    "# }\n",
    "\n",
    "#bestparams : {'gamma': 0, 'learning_rate': 0.1, 'max_depth': 4, 'reg_lambda': 10, 'scale_pos_weight': 2}\n",
    "\n",
    "##Round 2 \n",
    "\n",
    "\n",
    "param_grid = {\n",
    "    'max_depth': [4],\n",
    "    'reg_lambda': [10, 15, 20],\n",
    "    'gamma': [0,0.05,0.10],\n",
    "    'learning_rate': [0.1,0.25,0.50],\n",
    "    'scale_pos_weight': [1,2,3] \n",
    "}\n",
    "\n",
    "\n",
    "optimal_grid = GridSearchCV(estimator = xgb.XGBClassifier(objective = 'binary:logistic', seed = 42,\n",
    "                                                         subsample = 0.9, colsample_bytree = 0.5),\n",
    "                           param_grid =param_grid, verbose = 2, scoring = 'roc_auc', n_jobs = 10, cv = 3)\n",
    "\n",
    "optimal_grid.fit(X_train, Y_train, early_stopping_rounds = 10,\n",
    "                eval_metric = 'aucpr',\n",
    "                eval_set = [(X_test, Y_test)], verbose = True)\n",
    "\n",
    "print(optimal_grid.best_params_)\n",
    "\n",
    "#{'gamma': 0, 'learning_rate': 0.1, 'max_depth': 4, 'reg_lambda': 10, 'scale_pos_weight': 2}"
   ]
  },
  {
   "cell_type": "markdown",
   "id": "c6659876",
   "metadata": {},
   "source": [
    "So after testing all possible combinations with **Cross validation**, we see that we should set our parameters *{'gamma': 0, 'learning_rate': 0.1, 'max_depth': 4, 'reg_lambda': 10, 'scale_pos_weight': 2}*"
   ]
  },
  {
   "cell_type": "markdown",
   "id": "81b4f847",
   "metadata": {},
   "source": [
    "### Building, Evaluating, Drawing and Interpreting the optimized XGBoost model"
   ]
  },
  {
   "cell_type": "code",
   "execution_count": 398,
   "id": "08fb1a65",
   "metadata": {},
   "outputs": [
    {
     "name": "stdout",
     "output_type": "stream",
     "text": [
      "[0]\tvalidation_0-aucpr:0.58205\n",
      "[1]\tvalidation_0-aucpr:0.58986\n",
      "[2]\tvalidation_0-aucpr:0.59789\n",
      "[3]\tvalidation_0-aucpr:0.60394\n",
      "[4]\tvalidation_0-aucpr:0.60552\n",
      "[5]\tvalidation_0-aucpr:0.61027\n",
      "[6]\tvalidation_0-aucpr:0.60784\n",
      "[7]\tvalidation_0-aucpr:0.63017\n",
      "[8]\tvalidation_0-aucpr:0.62896\n",
      "[9]\tvalidation_0-aucpr:0.62944\n",
      "[10]\tvalidation_0-aucpr:0.63095\n",
      "[11]\tvalidation_0-aucpr:0.63679\n",
      "[12]\tvalidation_0-aucpr:0.64266\n",
      "[13]\tvalidation_0-aucpr:0.64673\n",
      "[14]\tvalidation_0-aucpr:0.64385\n",
      "[15]\tvalidation_0-aucpr:0.64245\n",
      "[16]\tvalidation_0-aucpr:0.64302\n",
      "[17]\tvalidation_0-aucpr:0.64685\n",
      "[18]\tvalidation_0-aucpr:0.64501\n",
      "[19]\tvalidation_0-aucpr:0.64556\n",
      "[20]\tvalidation_0-aucpr:0.64623\n",
      "[21]\tvalidation_0-aucpr:0.64660\n",
      "[22]\tvalidation_0-aucpr:0.65054\n",
      "[23]\tvalidation_0-aucpr:0.64939\n",
      "[24]\tvalidation_0-aucpr:0.64854\n",
      "[25]\tvalidation_0-aucpr:0.65068\n",
      "[26]\tvalidation_0-aucpr:0.65131\n",
      "[27]\tvalidation_0-aucpr:0.65130\n",
      "[28]\tvalidation_0-aucpr:0.65401\n",
      "[29]\tvalidation_0-aucpr:0.65375\n",
      "[30]\tvalidation_0-aucpr:0.65625\n",
      "[31]\tvalidation_0-aucpr:0.65526\n",
      "[32]\tvalidation_0-aucpr:0.65307\n",
      "[33]\tvalidation_0-aucpr:0.65374\n",
      "[34]\tvalidation_0-aucpr:0.65425\n",
      "[35]\tvalidation_0-aucpr:0.65539\n",
      "[36]\tvalidation_0-aucpr:0.65681\n",
      "[37]\tvalidation_0-aucpr:0.65654\n",
      "[38]\tvalidation_0-aucpr:0.65631\n",
      "[39]\tvalidation_0-aucpr:0.65647\n",
      "[40]\tvalidation_0-aucpr:0.65644\n",
      "[41]\tvalidation_0-aucpr:0.65645\n",
      "[42]\tvalidation_0-aucpr:0.65860\n",
      "[43]\tvalidation_0-aucpr:0.65909\n",
      "[44]\tvalidation_0-aucpr:0.65878\n",
      "[45]\tvalidation_0-aucpr:0.65866\n",
      "[46]\tvalidation_0-aucpr:0.65875\n",
      "[47]\tvalidation_0-aucpr:0.65719\n",
      "[48]\tvalidation_0-aucpr:0.65715\n",
      "[49]\tvalidation_0-aucpr:0.65802\n",
      "[50]\tvalidation_0-aucpr:0.65720\n",
      "[51]\tvalidation_0-aucpr:0.65733\n",
      "[52]\tvalidation_0-aucpr:0.65671\n",
      "[53]\tvalidation_0-aucpr:0.65649\n"
     ]
    },
    {
     "data": {
      "text/plain": [
       "XGBClassifier(base_score=None, booster=None, callbacks=None,\n",
       "              colsample_bylevel=None, colsample_bynode=None,\n",
       "              colsample_bytree=0.9, early_stopping_rounds=None,\n",
       "              enable_categorical=False, eval_metric=None, feature_types=None,\n",
       "              gamma=0, gpu_id=None, grow_policy=None, importance_type=None,\n",
       "              interaction_constraints=None, learning_rate=0.1, max_bin=None,\n",
       "              max_cat_threshold=None, max_cat_to_onehot=None,\n",
       "              max_delta_step=None, max_depth=4, max_leaves=None,\n",
       "              min_child_weight=None, missing=nan, monotone_constraints=None,\n",
       "              n_estimators=100, n_jobs=None, num_parallel_tree=None,\n",
       "              predictor=None, random_state=None, ...)"
      ]
     },
     "execution_count": 398,
     "metadata": {},
     "output_type": "execute_result"
    }
   ],
   "source": [
    "clf_xgb = xgb.XGBClassifier(seed = 42, objective = 'binary:logistic', \n",
    "                          gamma = 0, learning_rate = 0.1, \n",
    "                        max_depth= 4, reg_lambda =10, \n",
    "                            scale_pos_weight = 2, subsample = 0.8,  colsample_bytree = 0.9)\n",
    "\n",
    "clf_xgb.fit(X_train, Y_train, verbose = True, \n",
    "            early_stopping_rounds = 10,\n",
    "            eval_metric = 'aucpr',\n",
    "            eval_set = [(X_test, Y_test)])"
   ]
  },
  {
   "cell_type": "code",
   "execution_count": 399,
   "id": "a59fed55",
   "metadata": {},
   "outputs": [
    {
     "data": {
      "text/plain": [
       "<sklearn.metrics._plot.confusion_matrix.ConfusionMatrixDisplay at 0x25938f676a0>"
      ]
     },
     "execution_count": 399,
     "metadata": {},
     "output_type": "execute_result"
    },
    {
     "data": {
      "image/png": "[encoded data removed]",
      "text/plain": [
       "<Figure size 432x288 with 2 Axes>"
      ]
     },
     "metadata": {
      "needs_background": "light"
     },
     "output_type": "display_data"
    }
   ],
   "source": [
    "plot_confusion_matrix(clf_xgb, X_test, Y_test, values_format = 'd',display_labels = ['Not Left', 'Left'])"
   ]
  },
  {
   "cell_type": "markdown",
   "id": "7e7235c1",
   "metadata": {},
   "source": [
    "We see that optimised **XGBoost** tree does a much better job at identifying people who **left** Out of **467** people who left, **337 (72%)** were correctly identified. Before optimization, we only correctly identified, **51%**. However, this improvement came at an expense of not being able to correctly identify people who did not leave. Before optimisation, we correctly identified **1155 (81%)** who did not leave but now we can only classify **1035 (79%)**. That being said, the trade-off might be better because now the company can focus its resources on the people that leave so they can make policies to retain them "
   ]
  },
  {
   "cell_type": "markdown",
   "id": "2b8aec8d",
   "metadata": {},
   "source": [
    "The last thing we can do is build one of the **XGBoost Tree** and interpret it"
   ]
  },
  {
   "cell_type": "code",
   "execution_count": 468,
   "id": "50586015",
   "metadata": {},
   "outputs": [
    {
     "name": "stdout",
     "output_type": "stream",
     "text": [
      "{'tenure': 2.0, 'TotalCharges': 2.0, 'InternetService_Fiber_optic': 2.0, 'OnlineSecurity_No': 1.0, 'TechSupport_No': 2.0, 'Contract_Month-to-month': 1.0, 'Contract_One_year': 1.0, 'PaperlessBilling_No': 1.0, 'PaymentMethod_Mailed_check': 1.0}\n",
      "{'tenure': 100.44841003417969, 'TotalCharges': 1.784372329711914, 'InternetService_Fiber_optic': 133.29974365234375, 'OnlineSecurity_No': 0.8470458984375, 'TechSupport_No': 31.556385040283203, 'Contract_Month-to-month': 1050.6810302734375, 'Contract_One_year': 7.0782928466796875, 'PaperlessBilling_No': 19.020586013793945, 'PaymentMethod_Mailed_check': 4.443809509277344}\n",
      "{'tenure': 413.0, 'TotalCharges': 174.75, 'InternetService_Fiber_optic': 668.125, 'OnlineSecurity_No': 343.5, 'TechSupport_No': 165.875, 'Contract_Month-to-month': 1336.25, 'Contract_One_year': 166.75, 'PaperlessBilling_No': 242.0, 'PaymentMethod_Mailed_check': 64.5}\n",
      "{'tenure': 200.89682006835938, 'TotalCharges': 3.568744659423828, 'InternetService_Fiber_optic': 266.5994873046875, 'OnlineSecurity_No': 0.8470458984375, 'TechSupport_No': 63.112770080566406, 'Contract_Month-to-month': 1050.6810302734375, 'Contract_One_year': 7.0782928466796875, 'PaperlessBilling_No': 19.020586013793945, 'PaymentMethod_Mailed_check': 4.443809509277344}\n",
      "{'tenure': 826.0, 'TotalCharges': 349.5, 'InternetService_Fiber_optic': 1336.25, 'OnlineSecurity_No': 343.5, 'TechSupport_No': 331.75, 'Contract_Month-to-month': 1336.25, 'Contract_One_year': 166.75, 'PaperlessBilling_No': 242.0, 'PaymentMethod_Mailed_check': 64.5}\n"
     ]
    },
    {
     "data": {
      "text/html": [
       "<div>\n",
       "<style scoped>\n",
       "    .dataframe tbody tr th:only-of-type {\n",
       "        vertical-align: middle;\n",
       "    }\n",
       "\n",
       "    .dataframe tbody tr th {\n",
       "        vertical-align: top;\n",
       "    }\n",
       "\n",
       "    .dataframe thead th {\n",
       "        text-align: right;\n",
       "    }\n",
       "</style>\n",
       "<table border=\"1\" class=\"dataframe\">\n",
       "  <thead>\n",
       "    <tr style=\"text-align: right;\">\n",
       "      <th></th>\n",
       "      <th>scores</th>\n",
       "    </tr>\n",
       "  </thead>\n",
       "  <tbody>\n",
       "    <tr>\n",
       "      <th>tenure</th>\n",
       "      <td>2.0</td>\n",
       "    </tr>\n",
       "    <tr>\n",
       "      <th>TotalCharges</th>\n",
       "      <td>2.0</td>\n",
       "    </tr>\n",
       "    <tr>\n",
       "      <th>InternetService_Fiber_optic</th>\n",
       "      <td>2.0</td>\n",
       "    </tr>\n",
       "    <tr>\n",
       "      <th>TechSupport_No</th>\n",
       "      <td>2.0</td>\n",
       "    </tr>\n",
       "    <tr>\n",
       "      <th>OnlineSecurity_No</th>\n",
       "      <td>1.0</td>\n",
       "    </tr>\n",
       "    <tr>\n",
       "      <th>Contract_Month-to-month</th>\n",
       "      <td>1.0</td>\n",
       "    </tr>\n",
       "    <tr>\n",
       "      <th>Contract_One_year</th>\n",
       "      <td>1.0</td>\n",
       "    </tr>\n",
       "    <tr>\n",
       "      <th>PaperlessBilling_No</th>\n",
       "      <td>1.0</td>\n",
       "    </tr>\n",
       "    <tr>\n",
       "      <th>PaymentMethod_Mailed_check</th>\n",
       "      <td>1.0</td>\n",
       "    </tr>\n",
       "  </tbody>\n",
       "</table>\n",
       "</div>"
      ],
      "text/plain": [
       "                             scores\n",
       "tenure                          2.0\n",
       "TotalCharges                    2.0\n",
       "InternetService_Fiber_optic     2.0\n",
       "TechSupport_No                  2.0\n",
       "OnlineSecurity_No               1.0\n",
       "Contract_Month-to-month         1.0\n",
       "Contract_One_year               1.0\n",
       "PaperlessBilling_No             1.0\n",
       "PaymentMethod_Mailed_check      1.0"
      ]
     },
     "execution_count": 468,
     "metadata": {},
     "output_type": "execute_result"
    }
   ],
   "source": [
    "##If we want to get information like gain and cover at each node in first tree\n",
    "##we just build first tree, otherwise we will get avg over all the trees\n",
    "\n",
    "clf_xgb = xgb.XGBClassifier(seed = 42, objective = 'binary:logistic', \n",
    "                          gamma = 0, learning_rate = 0.1, \n",
    "                        max_depth= 4, reg_lambda =10, \n",
    "                            scale_pos_weight = 2, subsample = 0.8,  colsample_bytree = 0.9, \n",
    "                           n_estimators = 1) #we set this to 1 so we get first tree with gain, cover, etc.\n",
    "\n",
    "clf_xgb.fit(X_train, Y_train)\n",
    "\n",
    "\n",
    "bst = clf_xgb.get_booster()\n",
    "\n",
    "for importance_type in ['weight', 'gain', 'cover', 'total_gain', 'total_cover']:\n",
    "    print(importance_type, bst.get_score(importance_type = importance_type))\n",
    "\n",
    "    #we usually use get_booster.get_score() for feature_selection acc to a particular importance_type\n",
    "    \n",
    "#can be used for feature selection if number of variables too huge\n",
    "\n",
    "feature_important = clf_xgb.get_booster().get_score(importance_type='weight') # ['weight', 'gain', 'cover', 'total_gain', 'total_cover']\n",
    "feature_important_df = pd.DataFrame(index = feature_important.keys(), data = feature_important.values(), \n",
    "             columns = ['scores'])\n",
    "\n",
    "feature_important_df.sort_values(by = 'scores', ascending = False)\n",
    "\n",
    "##now print out weight, gain, cover, etc. for the tree\n",
    "#weight > number of times a feature is used in branch or node across all trees\n",
    "#gain > the average gain across all splits a feature is used in \n",
    "#cover > average cover across all splits a feature is used in \n",
    "#total_gain > total gain across all splits a feature is used in\n",
    "#total_cover > total_cover across all splits a feature is used in\n",
    "##Note : Since we only built one tree, gain = total_gain, cover = total_cover\n",
    "\n",
    "# xgb.to_graphviz(clf_xgb, size = \"10 10\", num_trees = 0)\n",
    "\n",
    "# #to save figure \n",
    "# graph_data = xgb.to_graphviz(clf_xgb, size = \"10 10\", num_trees = 0)\n",
    "\n",
    "# graph_data.view(filename = 'xgboost_tree_customer_churn.pdf') ##save as pdf \n"
   ]
  },
  {
   "cell_type": "markdown",
   "id": "a0e74c4d",
   "metadata": {},
   "source": [
    "We can use xgn.get_booster().get_score() for feature selection and map importance type across multiple parameters like weight,gain, cover, etc. "
   ]
  },
  {
   "cell_type": "code",
   "execution_count": 424,
   "id": "a73d0a00",
   "metadata": {},
   "outputs": [],
   "source": [
    "# conda install -c conda-forge python-graphviz"
   ]
  },
  {
   "cell_type": "code",
   "execution_count": null,
   "id": "195a2b06",
   "metadata": {},
   "outputs": [],
   "source": [
    "\n",
    "\n"
   ]
  },
  {
   "cell_type": "code",
   "execution_count": null,
   "id": "fc9c88fb",
   "metadata": {},
   "outputs": [],
   "source": []
  },
  {
   "cell_type": "code",
   "execution_count": null,
   "id": "01fe3476",
   "metadata": {},
   "outputs": [],
   "source": []
  }
 ],
 "metadata": {
  "kernelspec": {
   "display_name": "Python 3 (ipykernel)",
   "language": "python",
   "name": "python3"
  },
  "language_info": {
   "codemirror_mode": {
    "name": "ipython",
    "version": 3
   },
   "file_extension": ".py",
   "mimetype": "text/x-python",
   "name": "python",
   "nbconvert_exporter": "python",
   "pygments_lexer": "ipython3",
   "version": "3.9.7"
  }
 },
 "nbformat": 4,
 "nbformat_minor": 5
}
