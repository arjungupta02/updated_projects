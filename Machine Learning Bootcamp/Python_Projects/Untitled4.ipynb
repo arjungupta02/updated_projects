{
 "cells": [
  {
   "cell_type": "code",
   "execution_count": null,
   "id": "b997f443",
   "metadata": {},
   "outputs": [],
   "source": [
    "import pandas as pd\n",
    "import numpy as np"
   ]
  }
 ],
 "metadata": {
  "kernelspec": {
   "display_name": "Python 3 (ipykernel)",
   "language": "python",
   "name": "python3"
  }
 },
 "nbformat": 4,
 "nbformat_minor": 5
}
