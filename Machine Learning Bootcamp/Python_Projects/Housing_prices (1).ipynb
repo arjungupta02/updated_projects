{
 "cells": [
  {
   "cell_type": "markdown",
   "id": "f0ab67f8",
   "metadata": {},
   "source": [
    "## Gojek Assignment Section 1: Data wrangling and Visualization\n",
    "\n",
    "**Author: Nidhi Gupta**|\n",
    "**Date Modified: 2023-08-07**"
   ]
  },
  {
   "cell_type": "markdown",
   "id": "1b10bb1b",
   "metadata": {},
   "source": [
    "**Context**:\n",
    "**Gojek’s aim is to increase daily transaction volumes (sum of total actual_gmv per day) in the next 6\n",
    "months by 5X. Marketing team wants some preliminary data analysis to understand how to achieve this\n",
    "objective.**\n",
    "1. Perform any cleaning, exploratory analysis necessary to use the provided data for this analysis\n",
    "(a few sentences/plots describing your approach will suffice). What fraction of the drivers deliver\n",
    "only food orders on 2021-01-20?\n",
    "2. Using the data that you had processed, perform an RFM analysis and create a dashboard\n",
    "for the Marketing team to visualize key patterns in the data. Which customer cohorts should\n",
    "the Marketing team prioritize first?\n",
    "3. Hypothesize how Gojek might leverage the insights gained from the data to generate higher\n",
    "transaction volumes."
   ]
  },
  {
   "cell_type": "markdown",
   "id": "c5d3da56",
   "metadata": {},
   "source": [
    "**Importing dependencies**"
   ]
  },
  {
   "cell_type": "code",
   "execution_count": 460,
   "id": "0dfec7cb",
   "metadata": {},
   "outputs": [],
   "source": [
    "import pandas as pd\n",
    "import numpy as np\n",
    "import seaborn as sns\n",
    "import matplotlib.pyplot as plt\n",
    "import matplotlib.ticker as mtick"
   ]
  },
  {
   "cell_type": "markdown",
   "id": "055243e1",
   "metadata": {},
   "source": [
    "**Preliminary Analysis**"
   ]
  },
  {
   "cell_type": "code",
   "execution_count": 487,
   "id": "51d295b3",
   "metadata": {},
   "outputs": [],
   "source": [
    "gojek_df = pd.read_csv('gojek_assignment_data.csv')\n",
    "\n",
    "#gojek_df['service_type'].unique()"
   ]
  },
  {
   "cell_type": "code",
   "execution_count": 488,
   "id": "81aedc3c",
   "metadata": {},
   "outputs": [
    {
     "data": {
      "text/html": [
       "<div>\n",
       "<style scoped>\n",
       "    .dataframe tbody tr th:only-of-type {\n",
       "        vertical-align: middle;\n",
       "    }\n",
       "\n",
       "    .dataframe tbody tr th {\n",
       "        vertical-align: top;\n",
       "    }\n",
       "\n",
       "    .dataframe thead th {\n",
       "        text-align: right;\n",
       "    }\n",
       "</style>\n",
       "<table border=\"1\" class=\"dataframe\">\n",
       "  <thead>\n",
       "    <tr style=\"text-align: right;\">\n",
       "      <th></th>\n",
       "      <th>Unnamed: 0</th>\n",
       "      <th>Unnamed: 0.1</th>\n",
       "      <th>order_no</th>\n",
       "      <th>customer_id</th>\n",
       "      <th>driver_id</th>\n",
       "      <th>service_type</th>\n",
       "      <th>booking_time</th>\n",
       "      <th>actual_gmv</th>\n",
       "    </tr>\n",
       "  </thead>\n",
       "  <tbody>\n",
       "    <tr>\n",
       "      <th>0</th>\n",
       "      <td>0</td>\n",
       "      <td>11200</td>\n",
       "      <td>GK-11-374598266</td>\n",
       "      <td>141</td>\n",
       "      <td>541174926.0</td>\n",
       "      <td>GO-SEND-WEB-SAMEDAY</td>\n",
       "      <td>2021-01-01 00:13:58.459312+00:00</td>\n",
       "      <td>NaN</td>\n",
       "    </tr>\n",
       "    <tr>\n",
       "      <th>1</th>\n",
       "      <td>1</td>\n",
       "      <td>11201</td>\n",
       "      <td>GK-11-374606875</td>\n",
       "      <td>141</td>\n",
       "      <td>541000942.0</td>\n",
       "      <td>GO-SEND-WEB-SAMEDAY</td>\n",
       "      <td>2021-01-01 01:32:17.520762+00:00</td>\n",
       "      <td>NaN</td>\n",
       "    </tr>\n",
       "    <tr>\n",
       "      <th>2</th>\n",
       "      <td>2</td>\n",
       "      <td>11202</td>\n",
       "      <td>GK-11-374607346</td>\n",
       "      <td>141</td>\n",
       "      <td>540626929.0</td>\n",
       "      <td>GO-SEND-WEB-SAMEDAY</td>\n",
       "      <td>2021-01-01 01:35:31.272257+00:00</td>\n",
       "      <td>NaN</td>\n",
       "    </tr>\n",
       "    <tr>\n",
       "      <th>3</th>\n",
       "      <td>3</td>\n",
       "      <td>11203</td>\n",
       "      <td>GK-11-374608743</td>\n",
       "      <td>141</td>\n",
       "      <td>541406737.0</td>\n",
       "      <td>GO-SEND-WEB-SAMEDAY</td>\n",
       "      <td>2021-01-01 01:44:46.034169+00:00</td>\n",
       "      <td>NaN</td>\n",
       "    </tr>\n",
       "    <tr>\n",
       "      <th>4</th>\n",
       "      <td>4</td>\n",
       "      <td>11204</td>\n",
       "      <td>GK-11-374620604</td>\n",
       "      <td>141</td>\n",
       "      <td>541781776.0</td>\n",
       "      <td>GO-SEND-WEB-SAMEDAY</td>\n",
       "      <td>2021-01-01 02:38:50.786383+00:00</td>\n",
       "      <td>NaN</td>\n",
       "    </tr>\n",
       "  </tbody>\n",
       "</table>\n",
       "</div>"
      ],
      "text/plain": [
       "   Unnamed: 0  Unnamed: 0.1         order_no  customer_id    driver_id  \\\n",
       "0           0         11200  GK-11-374598266          141  541174926.0   \n",
       "1           1         11201  GK-11-374606875          141  541000942.0   \n",
       "2           2         11202  GK-11-374607346          141  540626929.0   \n",
       "3           3         11203  GK-11-374608743          141  541406737.0   \n",
       "4           4         11204  GK-11-374620604          141  541781776.0   \n",
       "\n",
       "          service_type                      booking_time  actual_gmv  \n",
       "0  GO-SEND-WEB-SAMEDAY  2021-01-01 00:13:58.459312+00:00         NaN  \n",
       "1  GO-SEND-WEB-SAMEDAY  2021-01-01 01:32:17.520762+00:00         NaN  \n",
       "2  GO-SEND-WEB-SAMEDAY  2021-01-01 01:35:31.272257+00:00         NaN  \n",
       "3  GO-SEND-WEB-SAMEDAY  2021-01-01 01:44:46.034169+00:00         NaN  \n",
       "4  GO-SEND-WEB-SAMEDAY  2021-01-01 02:38:50.786383+00:00         NaN  "
      ]
     },
     "execution_count": 488,
     "metadata": {},
     "output_type": "execute_result"
    }
   ],
   "source": [
    "gojek_df.head()"
   ]
  },
  {
   "cell_type": "code",
   "execution_count": 489,
   "id": "0eefe20a",
   "metadata": {},
   "outputs": [
    {
     "data": {
      "text/plain": [
       "(4890941, 8)"
      ]
     },
     "execution_count": 489,
     "metadata": {},
     "output_type": "execute_result"
    }
   ],
   "source": [
    "gojek_df.shape"
   ]
  },
  {
   "cell_type": "code",
   "execution_count": 490,
   "id": "6c5f9c99",
   "metadata": {},
   "outputs": [
    {
     "data": {
      "text/plain": [
       "Unnamed: 0        int64\n",
       "Unnamed: 0.1      int64\n",
       "order_no         object\n",
       "customer_id       int64\n",
       "driver_id       float64\n",
       "service_type     object\n",
       "booking_time     object\n",
       "actual_gmv      float64\n",
       "dtype: object"
      ]
     },
     "execution_count": 490,
     "metadata": {},
     "output_type": "execute_result"
    }
   ],
   "source": [
    "gojek_df.dtypes"
   ]
  },
  {
   "cell_type": "code",
   "execution_count": 491,
   "id": "cfc350be",
   "metadata": {
    "scrolled": true
   },
   "outputs": [
    {
     "name": "stdout",
     "output_type": "stream",
     "text": [
      "No of unique values in Unnamed: 0 : 993933\n",
      "No of unique values in Unnamed: 0.1 : 4890941\n",
      "No of unique values in order_no : 3912658\n",
      "No of unique values in customer_id : 1737181\n",
      "No of unique values in driver_id : 317022\n",
      "No of unique values in service_type : 20\n",
      "No of unique values in booking_time : 3905391\n",
      "No of unique values in actual_gmv : 40382\n"
     ]
    }
   ],
   "source": [
    "for i in gojek_df.columns:\n",
    "    print('No of unique values in',i,':',gojek_df[i].nunique() )"
   ]
  },
  {
   "cell_type": "markdown",
   "id": "e0025647",
   "metadata": {},
   "source": [
    "We know we just have 2 **Unnamed** columns in df so we can either remove them while importing or drop it after import. In this case, we will be searching for **all Unnamed** columns after import and then drop them at once "
   ]
  },
  {
   "cell_type": "code",
   "execution_count": 492,
   "id": "3f67398f",
   "metadata": {},
   "outputs": [],
   "source": [
    "gojek_df.drop(gojek_df.loc[:,gojek_df.columns.str.match('Unnamed')], axis = 1, inplace = True)"
   ]
  },
  {
   "cell_type": "code",
   "execution_count": 493,
   "id": "1caf5ed9",
   "metadata": {},
   "outputs": [
    {
     "data": {
      "text/html": [
       "<div>\n",
       "<style scoped>\n",
       "    .dataframe tbody tr th:only-of-type {\n",
       "        vertical-align: middle;\n",
       "    }\n",
       "\n",
       "    .dataframe tbody tr th {\n",
       "        vertical-align: top;\n",
       "    }\n",
       "\n",
       "    .dataframe thead th {\n",
       "        text-align: right;\n",
       "    }\n",
       "</style>\n",
       "<table border=\"1\" class=\"dataframe\">\n",
       "  <thead>\n",
       "    <tr style=\"text-align: right;\">\n",
       "      <th></th>\n",
       "      <th>order_no</th>\n",
       "      <th>customer_id</th>\n",
       "      <th>driver_id</th>\n",
       "      <th>service_type</th>\n",
       "      <th>booking_time</th>\n",
       "      <th>actual_gmv</th>\n",
       "    </tr>\n",
       "  </thead>\n",
       "  <tbody>\n",
       "    <tr>\n",
       "      <th>0</th>\n",
       "      <td>GK-11-374598266</td>\n",
       "      <td>141</td>\n",
       "      <td>541174926.0</td>\n",
       "      <td>GO-SEND-WEB-SAMEDAY</td>\n",
       "      <td>2021-01-01 00:13:58.459312+00:00</td>\n",
       "      <td>NaN</td>\n",
       "    </tr>\n",
       "    <tr>\n",
       "      <th>1</th>\n",
       "      <td>GK-11-374606875</td>\n",
       "      <td>141</td>\n",
       "      <td>541000942.0</td>\n",
       "      <td>GO-SEND-WEB-SAMEDAY</td>\n",
       "      <td>2021-01-01 01:32:17.520762+00:00</td>\n",
       "      <td>NaN</td>\n",
       "    </tr>\n",
       "    <tr>\n",
       "      <th>2</th>\n",
       "      <td>GK-11-374607346</td>\n",
       "      <td>141</td>\n",
       "      <td>540626929.0</td>\n",
       "      <td>GO-SEND-WEB-SAMEDAY</td>\n",
       "      <td>2021-01-01 01:35:31.272257+00:00</td>\n",
       "      <td>NaN</td>\n",
       "    </tr>\n",
       "    <tr>\n",
       "      <th>3</th>\n",
       "      <td>GK-11-374608743</td>\n",
       "      <td>141</td>\n",
       "      <td>541406737.0</td>\n",
       "      <td>GO-SEND-WEB-SAMEDAY</td>\n",
       "      <td>2021-01-01 01:44:46.034169+00:00</td>\n",
       "      <td>NaN</td>\n",
       "    </tr>\n",
       "    <tr>\n",
       "      <th>4</th>\n",
       "      <td>GK-11-374620604</td>\n",
       "      <td>141</td>\n",
       "      <td>541781776.0</td>\n",
       "      <td>GO-SEND-WEB-SAMEDAY</td>\n",
       "      <td>2021-01-01 02:38:50.786383+00:00</td>\n",
       "      <td>NaN</td>\n",
       "    </tr>\n",
       "  </tbody>\n",
       "</table>\n",
       "</div>"
      ],
      "text/plain": [
       "          order_no  customer_id    driver_id         service_type  \\\n",
       "0  GK-11-374598266          141  541174926.0  GO-SEND-WEB-SAMEDAY   \n",
       "1  GK-11-374606875          141  541000942.0  GO-SEND-WEB-SAMEDAY   \n",
       "2  GK-11-374607346          141  540626929.0  GO-SEND-WEB-SAMEDAY   \n",
       "3  GK-11-374608743          141  541406737.0  GO-SEND-WEB-SAMEDAY   \n",
       "4  GK-11-374620604          141  541781776.0  GO-SEND-WEB-SAMEDAY   \n",
       "\n",
       "                       booking_time  actual_gmv  \n",
       "0  2021-01-01 00:13:58.459312+00:00         NaN  \n",
       "1  2021-01-01 01:32:17.520762+00:00         NaN  \n",
       "2  2021-01-01 01:35:31.272257+00:00         NaN  \n",
       "3  2021-01-01 01:44:46.034169+00:00         NaN  \n",
       "4  2021-01-01 02:38:50.786383+00:00         NaN  "
      ]
     },
     "execution_count": 493,
     "metadata": {},
     "output_type": "execute_result"
    }
   ],
   "source": [
    "gojek_df.head()"
   ]
  },
  {
   "cell_type": "markdown",
   "id": "69e913ec",
   "metadata": {},
   "source": [
    "We will check for **Unique values** in all columns to check if they are valid or not "
   ]
  },
  {
   "cell_type": "code",
   "execution_count": 494,
   "id": "dc840b51",
   "metadata": {},
   "outputs": [
    {
     "data": {
      "text/plain": [
       "array(['GK-11-374598266', 'GK-11-374606875', 'GK-11-374607346', ...,\n",
       "       'GK-11-384433724', 'GK-11-384433738', 'GK-11-384433745'],\n",
       "      dtype=object)"
      ]
     },
     "execution_count": 494,
     "metadata": {},
     "output_type": "execute_result"
    }
   ],
   "source": [
    "gojek_df['order_no'].unique()"
   ]
  },
  {
   "cell_type": "markdown",
   "id": "198d4371",
   "metadata": {},
   "source": [
    "We have distinct values of **order_no** in this column for each order placed but some rows have just numeric order_no while others have alphanumeric data type. We will explore this more"
   ]
  },
  {
   "cell_type": "code",
   "execution_count": 495,
   "id": "3d787cc0",
   "metadata": {},
   "outputs": [
    {
     "data": {
      "text/plain": [
       "array([      141, 697507413, 626139468, ..., 557487205, 550877189,\n",
       "       582290510], dtype=int64)"
      ]
     },
     "execution_count": 495,
     "metadata": {},
     "output_type": "execute_result"
    }
   ],
   "source": [
    "gojek_df['customer_id'].unique()"
   ]
  },
  {
   "cell_type": "markdown",
   "id": "feeb5f3c",
   "metadata": {},
   "source": [
    "We have distinct values of **customer_id** but column has **int64** data type instead **object** so we will be changing that."
   ]
  },
  {
   "cell_type": "code",
   "execution_count": 496,
   "id": "89b158fc",
   "metadata": {},
   "outputs": [
    {
     "data": {
      "text/plain": [
       "dtype('O')"
      ]
     },
     "execution_count": 496,
     "metadata": {},
     "output_type": "execute_result"
    }
   ],
   "source": [
    "gojek_df[\"customer_id\"]=gojek_df[\"customer_id\"].astype(str)\n",
    "gojek_df[\"customer_id\"].dtype"
   ]
  },
  {
   "cell_type": "code",
   "execution_count": 497,
   "id": "6bfbdc2b",
   "metadata": {},
   "outputs": [
    {
     "data": {
      "text/plain": [
       "array([5.41174926e+08, 5.41000942e+08, 5.40626929e+08, ...,\n",
       "       5.40624110e+08, 5.41871170e+08, 5.41801509e+08])"
      ]
     },
     "execution_count": 497,
     "metadata": {},
     "output_type": "execute_result"
    }
   ],
   "source": [
    "gojek_df['driver_id'].unique()"
   ]
  },
  {
   "cell_type": "code",
   "execution_count": 498,
   "id": "b3a789f2",
   "metadata": {},
   "outputs": [
    {
     "data": {
      "text/plain": [
       "0.0            706886\n",
       "700402028.0       300\n",
       "541055923.0       287\n",
       "700405918.0       284\n",
       "700439533.0       280\n",
       "                ...  \n",
       "541133150.0         1\n",
       "700479667.0         1\n",
       "700498039.0         1\n",
       "541558134.0         1\n",
       "700813752.0         1\n",
       "Name: driver_id, Length: 317022, dtype: int64"
      ]
     },
     "execution_count": 498,
     "metadata": {},
     "output_type": "execute_result"
    }
   ],
   "source": [
    "gojek_df['driver_id'].value_counts()"
   ]
  },
  {
   "cell_type": "markdown",
   "id": "6ddb1772",
   "metadata": {},
   "source": [
    "We have **huge** chunks of drivers with **driver_id** in **\"0.0 \"**. This doesn't look good and these drivers might be the ones with **Null** driver_id. We will be exploring that more. We have driver_id in **float64** instead of **object** dtype which we will change now. "
   ]
  },
  {
   "cell_type": "code",
   "execution_count": 499,
   "id": "a09f0df5",
   "metadata": {},
   "outputs": [],
   "source": [
    "# gojek_df[\"driver_id\"]=gojek_df[\"driver_id\"].astype(int) #import was done in float so converting in int first to remove 0s\n",
    "# gojek_df[\"driver_id\"] = gojek_df[\"driver_id\"].astype(str) #then to object\n",
    "# gojek_df[\"driver_id\"].dtype\n",
    "\n",
    "# Error : IntCastingNaNError: Cannot convert non-finite values (NA or inf) to integer"
   ]
  },
  {
   "cell_type": "markdown",
   "id": "50683028",
   "metadata": {},
   "source": [
    "We got above error because we have some **driver_id** with Null values. Before, we convert data type in **driver_id**, let's check the null values overall in df"
   ]
  },
  {
   "cell_type": "markdown",
   "id": "676baeb1",
   "metadata": {},
   "source": [
    "### Dealing with Null values.."
   ]
  },
  {
   "cell_type": "code",
   "execution_count": 500,
   "id": "e740ebd1",
   "metadata": {},
   "outputs": [
    {
     "data": {
      "text/plain": [
       "order_no              0\n",
       "customer_id           0\n",
       "driver_id        564813\n",
       "service_type          0\n",
       "booking_time          0\n",
       "actual_gmv      2867526\n",
       "dtype: int64"
      ]
     },
     "execution_count": 500,
     "metadata": {},
     "output_type": "execute_result"
    }
   ],
   "source": [
    "gojek_df.isnull().sum()"
   ]
  },
  {
   "cell_type": "code",
   "execution_count": 501,
   "id": "00bce9b4",
   "metadata": {},
   "outputs": [
    {
     "data": {
      "text/plain": [
       "(4890941, 6)"
      ]
     },
     "execution_count": 501,
     "metadata": {},
     "output_type": "execute_result"
    }
   ],
   "source": [
    "gojek_df.shape"
   ]
  },
  {
   "cell_type": "markdown",
   "id": "384c6267",
   "metadata": {},
   "source": [
    "Driver_id has almost **564813** (11% of total df) values which are **Null**. Let's explore if these are valid or not. Everything except **actual_gmv** rows look okay which has Nulls as well. We will be treating them as well but for now let's impute Null driver_id with a dummy value of **999999999**"
   ]
  },
  {
   "cell_type": "code",
   "execution_count": 502,
   "id": "2c3b152e",
   "metadata": {},
   "outputs": [
    {
     "data": {
      "text/html": [
       "<div>\n",
       "<style scoped>\n",
       "    .dataframe tbody tr th:only-of-type {\n",
       "        vertical-align: middle;\n",
       "    }\n",
       "\n",
       "    .dataframe tbody tr th {\n",
       "        vertical-align: top;\n",
       "    }\n",
       "\n",
       "    .dataframe thead th {\n",
       "        text-align: right;\n",
       "    }\n",
       "</style>\n",
       "<table border=\"1\" class=\"dataframe\">\n",
       "  <thead>\n",
       "    <tr style=\"text-align: right;\">\n",
       "      <th></th>\n",
       "      <th>order_no</th>\n",
       "      <th>customer_id</th>\n",
       "      <th>driver_id</th>\n",
       "      <th>service_type</th>\n",
       "      <th>booking_time</th>\n",
       "      <th>actual_gmv</th>\n",
       "    </tr>\n",
       "  </thead>\n",
       "  <tbody>\n",
       "    <tr>\n",
       "      <th>788</th>\n",
       "      <td>GK-21-297626211</td>\n",
       "      <td>693882839</td>\n",
       "      <td>NaN</td>\n",
       "      <td>GO-BOX</td>\n",
       "      <td>2020-12-31 17:49:52.404465+00:00</td>\n",
       "      <td>NaN</td>\n",
       "    </tr>\n",
       "    <tr>\n",
       "      <th>793</th>\n",
       "      <td>GK-21-297626216</td>\n",
       "      <td>639293529</td>\n",
       "      <td>NaN</td>\n",
       "      <td>GO-BOX</td>\n",
       "      <td>2020-12-31 18:15:02.137301+00:00</td>\n",
       "      <td>NaN</td>\n",
       "    </tr>\n",
       "    <tr>\n",
       "      <th>799</th>\n",
       "      <td>GK-21-297626222</td>\n",
       "      <td>542678695</td>\n",
       "      <td>NaN</td>\n",
       "      <td>GO-BOX</td>\n",
       "      <td>2020-12-31 19:28:34.781190+00:00</td>\n",
       "      <td>NaN</td>\n",
       "    </tr>\n",
       "    <tr>\n",
       "      <th>801</th>\n",
       "      <td>GK-21-297626224</td>\n",
       "      <td>542678695</td>\n",
       "      <td>NaN</td>\n",
       "      <td>GO-BOX</td>\n",
       "      <td>2020-12-31 19:35:10.463671+00:00</td>\n",
       "      <td>NaN</td>\n",
       "    </tr>\n",
       "    <tr>\n",
       "      <th>804</th>\n",
       "      <td>GK-21-297626227</td>\n",
       "      <td>542678695</td>\n",
       "      <td>NaN</td>\n",
       "      <td>GO-BOX</td>\n",
       "      <td>2020-12-31 19:44:00.358170+00:00</td>\n",
       "      <td>NaN</td>\n",
       "    </tr>\n",
       "  </tbody>\n",
       "</table>\n",
       "</div>"
      ],
      "text/plain": [
       "            order_no customer_id  driver_id service_type  \\\n",
       "788  GK-21-297626211   693882839        NaN       GO-BOX   \n",
       "793  GK-21-297626216   639293529        NaN       GO-BOX   \n",
       "799  GK-21-297626222   542678695        NaN       GO-BOX   \n",
       "801  GK-21-297626224   542678695        NaN       GO-BOX   \n",
       "804  GK-21-297626227   542678695        NaN       GO-BOX   \n",
       "\n",
       "                         booking_time  actual_gmv  \n",
       "788  2020-12-31 17:49:52.404465+00:00         NaN  \n",
       "793  2020-12-31 18:15:02.137301+00:00         NaN  \n",
       "799  2020-12-31 19:28:34.781190+00:00         NaN  \n",
       "801  2020-12-31 19:35:10.463671+00:00         NaN  \n",
       "804  2020-12-31 19:44:00.358170+00:00         NaN  "
      ]
     },
     "execution_count": 502,
     "metadata": {},
     "output_type": "execute_result"
    }
   ],
   "source": [
    "gojek_df.loc[gojek_df['driver_id'].isnull()].head(5)"
   ]
  },
  {
   "cell_type": "code",
   "execution_count": 503,
   "id": "55ecb6ae",
   "metadata": {
    "scrolled": true
   },
   "outputs": [
    {
     "data": {
      "text/plain": [
       "0"
      ]
     },
     "execution_count": 503,
     "metadata": {},
     "output_type": "execute_result"
    }
   ],
   "source": [
    "gojek_df['driver_id'].fillna('999999999', inplace = True)\n",
    "gojek_df['driver_id'].isnull().sum()"
   ]
  },
  {
   "cell_type": "code",
   "execution_count": 504,
   "id": "308e2e20",
   "metadata": {},
   "outputs": [
    {
     "data": {
      "text/plain": [
       "dtype('O')"
      ]
     },
     "execution_count": 504,
     "metadata": {},
     "output_type": "execute_result"
    }
   ],
   "source": [
    "gojek_df[\"driver_id\"]=gojek_df[\"driver_id\"].astype(int) #import was done in float so converting in int first to remove 0s\n",
    "gojek_df[\"driver_id\"] = gojek_df[\"driver_id\"].astype(str) #then to object\n",
    "gojek_df[\"driver_id\"].dtype"
   ]
  },
  {
   "cell_type": "markdown",
   "id": "9c659c38",
   "metadata": {},
   "source": [
    "Let's check for **actual_gmv**"
   ]
  },
  {
   "cell_type": "code",
   "execution_count": 505,
   "id": "e7d94f20",
   "metadata": {},
   "outputs": [
    {
     "data": {
      "text/plain": [
       "2867526"
      ]
     },
     "execution_count": 505,
     "metadata": {},
     "output_type": "execute_result"
    }
   ],
   "source": [
    "gojek_df['actual_gmv'].isnull().sum()"
   ]
  },
  {
   "cell_type": "code",
   "execution_count": 506,
   "id": "19410834",
   "metadata": {},
   "outputs": [
    {
     "data": {
      "text/plain": [
       "58.62933124729985"
      ]
     },
     "execution_count": 506,
     "metadata": {},
     "output_type": "execute_result"
    }
   ],
   "source": [
    "gojek_df['actual_gmv'].isnull().sum()/len(gojek_df)*100"
   ]
  },
  {
   "cell_type": "markdown",
   "id": "35e5583c",
   "metadata": {},
   "source": [
    "Almost **58%** of our **actual_gmv** is missing and it is one of the most important parameter to segment the customer and determine how the trasaction volume can be multiplied by 5x so we will be removing these rows to correctly determine our customer segments"
   ]
  },
  {
   "cell_type": "code",
   "execution_count": 512,
   "id": "795a36cf",
   "metadata": {},
   "outputs": [],
   "source": [
    "gojek_df.dropna(inplace = True)"
   ]
  },
  {
   "cell_type": "code",
   "execution_count": 513,
   "id": "d7356d4d",
   "metadata": {},
   "outputs": [
    {
     "data": {
      "text/plain": [
       "0"
      ]
     },
     "execution_count": 513,
     "metadata": {},
     "output_type": "execute_result"
    }
   ],
   "source": [
    "gojek_df['actual_gmv'].isnull().sum()"
   ]
  },
  {
   "cell_type": "code",
   "execution_count": 515,
   "id": "564c613c",
   "metadata": {},
   "outputs": [
    {
     "data": {
      "text/plain": [
       "array(['GO-TIX', 'GO-MART', 'GO-FOOD-PICKUP', 'GO-BILLS', 'GO-SHOP',\n",
       "       'GO-PULSA', 'GO-FOOD'], dtype=object)"
      ]
     },
     "execution_count": 515,
     "metadata": {},
     "output_type": "execute_result"
    }
   ],
   "source": [
    "gojek_df['service_type'].unique()"
   ]
  },
  {
   "cell_type": "markdown",
   "id": "6b60716d",
   "metadata": {},
   "source": [
    "We have **7** different **service_type** offered by **Gojek** and all services look valid."
   ]
  },
  {
   "cell_type": "markdown",
   "id": "c97057f8",
   "metadata": {},
   "source": [
    "To make our analysis easier, we will be dealing with \"GO-FOOD\" and \"GO-FOOD-PICKUP\" separately. But please not that **GO-FOOD** and **GO-FOOD-PICKUP** are similar since **GO-FOOD-PICKUP** is a feature that is offered by Gojek under **GO-FOOD** platform itself. \n",
    "\n",
    "<a href=\"https://www.gojek.com/en-id/help/gofood/cara-pakai-fitur-pickup-di-gofood/\">Checkout Company's Announcement</a><br>\n",
    "\n",
    "<a href=\"https://www.gojek.io/blog/introducing-gofood-pickup\">News article</a>"
   ]
  },
  {
   "cell_type": "code",
   "execution_count": 516,
   "id": "797b5071",
   "metadata": {},
   "outputs": [
    {
     "data": {
      "text/plain": [
       "2021-01-13 01:02:06.825000+00:00    15\n",
       "2021-01-30 11:14:44+00:00           15\n",
       "2021-01-17 04:00:11.851000+00:00    15\n",
       "2021-01-31 13:50:44+00:00           15\n",
       "2021-01-30 04:53:46+00:00           15\n",
       "                                    ..\n",
       "2021-01-09 00:18:38.044287+00:00     1\n",
       "2021-01-09 00:18:37.802485+00:00     1\n",
       "2021-01-09 00:18:37.600194+00:00     1\n",
       "2021-01-09 00:18:37.320212+00:00     1\n",
       "2021-01-31 00:28:33.472925+00:00     1\n",
       "Name: booking_time, Length: 1616653, dtype: int64"
      ]
     },
     "execution_count": 516,
     "metadata": {},
     "output_type": "execute_result"
    }
   ],
   "source": [
    "gojek_df['booking_time'].value_counts()"
   ]
  },
  {
   "cell_type": "markdown",
   "id": "d04b2b5d",
   "metadata": {},
   "source": [
    "We have distinct booking time for orders but the data type is  **int64** instead of **datetime** dtype. We will change it now."
   ]
  },
  {
   "cell_type": "code",
   "execution_count": 517,
   "id": "f6207f3d",
   "metadata": {},
   "outputs": [
    {
     "data": {
      "text/plain": [
       "32   2021-01-01 00:02:22+00:00\n",
       "33   2021-01-01 00:08:08+00:00\n",
       "Name: booking_time, dtype: datetime64[ns, UTC]"
      ]
     },
     "execution_count": 517,
     "metadata": {},
     "output_type": "execute_result"
    }
   ],
   "source": [
    "gojek_df['booking_time'] = pd.to_datetime(gojek_df['booking_time'])\n",
    "gojek_df['booking_time'].head(2)"
   ]
  },
  {
   "cell_type": "markdown",
   "id": "4a5d1be5",
   "metadata": {},
   "source": [
    "### Dealing with 0s and Data types.."
   ]
  },
  {
   "cell_type": "markdown",
   "id": "ef7d4d0c",
   "metadata": {},
   "source": [
    "Unfortunately, the biggest part of any data analysis project is making sure that data is formatted and fixing it when it is not.The first part of this process is **Missing Data** that we dealt with above.\n",
    "\n",
    "**Missing Data** is simply a blank space, or a surrogate value like **NA** or **0** that indicates that we failed to collect data for one of the features. For example, if we forgot to ask someone's age, or forgot to write it down then we would have blank space for that person's age."
   ]
  },
  {
   "cell_type": "code",
   "execution_count": 518,
   "id": "5abcc209",
   "metadata": {},
   "outputs": [
    {
     "data": {
      "text/plain": [
       "order_no        0\n",
       "customer_id     0\n",
       "driver_id       0\n",
       "service_type    0\n",
       "booking_time    0\n",
       "actual_gmv      0\n",
       "dtype: int64"
      ]
     },
     "execution_count": 518,
     "metadata": {},
     "output_type": "execute_result"
    }
   ],
   "source": [
    "gojek_df.isnull().sum()"
   ]
  },
  {
   "cell_type": "markdown",
   "id": "5ff106f5",
   "metadata": {},
   "source": [
    "We can see that there are no **blank values** since we already dealt with that in \"Dealing Missing data\" but there might be some **0s** instead of blanks in some columns so we will be exploring that next. "
   ]
  },
  {
   "cell_type": "code",
   "execution_count": 519,
   "id": "578325d7",
   "metadata": {},
   "outputs": [
    {
     "data": {
      "text/plain": [
       "order_no                     object\n",
       "customer_id                  object\n",
       "driver_id                    object\n",
       "service_type                 object\n",
       "booking_time    datetime64[ns, UTC]\n",
       "actual_gmv                  float64\n",
       "dtype: object"
      ]
     },
     "execution_count": 519,
     "metadata": {},
     "output_type": "execute_result"
    }
   ],
   "source": [
    "gojek_df.dtypes"
   ]
  },
  {
   "cell_type": "markdown",
   "id": "16eace2e",
   "metadata": {},
   "source": [
    "Let's check **actual_gmv** column.."
   ]
  },
  {
   "cell_type": "code",
   "execution_count": 520,
   "id": "a7e74a79",
   "metadata": {},
   "outputs": [
    {
     "data": {
      "text/plain": [
       "0.0          123913\n",
       "21500.0       77806\n",
       "51500.0       56364\n",
       "15356.0       56047\n",
       "101500.0      36259\n",
       "              ...  \n",
       "1553067.0         1\n",
       "3981013.0         1\n",
       "143628.0          1\n",
       "442681.0          1\n",
       "41675.0           1\n",
       "Name: actual_gmv, Length: 40382, dtype: int64"
      ]
     },
     "execution_count": 520,
     "metadata": {},
     "output_type": "execute_result"
    }
   ],
   "source": [
    "gojek_df['actual_gmv'].value_counts()"
   ]
  },
  {
   "cell_type": "code",
   "execution_count": 521,
   "id": "4e7baed5",
   "metadata": {},
   "outputs": [
    {
     "data": {
      "text/plain": [
       "(2023415,)"
      ]
     },
     "execution_count": 521,
     "metadata": {},
     "output_type": "execute_result"
    }
   ],
   "source": [
    "gojek_df['actual_gmv'].shape"
   ]
  },
  {
   "cell_type": "markdown",
   "id": "554c9bb9",
   "metadata": {},
   "source": [
    "We have about **123913** values of **0s** in **actual_gmv** column out of total **4890941** values **(2.5% of total)**. We can think about customers who might get First time sign up offers/discounts but they would still need to pay some amount for shipping/delivery/VAT,etc. so this **actual_gmv** amount should always be **>0**. "
   ]
  },
  {
   "cell_type": "code",
   "execution_count": 522,
   "id": "d62aed36",
   "metadata": {},
   "outputs": [
    {
     "data": {
      "text/plain": [
       "order_no\n",
       "115718001-122412-GOBILLS     1\n",
       "115985538-743064-GOBILLS     1\n",
       "116005680-829856-GOBILLS    11\n",
       "116116541-028974-GOBILLS     1\n",
       "116119534-100415-GOBILLS     1\n",
       "                            ..\n",
       "SH-952757774                 4\n",
       "SH-952757775                 4\n",
       "SH-952757781                 1\n",
       "SH-952757784                 1\n",
       "SH-952757786                 1\n",
       "Name: order_no, Length: 98758, dtype: int64"
      ]
     },
     "execution_count": 522,
     "metadata": {},
     "output_type": "execute_result"
    }
   ],
   "source": [
    "#examples of few orders with actual_gmv = 0\n",
    "order_count =gojek_df[gojek_df['actual_gmv'] == 0].groupby(by = 'order_no')['order_no'].count()\n",
    "order_count"
   ]
  },
  {
   "cell_type": "code",
   "execution_count": 523,
   "id": "712769c6",
   "metadata": {},
   "outputs": [
    {
     "data": {
      "text/plain": [
       "order_no\n",
       "115718001-122412-GOBILLS    1\n",
       "115985538-743064-GOBILLS    1\n",
       "116116541-028974-GOBILLS    1\n",
       "116119534-100415-GOBILLS    1\n",
       "116120560-678151-GOBILLS    1\n",
       "                           ..\n",
       "SH-952757743                1\n",
       "SH-952757746                1\n",
       "SH-952757781                1\n",
       "SH-952757784                1\n",
       "SH-952757786                1\n",
       "Name: order_no, Length: 92725, dtype: int64"
      ]
     },
     "execution_count": 523,
     "metadata": {},
     "output_type": "execute_result"
    }
   ],
   "source": [
    "order_count[order_count == 1]"
   ]
  },
  {
   "cell_type": "code",
   "execution_count": 524,
   "id": "c7eff19c",
   "metadata": {},
   "outputs": [
    {
     "data": {
      "text/html": [
       "<div>\n",
       "<style scoped>\n",
       "    .dataframe tbody tr th:only-of-type {\n",
       "        vertical-align: middle;\n",
       "    }\n",
       "\n",
       "    .dataframe tbody tr th {\n",
       "        vertical-align: top;\n",
       "    }\n",
       "\n",
       "    .dataframe thead th {\n",
       "        text-align: right;\n",
       "    }\n",
       "</style>\n",
       "<table border=\"1\" class=\"dataframe\">\n",
       "  <thead>\n",
       "    <tr style=\"text-align: right;\">\n",
       "      <th></th>\n",
       "      <th>order_no</th>\n",
       "      <th>customer_id</th>\n",
       "      <th>driver_id</th>\n",
       "      <th>service_type</th>\n",
       "      <th>booking_time</th>\n",
       "      <th>actual_gmv</th>\n",
       "    </tr>\n",
       "  </thead>\n",
       "  <tbody>\n",
       "    <tr>\n",
       "      <th>737275</th>\n",
       "      <td>115718001-122412-GOBILLS</td>\n",
       "      <td>564204387</td>\n",
       "      <td>0</td>\n",
       "      <td>GO-BILLS</td>\n",
       "      <td>2021-01-01 03:57:02.436000+00:00</td>\n",
       "      <td>0.0</td>\n",
       "    </tr>\n",
       "  </tbody>\n",
       "</table>\n",
       "</div>"
      ],
      "text/plain": [
       "                        order_no customer_id driver_id service_type  \\\n",
       "737275  115718001-122412-GOBILLS   564204387         0     GO-BILLS   \n",
       "\n",
       "                           booking_time  actual_gmv  \n",
       "737275 2021-01-01 03:57:02.436000+00:00         0.0  "
      ]
     },
     "execution_count": 524,
     "metadata": {},
     "output_type": "execute_result"
    }
   ],
   "source": [
    "#for instance\n",
    "gojek_df[gojek_df['order_no'] == '115718001-122412-GOBILLS']"
   ]
  },
  {
   "cell_type": "markdown",
   "id": "d8c20caf",
   "metadata": {},
   "source": [
    "While exploring **actual_gmv**, we also came across **duplicate entries** of **order_no** with no change in overall values"
   ]
  },
  {
   "cell_type": "code",
   "execution_count": 525,
   "id": "85881b75",
   "metadata": {},
   "outputs": [
    {
     "data": {
      "text/plain": [
       "order_no\n",
       "116005680-829856-GOBILLS    11\n",
       "117014889-095176-GOBILLS     4\n",
       "117723351-235071-GOBILLS     4\n",
       "14676011                     4\n",
       "14681770                     4\n",
       "                            ..\n",
       "SH-952757248                 4\n",
       "SH-952757276                 4\n",
       "SH-952757514                 4\n",
       "SH-952757774                 4\n",
       "SH-952757775                 4\n",
       "Name: order_no, Length: 6033, dtype: int64"
      ]
     },
     "execution_count": 525,
     "metadata": {},
     "output_type": "execute_result"
    }
   ],
   "source": [
    "order_count[order_count > 1]"
   ]
  },
  {
   "cell_type": "code",
   "execution_count": 526,
   "id": "82e1cace",
   "metadata": {
    "scrolled": false
   },
   "outputs": [
    {
     "data": {
      "text/html": [
       "<div>\n",
       "<style scoped>\n",
       "    .dataframe tbody tr th:only-of-type {\n",
       "        vertical-align: middle;\n",
       "    }\n",
       "\n",
       "    .dataframe tbody tr th {\n",
       "        vertical-align: top;\n",
       "    }\n",
       "\n",
       "    .dataframe thead th {\n",
       "        text-align: right;\n",
       "    }\n",
       "</style>\n",
       "<table border=\"1\" class=\"dataframe\">\n",
       "  <thead>\n",
       "    <tr style=\"text-align: right;\">\n",
       "      <th></th>\n",
       "      <th>order_no</th>\n",
       "      <th>customer_id</th>\n",
       "      <th>driver_id</th>\n",
       "      <th>service_type</th>\n",
       "      <th>booking_time</th>\n",
       "      <th>actual_gmv</th>\n",
       "    </tr>\n",
       "  </thead>\n",
       "  <tbody>\n",
       "    <tr>\n",
       "      <th>1251324</th>\n",
       "      <td>MT-1416306769</td>\n",
       "      <td>26002166</td>\n",
       "      <td>999999999</td>\n",
       "      <td>GO-MART</td>\n",
       "      <td>2021-01-08 04:56:42.589000+00:00</td>\n",
       "      <td>0.0</td>\n",
       "    </tr>\n",
       "    <tr>\n",
       "      <th>1755918</th>\n",
       "      <td>MT-1416306769</td>\n",
       "      <td>26002166</td>\n",
       "      <td>999999999</td>\n",
       "      <td>GO-MART</td>\n",
       "      <td>2021-01-08 04:56:42.589000+00:00</td>\n",
       "      <td>0.0</td>\n",
       "    </tr>\n",
       "    <tr>\n",
       "      <th>1793104</th>\n",
       "      <td>MT-1416306769</td>\n",
       "      <td>26002166</td>\n",
       "      <td>999999999</td>\n",
       "      <td>GO-MART</td>\n",
       "      <td>2021-01-08 04:56:42.589000+00:00</td>\n",
       "      <td>0.0</td>\n",
       "    </tr>\n",
       "    <tr>\n",
       "      <th>1830290</th>\n",
       "      <td>MT-1416306769</td>\n",
       "      <td>26002166</td>\n",
       "      <td>999999999</td>\n",
       "      <td>GO-MART</td>\n",
       "      <td>2021-01-08 04:56:42.589000+00:00</td>\n",
       "      <td>0.0</td>\n",
       "    </tr>\n",
       "    <tr>\n",
       "      <th>1855579</th>\n",
       "      <td>MT-1416306769</td>\n",
       "      <td>26002166</td>\n",
       "      <td>999999999</td>\n",
       "      <td>GO-MART</td>\n",
       "      <td>2021-01-08 04:56:42.589000+00:00</td>\n",
       "      <td>0.0</td>\n",
       "    </tr>\n",
       "    <tr>\n",
       "      <th>1862988</th>\n",
       "      <td>MT-1416306769</td>\n",
       "      <td>26002166</td>\n",
       "      <td>999999999</td>\n",
       "      <td>GO-MART</td>\n",
       "      <td>2021-01-08 04:56:42.589000+00:00</td>\n",
       "      <td>0.0</td>\n",
       "    </tr>\n",
       "    <tr>\n",
       "      <th>1870397</th>\n",
       "      <td>MT-1416306769</td>\n",
       "      <td>26002166</td>\n",
       "      <td>999999999</td>\n",
       "      <td>GO-MART</td>\n",
       "      <td>2021-01-08 04:56:42.589000+00:00</td>\n",
       "      <td>0.0</td>\n",
       "    </tr>\n",
       "    <tr>\n",
       "      <th>1877806</th>\n",
       "      <td>MT-1416306769</td>\n",
       "      <td>26002166</td>\n",
       "      <td>999999999</td>\n",
       "      <td>GO-MART</td>\n",
       "      <td>2021-01-08 04:56:42.589000+00:00</td>\n",
       "      <td>0.0</td>\n",
       "    </tr>\n",
       "    <tr>\n",
       "      <th>1885215</th>\n",
       "      <td>MT-1416306769</td>\n",
       "      <td>26002166</td>\n",
       "      <td>999999999</td>\n",
       "      <td>GO-MART</td>\n",
       "      <td>2021-01-08 04:56:42.589000+00:00</td>\n",
       "      <td>0.0</td>\n",
       "    </tr>\n",
       "    <tr>\n",
       "      <th>1892624</th>\n",
       "      <td>MT-1416306769</td>\n",
       "      <td>26002166</td>\n",
       "      <td>999999999</td>\n",
       "      <td>GO-MART</td>\n",
       "      <td>2021-01-08 04:56:42.589000+00:00</td>\n",
       "      <td>0.0</td>\n",
       "    </tr>\n",
       "    <tr>\n",
       "      <th>1900033</th>\n",
       "      <td>MT-1416306769</td>\n",
       "      <td>26002166</td>\n",
       "      <td>999999999</td>\n",
       "      <td>GO-MART</td>\n",
       "      <td>2021-01-08 04:56:42.589000+00:00</td>\n",
       "      <td>0.0</td>\n",
       "    </tr>\n",
       "    <tr>\n",
       "      <th>1907442</th>\n",
       "      <td>MT-1416306769</td>\n",
       "      <td>26002166</td>\n",
       "      <td>999999999</td>\n",
       "      <td>GO-MART</td>\n",
       "      <td>2021-01-08 04:56:42.589000+00:00</td>\n",
       "      <td>0.0</td>\n",
       "    </tr>\n",
       "    <tr>\n",
       "      <th>1914851</th>\n",
       "      <td>MT-1416306769</td>\n",
       "      <td>26002166</td>\n",
       "      <td>999999999</td>\n",
       "      <td>GO-MART</td>\n",
       "      <td>2021-01-08 04:56:42.589000+00:00</td>\n",
       "      <td>0.0</td>\n",
       "    </tr>\n",
       "    <tr>\n",
       "      <th>1922260</th>\n",
       "      <td>MT-1416306769</td>\n",
       "      <td>26002166</td>\n",
       "      <td>999999999</td>\n",
       "      <td>GO-MART</td>\n",
       "      <td>2021-01-08 04:56:42.589000+00:00</td>\n",
       "      <td>0.0</td>\n",
       "    </tr>\n",
       "  </tbody>\n",
       "</table>\n",
       "</div>"
      ],
      "text/plain": [
       "              order_no customer_id  driver_id service_type  \\\n",
       "1251324  MT-1416306769    26002166  999999999      GO-MART   \n",
       "1755918  MT-1416306769    26002166  999999999      GO-MART   \n",
       "1793104  MT-1416306769    26002166  999999999      GO-MART   \n",
       "1830290  MT-1416306769    26002166  999999999      GO-MART   \n",
       "1855579  MT-1416306769    26002166  999999999      GO-MART   \n",
       "1862988  MT-1416306769    26002166  999999999      GO-MART   \n",
       "1870397  MT-1416306769    26002166  999999999      GO-MART   \n",
       "1877806  MT-1416306769    26002166  999999999      GO-MART   \n",
       "1885215  MT-1416306769    26002166  999999999      GO-MART   \n",
       "1892624  MT-1416306769    26002166  999999999      GO-MART   \n",
       "1900033  MT-1416306769    26002166  999999999      GO-MART   \n",
       "1907442  MT-1416306769    26002166  999999999      GO-MART   \n",
       "1914851  MT-1416306769    26002166  999999999      GO-MART   \n",
       "1922260  MT-1416306769    26002166  999999999      GO-MART   \n",
       "\n",
       "                            booking_time  actual_gmv  \n",
       "1251324 2021-01-08 04:56:42.589000+00:00         0.0  \n",
       "1755918 2021-01-08 04:56:42.589000+00:00         0.0  \n",
       "1793104 2021-01-08 04:56:42.589000+00:00         0.0  \n",
       "1830290 2021-01-08 04:56:42.589000+00:00         0.0  \n",
       "1855579 2021-01-08 04:56:42.589000+00:00         0.0  \n",
       "1862988 2021-01-08 04:56:42.589000+00:00         0.0  \n",
       "1870397 2021-01-08 04:56:42.589000+00:00         0.0  \n",
       "1877806 2021-01-08 04:56:42.589000+00:00         0.0  \n",
       "1885215 2021-01-08 04:56:42.589000+00:00         0.0  \n",
       "1892624 2021-01-08 04:56:42.589000+00:00         0.0  \n",
       "1900033 2021-01-08 04:56:42.589000+00:00         0.0  \n",
       "1907442 2021-01-08 04:56:42.589000+00:00         0.0  \n",
       "1914851 2021-01-08 04:56:42.589000+00:00         0.0  \n",
       "1922260 2021-01-08 04:56:42.589000+00:00         0.0  "
      ]
     },
     "execution_count": 526,
     "metadata": {},
     "output_type": "execute_result"
    }
   ],
   "source": [
    "#for instance\n",
    "gojek_df[gojek_df['order_no'] == 'MT-1416306769']"
   ]
  },
  {
   "cell_type": "code",
   "execution_count": 527,
   "id": "8d794b8b",
   "metadata": {
    "scrolled": false
   },
   "outputs": [
    {
     "data": {
      "text/html": [
       "<div>\n",
       "<style scoped>\n",
       "    .dataframe tbody tr th:only-of-type {\n",
       "        vertical-align: middle;\n",
       "    }\n",
       "\n",
       "    .dataframe tbody tr th {\n",
       "        vertical-align: top;\n",
       "    }\n",
       "\n",
       "    .dataframe thead th {\n",
       "        text-align: right;\n",
       "    }\n",
       "</style>\n",
       "<table border=\"1\" class=\"dataframe\">\n",
       "  <thead>\n",
       "    <tr style=\"text-align: right;\">\n",
       "      <th></th>\n",
       "      <th>order_no</th>\n",
       "      <th>customer_id</th>\n",
       "      <th>driver_id</th>\n",
       "      <th>service_type</th>\n",
       "      <th>booking_time</th>\n",
       "      <th>actual_gmv</th>\n",
       "    </tr>\n",
       "  </thead>\n",
       "  <tbody>\n",
       "    <tr>\n",
       "      <th>4391515</th>\n",
       "      <td>SH-952757248</td>\n",
       "      <td>570737302</td>\n",
       "      <td>700766245</td>\n",
       "      <td>GO-SHOP</td>\n",
       "      <td>2021-01-31 03:21:21.232517+00:00</td>\n",
       "      <td>0.0</td>\n",
       "    </tr>\n",
       "    <tr>\n",
       "      <th>4779198</th>\n",
       "      <td>SH-952757248</td>\n",
       "      <td>570737302</td>\n",
       "      <td>700766245</td>\n",
       "      <td>GO-SHOP</td>\n",
       "      <td>2021-01-31 03:21:21.232517+00:00</td>\n",
       "      <td>0.0</td>\n",
       "    </tr>\n",
       "    <tr>\n",
       "      <th>4802082</th>\n",
       "      <td>SH-952757248</td>\n",
       "      <td>570737302</td>\n",
       "      <td>700766245</td>\n",
       "      <td>GO-SHOP</td>\n",
       "      <td>2021-01-31 03:21:21.232517+00:00</td>\n",
       "      <td>0.0</td>\n",
       "    </tr>\n",
       "    <tr>\n",
       "      <th>4824966</th>\n",
       "      <td>SH-952757248</td>\n",
       "      <td>570737302</td>\n",
       "      <td>700766245</td>\n",
       "      <td>GO-SHOP</td>\n",
       "      <td>2021-01-31 03:21:21.232517+00:00</td>\n",
       "      <td>0.0</td>\n",
       "    </tr>\n",
       "  </tbody>\n",
       "</table>\n",
       "</div>"
      ],
      "text/plain": [
       "             order_no customer_id  driver_id service_type  \\\n",
       "4391515  SH-952757248   570737302  700766245      GO-SHOP   \n",
       "4779198  SH-952757248   570737302  700766245      GO-SHOP   \n",
       "4802082  SH-952757248   570737302  700766245      GO-SHOP   \n",
       "4824966  SH-952757248   570737302  700766245      GO-SHOP   \n",
       "\n",
       "                            booking_time  actual_gmv  \n",
       "4391515 2021-01-31 03:21:21.232517+00:00         0.0  \n",
       "4779198 2021-01-31 03:21:21.232517+00:00         0.0  \n",
       "4802082 2021-01-31 03:21:21.232517+00:00         0.0  \n",
       "4824966 2021-01-31 03:21:21.232517+00:00         0.0  "
      ]
     },
     "execution_count": 527,
     "metadata": {},
     "output_type": "execute_result"
    }
   ],
   "source": [
    "gojek_df[gojek_df['order_no'] == 'SH-952757248']"
   ]
  },
  {
   "cell_type": "markdown",
   "id": "65a366c8",
   "metadata": {},
   "source": [
    "Since there is only **6%** rows with **actual_gmv == 0**, we will be dropping these rows. We could have imputed these with some statistical analysis like **Mean** if distribution is **Normal** but for that we would have to first remove duplicate **order_no** so that mean is not overvalued. Since it is only **6%**, we will be opting for dropping"
   ]
  },
  {
   "cell_type": "code",
   "execution_count": 529,
   "id": "fa42a084",
   "metadata": {},
   "outputs": [
    {
     "data": {
      "text/plain": [
       "6.123953810760521"
      ]
     },
     "execution_count": 529,
     "metadata": {},
     "output_type": "execute_result"
    }
   ],
   "source": [
    "len(gojek_df[gojek_df['actual_gmv'] == 0.0])/len(gojek_df)*100"
   ]
  },
  {
   "cell_type": "code",
   "execution_count": 530,
   "id": "2e6c6aee",
   "metadata": {},
   "outputs": [
    {
     "data": {
      "text/plain": [
       "1899502"
      ]
     },
     "execution_count": 530,
     "metadata": {},
     "output_type": "execute_result"
    }
   ],
   "source": [
    "gojek_df.drop(gojek_df[(gojek_df.actual_gmv == 0.0)].index, inplace = True)\n",
    "len(gojek_df[gojek_df.actual_gmv == 0.0])\n",
    "len(gojek_df)"
   ]
  },
  {
   "cell_type": "markdown",
   "id": "afc24520",
   "metadata": {},
   "source": [
    "Let's check **driver_id** column.."
   ]
  },
  {
   "cell_type": "code",
   "execution_count": 532,
   "id": "0d7d43b1",
   "metadata": {},
   "outputs": [
    {
     "data": {
      "text/plain": [
       "0            693803\n",
       "999999999    351626\n",
       "541018995       190\n",
       "541655716       187\n",
       "540540155       165\n",
       "              ...  \n",
       "541643864         1\n",
       "541747120         1\n",
       "540467778         1\n",
       "700600337         1\n",
       "700182268         1\n",
       "Name: driver_id, Length: 167900, dtype: int64"
      ]
     },
     "execution_count": 532,
     "metadata": {},
     "output_type": "execute_result"
    }
   ],
   "source": [
    "gojek_df['driver_id'].value_counts()"
   ]
  },
  {
   "cell_type": "code",
   "execution_count": 533,
   "id": "2d4cd743",
   "metadata": {},
   "outputs": [
    {
     "data": {
      "text/plain": [
       "(1899502, 6)"
      ]
     },
     "execution_count": 533,
     "metadata": {},
     "output_type": "execute_result"
    }
   ],
   "source": [
    "gojek_df.shape"
   ]
  },
  {
   "cell_type": "markdown",
   "id": "e14ea414",
   "metadata": {},
   "source": [
    "We can see there are **693803** driver_id with **0s** out of total **1899502** values **(36% of total)**..Let's explore this a bit more.."
   ]
  },
  {
   "cell_type": "code",
   "execution_count": 534,
   "id": "534f1a8e",
   "metadata": {},
   "outputs": [
    {
     "data": {
      "text/plain": [
       "Series([], Name: order_no, dtype: int64)"
      ]
     },
     "execution_count": 534,
     "metadata": {},
     "output_type": "execute_result"
    }
   ],
   "source": [
    "order_count = gojek_df[gojek_df['driver_id'] == '0.0'].groupby(by = 'order_no')['order_no'].count()\n",
    "order_count"
   ]
  },
  {
   "cell_type": "markdown",
   "id": "b679b0d5",
   "metadata": {},
   "source": [
    "Before we deal with **driver_id == 0.0**, we can see some **order_no** have only ***Numeric datatype rows*** while others have ***Alphanumeric rows***. If we explore these numeric order_no rows, we can see these are only present where **driver_id == 0**"
   ]
  },
  {
   "cell_type": "code",
   "execution_count": 535,
   "id": "91625b68",
   "metadata": {},
   "outputs": [
    {
     "data": {
      "text/html": [
       "<div>\n",
       "<style scoped>\n",
       "    .dataframe tbody tr th:only-of-type {\n",
       "        vertical-align: middle;\n",
       "    }\n",
       "\n",
       "    .dataframe tbody tr th {\n",
       "        vertical-align: top;\n",
       "    }\n",
       "\n",
       "    .dataframe thead th {\n",
       "        text-align: right;\n",
       "    }\n",
       "</style>\n",
       "<table border=\"1\" class=\"dataframe\">\n",
       "  <thead>\n",
       "    <tr style=\"text-align: right;\">\n",
       "      <th></th>\n",
       "      <th>order_no</th>\n",
       "      <th>customer_id</th>\n",
       "      <th>driver_id</th>\n",
       "      <th>service_type</th>\n",
       "      <th>booking_time</th>\n",
       "      <th>actual_gmv</th>\n",
       "    </tr>\n",
       "  </thead>\n",
       "  <tbody>\n",
       "    <tr>\n",
       "      <th>32</th>\n",
       "      <td>14660200</td>\n",
       "      <td>697507413</td>\n",
       "      <td>0</td>\n",
       "      <td>GO-TIX</td>\n",
       "      <td>2021-01-01 00:02:22+00:00</td>\n",
       "      <td>90000.0</td>\n",
       "    </tr>\n",
       "    <tr>\n",
       "      <th>33</th>\n",
       "      <td>14660201</td>\n",
       "      <td>626139468</td>\n",
       "      <td>0</td>\n",
       "      <td>GO-TIX</td>\n",
       "      <td>2021-01-01 00:08:08+00:00</td>\n",
       "      <td>106000.0</td>\n",
       "    </tr>\n",
       "    <tr>\n",
       "      <th>34</th>\n",
       "      <td>14660202</td>\n",
       "      <td>608534918</td>\n",
       "      <td>0</td>\n",
       "      <td>GO-TIX</td>\n",
       "      <td>2021-01-01 00:08:18+00:00</td>\n",
       "      <td>125000.0</td>\n",
       "    </tr>\n",
       "    <tr>\n",
       "      <th>35</th>\n",
       "      <td>14660203</td>\n",
       "      <td>557745837</td>\n",
       "      <td>0</td>\n",
       "      <td>GO-TIX</td>\n",
       "      <td>2021-01-01 00:09:47+00:00</td>\n",
       "      <td>76000.0</td>\n",
       "    </tr>\n",
       "    <tr>\n",
       "      <th>36</th>\n",
       "      <td>14660204</td>\n",
       "      <td>553797113</td>\n",
       "      <td>0</td>\n",
       "      <td>GO-TIX</td>\n",
       "      <td>2021-01-01 00:09:59+00:00</td>\n",
       "      <td>86000.0</td>\n",
       "    </tr>\n",
       "    <tr>\n",
       "      <th>...</th>\n",
       "      <td>...</td>\n",
       "      <td>...</td>\n",
       "      <td>...</td>\n",
       "      <td>...</td>\n",
       "      <td>...</td>\n",
       "      <td>...</td>\n",
       "    </tr>\n",
       "    <tr>\n",
       "      <th>4889351</th>\n",
       "      <td>14687468</td>\n",
       "      <td>595594123</td>\n",
       "      <td>0</td>\n",
       "      <td>GO-TIX</td>\n",
       "      <td>2021-01-30 08:37:32+00:00</td>\n",
       "      <td>11000.0</td>\n",
       "    </tr>\n",
       "    <tr>\n",
       "      <th>4889810</th>\n",
       "      <td>14685438</td>\n",
       "      <td>544456384</td>\n",
       "      <td>0</td>\n",
       "      <td>GO-TIX</td>\n",
       "      <td>2021-01-29 19:24:04+00:00</td>\n",
       "      <td>212000.0</td>\n",
       "    </tr>\n",
       "    <tr>\n",
       "      <th>4890065</th>\n",
       "      <td>14685429</td>\n",
       "      <td>637980441</td>\n",
       "      <td>0</td>\n",
       "      <td>GO-TIX</td>\n",
       "      <td>2021-01-29 18:31:37+00:00</td>\n",
       "      <td>30000.0</td>\n",
       "    </tr>\n",
       "    <tr>\n",
       "      <th>4890362</th>\n",
       "      <td>14685955</td>\n",
       "      <td>546441419</td>\n",
       "      <td>0</td>\n",
       "      <td>GO-TIX</td>\n",
       "      <td>2021-01-30 03:05:25+00:00</td>\n",
       "      <td>95000.0</td>\n",
       "    </tr>\n",
       "    <tr>\n",
       "      <th>4890657</th>\n",
       "      <td>14687374</td>\n",
       "      <td>554286664</td>\n",
       "      <td>0</td>\n",
       "      <td>GO-TIX</td>\n",
       "      <td>2021-01-30 08:15:00+00:00</td>\n",
       "      <td>115000.0</td>\n",
       "    </tr>\n",
       "  </tbody>\n",
       "</table>\n",
       "<p>23984 rows × 6 columns</p>\n",
       "</div>"
      ],
      "text/plain": [
       "         order_no customer_id driver_id service_type  \\\n",
       "32       14660200   697507413         0       GO-TIX   \n",
       "33       14660201   626139468         0       GO-TIX   \n",
       "34       14660202   608534918         0       GO-TIX   \n",
       "35       14660203   557745837         0       GO-TIX   \n",
       "36       14660204   553797113         0       GO-TIX   \n",
       "...           ...         ...       ...          ...   \n",
       "4889351  14687468   595594123         0       GO-TIX   \n",
       "4889810  14685438   544456384         0       GO-TIX   \n",
       "4890065  14685429   637980441         0       GO-TIX   \n",
       "4890362  14685955   546441419         0       GO-TIX   \n",
       "4890657  14687374   554286664         0       GO-TIX   \n",
       "\n",
       "                     booking_time  actual_gmv  \n",
       "32      2021-01-01 00:02:22+00:00     90000.0  \n",
       "33      2021-01-01 00:08:08+00:00    106000.0  \n",
       "34      2021-01-01 00:08:18+00:00    125000.0  \n",
       "35      2021-01-01 00:09:47+00:00     76000.0  \n",
       "36      2021-01-01 00:09:59+00:00     86000.0  \n",
       "...                           ...         ...  \n",
       "4889351 2021-01-30 08:37:32+00:00     11000.0  \n",
       "4889810 2021-01-29 19:24:04+00:00    212000.0  \n",
       "4890065 2021-01-29 18:31:37+00:00     30000.0  \n",
       "4890362 2021-01-30 03:05:25+00:00     95000.0  \n",
       "4890657 2021-01-30 08:15:00+00:00    115000.0  \n",
       "\n",
       "[23984 rows x 6 columns]"
      ]
     },
     "execution_count": 535,
     "metadata": {},
     "output_type": "execute_result"
    }
   ],
   "source": [
    "gojek_df[gojek_df['order_no'].astype(str).str.isdigit()]"
   ]
  },
  {
   "cell_type": "code",
   "execution_count": 536,
   "id": "7b4c302b",
   "metadata": {},
   "outputs": [
    {
     "data": {
      "text/plain": [
       "1.262646735828654"
      ]
     },
     "execution_count": 536,
     "metadata": {},
     "output_type": "execute_result"
    }
   ],
   "source": [
    "len(gojek_df[gojek_df['order_no'].astype(str).str.isdigit()])/len(gojek_df)*100"
   ]
  },
  {
   "cell_type": "code",
   "execution_count": 537,
   "id": "b29bf7be",
   "metadata": {},
   "outputs": [
    {
     "data": {
      "text/plain": [
       "array(['0'], dtype=object)"
      ]
     },
     "execution_count": 537,
     "metadata": {},
     "output_type": "execute_result"
    }
   ],
   "source": [
    "gojek_df[gojek_df['order_no'].astype(str).str.isdigit()]['driver_id'].unique()"
   ]
  },
  {
   "cell_type": "markdown",
   "id": "a023fc7c",
   "metadata": {},
   "source": [
    "There are around  **1% of order_no (about 23984 values)** that are numeric and they all are mapped to **driver_id == 0** so these order_no ids will be dealt with (deleted or imputed) while we deal with driver_id. "
   ]
  },
  {
   "cell_type": "code",
   "execution_count": 538,
   "id": "8b183042",
   "metadata": {},
   "outputs": [
    {
     "data": {
      "text/html": [
       "<div>\n",
       "<style scoped>\n",
       "    .dataframe tbody tr th:only-of-type {\n",
       "        vertical-align: middle;\n",
       "    }\n",
       "\n",
       "    .dataframe tbody tr th {\n",
       "        vertical-align: top;\n",
       "    }\n",
       "\n",
       "    .dataframe thead th {\n",
       "        text-align: right;\n",
       "    }\n",
       "</style>\n",
       "<table border=\"1\" class=\"dataframe\">\n",
       "  <thead>\n",
       "    <tr style=\"text-align: right;\">\n",
       "      <th></th>\n",
       "      <th>order_no</th>\n",
       "      <th>customer_id</th>\n",
       "      <th>driver_id</th>\n",
       "      <th>service_type</th>\n",
       "      <th>booking_time</th>\n",
       "      <th>actual_gmv</th>\n",
       "    </tr>\n",
       "  </thead>\n",
       "  <tbody>\n",
       "    <tr>\n",
       "      <th>3471597</th>\n",
       "      <td>118799553-650350-GOBILLS</td>\n",
       "      <td>593963743</td>\n",
       "      <td>0</td>\n",
       "      <td>GO-BILLS</td>\n",
       "      <td>2021-01-23 01:10:59.590000+00:00</td>\n",
       "      <td>21500.0</td>\n",
       "    </tr>\n",
       "  </tbody>\n",
       "</table>\n",
       "</div>"
      ],
      "text/plain": [
       "                         order_no customer_id driver_id service_type  \\\n",
       "3471597  118799553-650350-GOBILLS   593963743         0     GO-BILLS   \n",
       "\n",
       "                            booking_time  actual_gmv  \n",
       "3471597 2021-01-23 01:10:59.590000+00:00     21500.0  "
      ]
     },
     "execution_count": 538,
     "metadata": {},
     "output_type": "execute_result"
    }
   ],
   "source": [
    "#for instance \n",
    "gojek_df[gojek_df['order_no'] == '118799553-650350-GOBILLS']"
   ]
  },
  {
   "cell_type": "code",
   "execution_count": 539,
   "id": "38f6c5da",
   "metadata": {},
   "outputs": [
    {
     "data": {
      "text/html": [
       "<div>\n",
       "<style scoped>\n",
       "    .dataframe tbody tr th:only-of-type {\n",
       "        vertical-align: middle;\n",
       "    }\n",
       "\n",
       "    .dataframe tbody tr th {\n",
       "        vertical-align: top;\n",
       "    }\n",
       "\n",
       "    .dataframe thead th {\n",
       "        text-align: right;\n",
       "    }\n",
       "</style>\n",
       "<table border=\"1\" class=\"dataframe\">\n",
       "  <thead>\n",
       "    <tr style=\"text-align: right;\">\n",
       "      <th></th>\n",
       "      <th>order_no</th>\n",
       "      <th>customer_id</th>\n",
       "      <th>driver_id</th>\n",
       "      <th>service_type</th>\n",
       "      <th>booking_time</th>\n",
       "      <th>actual_gmv</th>\n",
       "    </tr>\n",
       "  </thead>\n",
       "  <tbody>\n",
       "    <tr>\n",
       "      <th>1726692</th>\n",
       "      <td>116760576-939836-GOBILLS</td>\n",
       "      <td>597331624</td>\n",
       "      <td>0</td>\n",
       "      <td>GO-BILLS</td>\n",
       "      <td>2021-01-08 05:16:23.572000+00:00</td>\n",
       "      <td>242832.0</td>\n",
       "    </tr>\n",
       "    <tr>\n",
       "      <th>1766014</th>\n",
       "      <td>116760576-939836-GOBILLS</td>\n",
       "      <td>597331624</td>\n",
       "      <td>0</td>\n",
       "      <td>GO-BILLS</td>\n",
       "      <td>2021-01-08 05:16:23.572000+00:00</td>\n",
       "      <td>242832.0</td>\n",
       "    </tr>\n",
       "    <tr>\n",
       "      <th>1803200</th>\n",
       "      <td>116760576-939836-GOBILLS</td>\n",
       "      <td>597331624</td>\n",
       "      <td>0</td>\n",
       "      <td>GO-BILLS</td>\n",
       "      <td>2021-01-08 05:16:23.572000+00:00</td>\n",
       "      <td>242832.0</td>\n",
       "    </tr>\n",
       "    <tr>\n",
       "      <th>1840386</th>\n",
       "      <td>116760576-939836-GOBILLS</td>\n",
       "      <td>597331624</td>\n",
       "      <td>0</td>\n",
       "      <td>GO-BILLS</td>\n",
       "      <td>2021-01-08 05:16:23.572000+00:00</td>\n",
       "      <td>242832.0</td>\n",
       "    </tr>\n",
       "    <tr>\n",
       "      <th>1855450</th>\n",
       "      <td>116760576-939836-GOBILLS</td>\n",
       "      <td>597331624</td>\n",
       "      <td>0</td>\n",
       "      <td>GO-BILLS</td>\n",
       "      <td>2021-01-08 05:16:23.572000+00:00</td>\n",
       "      <td>242832.0</td>\n",
       "    </tr>\n",
       "    <tr>\n",
       "      <th>1862859</th>\n",
       "      <td>116760576-939836-GOBILLS</td>\n",
       "      <td>597331624</td>\n",
       "      <td>0</td>\n",
       "      <td>GO-BILLS</td>\n",
       "      <td>2021-01-08 05:16:23.572000+00:00</td>\n",
       "      <td>242832.0</td>\n",
       "    </tr>\n",
       "    <tr>\n",
       "      <th>1870268</th>\n",
       "      <td>116760576-939836-GOBILLS</td>\n",
       "      <td>597331624</td>\n",
       "      <td>0</td>\n",
       "      <td>GO-BILLS</td>\n",
       "      <td>2021-01-08 05:16:23.572000+00:00</td>\n",
       "      <td>242832.0</td>\n",
       "    </tr>\n",
       "    <tr>\n",
       "      <th>1877677</th>\n",
       "      <td>116760576-939836-GOBILLS</td>\n",
       "      <td>597331624</td>\n",
       "      <td>0</td>\n",
       "      <td>GO-BILLS</td>\n",
       "      <td>2021-01-08 05:16:23.572000+00:00</td>\n",
       "      <td>242832.0</td>\n",
       "    </tr>\n",
       "    <tr>\n",
       "      <th>1885086</th>\n",
       "      <td>116760576-939836-GOBILLS</td>\n",
       "      <td>597331624</td>\n",
       "      <td>0</td>\n",
       "      <td>GO-BILLS</td>\n",
       "      <td>2021-01-08 05:16:23.572000+00:00</td>\n",
       "      <td>242832.0</td>\n",
       "    </tr>\n",
       "    <tr>\n",
       "      <th>1892495</th>\n",
       "      <td>116760576-939836-GOBILLS</td>\n",
       "      <td>597331624</td>\n",
       "      <td>0</td>\n",
       "      <td>GO-BILLS</td>\n",
       "      <td>2021-01-08 05:16:23.572000+00:00</td>\n",
       "      <td>242832.0</td>\n",
       "    </tr>\n",
       "    <tr>\n",
       "      <th>1899904</th>\n",
       "      <td>116760576-939836-GOBILLS</td>\n",
       "      <td>597331624</td>\n",
       "      <td>0</td>\n",
       "      <td>GO-BILLS</td>\n",
       "      <td>2021-01-08 05:16:23.572000+00:00</td>\n",
       "      <td>242832.0</td>\n",
       "    </tr>\n",
       "    <tr>\n",
       "      <th>1907313</th>\n",
       "      <td>116760576-939836-GOBILLS</td>\n",
       "      <td>597331624</td>\n",
       "      <td>0</td>\n",
       "      <td>GO-BILLS</td>\n",
       "      <td>2021-01-08 05:16:23.572000+00:00</td>\n",
       "      <td>242832.0</td>\n",
       "    </tr>\n",
       "    <tr>\n",
       "      <th>1914722</th>\n",
       "      <td>116760576-939836-GOBILLS</td>\n",
       "      <td>597331624</td>\n",
       "      <td>0</td>\n",
       "      <td>GO-BILLS</td>\n",
       "      <td>2021-01-08 05:16:23.572000+00:00</td>\n",
       "      <td>242832.0</td>\n",
       "    </tr>\n",
       "    <tr>\n",
       "      <th>1922131</th>\n",
       "      <td>116760576-939836-GOBILLS</td>\n",
       "      <td>597331624</td>\n",
       "      <td>0</td>\n",
       "      <td>GO-BILLS</td>\n",
       "      <td>2021-01-08 05:16:23.572000+00:00</td>\n",
       "      <td>242832.0</td>\n",
       "    </tr>\n",
       "  </tbody>\n",
       "</table>\n",
       "</div>"
      ],
      "text/plain": [
       "                         order_no customer_id driver_id service_type  \\\n",
       "1726692  116760576-939836-GOBILLS   597331624         0     GO-BILLS   \n",
       "1766014  116760576-939836-GOBILLS   597331624         0     GO-BILLS   \n",
       "1803200  116760576-939836-GOBILLS   597331624         0     GO-BILLS   \n",
       "1840386  116760576-939836-GOBILLS   597331624         0     GO-BILLS   \n",
       "1855450  116760576-939836-GOBILLS   597331624         0     GO-BILLS   \n",
       "1862859  116760576-939836-GOBILLS   597331624         0     GO-BILLS   \n",
       "1870268  116760576-939836-GOBILLS   597331624         0     GO-BILLS   \n",
       "1877677  116760576-939836-GOBILLS   597331624         0     GO-BILLS   \n",
       "1885086  116760576-939836-GOBILLS   597331624         0     GO-BILLS   \n",
       "1892495  116760576-939836-GOBILLS   597331624         0     GO-BILLS   \n",
       "1899904  116760576-939836-GOBILLS   597331624         0     GO-BILLS   \n",
       "1907313  116760576-939836-GOBILLS   597331624         0     GO-BILLS   \n",
       "1914722  116760576-939836-GOBILLS   597331624         0     GO-BILLS   \n",
       "1922131  116760576-939836-GOBILLS   597331624         0     GO-BILLS   \n",
       "\n",
       "                            booking_time  actual_gmv  \n",
       "1726692 2021-01-08 05:16:23.572000+00:00    242832.0  \n",
       "1766014 2021-01-08 05:16:23.572000+00:00    242832.0  \n",
       "1803200 2021-01-08 05:16:23.572000+00:00    242832.0  \n",
       "1840386 2021-01-08 05:16:23.572000+00:00    242832.0  \n",
       "1855450 2021-01-08 05:16:23.572000+00:00    242832.0  \n",
       "1862859 2021-01-08 05:16:23.572000+00:00    242832.0  \n",
       "1870268 2021-01-08 05:16:23.572000+00:00    242832.0  \n",
       "1877677 2021-01-08 05:16:23.572000+00:00    242832.0  \n",
       "1885086 2021-01-08 05:16:23.572000+00:00    242832.0  \n",
       "1892495 2021-01-08 05:16:23.572000+00:00    242832.0  \n",
       "1899904 2021-01-08 05:16:23.572000+00:00    242832.0  \n",
       "1907313 2021-01-08 05:16:23.572000+00:00    242832.0  \n",
       "1914722 2021-01-08 05:16:23.572000+00:00    242832.0  \n",
       "1922131 2021-01-08 05:16:23.572000+00:00    242832.0  "
      ]
     },
     "execution_count": 539,
     "metadata": {},
     "output_type": "execute_result"
    }
   ],
   "source": [
    "#checking alphanumeric order_no\n",
    "gojek_df[gojek_df['order_no'] == '116760576-939836-GOBILLS'] "
   ]
  },
  {
   "cell_type": "markdown",
   "id": "fca4a8c1",
   "metadata": {},
   "source": [
    "Since we have about **36%** of **driver_id** with **0** values **(693803 values)** we would be droppin them. We could have also opted to impute these most occuring **driver_id which is **999999999** but since we have already imputed missing values with this dummy variable, we can drop these driver_ids or else it would lead to bias toward dummy driver_id **999999999**"
   ]
  },
  {
   "cell_type": "markdown",
   "id": "645d1684",
   "metadata": {},
   "source": [
    "Note : We will be treating **duplicate orders** after missing values since we don't want to lose any insights on overall orders "
   ]
  },
  {
   "cell_type": "code",
   "execution_count": 540,
   "id": "f22cd5ff",
   "metadata": {},
   "outputs": [
    {
     "data": {
      "text/plain": [
       "0"
      ]
     },
     "execution_count": 540,
     "metadata": {},
     "output_type": "execute_result"
    }
   ],
   "source": [
    "gojek_df.drop(gojek_df[gojek_df['driver_id'] == '0'].index, inplace = True)\n",
    "len(gojek_df[gojek_df['driver_id'] == '0'])"
   ]
  },
  {
   "cell_type": "code",
   "execution_count": 541,
   "id": "86d9ffa2",
   "metadata": {},
   "outputs": [
    {
     "data": {
      "text/plain": [
       "0"
      ]
     },
     "execution_count": 541,
     "metadata": {},
     "output_type": "execute_result"
    }
   ],
   "source": [
    "len(gojek_df[gojek_df['order_no'].str.isdigit()])"
   ]
  },
  {
   "cell_type": "markdown",
   "id": "27c034aa",
   "metadata": {},
   "source": [
    "By now, we have also dealt with **order_no** which were only **Numeric** and invalid. We only have alphanumeric values in **order_no** column now.."
   ]
  },
  {
   "cell_type": "code",
   "execution_count": 542,
   "id": "67f90bdd",
   "metadata": {},
   "outputs": [
    {
     "data": {
      "text/plain": [
       "order_no                     object\n",
       "customer_id                  object\n",
       "driver_id                    object\n",
       "service_type                 object\n",
       "booking_time    datetime64[ns, UTC]\n",
       "actual_gmv                  float64\n",
       "dtype: object"
      ]
     },
     "execution_count": 542,
     "metadata": {},
     "output_type": "execute_result"
    }
   ],
   "source": [
    "gojek_df.dtypes"
   ]
  },
  {
   "cell_type": "markdown",
   "id": "d5e6abf8",
   "metadata": {},
   "source": [
    "### Dealing with Duplicates.."
   ]
  },
  {
   "cell_type": "code",
   "execution_count": 543,
   "id": "4b43645b",
   "metadata": {},
   "outputs": [
    {
     "data": {
      "text/html": [
       "<div>\n",
       "<style scoped>\n",
       "    .dataframe tbody tr th:only-of-type {\n",
       "        vertical-align: middle;\n",
       "    }\n",
       "\n",
       "    .dataframe tbody tr th {\n",
       "        vertical-align: top;\n",
       "    }\n",
       "\n",
       "    .dataframe thead th {\n",
       "        text-align: right;\n",
       "    }\n",
       "</style>\n",
       "<table border=\"1\" class=\"dataframe\">\n",
       "  <thead>\n",
       "    <tr style=\"text-align: right;\">\n",
       "      <th></th>\n",
       "      <th>order_no</th>\n",
       "      <th>customer_id</th>\n",
       "      <th>driver_id</th>\n",
       "      <th>service_type</th>\n",
       "      <th>booking_time</th>\n",
       "      <th>actual_gmv</th>\n",
       "    </tr>\n",
       "  </thead>\n",
       "  <tbody>\n",
       "    <tr>\n",
       "      <th>12379</th>\n",
       "      <td>MT-8170880142</td>\n",
       "      <td>550269611</td>\n",
       "      <td>700155132</td>\n",
       "      <td>GO-MART</td>\n",
       "      <td>2021-01-04 00:02:19.712000+00:00</td>\n",
       "      <td>81000.0</td>\n",
       "    </tr>\n",
       "    <tr>\n",
       "      <th>12380</th>\n",
       "      <td>MT-6936803087</td>\n",
       "      <td>612297808</td>\n",
       "      <td>700416843</td>\n",
       "      <td>GO-MART</td>\n",
       "      <td>2021-01-04 00:07:00.655000+00:00</td>\n",
       "      <td>197600.0</td>\n",
       "    </tr>\n",
       "  </tbody>\n",
       "</table>\n",
       "</div>"
      ],
      "text/plain": [
       "            order_no customer_id  driver_id service_type  \\\n",
       "12379  MT-8170880142   550269611  700155132      GO-MART   \n",
       "12380  MT-6936803087   612297808  700416843      GO-MART   \n",
       "\n",
       "                          booking_time  actual_gmv  \n",
       "12379 2021-01-04 00:02:19.712000+00:00     81000.0  \n",
       "12380 2021-01-04 00:07:00.655000+00:00    197600.0  "
      ]
     },
     "execution_count": 543,
     "metadata": {},
     "output_type": "execute_result"
    }
   ],
   "source": [
    "gojek_df.head(2)\n"
   ]
  },
  {
   "cell_type": "code",
   "execution_count": 544,
   "id": "6dd56c5f",
   "metadata": {},
   "outputs": [
    {
     "data": {
      "text/plain": [
       "240686"
      ]
     },
     "execution_count": 544,
     "metadata": {},
     "output_type": "execute_result"
    }
   ],
   "source": [
    "gojek_df.duplicated().sum()"
   ]
  },
  {
   "cell_type": "markdown",
   "id": "59e66140",
   "metadata": {},
   "source": [
    "We can see we have about **240686 duplicates across df** but this is not a valid conclusion. There are certain columns like **service_type** where duplicates would be present for each market_type but some columns like **order_no** where duplicates should not be present. Let's explore this in detail. "
   ]
  },
  {
   "cell_type": "markdown",
   "id": "cfdaebcd",
   "metadata": {},
   "source": [
    "Let's check for **order_no**.."
   ]
  },
  {
   "cell_type": "code",
   "execution_count": 545,
   "id": "3a6d3465",
   "metadata": {
    "scrolled": true
   },
   "outputs": [
    {
     "data": {
      "text/html": [
       "<div>\n",
       "<style scoped>\n",
       "    .dataframe tbody tr th:only-of-type {\n",
       "        vertical-align: middle;\n",
       "    }\n",
       "\n",
       "    .dataframe tbody tr th {\n",
       "        vertical-align: top;\n",
       "    }\n",
       "\n",
       "    .dataframe thead th {\n",
       "        text-align: right;\n",
       "    }\n",
       "</style>\n",
       "<table border=\"1\" class=\"dataframe\">\n",
       "  <thead>\n",
       "    <tr style=\"text-align: right;\">\n",
       "      <th></th>\n",
       "      <th>order_no</th>\n",
       "      <th>customer_id</th>\n",
       "      <th>driver_id</th>\n",
       "      <th>service_type</th>\n",
       "      <th>booking_time</th>\n",
       "      <th>actual_gmv</th>\n",
       "    </tr>\n",
       "  </thead>\n",
       "  <tbody>\n",
       "    <tr>\n",
       "      <th>811967</th>\n",
       "      <td>F-1083257466</td>\n",
       "      <td>556982834</td>\n",
       "      <td>999999999</td>\n",
       "      <td>GO-FOOD</td>\n",
       "      <td>2020-12-31 17:00:05.429104+00:00</td>\n",
       "      <td>135000.0</td>\n",
       "    </tr>\n",
       "    <tr>\n",
       "      <th>851625</th>\n",
       "      <td>F-1083257466</td>\n",
       "      <td>556982834</td>\n",
       "      <td>999999999</td>\n",
       "      <td>GO-FOOD</td>\n",
       "      <td>2020-12-31 17:00:05.429104+00:00</td>\n",
       "      <td>135000.0</td>\n",
       "    </tr>\n",
       "    <tr>\n",
       "      <th>891283</th>\n",
       "      <td>F-1083257466</td>\n",
       "      <td>556982834</td>\n",
       "      <td>999999999</td>\n",
       "      <td>GO-FOOD</td>\n",
       "      <td>2020-12-31 17:00:05.429104+00:00</td>\n",
       "      <td>135000.0</td>\n",
       "    </tr>\n",
       "    <tr>\n",
       "      <th>969511</th>\n",
       "      <td>F-1083257490</td>\n",
       "      <td>546610727</td>\n",
       "      <td>540208280</td>\n",
       "      <td>GO-FOOD</td>\n",
       "      <td>2020-12-31 17:00:17.542392+00:00</td>\n",
       "      <td>49000.0</td>\n",
       "    </tr>\n",
       "    <tr>\n",
       "      <th>985563</th>\n",
       "      <td>F-1083257490</td>\n",
       "      <td>546610727</td>\n",
       "      <td>540208280</td>\n",
       "      <td>GO-FOOD</td>\n",
       "      <td>2020-12-31 17:00:17.542392+00:00</td>\n",
       "      <td>49000.0</td>\n",
       "    </tr>\n",
       "    <tr>\n",
       "      <th>...</th>\n",
       "      <td>...</td>\n",
       "      <td>...</td>\n",
       "      <td>...</td>\n",
       "      <td>...</td>\n",
       "      <td>...</td>\n",
       "      <td>...</td>\n",
       "    </tr>\n",
       "    <tr>\n",
       "      <th>4777939</th>\n",
       "      <td>SH-952757684</td>\n",
       "      <td>676234255</td>\n",
       "      <td>700628705</td>\n",
       "      <td>GO-SHOP</td>\n",
       "      <td>2021-01-31 03:29:10.577806+00:00</td>\n",
       "      <td>223000.0</td>\n",
       "    </tr>\n",
       "    <tr>\n",
       "      <th>4800823</th>\n",
       "      <td>SH-952757684</td>\n",
       "      <td>676234255</td>\n",
       "      <td>700628705</td>\n",
       "      <td>GO-SHOP</td>\n",
       "      <td>2021-01-31 03:29:10.577806+00:00</td>\n",
       "      <td>223000.0</td>\n",
       "    </tr>\n",
       "    <tr>\n",
       "      <th>4799209</th>\n",
       "      <td>SH-952757770</td>\n",
       "      <td>671542936</td>\n",
       "      <td>700736471</td>\n",
       "      <td>GO-SHOP</td>\n",
       "      <td>2021-01-31 03:30:43.936504+00:00</td>\n",
       "      <td>93000.0</td>\n",
       "    </tr>\n",
       "    <tr>\n",
       "      <th>4844977</th>\n",
       "      <td>SH-952757770</td>\n",
       "      <td>671542936</td>\n",
       "      <td>700736471</td>\n",
       "      <td>GO-SHOP</td>\n",
       "      <td>2021-01-31 03:30:43.936504+00:00</td>\n",
       "      <td>93000.0</td>\n",
       "    </tr>\n",
       "    <tr>\n",
       "      <th>4822093</th>\n",
       "      <td>SH-952757770</td>\n",
       "      <td>671542936</td>\n",
       "      <td>700736471</td>\n",
       "      <td>GO-SHOP</td>\n",
       "      <td>2021-01-31 03:30:43.936504+00:00</td>\n",
       "      <td>93000.0</td>\n",
       "    </tr>\n",
       "  </tbody>\n",
       "</table>\n",
       "<p>240686 rows × 6 columns</p>\n",
       "</div>"
      ],
      "text/plain": [
       "             order_no customer_id  driver_id service_type  \\\n",
       "811967   F-1083257466   556982834  999999999      GO-FOOD   \n",
       "851625   F-1083257466   556982834  999999999      GO-FOOD   \n",
       "891283   F-1083257466   556982834  999999999      GO-FOOD   \n",
       "969511   F-1083257490   546610727  540208280      GO-FOOD   \n",
       "985563   F-1083257490   546610727  540208280      GO-FOOD   \n",
       "...               ...         ...        ...          ...   \n",
       "4777939  SH-952757684   676234255  700628705      GO-SHOP   \n",
       "4800823  SH-952757684   676234255  700628705      GO-SHOP   \n",
       "4799209  SH-952757770   671542936  700736471      GO-SHOP   \n",
       "4844977  SH-952757770   671542936  700736471      GO-SHOP   \n",
       "4822093  SH-952757770   671542936  700736471      GO-SHOP   \n",
       "\n",
       "                            booking_time  actual_gmv  \n",
       "811967  2020-12-31 17:00:05.429104+00:00    135000.0  \n",
       "851625  2020-12-31 17:00:05.429104+00:00    135000.0  \n",
       "891283  2020-12-31 17:00:05.429104+00:00    135000.0  \n",
       "969511  2020-12-31 17:00:17.542392+00:00     49000.0  \n",
       "985563  2020-12-31 17:00:17.542392+00:00     49000.0  \n",
       "...                                  ...         ...  \n",
       "4777939 2021-01-31 03:29:10.577806+00:00    223000.0  \n",
       "4800823 2021-01-31 03:29:10.577806+00:00    223000.0  \n",
       "4799209 2021-01-31 03:30:43.936504+00:00     93000.0  \n",
       "4844977 2021-01-31 03:30:43.936504+00:00     93000.0  \n",
       "4822093 2021-01-31 03:30:43.936504+00:00     93000.0  \n",
       "\n",
       "[240686 rows x 6 columns]"
      ]
     },
     "execution_count": 545,
     "metadata": {},
     "output_type": "execute_result"
    }
   ],
   "source": [
    "gojek_df[gojek_df['order_no'].duplicated()].sort_values(by = 'order_no')"
   ]
  },
  {
   "cell_type": "code",
   "execution_count": 546,
   "id": "d57ec1e2",
   "metadata": {},
   "outputs": [
    {
     "data": {
      "text/html": [
       "<div>\n",
       "<style scoped>\n",
       "    .dataframe tbody tr th:only-of-type {\n",
       "        vertical-align: middle;\n",
       "    }\n",
       "\n",
       "    .dataframe tbody tr th {\n",
       "        vertical-align: top;\n",
       "    }\n",
       "\n",
       "    .dataframe thead th {\n",
       "        text-align: right;\n",
       "    }\n",
       "</style>\n",
       "<table border=\"1\" class=\"dataframe\">\n",
       "  <thead>\n",
       "    <tr style=\"text-align: right;\">\n",
       "      <th></th>\n",
       "      <th>order_no</th>\n",
       "      <th>customer_id</th>\n",
       "      <th>driver_id</th>\n",
       "      <th>service_type</th>\n",
       "      <th>booking_time</th>\n",
       "      <th>actual_gmv</th>\n",
       "    </tr>\n",
       "  </thead>\n",
       "  <tbody>\n",
       "    <tr>\n",
       "      <th>703643</th>\n",
       "      <td>F-1083257466</td>\n",
       "      <td>556982834</td>\n",
       "      <td>999999999</td>\n",
       "      <td>GO-FOOD</td>\n",
       "      <td>2020-12-31 17:00:05.429104+00:00</td>\n",
       "      <td>135000.0</td>\n",
       "    </tr>\n",
       "    <tr>\n",
       "      <th>811967</th>\n",
       "      <td>F-1083257466</td>\n",
       "      <td>556982834</td>\n",
       "      <td>999999999</td>\n",
       "      <td>GO-FOOD</td>\n",
       "      <td>2020-12-31 17:00:05.429104+00:00</td>\n",
       "      <td>135000.0</td>\n",
       "    </tr>\n",
       "    <tr>\n",
       "      <th>851625</th>\n",
       "      <td>F-1083257466</td>\n",
       "      <td>556982834</td>\n",
       "      <td>999999999</td>\n",
       "      <td>GO-FOOD</td>\n",
       "      <td>2020-12-31 17:00:05.429104+00:00</td>\n",
       "      <td>135000.0</td>\n",
       "    </tr>\n",
       "    <tr>\n",
       "      <th>891283</th>\n",
       "      <td>F-1083257466</td>\n",
       "      <td>556982834</td>\n",
       "      <td>999999999</td>\n",
       "      <td>GO-FOOD</td>\n",
       "      <td>2020-12-31 17:00:05.429104+00:00</td>\n",
       "      <td>135000.0</td>\n",
       "    </tr>\n",
       "  </tbody>\n",
       "</table>\n",
       "</div>"
      ],
      "text/plain": [
       "            order_no customer_id  driver_id service_type  \\\n",
       "703643  F-1083257466   556982834  999999999      GO-FOOD   \n",
       "811967  F-1083257466   556982834  999999999      GO-FOOD   \n",
       "851625  F-1083257466   556982834  999999999      GO-FOOD   \n",
       "891283  F-1083257466   556982834  999999999      GO-FOOD   \n",
       "\n",
       "                           booking_time  actual_gmv  \n",
       "703643 2020-12-31 17:00:05.429104+00:00    135000.0  \n",
       "811967 2020-12-31 17:00:05.429104+00:00    135000.0  \n",
       "851625 2020-12-31 17:00:05.429104+00:00    135000.0  \n",
       "891283 2020-12-31 17:00:05.429104+00:00    135000.0  "
      ]
     },
     "execution_count": 546,
     "metadata": {},
     "output_type": "execute_result"
    }
   ],
   "source": [
    "#picking up one example\n",
    "gojek_df[gojek_df['order_no'] == 'F-1083257466']"
   ]
  },
  {
   "cell_type": "code",
   "execution_count": 547,
   "id": "8ba15072",
   "metadata": {},
   "outputs": [
    {
     "data": {
      "text/html": [
       "<div>\n",
       "<style scoped>\n",
       "    .dataframe tbody tr th:only-of-type {\n",
       "        vertical-align: middle;\n",
       "    }\n",
       "\n",
       "    .dataframe tbody tr th {\n",
       "        vertical-align: top;\n",
       "    }\n",
       "\n",
       "    .dataframe thead th {\n",
       "        text-align: right;\n",
       "    }\n",
       "</style>\n",
       "<table border=\"1\" class=\"dataframe\">\n",
       "  <thead>\n",
       "    <tr style=\"text-align: right;\">\n",
       "      <th></th>\n",
       "      <th>order_no</th>\n",
       "      <th>customer_id</th>\n",
       "      <th>driver_id</th>\n",
       "      <th>service_type</th>\n",
       "      <th>booking_time</th>\n",
       "      <th>actual_gmv</th>\n",
       "    </tr>\n",
       "  </thead>\n",
       "  <tbody>\n",
       "    <tr>\n",
       "      <th>4391951</th>\n",
       "      <td>SH-952757684</td>\n",
       "      <td>676234255</td>\n",
       "      <td>700628705</td>\n",
       "      <td>GO-SHOP</td>\n",
       "      <td>2021-01-31 03:29:10.577806+00:00</td>\n",
       "      <td>223000.0</td>\n",
       "    </tr>\n",
       "    <tr>\n",
       "      <th>4777939</th>\n",
       "      <td>SH-952757684</td>\n",
       "      <td>676234255</td>\n",
       "      <td>700628705</td>\n",
       "      <td>GO-SHOP</td>\n",
       "      <td>2021-01-31 03:29:10.577806+00:00</td>\n",
       "      <td>223000.0</td>\n",
       "    </tr>\n",
       "    <tr>\n",
       "      <th>4800823</th>\n",
       "      <td>SH-952757684</td>\n",
       "      <td>676234255</td>\n",
       "      <td>700628705</td>\n",
       "      <td>GO-SHOP</td>\n",
       "      <td>2021-01-31 03:29:10.577806+00:00</td>\n",
       "      <td>223000.0</td>\n",
       "    </tr>\n",
       "    <tr>\n",
       "      <th>4823707</th>\n",
       "      <td>SH-952757684</td>\n",
       "      <td>676234255</td>\n",
       "      <td>700628705</td>\n",
       "      <td>GO-SHOP</td>\n",
       "      <td>2021-01-31 03:29:10.577806+00:00</td>\n",
       "      <td>223000.0</td>\n",
       "    </tr>\n",
       "  </tbody>\n",
       "</table>\n",
       "</div>"
      ],
      "text/plain": [
       "             order_no customer_id  driver_id service_type  \\\n",
       "4391951  SH-952757684   676234255  700628705      GO-SHOP   \n",
       "4777939  SH-952757684   676234255  700628705      GO-SHOP   \n",
       "4800823  SH-952757684   676234255  700628705      GO-SHOP   \n",
       "4823707  SH-952757684   676234255  700628705      GO-SHOP   \n",
       "\n",
       "                            booking_time  actual_gmv  \n",
       "4391951 2021-01-31 03:29:10.577806+00:00    223000.0  \n",
       "4777939 2021-01-31 03:29:10.577806+00:00    223000.0  \n",
       "4800823 2021-01-31 03:29:10.577806+00:00    223000.0  \n",
       "4823707 2021-01-31 03:29:10.577806+00:00    223000.0  "
      ]
     },
     "execution_count": 547,
     "metadata": {},
     "output_type": "execute_result"
    }
   ],
   "source": [
    "#picking up another example\n",
    "gojek_df[gojek_df['order_no'] == 'SH-952757684']"
   ]
  },
  {
   "cell_type": "markdown",
   "id": "2eead8c6",
   "metadata": {},
   "source": [
    "We can try this with multiple order_no but in all scenarios we can see nothing is changig except Index in all rows i.e. these rows are pure duplicates so we will be dealing with these duplicated order_no to **avoid overvaluation of our actual_gmv.**"
   ]
  },
  {
   "cell_type": "code",
   "execution_count": 548,
   "id": "0358bd71",
   "metadata": {},
   "outputs": [],
   "source": [
    "gojek_df.drop_duplicates(inplace = True)"
   ]
  },
  {
   "cell_type": "code",
   "execution_count": 549,
   "id": "723b039d",
   "metadata": {},
   "outputs": [
    {
     "data": {
      "text/plain": [
       "0"
      ]
     },
     "execution_count": 549,
     "metadata": {},
     "output_type": "execute_result"
    }
   ],
   "source": [
    "gojek_df['order_no'].duplicated().sum()"
   ]
  },
  {
   "cell_type": "code",
   "execution_count": 550,
   "id": "1ec43fa5",
   "metadata": {},
   "outputs": [
    {
     "data": {
      "text/html": [
       "<div>\n",
       "<style scoped>\n",
       "    .dataframe tbody tr th:only-of-type {\n",
       "        vertical-align: middle;\n",
       "    }\n",
       "\n",
       "    .dataframe tbody tr th {\n",
       "        vertical-align: top;\n",
       "    }\n",
       "\n",
       "    .dataframe thead th {\n",
       "        text-align: right;\n",
       "    }\n",
       "</style>\n",
       "<table border=\"1\" class=\"dataframe\">\n",
       "  <thead>\n",
       "    <tr style=\"text-align: right;\">\n",
       "      <th></th>\n",
       "      <th>order_no</th>\n",
       "      <th>customer_id</th>\n",
       "      <th>driver_id</th>\n",
       "      <th>service_type</th>\n",
       "      <th>booking_time</th>\n",
       "      <th>actual_gmv</th>\n",
       "    </tr>\n",
       "  </thead>\n",
       "  <tbody>\n",
       "    <tr>\n",
       "      <th>4391951</th>\n",
       "      <td>SH-952757684</td>\n",
       "      <td>676234255</td>\n",
       "      <td>700628705</td>\n",
       "      <td>GO-SHOP</td>\n",
       "      <td>2021-01-31 03:29:10.577806+00:00</td>\n",
       "      <td>223000.0</td>\n",
       "    </tr>\n",
       "  </tbody>\n",
       "</table>\n",
       "</div>"
      ],
      "text/plain": [
       "             order_no customer_id  driver_id service_type  \\\n",
       "4391951  SH-952757684   676234255  700628705      GO-SHOP   \n",
       "\n",
       "                            booking_time  actual_gmv  \n",
       "4391951 2021-01-31 03:29:10.577806+00:00    223000.0  "
      ]
     },
     "execution_count": 550,
     "metadata": {},
     "output_type": "execute_result"
    }
   ],
   "source": [
    "gojek_df[gojek_df['order_no'] == 'SH-952757684']"
   ]
  },
  {
   "cell_type": "markdown",
   "id": "569826c9",
   "metadata": {},
   "source": [
    "Let's check for **customer_id**.."
   ]
  },
  {
   "cell_type": "code",
   "execution_count": 551,
   "id": "fba421ea",
   "metadata": {},
   "outputs": [
    {
     "data": {
      "text/plain": [
       "433179"
      ]
     },
     "execution_count": 551,
     "metadata": {},
     "output_type": "execute_result"
    }
   ],
   "source": [
    "gojek_df['customer_id'].duplicated().sum()"
   ]
  },
  {
   "cell_type": "code",
   "execution_count": 552,
   "id": "3f1ee4b8",
   "metadata": {},
   "outputs": [
    {
     "data": {
      "text/html": [
       "<div>\n",
       "<style scoped>\n",
       "    .dataframe tbody tr th:only-of-type {\n",
       "        vertical-align: middle;\n",
       "    }\n",
       "\n",
       "    .dataframe tbody tr th {\n",
       "        vertical-align: top;\n",
       "    }\n",
       "\n",
       "    .dataframe thead th {\n",
       "        text-align: right;\n",
       "    }\n",
       "</style>\n",
       "<table border=\"1\" class=\"dataframe\">\n",
       "  <thead>\n",
       "    <tr style=\"text-align: right;\">\n",
       "      <th></th>\n",
       "      <th>order_no</th>\n",
       "      <th>customer_id</th>\n",
       "      <th>driver_id</th>\n",
       "      <th>service_type</th>\n",
       "      <th>booking_time</th>\n",
       "      <th>actual_gmv</th>\n",
       "    </tr>\n",
       "  </thead>\n",
       "  <tbody>\n",
       "    <tr>\n",
       "      <th>4445759</th>\n",
       "      <td>MT-8037937803</td>\n",
       "      <td>10219706</td>\n",
       "      <td>700779572</td>\n",
       "      <td>GO-MART</td>\n",
       "      <td>2021-01-29 06:29:03.125000+00:00</td>\n",
       "      <td>195800.0</td>\n",
       "    </tr>\n",
       "    <tr>\n",
       "      <th>1004004</th>\n",
       "      <td>MT-3698929720</td>\n",
       "      <td>10219706</td>\n",
       "      <td>700745610</td>\n",
       "      <td>GO-MART</td>\n",
       "      <td>2021-01-11 05:04:38.831000+00:00</td>\n",
       "      <td>189200.0</td>\n",
       "    </tr>\n",
       "    <tr>\n",
       "      <th>2852122</th>\n",
       "      <td>MT-1184739824</td>\n",
       "      <td>10219706</td>\n",
       "      <td>700388997</td>\n",
       "      <td>GO-MART</td>\n",
       "      <td>2021-01-23 09:22:51.372000+00:00</td>\n",
       "      <td>194800.0</td>\n",
       "    </tr>\n",
       "    <tr>\n",
       "      <th>3791795</th>\n",
       "      <td>MT-7985492156</td>\n",
       "      <td>10219706</td>\n",
       "      <td>541040122</td>\n",
       "      <td>GO-MART</td>\n",
       "      <td>2021-01-26 08:43:52.958000+00:00</td>\n",
       "      <td>179900.0</td>\n",
       "    </tr>\n",
       "    <tr>\n",
       "      <th>3968924</th>\n",
       "      <td>SH-952533617</td>\n",
       "      <td>10219721</td>\n",
       "      <td>540796789</td>\n",
       "      <td>GO-SHOP</td>\n",
       "      <td>2021-01-27 01:16:19.582220+00:00</td>\n",
       "      <td>90000.0</td>\n",
       "    </tr>\n",
       "    <tr>\n",
       "      <th>...</th>\n",
       "      <td>...</td>\n",
       "      <td>...</td>\n",
       "      <td>...</td>\n",
       "      <td>...</td>\n",
       "      <td>...</td>\n",
       "      <td>...</td>\n",
       "    </tr>\n",
       "    <tr>\n",
       "      <th>3829046</th>\n",
       "      <td>FP-2123383</td>\n",
       "      <td>9467584</td>\n",
       "      <td>999999999</td>\n",
       "      <td>GO-FOOD-PICKUP</td>\n",
       "      <td>2021-01-25 08:21:34.305000+00:00</td>\n",
       "      <td>44176.0</td>\n",
       "    </tr>\n",
       "    <tr>\n",
       "      <th>3311798</th>\n",
       "      <td>FP-2032981</td>\n",
       "      <td>9467584</td>\n",
       "      <td>999999999</td>\n",
       "      <td>GO-FOOD-PICKUP</td>\n",
       "      <td>2021-01-20 06:09:31.538000+00:00</td>\n",
       "      <td>21000.0</td>\n",
       "    </tr>\n",
       "    <tr>\n",
       "      <th>2995591</th>\n",
       "      <td>FP-2075641</td>\n",
       "      <td>9467584</td>\n",
       "      <td>999999999</td>\n",
       "      <td>GO-FOOD-PICKUP</td>\n",
       "      <td>2021-01-23 05:47:41.478000+00:00</td>\n",
       "      <td>21000.0</td>\n",
       "    </tr>\n",
       "    <tr>\n",
       "      <th>4083449</th>\n",
       "      <td>FP-2147830</td>\n",
       "      <td>9467584</td>\n",
       "      <td>999999999</td>\n",
       "      <td>GO-FOOD-PICKUP</td>\n",
       "      <td>2021-01-27 06:01:01.188000+00:00</td>\n",
       "      <td>21000.0</td>\n",
       "    </tr>\n",
       "    <tr>\n",
       "      <th>3027228</th>\n",
       "      <td>FP-2048081</td>\n",
       "      <td>9467584</td>\n",
       "      <td>999999999</td>\n",
       "      <td>GO-FOOD-PICKUP</td>\n",
       "      <td>2021-01-21 09:03:20.617000+00:00</td>\n",
       "      <td>21000.0</td>\n",
       "    </tr>\n",
       "  </tbody>\n",
       "</table>\n",
       "<p>433179 rows × 6 columns</p>\n",
       "</div>"
      ],
      "text/plain": [
       "              order_no customer_id  driver_id    service_type  \\\n",
       "4445759  MT-8037937803    10219706  700779572         GO-MART   \n",
       "1004004  MT-3698929720    10219706  700745610         GO-MART   \n",
       "2852122  MT-1184739824    10219706  700388997         GO-MART   \n",
       "3791795  MT-7985492156    10219706  541040122         GO-MART   \n",
       "3968924   SH-952533617    10219721  540796789         GO-SHOP   \n",
       "...                ...         ...        ...             ...   \n",
       "3829046     FP-2123383     9467584  999999999  GO-FOOD-PICKUP   \n",
       "3311798     FP-2032981     9467584  999999999  GO-FOOD-PICKUP   \n",
       "2995591     FP-2075641     9467584  999999999  GO-FOOD-PICKUP   \n",
       "4083449     FP-2147830     9467584  999999999  GO-FOOD-PICKUP   \n",
       "3027228     FP-2048081     9467584  999999999  GO-FOOD-PICKUP   \n",
       "\n",
       "                            booking_time  actual_gmv  \n",
       "4445759 2021-01-29 06:29:03.125000+00:00    195800.0  \n",
       "1004004 2021-01-11 05:04:38.831000+00:00    189200.0  \n",
       "2852122 2021-01-23 09:22:51.372000+00:00    194800.0  \n",
       "3791795 2021-01-26 08:43:52.958000+00:00    179900.0  \n",
       "3968924 2021-01-27 01:16:19.582220+00:00     90000.0  \n",
       "...                                  ...         ...  \n",
       "3829046 2021-01-25 08:21:34.305000+00:00     44176.0  \n",
       "3311798 2021-01-20 06:09:31.538000+00:00     21000.0  \n",
       "2995591 2021-01-23 05:47:41.478000+00:00     21000.0  \n",
       "4083449 2021-01-27 06:01:01.188000+00:00     21000.0  \n",
       "3027228 2021-01-21 09:03:20.617000+00:00     21000.0  \n",
       "\n",
       "[433179 rows x 6 columns]"
      ]
     },
     "execution_count": 552,
     "metadata": {},
     "output_type": "execute_result"
    }
   ],
   "source": [
    "gojek_df[gojek_df['customer_id'].duplicated()].sort_values(by = 'customer_id')"
   ]
  },
  {
   "cell_type": "code",
   "execution_count": 553,
   "id": "6d2b6b9d",
   "metadata": {},
   "outputs": [
    {
     "data": {
      "text/html": [
       "<div>\n",
       "<style scoped>\n",
       "    .dataframe tbody tr th:only-of-type {\n",
       "        vertical-align: middle;\n",
       "    }\n",
       "\n",
       "    .dataframe tbody tr th {\n",
       "        vertical-align: top;\n",
       "    }\n",
       "\n",
       "    .dataframe thead th {\n",
       "        text-align: right;\n",
       "    }\n",
       "</style>\n",
       "<table border=\"1\" class=\"dataframe\">\n",
       "  <thead>\n",
       "    <tr style=\"text-align: right;\">\n",
       "      <th></th>\n",
       "      <th>order_no</th>\n",
       "      <th>customer_id</th>\n",
       "      <th>driver_id</th>\n",
       "      <th>service_type</th>\n",
       "      <th>booking_time</th>\n",
       "      <th>actual_gmv</th>\n",
       "    </tr>\n",
       "  </thead>\n",
       "  <tbody>\n",
       "    <tr>\n",
       "      <th>431454</th>\n",
       "      <td>MT-7519342533</td>\n",
       "      <td>10219706</td>\n",
       "      <td>700356777</td>\n",
       "      <td>GO-MART</td>\n",
       "      <td>2021-01-01 03:58:47.626000+00:00</td>\n",
       "      <td>189300.0</td>\n",
       "    </tr>\n",
       "    <tr>\n",
       "      <th>1004004</th>\n",
       "      <td>MT-3698929720</td>\n",
       "      <td>10219706</td>\n",
       "      <td>700745610</td>\n",
       "      <td>GO-MART</td>\n",
       "      <td>2021-01-11 05:04:38.831000+00:00</td>\n",
       "      <td>189200.0</td>\n",
       "    </tr>\n",
       "    <tr>\n",
       "      <th>2852122</th>\n",
       "      <td>MT-1184739824</td>\n",
       "      <td>10219706</td>\n",
       "      <td>700388997</td>\n",
       "      <td>GO-MART</td>\n",
       "      <td>2021-01-23 09:22:51.372000+00:00</td>\n",
       "      <td>194800.0</td>\n",
       "    </tr>\n",
       "    <tr>\n",
       "      <th>3791795</th>\n",
       "      <td>MT-7985492156</td>\n",
       "      <td>10219706</td>\n",
       "      <td>541040122</td>\n",
       "      <td>GO-MART</td>\n",
       "      <td>2021-01-26 08:43:52.958000+00:00</td>\n",
       "      <td>179900.0</td>\n",
       "    </tr>\n",
       "    <tr>\n",
       "      <th>4445759</th>\n",
       "      <td>MT-8037937803</td>\n",
       "      <td>10219706</td>\n",
       "      <td>700779572</td>\n",
       "      <td>GO-MART</td>\n",
       "      <td>2021-01-29 06:29:03.125000+00:00</td>\n",
       "      <td>195800.0</td>\n",
       "    </tr>\n",
       "  </tbody>\n",
       "</table>\n",
       "</div>"
      ],
      "text/plain": [
       "              order_no customer_id  driver_id service_type  \\\n",
       "431454   MT-7519342533    10219706  700356777      GO-MART   \n",
       "1004004  MT-3698929720    10219706  700745610      GO-MART   \n",
       "2852122  MT-1184739824    10219706  700388997      GO-MART   \n",
       "3791795  MT-7985492156    10219706  541040122      GO-MART   \n",
       "4445759  MT-8037937803    10219706  700779572      GO-MART   \n",
       "\n",
       "                            booking_time  actual_gmv  \n",
       "431454  2021-01-01 03:58:47.626000+00:00    189300.0  \n",
       "1004004 2021-01-11 05:04:38.831000+00:00    189200.0  \n",
       "2852122 2021-01-23 09:22:51.372000+00:00    194800.0  \n",
       "3791795 2021-01-26 08:43:52.958000+00:00    179900.0  \n",
       "4445759 2021-01-29 06:29:03.125000+00:00    195800.0  "
      ]
     },
     "execution_count": 553,
     "metadata": {},
     "output_type": "execute_result"
    }
   ],
   "source": [
    "gojek_df[gojek_df['customer_id'] == '10219706']"
   ]
  },
  {
   "cell_type": "markdown",
   "id": "0e65ab85",
   "metadata": {},
   "source": [
    "Duplicates in customer_id is **valid** since one customer can order multiple orders with different **order_no** so we will leave it as it is."
   ]
  },
  {
   "cell_type": "markdown",
   "id": "662fb873",
   "metadata": {},
   "source": [
    "Let's check for **driver_id**.."
   ]
  },
  {
   "cell_type": "code",
   "execution_count": 554,
   "id": "6a400249",
   "metadata": {},
   "outputs": [
    {
     "data": {
      "text/plain": [
       "797114"
      ]
     },
     "execution_count": 554,
     "metadata": {},
     "output_type": "execute_result"
    }
   ],
   "source": [
    "gojek_df['driver_id'].duplicated().sum()"
   ]
  },
  {
   "cell_type": "code",
   "execution_count": 555,
   "id": "ff9b27b4",
   "metadata": {},
   "outputs": [
    {
     "data": {
      "text/html": [
       "<div>\n",
       "<style scoped>\n",
       "    .dataframe tbody tr th:only-of-type {\n",
       "        vertical-align: middle;\n",
       "    }\n",
       "\n",
       "    .dataframe tbody tr th {\n",
       "        vertical-align: top;\n",
       "    }\n",
       "\n",
       "    .dataframe thead th {\n",
       "        text-align: right;\n",
       "    }\n",
       "</style>\n",
       "<table border=\"1\" class=\"dataframe\">\n",
       "  <thead>\n",
       "    <tr style=\"text-align: right;\">\n",
       "      <th></th>\n",
       "      <th>order_no</th>\n",
       "      <th>customer_id</th>\n",
       "      <th>driver_id</th>\n",
       "      <th>service_type</th>\n",
       "      <th>booking_time</th>\n",
       "      <th>actual_gmv</th>\n",
       "    </tr>\n",
       "  </thead>\n",
       "  <tbody>\n",
       "    <tr>\n",
       "      <th>4671187</th>\n",
       "      <td>F-1114898950</td>\n",
       "      <td>545263928</td>\n",
       "      <td>100001</td>\n",
       "      <td>GO-FOOD</td>\n",
       "      <td>2021-01-30 00:11:30.455248+00:00</td>\n",
       "      <td>46250.0</td>\n",
       "    </tr>\n",
       "    <tr>\n",
       "      <th>2417157</th>\n",
       "      <td>F-1100271408</td>\n",
       "      <td>572220252</td>\n",
       "      <td>100001</td>\n",
       "      <td>GO-FOOD</td>\n",
       "      <td>2021-01-16 00:03:55.769660+00:00</td>\n",
       "      <td>9000.0</td>\n",
       "    </tr>\n",
       "    <tr>\n",
       "      <th>4024731</th>\n",
       "      <td>F-1110706219</td>\n",
       "      <td>546361011</td>\n",
       "      <td>100001</td>\n",
       "      <td>GO-FOOD</td>\n",
       "      <td>2021-01-26 00:27:13.140220+00:00</td>\n",
       "      <td>27000.0</td>\n",
       "    </tr>\n",
       "    <tr>\n",
       "      <th>3512668</th>\n",
       "      <td>F-1107525526</td>\n",
       "      <td>623291130</td>\n",
       "      <td>100001</td>\n",
       "      <td>GO-FOOD</td>\n",
       "      <td>2021-01-23 00:07:14.190666+00:00</td>\n",
       "      <td>25000.0</td>\n",
       "    </tr>\n",
       "    <tr>\n",
       "      <th>4757582</th>\n",
       "      <td>F-1116037931</td>\n",
       "      <td>550110570</td>\n",
       "      <td>100001</td>\n",
       "      <td>GO-FOOD</td>\n",
       "      <td>2021-01-31 00:03:44.266517+00:00</td>\n",
       "      <td>21000.0</td>\n",
       "    </tr>\n",
       "    <tr>\n",
       "      <th>...</th>\n",
       "      <td>...</td>\n",
       "      <td>...</td>\n",
       "      <td>...</td>\n",
       "      <td>...</td>\n",
       "      <td>...</td>\n",
       "      <td>...</td>\n",
       "    </tr>\n",
       "    <tr>\n",
       "      <th>1096099</th>\n",
       "      <td>FP-1773562</td>\n",
       "      <td>559251020</td>\n",
       "      <td>999999999</td>\n",
       "      <td>GO-FOOD-PICKUP</td>\n",
       "      <td>2021-01-07 07:52:04.431000+00:00</td>\n",
       "      <td>53000.0</td>\n",
       "    </tr>\n",
       "    <tr>\n",
       "      <th>1096100</th>\n",
       "      <td>FP-1773563</td>\n",
       "      <td>542845911</td>\n",
       "      <td>999999999</td>\n",
       "      <td>GO-FOOD-PICKUP</td>\n",
       "      <td>2021-01-07 07:52:06.855000+00:00</td>\n",
       "      <td>52000.0</td>\n",
       "    </tr>\n",
       "    <tr>\n",
       "      <th>1096101</th>\n",
       "      <td>FP-1773564</td>\n",
       "      <td>542845911</td>\n",
       "      <td>999999999</td>\n",
       "      <td>GO-FOOD-PICKUP</td>\n",
       "      <td>2021-01-07 07:52:09.862000+00:00</td>\n",
       "      <td>52000.0</td>\n",
       "    </tr>\n",
       "    <tr>\n",
       "      <th>1096093</th>\n",
       "      <td>FP-1773556</td>\n",
       "      <td>552554347</td>\n",
       "      <td>999999999</td>\n",
       "      <td>GO-FOOD-PICKUP</td>\n",
       "      <td>2021-01-07 07:51:58.596000+00:00</td>\n",
       "      <td>101000.0</td>\n",
       "    </tr>\n",
       "    <tr>\n",
       "      <th>2589780</th>\n",
       "      <td>F-1098152263</td>\n",
       "      <td>543189545</td>\n",
       "      <td>999999999</td>\n",
       "      <td>GO-FOOD</td>\n",
       "      <td>2021-01-14 00:17:09.432971+00:00</td>\n",
       "      <td>40000.0</td>\n",
       "    </tr>\n",
       "  </tbody>\n",
       "</table>\n",
       "<p>797114 rows × 6 columns</p>\n",
       "</div>"
      ],
      "text/plain": [
       "             order_no customer_id  driver_id    service_type  \\\n",
       "4671187  F-1114898950   545263928     100001         GO-FOOD   \n",
       "2417157  F-1100271408   572220252     100001         GO-FOOD   \n",
       "4024731  F-1110706219   546361011     100001         GO-FOOD   \n",
       "3512668  F-1107525526   623291130     100001         GO-FOOD   \n",
       "4757582  F-1116037931   550110570     100001         GO-FOOD   \n",
       "...               ...         ...        ...             ...   \n",
       "1096099    FP-1773562   559251020  999999999  GO-FOOD-PICKUP   \n",
       "1096100    FP-1773563   542845911  999999999  GO-FOOD-PICKUP   \n",
       "1096101    FP-1773564   542845911  999999999  GO-FOOD-PICKUP   \n",
       "1096093    FP-1773556   552554347  999999999  GO-FOOD-PICKUP   \n",
       "2589780  F-1098152263   543189545  999999999         GO-FOOD   \n",
       "\n",
       "                            booking_time  actual_gmv  \n",
       "4671187 2021-01-30 00:11:30.455248+00:00     46250.0  \n",
       "2417157 2021-01-16 00:03:55.769660+00:00      9000.0  \n",
       "4024731 2021-01-26 00:27:13.140220+00:00     27000.0  \n",
       "3512668 2021-01-23 00:07:14.190666+00:00     25000.0  \n",
       "4757582 2021-01-31 00:03:44.266517+00:00     21000.0  \n",
       "...                                  ...         ...  \n",
       "1096099 2021-01-07 07:52:04.431000+00:00     53000.0  \n",
       "1096100 2021-01-07 07:52:06.855000+00:00     52000.0  \n",
       "1096101 2021-01-07 07:52:09.862000+00:00     52000.0  \n",
       "1096093 2021-01-07 07:51:58.596000+00:00    101000.0  \n",
       "2589780 2021-01-14 00:17:09.432971+00:00     40000.0  \n",
       "\n",
       "[797114 rows x 6 columns]"
      ]
     },
     "execution_count": 555,
     "metadata": {},
     "output_type": "execute_result"
    }
   ],
   "source": [
    "gojek_df[gojek_df['driver_id'].duplicated()].sort_values(by = 'driver_id')"
   ]
  },
  {
   "cell_type": "code",
   "execution_count": 556,
   "id": "d09414df",
   "metadata": {},
   "outputs": [
    {
     "data": {
      "text/html": [
       "<div>\n",
       "<style scoped>\n",
       "    .dataframe tbody tr th:only-of-type {\n",
       "        vertical-align: middle;\n",
       "    }\n",
       "\n",
       "    .dataframe tbody tr th {\n",
       "        vertical-align: top;\n",
       "    }\n",
       "\n",
       "    .dataframe thead th {\n",
       "        text-align: right;\n",
       "    }\n",
       "</style>\n",
       "<table border=\"1\" class=\"dataframe\">\n",
       "  <thead>\n",
       "    <tr style=\"text-align: right;\">\n",
       "      <th></th>\n",
       "      <th>order_no</th>\n",
       "      <th>customer_id</th>\n",
       "      <th>driver_id</th>\n",
       "      <th>service_type</th>\n",
       "      <th>booking_time</th>\n",
       "      <th>actual_gmv</th>\n",
       "    </tr>\n",
       "  </thead>\n",
       "  <tbody>\n",
       "    <tr>\n",
       "      <th>697762</th>\n",
       "      <td>F-1084593687</td>\n",
       "      <td>552844879</td>\n",
       "      <td>100001</td>\n",
       "      <td>GO-FOOD</td>\n",
       "      <td>2021-01-02 00:13:50.699761+00:00</td>\n",
       "      <td>34000.0</td>\n",
       "    </tr>\n",
       "    <tr>\n",
       "      <th>759217</th>\n",
       "      <td>F-1085791035</td>\n",
       "      <td>599881677</td>\n",
       "      <td>100001</td>\n",
       "      <td>GO-FOOD</td>\n",
       "      <td>2021-01-03 00:24:57.767755+00:00</td>\n",
       "      <td>52000.0</td>\n",
       "    </tr>\n",
       "    <tr>\n",
       "      <th>1278185</th>\n",
       "      <td>MT-9622449246</td>\n",
       "      <td>563796140</td>\n",
       "      <td>100001</td>\n",
       "      <td>GO-MART</td>\n",
       "      <td>2021-01-07 06:38:14.640000+00:00</td>\n",
       "      <td>41600.0</td>\n",
       "    </tr>\n",
       "    <tr>\n",
       "      <th>1566554</th>\n",
       "      <td>F-1094931355</td>\n",
       "      <td>684018550</td>\n",
       "      <td>100001</td>\n",
       "      <td>GO-FOOD</td>\n",
       "      <td>2021-01-11 00:00:41.937310+00:00</td>\n",
       "      <td>42600.0</td>\n",
       "    </tr>\n",
       "  </tbody>\n",
       "</table>\n",
       "</div>"
      ],
      "text/plain": [
       "              order_no customer_id driver_id service_type  \\\n",
       "697762    F-1084593687   552844879    100001      GO-FOOD   \n",
       "759217    F-1085791035   599881677    100001      GO-FOOD   \n",
       "1278185  MT-9622449246   563796140    100001      GO-MART   \n",
       "1566554   F-1094931355   684018550    100001      GO-FOOD   \n",
       "\n",
       "                            booking_time  actual_gmv  \n",
       "697762  2021-01-02 00:13:50.699761+00:00     34000.0  \n",
       "759217  2021-01-03 00:24:57.767755+00:00     52000.0  \n",
       "1278185 2021-01-07 06:38:14.640000+00:00     41600.0  \n",
       "1566554 2021-01-11 00:00:41.937310+00:00     42600.0  "
      ]
     },
     "execution_count": 556,
     "metadata": {},
     "output_type": "execute_result"
    }
   ],
   "source": [
    "gojek_df[gojek_df['driver_id'] == '100001'].head(4)"
   ]
  },
  {
   "cell_type": "markdown",
   "id": "7df238f7",
   "metadata": {},
   "source": [
    "These are also **valid** since one driver can be part of multiple orders, customers and deliveries so we will leave it as is.."
   ]
  },
  {
   "cell_type": "markdown",
   "id": "8c37f517",
   "metadata": {},
   "source": [
    "### Exploratory Data Analysis"
   ]
  },
  {
   "cell_type": "markdown",
   "id": "e9b62729",
   "metadata": {},
   "source": [
    "Let us start with exploring our data set, to better understand the patterns in the data and potentially form some hypothesis about total transaction volumes. First we will look at the distribution of individual variables and then slice and dice our data for any interesting trends."
   ]
  },
  {
   "cell_type": "code",
   "execution_count": 557,
   "id": "ea3deb1f",
   "metadata": {},
   "outputs": [
    {
     "data": {
      "text/html": [
       "<div>\n",
       "<style scoped>\n",
       "    .dataframe tbody tr th:only-of-type {\n",
       "        vertical-align: middle;\n",
       "    }\n",
       "\n",
       "    .dataframe tbody tr th {\n",
       "        vertical-align: top;\n",
       "    }\n",
       "\n",
       "    .dataframe thead th {\n",
       "        text-align: right;\n",
       "    }\n",
       "</style>\n",
       "<table border=\"1\" class=\"dataframe\">\n",
       "  <thead>\n",
       "    <tr style=\"text-align: right;\">\n",
       "      <th></th>\n",
       "      <th>order_no</th>\n",
       "      <th>customer_id</th>\n",
       "      <th>driver_id</th>\n",
       "      <th>service_type</th>\n",
       "      <th>booking_time</th>\n",
       "      <th>actual_gmv</th>\n",
       "    </tr>\n",
       "  </thead>\n",
       "  <tbody>\n",
       "    <tr>\n",
       "      <th>12379</th>\n",
       "      <td>MT-8170880142</td>\n",
       "      <td>550269611</td>\n",
       "      <td>700155132</td>\n",
       "      <td>GO-MART</td>\n",
       "      <td>2021-01-04 00:02:19.712000+00:00</td>\n",
       "      <td>81000.0</td>\n",
       "    </tr>\n",
       "    <tr>\n",
       "      <th>12380</th>\n",
       "      <td>MT-6936803087</td>\n",
       "      <td>612297808</td>\n",
       "      <td>700416843</td>\n",
       "      <td>GO-MART</td>\n",
       "      <td>2021-01-04 00:07:00.655000+00:00</td>\n",
       "      <td>197600.0</td>\n",
       "    </tr>\n",
       "    <tr>\n",
       "      <th>12381</th>\n",
       "      <td>MT-1332902187</td>\n",
       "      <td>548716750</td>\n",
       "      <td>700874204</td>\n",
       "      <td>GO-MART</td>\n",
       "      <td>2021-01-04 00:07:36.506000+00:00</td>\n",
       "      <td>83500.0</td>\n",
       "    </tr>\n",
       "    <tr>\n",
       "      <th>12382</th>\n",
       "      <td>MT-2017144038</td>\n",
       "      <td>551190528</td>\n",
       "      <td>700129632</td>\n",
       "      <td>GO-MART</td>\n",
       "      <td>2021-01-04 00:08:20.490000+00:00</td>\n",
       "      <td>152200.0</td>\n",
       "    </tr>\n",
       "    <tr>\n",
       "      <th>12383</th>\n",
       "      <td>MT-5363306916</td>\n",
       "      <td>663185101</td>\n",
       "      <td>700780569</td>\n",
       "      <td>GO-MART</td>\n",
       "      <td>2021-01-04 00:09:03.470000+00:00</td>\n",
       "      <td>42500.0</td>\n",
       "    </tr>\n",
       "  </tbody>\n",
       "</table>\n",
       "</div>"
      ],
      "text/plain": [
       "            order_no customer_id  driver_id service_type  \\\n",
       "12379  MT-8170880142   550269611  700155132      GO-MART   \n",
       "12380  MT-6936803087   612297808  700416843      GO-MART   \n",
       "12381  MT-1332902187   548716750  700874204      GO-MART   \n",
       "12382  MT-2017144038   551190528  700129632      GO-MART   \n",
       "12383  MT-5363306916   663185101  700780569      GO-MART   \n",
       "\n",
       "                          booking_time  actual_gmv  \n",
       "12379 2021-01-04 00:02:19.712000+00:00     81000.0  \n",
       "12380 2021-01-04 00:07:00.655000+00:00    197600.0  \n",
       "12381 2021-01-04 00:07:36.506000+00:00     83500.0  \n",
       "12382 2021-01-04 00:08:20.490000+00:00    152200.0  \n",
       "12383 2021-01-04 00:09:03.470000+00:00     42500.0  "
      ]
     },
     "execution_count": 557,
     "metadata": {},
     "output_type": "execute_result"
    }
   ],
   "source": [
    "gojek_df.head()"
   ]
  },
  {
   "cell_type": "markdown",
   "id": "ffbe767a",
   "metadata": {},
   "source": [
    "**A. Checking distribution of each service_type**"
   ]
  },
  {
   "cell_type": "code",
   "execution_count": 558,
   "id": "c08638f6",
   "metadata": {},
   "outputs": [
    {
     "name": "stdout",
     "output_type": "stream",
     "text": [
      "order_no 965013\n",
      "customer_id 531834\n",
      "driver_id 167899\n",
      "service_type 4\n",
      "booking_time 964800\n",
      "actual_gmv 16831\n"
     ]
    }
   ],
   "source": [
    "for i in gojek_df.columns:\n",
    "    print(i, gojek_df[i].nunique())"
   ]
  },
  {
   "cell_type": "code",
   "execution_count": 569,
   "id": "34ad574c",
   "metadata": {
    "scrolled": true
   },
   "outputs": [
    {
     "data": {
      "image/png": "[encoded data removed]",
      "text/plain": [
       "<Figure size 576x360 with 1 Axes>"
      ]
     },
     "metadata": {},
     "output_type": "display_data"
    }
   ],
   "source": [
    "#service type distrubution\n",
    "\n",
    "ax = plt.figure(figsize = (8,5))\n",
    "ax = (gojek_df['service_type'].value_counts()/len(gojek_df['service_type'])*100).plot(kind = 'bar', stacked = True,\n",
    "                                                                                     color = 'green', rot = 0)\n",
    "\n",
    "ax.set_xlabel('Service_type')\n",
    "ax.set_ylabel('% of orders')\n",
    "ax.set_title('Service Type Distribution')\n",
    "ax.yaxis.set_major_formatter(mtick.PercentFormatter()) #chnaging formatting of yaxis to %\n",
    "\n",
    "for p in ax.patches: \n",
    "    width, height = p.get_width(),  p.get_height() # get_width pulls left or right; get_y pushes up or down\n",
    "    x,y = p.get_xy()\n",
    "    ax.annotate('{:.1f}%'.format(height), (p.get_x()+.10*width, p.get_y()+.60*height), #text coordinates\n",
    "                color = 'white',\n",
    "               weight = 'bold',\n",
    "               size = 11)\n",
    "    \n",
    "sns.set_style('darkgrid')\n",
    "sns.set()"
   ]
  },
  {
   "cell_type": "markdown",
   "id": "d4b23664",
   "metadata": {},
   "source": [
    "Highest contributing services are **GoFood** which contributes to almost ***28%*** of all orders"
   ]
  },
  {
   "cell_type": "markdown",
   "id": "d4228537",
   "metadata": {},
   "source": [
    "Checking **Actual_gmv** as per each service type.."
   ]
  },
  {
   "cell_type": "code",
   "execution_count": 570,
   "id": "964f72ba",
   "metadata": {},
   "outputs": [
    {
     "data": {
      "image/png": "[encoded data removed]",
      "text/plain": [
       "<Figure size 576x360 with 1 Axes>"
      ]
     },
     "metadata": {},
     "output_type": "display_data"
    }
   ],
   "source": [
    "ax = plt.figure(figsize = (8,5))\n",
    "\n",
    "ax = sns.barplot(x = gojek_df['service_type'], y =gojek_df['actual_gmv'])\n",
    "\n",
    "ax.set_xlabel('Service_type')\n",
    "ax.set_ylabel('actual_gmv')\n",
    "ax.set_title('Service Type Distribution')\n",
    "\n",
    "for p in ax.patches: \n",
    "    width, height = p.get_width(),  p.get_height() # get_width pulls left or right; get_y pushes up or down\n",
    "    x,y = p.get_xy()\n",
    "    ax.annotate('{:.0f}'.format(height), (p.get_x()+.10*width, p.get_y()+.60*height), #text coordinates\n",
    "                color = 'white',\n",
    "               weight = 'bold',\n",
    "               size = 11)\n",
    "\n",
    "sns.set_style('darkgrid')\n",
    "sns.set()"
   ]
  },
  {
   "cell_type": "code",
   "execution_count": 633,
   "id": "37cc49ee",
   "metadata": {},
   "outputs": [
    {
     "data": {
      "text/plain": [
       "21.15391191621253"
      ]
     },
     "execution_count": 633,
     "metadata": {},
     "output_type": "execute_result"
    }
   ],
   "source": [
    "len(gojek_df[gojek_df['service_type'] == 'GO-SHOP'])/len(gojek_df)*100"
   ]
  },
  {
   "cell_type": "markdown",
   "id": "ccec6b7d",
   "metadata": {},
   "source": [
    "We can see as per **actual gmv**, highest service type is actually **GO-SHOP** and not **GO-FOOD**. Intrestingly, even though the highest number of orders are from *GO-FOOD*, it actually did not contribute so much to transaction amount.Let's re-confirm that here."
   ]
  },
  {
   "cell_type": "code",
   "execution_count": 571,
   "id": "947e8552",
   "metadata": {},
   "outputs": [
    {
     "data": {
      "image/png": "[encoded data removed]",
      "text/plain": [
       "<Figure size 576x360 with 1 Axes>"
      ]
     },
     "metadata": {},
     "output_type": "display_data"
    }
   ],
   "source": [
    "ax = plt.figure(figsize = (8,5))\n",
    "\n",
    "ax = sns.countplot(x = gojek_df['service_type'])\n",
    "\n",
    "ax.set_xlabel('Service_type')\n",
    "ax.set_ylabel('Number of orders')\n",
    "ax.set_title('Service Type Distribution')\n",
    "\n",
    "for p in ax.patches: \n",
    "    width, height = p.get_width(),  p.get_height() # get_width pulls left or right; get_y pushes up or down\n",
    "    x,y = p.get_xy()\n",
    "    ax.annotate('{:.0f}'.format(height), (p.get_x()+.10*width, p.get_y()+.60*height), #text coordinates\n",
    "                color = 'white',\n",
    "               weight = 'bold',\n",
    "               size = 11)\n",
    "\n",
    "sns.set_style('darkgrid')\n",
    "sns.set()"
   ]
  },
  {
   "cell_type": "markdown",
   "id": "17c14f6b",
   "metadata": {},
   "source": [
    "**B. Checking Booking timelines**"
   ]
  },
  {
   "cell_type": "code",
   "execution_count": 581,
   "id": "0db3d15e",
   "metadata": {
    "scrolled": true
   },
   "outputs": [
    {
     "data": {
      "text/plain": [
       "Text(0.5, 1.0, 'Orders by Booking date')"
      ]
     },
     "execution_count": 581,
     "metadata": {},
     "output_type": "execute_result"
    },
    {
     "data": {
      "image/png": "[encoded data removed]",
      "text/plain": [
       "<Figure size 1080x288 with 1 Axes>"
      ]
     },
     "metadata": {},
     "output_type": "display_data"
    }
   ],
   "source": [
    "#Number of orders in this timeline\n",
    "gojek_df['booking_date'] = gojek_df['booking_time'].dt.date\n",
    "ax = plt.figure(figsize = (15,4))\n",
    "grouped_orders = gojek_df.groupby(by = 'booking_date')['order_no'].count()\n",
    "grouped_orders = grouped_orders.reset_index()\n",
    "ax = sns.lineplot(x = grouped_orders['booking_date'],y =  grouped_orders['order_no'])\n",
    "ax.set_xlabel('Booking date')\n",
    "ax.set_ylabel('Number of orders')\n",
    "ax.set_title('Orders by Booking date')"
   ]
  },
  {
   "cell_type": "markdown",
   "id": "198beeab",
   "metadata": {},
   "source": [
    "We are not getting any huge bump in number of orders on any specific date in month of January'21. (we only have data for 1 month in January). We can confirm this with **booking_time** as well "
   ]
  },
  {
   "cell_type": "code",
   "execution_count": 580,
   "id": "b4fefaa1",
   "metadata": {
    "scrolled": true
   },
   "outputs": [
    {
     "data": {
      "image/png": "[encoded data removed]",
      "text/plain": [
       "<Figure size 1080x288 with 1 Axes>"
      ]
     },
     "metadata": {},
     "output_type": "display_data"
    }
   ],
   "source": [
    "#actual gmv in this timeline\n",
    "ax = plt.figure(figsize = (15,4))\n",
    "grouped_orders = gojek_df.groupby(by = 'booking_date')['actual_gmv'].sum()\n",
    "grouped_orders = grouped_orders.reset_index()\n",
    "ax = sns.lineplot(x = grouped_orders['booking_date'],y =  grouped_orders['actual_gmv'])"
   ]
  },
  {
   "cell_type": "markdown",
   "id": "86020fbb",
   "metadata": {},
   "source": [
    "No such chnage in **actual_gmv** across dates as well.."
   ]
  },
  {
   "cell_type": "markdown",
   "id": "ad38ec4f",
   "metadata": {},
   "source": [
    "C.Checking **actual_gmv** and how it changes according to different variables.."
   ]
  },
  {
   "cell_type": "code",
   "execution_count": 582,
   "id": "a8f53591",
   "metadata": {},
   "outputs": [
    {
     "data": {
      "text/html": [
       "<div>\n",
       "<style scoped>\n",
       "    .dataframe tbody tr th:only-of-type {\n",
       "        vertical-align: middle;\n",
       "    }\n",
       "\n",
       "    .dataframe tbody tr th {\n",
       "        vertical-align: top;\n",
       "    }\n",
       "\n",
       "    .dataframe thead th {\n",
       "        text-align: right;\n",
       "    }\n",
       "</style>\n",
       "<table border=\"1\" class=\"dataframe\">\n",
       "  <thead>\n",
       "    <tr style=\"text-align: right;\">\n",
       "      <th></th>\n",
       "      <th>order_no</th>\n",
       "      <th>customer_id</th>\n",
       "      <th>driver_id</th>\n",
       "      <th>service_type</th>\n",
       "      <th>booking_time</th>\n",
       "      <th>actual_gmv</th>\n",
       "      <th>booking_date</th>\n",
       "    </tr>\n",
       "  </thead>\n",
       "  <tbody>\n",
       "    <tr>\n",
       "      <th>12379</th>\n",
       "      <td>MT-8170880142</td>\n",
       "      <td>550269611</td>\n",
       "      <td>700155132</td>\n",
       "      <td>GO-MART</td>\n",
       "      <td>2021-01-04 00:02:19.712000+00:00</td>\n",
       "      <td>81000.0</td>\n",
       "      <td>2021-01-04</td>\n",
       "    </tr>\n",
       "    <tr>\n",
       "      <th>12380</th>\n",
       "      <td>MT-6936803087</td>\n",
       "      <td>612297808</td>\n",
       "      <td>700416843</td>\n",
       "      <td>GO-MART</td>\n",
       "      <td>2021-01-04 00:07:00.655000+00:00</td>\n",
       "      <td>197600.0</td>\n",
       "      <td>2021-01-04</td>\n",
       "    </tr>\n",
       "  </tbody>\n",
       "</table>\n",
       "</div>"
      ],
      "text/plain": [
       "            order_no customer_id  driver_id service_type  \\\n",
       "12379  MT-8170880142   550269611  700155132      GO-MART   \n",
       "12380  MT-6936803087   612297808  700416843      GO-MART   \n",
       "\n",
       "                          booking_time  actual_gmv booking_date  \n",
       "12379 2021-01-04 00:02:19.712000+00:00     81000.0   2021-01-04  \n",
       "12380 2021-01-04 00:07:00.655000+00:00    197600.0   2021-01-04  "
      ]
     },
     "execution_count": 582,
     "metadata": {},
     "output_type": "execute_result"
    }
   ],
   "source": [
    "gojek_df.head(2)"
   ]
  },
  {
   "cell_type": "code",
   "execution_count": 583,
   "id": "7ecece49",
   "metadata": {},
   "outputs": [
    {
     "name": "stderr",
     "output_type": "stream",
     "text": [
      "C:\\ProgramData\\Anaconda3\\lib\\site-packages\\seaborn\\distributions.py:2619: FutureWarning: `distplot` is a deprecated function and will be removed in a future version. Please adapt your code to use either `displot` (a figure-level function with similar flexibility) or `histplot` (an axes-level function for histograms).\n",
      "  warnings.warn(msg, FutureWarning)\n"
     ]
    },
    {
     "data": {
      "text/plain": [
       "Text(0.5, 1.0, 'Transaction amount distribution')"
      ]
     },
     "execution_count": 583,
     "metadata": {},
     "output_type": "execute_result"
    },
    {
     "data": {
      "image/png": "[encoded data removed]",
      "text/plain": [
       "<Figure size 576x576 with 1 Axes>"
      ]
     },
     "metadata": {},
     "output_type": "display_data"
    }
   ],
   "source": [
    "#average transaction amount per order\n",
    "fig = plt.figure(figsize= (8,8))\n",
    "ax = sns.distplot(gojek_df['actual_gmv'], hist = True,kde = False, )\n",
    "ax.set_xlabel('Transaction amount')\n",
    "ax.set_title('Transaction amount distribution')"
   ]
  },
  {
   "cell_type": "markdown",
   "id": "89e6d0a9",
   "metadata": {},
   "source": [
    "Most of our **actual_gmv** lies in the region of **30k-40k** amount which gives us an idea that most of our transactions are around this amount per order. "
   ]
  },
  {
   "cell_type": "code",
   "execution_count": 584,
   "id": "ae009fb8",
   "metadata": {
    "scrolled": true
   },
   "outputs": [
    {
     "data": {
      "text/plain": [
       "Text(0.5, 1.0, 'Low contributing customers')"
      ]
     },
     "execution_count": 584,
     "metadata": {},
     "output_type": "execute_result"
    },
    {
     "data": {
      "image/png": "[encoded data removed]",
      "text/plain": [
       "<Figure size 720x216 with 2 Axes>"
      ]
     },
     "metadata": {},
     "output_type": "display_data"
    }
   ],
   "source": [
    "#customers who contributed to highest actual_gmv\n",
    "fig, axes = plt.subplots(nrows = 1, ncols = 2, figsize = (\n",
    "    10,3))\n",
    "#top 10 customers\n",
    "highest_transaction_amount_customers = gojek_df.groupby(by = 'customer_id').sum()['actual_gmv']\n",
    "highest_transaction_amount_customers = highest_transaction_amount_customers.reset_index().sort_values(by = 'actual_gmv',ascending = False)\n",
    "ax = highest_transaction_amount_customers.iloc[:11,].plot(kind = 'bar', ax = axes[0], color = 'turquoise')\n",
    "ax.set_xlabel('Customer_id')\n",
    "ax.set_title('High contributing customers')\n",
    "#lowest 10 customers\n",
    "lowest_transaction_amount_customers = gojek_df.groupby(by = 'customer_id').sum()['actual_gmv']\n",
    "lowest_transaction_amount_customers = lowest_transaction_amount_customers.reset_index().sort_values(by = 'actual_gmv',ascending = True)\n",
    "ax = lowest_transaction_amount_customers.iloc[:11,].plot(kind = 'bar', ax = axes[1], color = 'steelblue')\n",
    "ax.set_xlabel('Customer_id')\n",
    "ax.set_title('Low contributing customers')"
   ]
  },
  {
   "cell_type": "markdown",
   "id": "44a82ed7",
   "metadata": {},
   "source": [
    "Top 10 Customers who have highly contributed to **actual_gmv** are in range of **12500000+** and lowest contribution is as less as **1.0**"
   ]
  },
  {
   "cell_type": "markdown",
   "id": "ae087270",
   "metadata": {},
   "source": [
    "Similarly, we can Highest contributing orders and drivers.."
   ]
  },
  {
   "cell_type": "code",
   "execution_count": 585,
   "id": "c86832a1",
   "metadata": {
    "scrolled": true
   },
   "outputs": [
    {
     "data": {
      "text/plain": [
       "Text(0.5, 1.0, 'Low contributing orders')"
      ]
     },
     "execution_count": 585,
     "metadata": {},
     "output_type": "execute_result"
    },
    {
     "data": {
      "image/png": "[encoded data removed]",
      "text/plain": [
       "<Figure size 720x216 with 2 Axes>"
      ]
     },
     "metadata": {},
     "output_type": "display_data"
    }
   ],
   "source": [
    "#orders which contributed to highest actual_gmv\n",
    "fig, axes = plt.subplots(nrows = 1, ncols = 2, figsize = (\n",
    "    10,3))\n",
    "#top 10 orders\n",
    "highest_transaction_amount_orders = gojek_df.groupby(by = 'order_no').sum()['actual_gmv']\n",
    "highest_transaction_amount_orders = highest_transaction_amount_orders.reset_index().sort_values(by = 'actual_gmv',ascending = False)\n",
    "ax = highest_transaction_amount_orders.iloc[:11,].plot(kind = 'bar', ax = axes[0], color = 'turquoise')\n",
    "ax.set_xlabel('Order_no')\n",
    "ax.set_title('High contributing orders')\n",
    "#lowest 10 orders\n",
    "lowest_transaction_amount_orders = gojek_df.groupby(by = 'order_no').sum()['actual_gmv']\n",
    "lowest_transaction_amount_orders = lowest_transaction_amount_orders.reset_index().sort_values(by = 'actual_gmv',ascending = True)\n",
    "ax = lowest_transaction_amount_orders.iloc[:11,].plot(kind = 'bar', ax = axes[1], color = 'steelblue')\n",
    "ax.set_xlabel('Order_no')\n",
    "ax.set_title('Low contributing orders')"
   ]
  },
  {
   "cell_type": "markdown",
   "id": "054ae867",
   "metadata": {},
   "source": [
    "Let's analyse this further using **RFM Analysis...**"
   ]
  },
  {
   "cell_type": "code",
   "execution_count": 586,
   "id": "12e2e3fc",
   "metadata": {},
   "outputs": [
    {
     "data": {
      "text/plain": [
       "datetime.date(2021, 1, 31)"
      ]
     },
     "execution_count": 586,
     "metadata": {},
     "output_type": "execute_result"
    }
   ],
   "source": [
    "max(gojek_df['booking_date'])"
   ]
  },
  {
   "cell_type": "code",
   "execution_count": 587,
   "id": "52e9523c",
   "metadata": {},
   "outputs": [],
   "source": [
    "# recency\n",
    "\n",
    "day = '2021-02-01' #1st date of next month\n",
    "day = pd.to_datetime(day)\n",
    "gojek_df['booking_date'] = pd.to_datetime(gojek_df['booking_date'])\n",
    "\n",
    "recency = gojek_df.groupby('customer_id').agg({'booking_date': lambda x : ((day-x.max()).days)})\n",
    "\n",
    "# frequency \n",
    "\n",
    "# # gojek_df.groupby(['customer_id', 'order_no']).count()\n",
    "# # we have 1:1 mapping with customer_id and order_no #if we had item_no detail\n",
    "# # we would have one to many mapping b/w customer_id and order_no\n",
    "# #but still we would only take distinct count orders by each customer to be safe \n",
    "\n",
    "frequency = gojek_df.drop_duplicates('order_no').groupby('customer_id')['order_no'].count()\n",
    "\n",
    "# monetary\n",
    "\n",
    "monetary = gojek_df.groupby('customer_id')['actual_gmv'].sum()\n",
    "rfm = pd.concat([recency, frequency, monetary], axis = 1)\n",
    "rfm.rename(columns = {'booking_date' : 'recency','order_no' : 'frequency', 'actual_gmv': 'monetary'},inplace = True )\n",
    "# print(rfm.shape)"
   ]
  },
  {
   "cell_type": "code",
   "execution_count": 588,
   "id": "872fda5c",
   "metadata": {},
   "outputs": [
    {
     "data": {
      "text/html": [
       "<div>\n",
       "<style scoped>\n",
       "    .dataframe tbody tr th:only-of-type {\n",
       "        vertical-align: middle;\n",
       "    }\n",
       "\n",
       "    .dataframe tbody tr th {\n",
       "        vertical-align: top;\n",
       "    }\n",
       "\n",
       "    .dataframe thead th {\n",
       "        text-align: right;\n",
       "    }\n",
       "</style>\n",
       "<table border=\"1\" class=\"dataframe\">\n",
       "  <thead>\n",
       "    <tr style=\"text-align: right;\">\n",
       "      <th></th>\n",
       "      <th>recency</th>\n",
       "      <th>frequency</th>\n",
       "      <th>monetary</th>\n",
       "    </tr>\n",
       "    <tr>\n",
       "      <th>customer_id</th>\n",
       "      <th></th>\n",
       "      <th></th>\n",
       "      <th></th>\n",
       "    </tr>\n",
       "  </thead>\n",
       "  <tbody>\n",
       "    <tr>\n",
       "      <th>10089127</th>\n",
       "      <td>13</td>\n",
       "      <td>1</td>\n",
       "      <td>130000.0</td>\n",
       "    </tr>\n",
       "    <tr>\n",
       "      <th>10219706</th>\n",
       "      <td>3</td>\n",
       "      <td>5</td>\n",
       "      <td>949000.0</td>\n",
       "    </tr>\n",
       "    <tr>\n",
       "      <th>10219721</th>\n",
       "      <td>1</td>\n",
       "      <td>4</td>\n",
       "      <td>360000.0</td>\n",
       "    </tr>\n",
       "    <tr>\n",
       "      <th>10219739</th>\n",
       "      <td>6</td>\n",
       "      <td>2</td>\n",
       "      <td>106000.0</td>\n",
       "    </tr>\n",
       "    <tr>\n",
       "      <th>10219741</th>\n",
       "      <td>16</td>\n",
       "      <td>1</td>\n",
       "      <td>23000.0</td>\n",
       "    </tr>\n",
       "  </tbody>\n",
       "</table>\n",
       "</div>"
      ],
      "text/plain": [
       "             recency  frequency  monetary\n",
       "customer_id                              \n",
       "10089127          13          1  130000.0\n",
       "10219706           3          5  949000.0\n",
       "10219721           1          4  360000.0\n",
       "10219739           6          2  106000.0\n",
       "10219741          16          1   23000.0"
      ]
     },
     "execution_count": 588,
     "metadata": {},
     "output_type": "execute_result"
    }
   ],
   "source": [
    "rfm.head(5)"
   ]
  },
  {
   "cell_type": "markdown",
   "id": "a92e2bb5",
   "metadata": {},
   "source": [
    "### Customer segmentation using Clustering"
   ]
  },
  {
   "cell_type": "code",
   "execution_count": 589,
   "id": "bad8fcfe",
   "metadata": {},
   "outputs": [
    {
     "data": {
      "text/plain": [
       "[<matplotlib.lines.Line2D at 0x290f8704850>]"
      ]
     },
     "execution_count": 589,
     "metadata": {},
     "output_type": "execute_result"
    },
    {
     "data": {
      "image/png": "[encoded data removed]",
      "text/plain": [
       "<Figure size 432x288 with 1 Axes>"
      ]
     },
     "metadata": {},
     "output_type": "display_data"
    }
   ],
   "source": [
    "from sklearn.preprocessing import StandardScaler #we will be using standard scalar to scale our data \n",
    "from sklearn.cluster import KMeans #kmeans to cluster it into groups\n",
    "\n",
    "scaler = StandardScaler()\n",
    "scaled = scaler.fit_transform(rfm)\n",
    "\n",
    "inertia = []  #to find the best number of clusters based on sum of squared distances\n",
    "for i in range(1,11):\n",
    "    kmeans = KMeans(n_clusters = i)\n",
    "    kmeans.fit(scaled)\n",
    "    inertia.append(kmeans.inertia_)\n",
    "    \n",
    "plt.plot(inertia, marker = 'o')"
   ]
  },
  {
   "cell_type": "markdown",
   "id": "f31ae75f",
   "metadata": {},
   "source": [
    "As per elbow method, optimum number of clusters are **3** so let's divide our customers in 3 different segmentations.."
   ]
  },
  {
   "cell_type": "code",
   "execution_count": 590,
   "id": "69d88dc4",
   "metadata": {},
   "outputs": [],
   "source": [
    "kmeans = KMeans(n_clusters = 3)\n",
    "kmeans.fit(scaled)\n",
    "rfm['clusters'] = kmeans.labels_ + 1"
   ]
  },
  {
   "cell_type": "code",
   "execution_count": 591,
   "id": "576b3781",
   "metadata": {},
   "outputs": [
    {
     "data": {
      "text/html": [
       "<div>\n",
       "<style scoped>\n",
       "    .dataframe tbody tr th:only-of-type {\n",
       "        vertical-align: middle;\n",
       "    }\n",
       "\n",
       "    .dataframe tbody tr th {\n",
       "        vertical-align: top;\n",
       "    }\n",
       "\n",
       "    .dataframe thead th {\n",
       "        text-align: right;\n",
       "    }\n",
       "</style>\n",
       "<table border=\"1\" class=\"dataframe\">\n",
       "  <thead>\n",
       "    <tr style=\"text-align: right;\">\n",
       "      <th></th>\n",
       "      <th>recency</th>\n",
       "      <th>frequency</th>\n",
       "      <th>monetary</th>\n",
       "      <th>clusters</th>\n",
       "    </tr>\n",
       "    <tr>\n",
       "      <th>customer_id</th>\n",
       "      <th></th>\n",
       "      <th></th>\n",
       "      <th></th>\n",
       "      <th></th>\n",
       "    </tr>\n",
       "  </thead>\n",
       "  <tbody>\n",
       "    <tr>\n",
       "      <th>10089127</th>\n",
       "      <td>13</td>\n",
       "      <td>1</td>\n",
       "      <td>130000.0</td>\n",
       "      <td>3</td>\n",
       "    </tr>\n",
       "    <tr>\n",
       "      <th>10219706</th>\n",
       "      <td>3</td>\n",
       "      <td>5</td>\n",
       "      <td>949000.0</td>\n",
       "      <td>2</td>\n",
       "    </tr>\n",
       "    <tr>\n",
       "      <th>10219721</th>\n",
       "      <td>1</td>\n",
       "      <td>4</td>\n",
       "      <td>360000.0</td>\n",
       "      <td>3</td>\n",
       "    </tr>\n",
       "    <tr>\n",
       "      <th>10219739</th>\n",
       "      <td>6</td>\n",
       "      <td>2</td>\n",
       "      <td>106000.0</td>\n",
       "      <td>3</td>\n",
       "    </tr>\n",
       "    <tr>\n",
       "      <th>10219741</th>\n",
       "      <td>16</td>\n",
       "      <td>1</td>\n",
       "      <td>23000.0</td>\n",
       "      <td>1</td>\n",
       "    </tr>\n",
       "  </tbody>\n",
       "</table>\n",
       "</div>"
      ],
      "text/plain": [
       "             recency  frequency  monetary  clusters\n",
       "customer_id                                        \n",
       "10089127          13          1  130000.0         3\n",
       "10219706           3          5  949000.0         2\n",
       "10219721           1          4  360000.0         3\n",
       "10219739           6          2  106000.0         3\n",
       "10219741          16          1   23000.0         1"
      ]
     },
     "execution_count": 591,
     "metadata": {},
     "output_type": "execute_result"
    }
   ],
   "source": [
    "rfm.head()"
   ]
  },
  {
   "cell_type": "code",
   "execution_count": 592,
   "id": "3f52a09e",
   "metadata": {},
   "outputs": [
    {
     "data": {
      "text/html": [
       "<div>\n",
       "<style scoped>\n",
       "    .dataframe tbody tr th:only-of-type {\n",
       "        vertical-align: middle;\n",
       "    }\n",
       "\n",
       "    .dataframe tbody tr th {\n",
       "        vertical-align: top;\n",
       "    }\n",
       "\n",
       "    .dataframe thead th {\n",
       "        text-align: right;\n",
       "    }\n",
       "</style>\n",
       "<table border=\"1\" class=\"dataframe\">\n",
       "  <thead>\n",
       "    <tr style=\"text-align: right;\">\n",
       "      <th></th>\n",
       "      <th>recency</th>\n",
       "      <th>frequency</th>\n",
       "      <th>monetary</th>\n",
       "    </tr>\n",
       "    <tr>\n",
       "      <th>clusters</th>\n",
       "      <th></th>\n",
       "      <th></th>\n",
       "      <th></th>\n",
       "    </tr>\n",
       "  </thead>\n",
       "  <tbody>\n",
       "    <tr>\n",
       "      <th>1</th>\n",
       "      <td>23.474590</td>\n",
       "      <td>1.280990</td>\n",
       "      <td>76273.990945</td>\n",
       "    </tr>\n",
       "    <tr>\n",
       "      <th>2</th>\n",
       "      <td>6.268659</td>\n",
       "      <td>7.888238</td>\n",
       "      <td>685480.966623</td>\n",
       "    </tr>\n",
       "    <tr>\n",
       "      <th>3</th>\n",
       "      <td>7.202089</td>\n",
       "      <td>1.763025</td>\n",
       "      <td>109826.056551</td>\n",
       "    </tr>\n",
       "  </tbody>\n",
       "</table>\n",
       "</div>"
      ],
      "text/plain": [
       "            recency  frequency       monetary\n",
       "clusters                                     \n",
       "1         23.474590   1.280990   76273.990945\n",
       "2          6.268659   7.888238  685480.966623\n",
       "3          7.202089   1.763025  109826.056551"
      ]
     },
     "execution_count": 592,
     "metadata": {},
     "output_type": "execute_result"
    }
   ],
   "source": [
    "rfm.groupby('clusters')[['recency', 'frequency', 'monetary']].mean()"
   ]
  },
  {
   "cell_type": "code",
   "execution_count": 621,
   "id": "3c452422",
   "metadata": {},
   "outputs": [
    {
     "data": {
      "text/plain": [
       "120070.7659777299"
      ]
     },
     "execution_count": 621,
     "metadata": {},
     "output_type": "execute_result"
    }
   ],
   "source": [
    "rfm['monetary'].mean()"
   ]
  },
  {
   "cell_type": "code",
   "execution_count": 604,
   "id": "63bb45ca",
   "metadata": {},
   "outputs": [],
   "source": [
    "#providing approproiate segment names \n",
    "\n",
    "def func(row):\n",
    "    if row['clusters'] == 2:\n",
    "        return 'Whales Cx'\n",
    "    elif row['clusters'] ==3 :\n",
    "        return 'Average Cx'\n",
    "    else :\n",
    "        return 'Lapsed Cx'"
   ]
  },
  {
   "cell_type": "code",
   "execution_count": 606,
   "id": "99387b9e",
   "metadata": {},
   "outputs": [
    {
     "data": {
      "text/plain": [
       "Series([], Name: actual_gmv, dtype: int64)"
      ]
     },
     "execution_count": 606,
     "metadata": {},
     "output_type": "execute_result"
    }
   ],
   "source": [
    "gojek_df[gojek_df['customer_id'] == '2']['actual_gmv'].value_counts()"
   ]
  },
  {
   "cell_type": "code",
   "execution_count": 607,
   "id": "da48fe15",
   "metadata": {
    "scrolled": true
   },
   "outputs": [
    {
     "data": {
      "text/html": [
       "<div>\n",
       "<style scoped>\n",
       "    .dataframe tbody tr th:only-of-type {\n",
       "        vertical-align: middle;\n",
       "    }\n",
       "\n",
       "    .dataframe tbody tr th {\n",
       "        vertical-align: top;\n",
       "    }\n",
       "\n",
       "    .dataframe thead th {\n",
       "        text-align: right;\n",
       "    }\n",
       "</style>\n",
       "<table border=\"1\" class=\"dataframe\">\n",
       "  <thead>\n",
       "    <tr style=\"text-align: right;\">\n",
       "      <th></th>\n",
       "      <th>recency</th>\n",
       "      <th>frequency</th>\n",
       "      <th>monetary</th>\n",
       "      <th>clusters</th>\n",
       "      <th>Conditions</th>\n",
       "    </tr>\n",
       "    <tr>\n",
       "      <th>customer_id</th>\n",
       "      <th></th>\n",
       "      <th></th>\n",
       "      <th></th>\n",
       "      <th></th>\n",
       "      <th></th>\n",
       "    </tr>\n",
       "  </thead>\n",
       "  <tbody>\n",
       "    <tr>\n",
       "      <th>10089127</th>\n",
       "      <td>13</td>\n",
       "      <td>1</td>\n",
       "      <td>130000.0</td>\n",
       "      <td>3</td>\n",
       "      <td>Average Cx</td>\n",
       "    </tr>\n",
       "    <tr>\n",
       "      <th>10219706</th>\n",
       "      <td>3</td>\n",
       "      <td>5</td>\n",
       "      <td>949000.0</td>\n",
       "      <td>2</td>\n",
       "      <td>Whales Cx</td>\n",
       "    </tr>\n",
       "    <tr>\n",
       "      <th>10219721</th>\n",
       "      <td>1</td>\n",
       "      <td>4</td>\n",
       "      <td>360000.0</td>\n",
       "      <td>3</td>\n",
       "      <td>Average Cx</td>\n",
       "    </tr>\n",
       "    <tr>\n",
       "      <th>10219739</th>\n",
       "      <td>6</td>\n",
       "      <td>2</td>\n",
       "      <td>106000.0</td>\n",
       "      <td>3</td>\n",
       "      <td>Average Cx</td>\n",
       "    </tr>\n",
       "    <tr>\n",
       "      <th>10219741</th>\n",
       "      <td>16</td>\n",
       "      <td>1</td>\n",
       "      <td>23000.0</td>\n",
       "      <td>1</td>\n",
       "      <td>Lapsed Cx</td>\n",
       "    </tr>\n",
       "  </tbody>\n",
       "</table>\n",
       "</div>"
      ],
      "text/plain": [
       "             recency  frequency  monetary  clusters  Conditions\n",
       "customer_id                                                    \n",
       "10089127          13          1  130000.0         3  Average Cx\n",
       "10219706           3          5  949000.0         2   Whales Cx\n",
       "10219721           1          4  360000.0         3  Average Cx\n",
       "10219739           6          2  106000.0         3  Average Cx\n",
       "10219741          16          1   23000.0         1   Lapsed Cx"
      ]
     },
     "execution_count": 607,
     "metadata": {},
     "output_type": "execute_result"
    }
   ],
   "source": [
    "rfm['Conditions'] = rfm.apply(func, axis = 1)\n",
    "rfm.head()"
   ]
  },
  {
   "cell_type": "code",
   "execution_count": 615,
   "id": "bb09785f",
   "metadata": {},
   "outputs": [
    {
     "data": {
      "text/plain": [
       "array([  1,   5,   4,   2,   3,   7,  17,  10,   6,   9,  12,   8,  11,\n",
       "        14,  24,  13,  15,  16,  18,  21,  25,  20,  19,  29,  23,  22,\n",
       "        37,  40,  45,  26,  34,  28,  36,  46,  31,  27,  30,  61,  52,\n",
       "        39,  32, 537,  35,  55,  33,  47,  56, 117,  44,  43,  75, 102,\n",
       "       491,  38, 104,  50,  59,  68, 149,  48, 124, 135,  78,  49,  42,\n",
       "       220,  41], dtype=int64)"
      ]
     },
     "execution_count": 615,
     "metadata": {},
     "output_type": "execute_result"
    }
   ],
   "source": [
    "rfm['frequency'].unique()"
   ]
  },
  {
   "cell_type": "code",
   "execution_count": 608,
   "id": "a5101da1",
   "metadata": {},
   "outputs": [
    {
     "data": {
      "text/plain": [
       "array([13,  3,  1,  6, 16,  2, 15, 28, 21, 19, 22,  7, 25, 12, 17, 27, 10,\n",
       "       24,  9, 31, 18, 23, 11, 30, 29,  5, 32], dtype=int64)"
      ]
     },
     "execution_count": 608,
     "metadata": {},
     "output_type": "execute_result"
    }
   ],
   "source": [
    "rfm['recency'].unique()"
   ]
  },
  {
   "cell_type": "code",
   "execution_count": 622,
   "id": "78157dd8",
   "metadata": {},
   "outputs": [
    {
     "data": {
      "text/plain": [
       "120070.7659777299"
      ]
     },
     "execution_count": 622,
     "metadata": {},
     "output_type": "execute_result"
    }
   ],
   "source": [
    "rfm['monetary'].mean()"
   ]
  },
  {
   "cell_type": "code",
   "execution_count": 610,
   "id": "1a134783",
   "metadata": {},
   "outputs": [
    {
     "data": {
      "text/plain": [
       "Average Cx    263374\n",
       "Lapsed Cx     244731\n",
       "Whales Cx      23729\n",
       "Name: Conditions, dtype: int64"
      ]
     },
     "execution_count": 610,
     "metadata": {},
     "output_type": "execute_result"
    }
   ],
   "source": [
    "rfm['Conditions'].value_counts()"
   ]
  },
  {
   "cell_type": "code",
   "execution_count": 611,
   "id": "cd72e9c4",
   "metadata": {
    "scrolled": true
   },
   "outputs": [
    {
     "data": {
      "image/png": "[encoded data removed]",
      "text/plain": [
       "<Figure size 360x360 with 1 Axes>"
      ]
     },
     "metadata": {},
     "output_type": "display_data"
    }
   ],
   "source": [
    "#service type distrubution\n",
    "colors = ['steelblue', 'turquoise', 'green']\n",
    "ax = plt.figure(figsize = (5,5))\n",
    "ax = (rfm['Conditions'].value_counts()/len(rfm['Conditions'])*100).plot(kind = 'bar', stacked = True,\n",
    "                                                                                     color = colors, rot = 0)\n",
    "\n",
    "ax.set_ylabel('% of customers')\n",
    "ax.set_title('Customer Segmentation')\n",
    "ax.yaxis.set_major_formatter(mtick.PercentFormatter()) #chnaging formatting of yaxis to %\n",
    "\n",
    "for p in ax.patches: \n",
    "    width, height = p.get_width(),  p.get_height() # get_width pulls left or right; get_y pushes up or down\n",
    "    x,y = p.get_xy()\n",
    "    ax.annotate('{:.1f}%'.format(height), (p.get_x()+.25*width, p.get_y()+.30*height), #text coordinates\n",
    "                color = 'white',\n",
    "               weight = 'bold',\n",
    "               size = 11)\n",
    "    \n",
    "sns.set_style('darkgrid')\n",
    "sns.set()"
   ]
  },
  {
   "cell_type": "markdown",
   "id": "7623a274",
   "metadata": {},
   "source": [
    "**Questions:**"
   ]
  },
  {
   "cell_type": "markdown",
   "id": "9ef72ac8",
   "metadata": {},
   "source": [
    "**1. Perform any cleaning, exploratory analysis necessary to use the provided data for this analysis (a few sentences/plots describing your approach will suffice). What fraction of the drivers deliver only food orders on 2021-01-20?**"
   ]
  },
  {
   "cell_type": "markdown",
   "id": "e035c02c",
   "metadata": {},
   "source": [
    "EDA  - Check above^ "
   ]
  },
  {
   "cell_type": "code",
   "execution_count": 612,
   "id": "b7d48a33",
   "metadata": {},
   "outputs": [
    {
     "data": {
      "text/plain": [
       "3.818083279707113"
      ]
     },
     "execution_count": 612,
     "metadata": {},
     "output_type": "execute_result"
    }
   ],
   "source": [
    "len(gojek_df[gojek_df['booking_date'] == '2021-01-20'])/len(gojek_df)*100"
   ]
  },
  {
   "cell_type": "markdown",
   "id": "2f7e73ab",
   "metadata": {},
   "source": [
    "**2. Using the data that you had processed, perform an RFM analysis and create a dashboard\n",
    "for the Marketing team to visualize key patterns in the data. Which customer cohorts should\n",
    "the Marketing team prioritize first?**"
   ]
  },
  {
   "cell_type": "code",
   "execution_count": 614,
   "id": "73aafaaa",
   "metadata": {},
   "outputs": [
    {
     "name": "stdout",
     "output_type": "stream",
     "text": [
      "(531834, 5)\n",
      "(965013, 7)\n"
     ]
    }
   ],
   "source": [
    "rfm.to_csv('rfm_analysis_final.csv')\n",
    "print(rfm.shape)\n",
    "print(gojek_df.shape)"
   ]
  },
  {
   "cell_type": "markdown",
   "id": "835e2eca",
   "metadata": {},
   "source": [
    "Distinct customers in **rfm** is 531834 while **total customer_id** are 965013. Since rfm is aggregated to customer level based on their recency, purchase and monetary value,we will be preparing a dashboard to see how these factors look like in each clsuter using Tableau."
   ]
  },
  {
   "cell_type": "markdown",
   "id": "d880f6ff",
   "metadata": {},
   "source": [
    "**Dashboard and RFM recommendations: (Attached in Email)**\n",
    "\n",
    " * Average customers have the **Highest** Monetary and Frequency value with Average spend of **109826** and order count of **464335**. These customers are loyal customers who spends the most and comes back often. Gojek should offer some loyalty/membership proograms to build strong relationship with these customer segment\n",
    " * Lapsed customers spent a lot during peak season but right now their frequency **Recency** is highest in all customers. That means, **they haven't come back in long time!** Gojek should offer some kind of personalised emails to reconnect with them, recommend some other products and recreate brand value\n",
    " * Whales are **Huge money spender** but they rarely make transactions. These are high-end users who are limited and order only specific products from website. Gojek should open some limited time-period offers for these customers and ask for any critiques/feedbacks from them"
   ]
  },
  {
   "cell_type": "markdown",
   "id": "4c3ab5bb",
   "metadata": {},
   "source": [
    "**3. Hypothesize how Gojek might leverage the insights gained from the data to generate higher transaction volumes.**"
   ]
  },
  {
   "cell_type": "markdown",
   "id": "78c7714e",
   "metadata": {},
   "source": [
    "Some of the insights that we can derive from Exploratory data analysis and RFM :\n",
    "\n",
    " * Number of orders that we have received from **GO-FOOD** and **GO-FOOD-PICKUP** are highest but transaction value is **low** per order which is why these services are not contributing to actual_gmv. Gojek should identify some **high-value** product in these services and create **unique value proposition** from it's competitiors. Focus point should be **Increasing the average size of transaction per order**. <br>\n",
    "* Gojek can encourage upselling and cross-selling\n",
    "* Offer additional discounted products while checkout\n",
    "* Raise prices as per feedback and repeated purchases of certain items <br>\n",
    " \n",
    "\n",
    " \n",
    " * **GO-SHOP** is the highest contributor to **actual_gmv** even though the frequency of orders is low. Due to **high transaction size per order**, it is the most important service Gojek should be focussing on right now. Focus point should be **Increasing the size of customers**.\n",
    "* Identify new Target market by offering a free newsletter/publications/ads and other campaigns\n",
    "* Offer first time sign up bonus/offers and referral coupons\n",
    "* Social media like Instagram is one of the most important marketing website right now. Collaborate with them for some of the beauty/shopping/cosmetics products, create content and recommend and endorse your products. <br> \n",
    "\n",
    "\n",
    " * **High contribution customers** in actual_gmv should be rewarded with loyalty programs, discounts, early access to new products and gamified points system. Gojek should send out a customer survey to members of the loyalty program every half a year or every year to check what customers are feeling about them and make the appropriate changes to maintain or even boos the customer retention rate.  <br>\n",
    " \n",
    " \n",
    " * **Low Contributing customers** in actual_gmv are probably those customers who were active last year and shifted to competitors due to change in preferences, taste, etc. Gojek should identify best former customers and add a discount or another special offer.They should also give them the offer using a special discount code so you can track purchases. Incentives don't have to be discounts either. <br>\n",
    " \n",
    " \n",
    "  * **Final thoughts** : Our RFM analysis and clustering is based on customer's spending habits but we could have had better view about these customers if we had some demographic info like location, age, income group, etc which would have further helped in identifying target segment for business. "
   ]
  },
  {
   "cell_type": "code",
   "execution_count": null,
   "id": "92834d6a",
   "metadata": {},
   "outputs": [],
   "source": []
  }
 ],
 "metadata": {
  "kernelspec": {
   "display_name": "Python 3 (ipykernel)",
   "language": "python",
   "name": "python3"
  },
  "language_info": {
   "codemirror_mode": {
    "name": "ipython",
    "version": 3
   },
   "file_extension": ".py",
   "mimetype": "text/x-python",
   "name": "python",
   "nbconvert_exporter": "python",
   "pygments_lexer": "ipython3",
   "version": "3.9.7"
  }
 },
 "nbformat": 4,
 "nbformat_minor": 5
}
